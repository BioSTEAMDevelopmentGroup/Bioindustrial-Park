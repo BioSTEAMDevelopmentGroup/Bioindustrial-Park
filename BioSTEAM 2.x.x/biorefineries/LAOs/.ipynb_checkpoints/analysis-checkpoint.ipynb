{
 "cells": [
  {
   "cell_type": "markdown",
   "metadata": {},
   "source": [
    "This notebook includes code cells for creating various graphs and plots for the techno-economic analysis of the production of linear-alpha olefins from biologically derived fatty alcohols.\n",
    "\n",
    "Before runnning any analysis, first run the following cell:"
   ]
  },
  {
   "cell_type": "code",
   "execution_count": 1,
   "metadata": {},
   "outputs": [],
   "source": [
    "from warnings import filterwarnings\n",
    "filterwarnings('ignore')\n",
    "from biosteam.process_tools import UnitGroup\n",
    "from biosteam.digraph import digraph_from_units, save_digraph\n",
    "from biosteam.utils import streams_from_units, filter_out_missing_streams, colors\n",
    "from biosteam.report import unit_result_tables, tables_to_excel, stream_table\n",
    "import biorefineries.LAOs as ol\n",
    "import numpy as np\n",
    "import biosteam as bst\n",
    "from biosteam.utils import colors\n",
    "from biorefineries.LAOs import specs, LAOs_tea, LAOs_sys, unit_groups, get_LAOs_MPSP, hexene, octene, decene\n",
    "from matplotlib import pyplot as plt\n",
    "import pandas as pd\n",
    "from biosteam.plots import plot_contour_2d, MetricBar, CABBI_green_colormap, plot_scatter_points, plot_contour_1d\n",
    "from math import floor, ceil\n",
    "\n",
    "million_dollar = r\"\\mathrm{MM\\$}\"\n",
    "MPSP_units = r\"$\\mathrm{\\$} \\cdot \\mathrm{ton}^{-1}$\"\n",
    "productivity_units = \"$\\mathrm{g} \\cdot \\mathrm{L}^{-1} \\cdot \\mathrm{hr}^{-1}$\"\n",
    "VOC_units = MPSP_units\n",
    "# FCI_units = MPSP_units\n",
    "# VOC_units = \"$\" + million_dollar + r\"\\cdot \\mathrm{yr}^{-1}$\"\n",
    "FCI_units = f\"${million_dollar}$\"\n",
    "duty = r\"GJ\\cdot hr^{-1}\"\n",
    "products = (hexene, octene, decene)\n",
    "\n",
    "def tickmarks(data, accuracy=50, N_points=5):\n",
    "    dmin = data.min()\n",
    "    dmax = data.max()\n",
    "    dmin = floor(dmin/50) * 50\n",
    "    dmax = ceil(dmax/50) * 50\n",
    "    step = (dmax - dmin) / (N_points - 1)\n",
    "    return [dmin + step * i for i in range(N_points)]\n",
    "\n",
    "areas = {\n",
    "    'Fermentation': (ol.T102, ol.P102, ol.M102, ol.H101, ol.R101, ol.T105, ol.P104, ol.CCI),\n",
    "    '3-Phase Decanter': (ol.C101, ol.P107),\n",
    "    'Dehydration': (ol.H102, ol.M103, ol.H103, ol.H105, ol.R102),\n",
    "    'Separation': (ol.P105, ol.C102, ol.P106, ol.H104, ol.D101,\n",
    "                   ol.D102, ol.M104, ol.M105, ol.P108, ol.C103, ol.P109,\n",
    "                   ol.H106, ol.H107, ol.H108, ol.H109, ol.D103, ol.D104),\n",
    "    'OSBL': (ol.T101, ol.T104, ol.T103, ol.T106, ol.T108, ol.T109, ol.T110,\n",
    "             ol.CT, ol.BT, ol.CWP, ol.T107),\n",
    "}\n",
    "\n",
    "area_groups = [UnitGroup(i, j) for i,j in areas.items()]\n",
    "area_groups.append(UnitGroup('Total', sum(areas.values(), ())))\n",
    "\n",
    "LAO_price_range = [1077, 1427]\n",
    "target_yield = 80\n",
    "target_titer = 40\n",
    "target_productivity = 0.5\n",
    "target_dehydration_mass_fraction = 20\n",
    "target_dehydration_conversion = 100\n",
    "lab_yield = 50\n",
    "lab_titer = 4.5\n",
    "lab_productivity = 0.1\n",
    "\n",
    "get_LAOs_VOC = lambda: LAOs_tea.VOC / 1e6 # million USD / yr\n",
    "get_LAOs_FCI = lambda: LAOs_tea.FCI / 1e6 # million USD\n",
    "olefin_metrics = [get_LAOs_MPSP, get_LAOs_VOC, get_LAOs_FCI]\n",
    "\n",
    "shadecolor = (*colors.neutral.RGBn, 0.30)\n",
    "linecolor = (*colors.neutral_shade.RGBn, 0.85)\n",
    "markercolor = (*colors.CABBI_blue_light.RGBn, 1)\n",
    "edgecolor = (*colors.CABBI_black.RGBn, 1)\n",
    "\n",
    "def set_target_specifications():\n",
    "    specs.run_specifications(\n",
    "        fermentation_yield=target_yield / 100,\n",
    "        fermentation_titer=target_titer,\n",
    "        fermentation_productivity=target_productivity,\n",
    "        dehydration_reactor_conversion=target_dehydration_conversion / 100,\n",
    "        dehydration_reactor_mass_fraction=target_dehydration_mass_fraction / 100,\n",
    "    )\n",
    "\n",
    "def set_baseline_specifications():\n",
    "    specs.run_specifications(\n",
    "        fermentation_yield=lab_yield / 100,\n",
    "        fermentation_titer=lab_titer,\n",
    "        fermentation_productivity=lab_productivity,\n",
    "        dehydration_reactor_conversion=target_dehydration_conversion / 100,\n",
    "        dehydration_reactor_mass_fraction=target_dehydration_mass_fraction / 100,\n",
    "    )\n",
    "set_target_specifications()"
   ]
  },
  {
   "cell_type": "code",
   "execution_count": null,
   "metadata": {},
   "outputs": [],
   "source": [
    "get_LAOs_MPSP()\n",
    "# Reaction (by wt):\n",
    "# stoichiometry                                      reactant    X[%]\n",
    "# Glucose -> 0.15 Water + 0.361 Octanol + 0.489 CO2  Glucose    90.00\n",
    "#\n",
    "# ol.R102.reaction[1].copy('wt')\n",
    "# Reaction (by wt):\n",
    "#  stoichiometry                          reactant    X[%]\n",
    "#  Octanol -> 0.138 Water + 0.862 Octene  Octanol    90.00\n",
    "\n",
    "# Minimum price of product assuming glucose is magically converted to product: \n",
    "# (236 USD / ton) / (0.361 * 0.9) / 0.862 = 843 USD /ton"
   ]
  },
  {
   "cell_type": "markdown",
   "metadata": {},
   "source": [
    "Save tables if the TEA and graphs of the process:"
   ]
  },
  {
   "cell_type": "code",
   "execution_count": null,
   "metadata": {},
   "outputs": [],
   "source": [
    "# Save tables\n",
    "from biorefineries.LAOs import capex_table, voc_table, foc_table\n",
    "tables = {\n",
    "    'CAPEX': capex_table(LAOs_tea),\n",
    "    'VOC': voc_table(LAOs_sys, LAOs_tea, products),\n",
    "    'FOC.xlsx': foc_table(LAOs_tea),\n",
    "}\n",
    "with pd.ExcelWriter('results/Capital and operating costs [target].xlsx') as writer:\n",
    "    tables_to_excel(tables.values(), writer, sheet='Capital and operating costs')\n"
   ]
  },
  {
   "cell_type": "code",
   "execution_count": null,
   "metadata": {},
   "outputs": [],
   "source": [
    "# Save stream tables and graphs by unit group\n",
    "with pd.ExcelWriter(\"results/Stream tables.xlsx\") as writer:\n",
    "    for name, units in areas.items():\n",
    "        f = digraph_from_units(units)\n",
    "        save_digraph(f, 'results/' + name, 'png')\n",
    "        streams = streams_from_units(units)\n",
    "        filter_out_missing_streams(streams)\n",
    "        df = stream_table(streams, flow='ton/hr')\n",
    "        df.to_excel(writer, sheet_name=name)"
   ]
  },
  {
   "cell_type": "code",
   "execution_count": null,
   "metadata": {},
   "outputs": [],
   "source": [
    "# Save equipment list report\n",
    "with pd.ExcelWriter(\"results/Equipment list.xlsx\") as writer:\n",
    "    tables = unit_result_tables(LAOs_tea.units,\n",
    "                                include_utilities=True, \n",
    "                                include_total_cost=True,\n",
    "                                include_installed_cost=True)\n",
    "    tables_to_excel(tables, writer, sheet='Equipment list')"
   ]
  },
  {
   "cell_type": "code",
   "execution_count": null,
   "metadata": {},
   "outputs": [],
   "source": [
    "# Save report\n",
    "LAOs_sys.save_report(\"results/Report.xlsx\")"
   ]
  },
  {
   "cell_type": "markdown",
   "metadata": {},
   "source": [
    "Create a Sankey diagram of the production process:"
   ]
  },
  {
   "cell_type": "code",
   "execution_count": null,
   "metadata": {
    "scrolled": false
   },
   "outputs": [],
   "source": [
    "from biosteam.plots import sankey\n",
    "\n",
    "# Remove costs of OSBL to correctly represent capital cost of each section\n",
    "for i in (ol.T101, ol.T104, ol.T103, ol.T108, ol.T107, ol.T109, ol.T110): i.purchase_costs.clear()\n",
    "    \n",
    "sankey_groups = {\n",
    "    'Fermentation': (ol.M101, ol.T102, ol.P102, ol.T101, ol.T104, ol.T103, \n",
    "                     ol.M102, ol.H101, ol.R101, ol.T105, ol.P104, ol.T106, ol.CCI),\n",
    "    '3-Phase Decanter': (ol.C101, ol.P107),\n",
    "    'Dehydration': (ol.H102, ol.M103, ol.H103, ol.R102, ol.H105, ol.T107),\n",
    "    'Separation': (ol.P105, ol.C102, ol.P106, ol.H104, ol.D101,\n",
    "                   ol.D102, ol.M104, ol.M105, ol.P108, ol.C103, # ol.P109,\n",
    "                   ol.H106, ol.H107, ol.H108, ol.H109, ol.D103, ol.D104,\n",
    "                   ol.T108, ol.T109, ol.T110),\n",
    "}\n",
    "\n",
    "ol.P109.ins[0].ID = 'solvent_recycle'\n",
    "sankey_installed_cost = {i: sum([i.installed_cost for i in j]) for i,j in sankey_groups.items()}\n",
    "max_installed_cost_of_groups = max(sankey_installed_cost.values())\n",
    "handle = sankey.CarbonHandle(max_installed_cost_of_groups,\n",
    "                             process_color_source=bst.utils.colors.CABBI_orange)\n",
    "sankey_labels = [f\"{i} ({j/1e6:.0f}MM$)\" for i,j in sankey_installed_cost.items()]\n",
    "sankey_groups_with_instcost = dict(zip(sankey_labels, sankey_groups.values()))\n",
    "nodes = handle.nodes(**sankey_groups_with_instcost)\n",
    "data = handle.sankey_data(nodes)\n",
    "fig = handle.sankey_figure(nodes)\n",
    "fig.show()"
   ]
  },
  {
   "cell_type": "markdown",
   "metadata": {},
   "source": [
    "Create a stacked bar graph of the contributions by each area of the production process:"
   ]
  },
  {
   "cell_type": "code",
   "execution_count": null,
   "metadata": {},
   "outputs": [],
   "source": [
    "# Plot unit groups\n",
    "%matplotlib qt5\n",
    "from biosteam.process_tools import UnitGroup\n",
    "from biosteam.utils import CABBI_palette as c\n",
    "\n",
    "names = (\n",
    "        'blue', \n",
    "        'teal_green',\n",
    "        'green_dirty',\n",
    "        'orange',\n",
    "        'brown',\n",
    "        'blue_light',\n",
    "        'green_soft',\n",
    "        'yellow',\n",
    "        'grey',\n",
    "        'teal',\n",
    "        'black',\n",
    "    )\n",
    "UnitGroup.plot_bars_from_groups(\n",
    "    [UnitGroup(name, units) for name, units in areas.items()],\n",
    "    horizontal_ticks=True,\n",
    "    color=[c.brown.HEX, c.teal_green.HEX, c.green_dirty.HEX, c.orange.HEX, c.green_soft.HEX],\n",
    "    edgecolor='k',\n",
    ") \n",
    "\n",
    "biorefinery_group = UnitGroup('Biorefinery', LAOs_tea.units)\n",
    "dct = biorefinery_group.to_dict()\n",
    "bar_tickmarks = (\n",
    "    format(dct['Installed equipment cost [MM$]'], '.0f') + r\" MM\\$\",\n",
    "    format(dct['Cooling duty [GJ/hr]'], '.0f') + f\" {duty}\",\n",
    "    format(dct['Heating duty [GJ/hr]'], '.0f') + f\" {duty}\",\n",
    "    format(dct['Electricity consumption [MW]'], '.2f') + \" MW\",\n",
    ")\n",
    "bar_tickmarks = [r\"$\\mathbf{\" + i + \"}$\" for i in bar_tickmarks] \n",
    "\n",
    "ax = plt.gcf().get_axes()[0]\n",
    "bars = ax.patches\n",
    "hatches = ''.join([h*4 for h in ('-', 'x', '', '/', '\\\\')])\n",
    "\n",
    "for bar, hatch in zip(bars, hatches):\n",
    "    bar.set_hatch(hatch)\n",
    "\n",
    "ax.set_ylabel('Cost and Utility Breakdown [%]')\n",
    "xticks, _ = plt.xticks()\n",
    "xlim = plt.xlim()\n",
    "y_twin = ax.twiny()\n",
    "plt.sca(y_twin)\n",
    "y_twin.tick_params(axis='x', top=True, direction=\"in\", length=0)\n",
    "y_twin.zorder = 2\n",
    "plt.xlim(xlim)\n",
    "plt.xticks(xticks, bar_tickmarks, va='baseline')\n"
   ]
  },
  {
   "cell_type": "code",
   "execution_count": null,
   "metadata": {},
   "outputs": [],
   "source": [
    "[c.brown.HEX, c.teal_green.HEX, c.green_dirty.HEX, c.orange.HEX, c.green_soft.HEX]"
   ]
  },
  {
   "cell_type": "code",
   "execution_count": null,
   "metadata": {},
   "outputs": [],
   "source": [
    "c.blue_light.HEX"
   ]
  },
  {
   "cell_type": "code",
   "execution_count": null,
   "metadata": {},
   "outputs": [],
   "source": [
    "handle.stream_colorbar(orientation='horizontal')"
   ]
  },
  {
   "cell_type": "markdown",
   "metadata": {},
   "source": [
    "Create contour plots of various metrics vs titer, yield, and productivity:"
   ]
  },
  {
   "cell_type": "code",
   "execution_count": null,
   "metadata": {},
   "outputs": [],
   "source": [
    "# %% Generate contour data\n",
    "titers = np.linspace(2, 120, 30)\n",
    "yields = np.linspace(0.40, 0.999, 30)\n",
    "productivities = np.array([0.1, 0.5, 2.0])\n",
    "titers, yields = np.meshgrid(titers, yields)\n",
    "LAOs_data = specs.fermentation_specification.evaluate_across_TRY(\n",
    "        LAOs_sys, titers, yields, olefin_metrics, productivities)\n",
    "LAOs_data[:, :, 1, :] *= 1e6/150e3  # $/ton"
   ]
  },
  {
   "cell_type": "code",
   "execution_count": null,
   "metadata": {},
   "outputs": [],
   "source": [
    "# %% Plot contours\n",
    "%matplotlib qt5\n",
    "xlabel = 'Titer [$\\mathrm{g} \\cdot \\mathrm{L}^{-1}$]'\n",
    "ylabel = \"Yield [%]\"\n",
    "xticks = [2, 30, 60, 90, 120]\n",
    "yticks = [40, 50, 60, 70, 80, 90, 100]\n",
    "metric_bars = (MetricBar('MPSP', MPSP_units, CABBI_green_colormap(),\n",
    "                         tickmarks(LAOs_data[:, :, 0, :]), 100),\n",
    "               MetricBar('VOC', VOC_units, plt.cm.get_cmap('magma_r'),\n",
    "                         tickmarks(LAOs_data[:, :, 1, :]), 25),\n",
    "               MetricBar(\"FCI\", FCI_units,\n",
    "                         plt.cm.get_cmap('bone_r'),\n",
    "                         tickmarks(LAOs_data[:, :, 2, :]), 20))\n",
    "\n",
    "fig, axes = plot_contour_2d(titers, 100.*yields, productivities, LAOs_data, \n",
    "                            xlabel, ylabel, xticks, yticks, metric_bars, \n",
    "                            Z_value_format=lambda Z: f\"{Z:.1f} [{productivity_units}]\",\n",
    "                            fillblack=False)\n",
    "\n",
    "price_units = r\"\\mathrm{\\$} \\cdot \\mathrm{ton}^{-1}\"\n",
    "price_units = \"\"\n",
    "format_price = lambda price: f\"${float(price):.0f}{price_units}$\"\n",
    "\n",
    "percent_yields = 100 * yields\n",
    "for i, ax_col in enumerate(axes[:, :3].transpose()):\n",
    "    MSP = LAOs_data[:, :, 0, i]\n",
    "    first_axis = True\n",
    "    for ax in ax_col:\n",
    "        plt.sca(ax)\n",
    "        if first_axis:\n",
    "            csf = plt.contourf(titers, percent_yields, MSP, zorder=1e6,\n",
    "                              levels=LAO_price_range, colors=[shadecolor])\n",
    "            cs = plt.contour(csf, zorder=1e6, linestyles='dashed', linewidths=1.,\n",
    "                             levels=LAO_price_range, colors=[linecolor])\n",
    "            ax.clabel(cs, fmt=format_price, fontsize=10, inline_spacing=2, colors='black')\n",
    "            first_axis = False\n",
    "\n",
    "axes_lab_productivity = axes[:, 0]\n",
    "for i, ax in enumerate(axes_lab_productivity):\n",
    "    plt.sca(ax)\n",
    "    # plt.clabel(CS, fmt=lambda x: format(x,'.0f'), inline=1, fontsize=10)\n",
    "    plot_scatter_points([lab_titer], [lab_yield], marker='o', s=100, color=markercolor,\n",
    "                        edgecolor=edgecolor)\n",
    "\n",
    "axes_target_productivity = axes[:, 1]\n",
    "for ax in axes_target_productivity:\n",
    "    plt.sca(ax)\n",
    "    plot_scatter_points([target_titer], [target_yield], marker='*', s=125, color=markercolor,\n",
    "                        edgecolor=edgecolor)\n",
    " \n",
    "plt.show()"
   ]
  },
  {
   "cell_type": "markdown",
   "metadata": {},
   "source": [
    "Create MPSP vs glucose price plot"
   ]
  },
  {
   "cell_type": "code",
   "execution_count": 4,
   "metadata": {},
   "outputs": [
    {
     "data": {
      "image/png": "[encoded data removed]",
      "text/plain": [
       "<Figure size 432x288 with 3 Axes>"
      ]
     },
     "metadata": {
      "needs_background": "light"
     },
     "output_type": "display_data"
    }
   ],
   "source": [
    "from biosteam import plots\n",
    "@np.vectorize\n",
    "def MPSP_at_glucose_price(price):\n",
    "    ol.glucose.price = price / 907.185\n",
    "    return get_LAOs_MPSP()\n",
    "\n",
    "glucose_prices = np.linspace(0, 400)\n",
    "MPSPs = MPSP_at_glucose_price(glucose_prices)\n",
    "glucose_price_range = [100, 300]\n",
    "plt.plot(glucose_prices, MPSPs)\n",
    "for value in LAO_price_range: plots.plot_horizontal_line(value, linestyle='--')\n",
    "plots.plot_scatter_points([200], [MPSP_at_glucose_price(200)], marker='*', s=125, color=markercolor,\n",
    "                            edgecolor=edgecolor)\n",
    "for price in glucose_price_range: plots.plot_vertical_line(price)\n",
    "plt.xlabel(f'Glucose price [{MPSP_units}]')\n",
    "plt.ylabel(f'MPSP [{MPSP_units}]')\n",
    "plots.style_axis(xticks=np.arange(0, 401, 50),\n",
    "                 yticks=np.arange(0, 2100, 250),\n",
    "                 trim_to_limits=True)"
   ]
  },
  {
   "cell_type": "code",
   "execution_count": null,
   "metadata": {},
   "outputs": [],
   "source": []
  },
  {
   "cell_type": "code",
   "execution_count": null,
   "metadata": {},
   "outputs": [],
   "source": [
    "MPSPs"
   ]
  },
  {
   "cell_type": "markdown",
   "metadata": {},
   "source": [
    "Create contour plots of various metrics vs the conversion in the dehydration reactor and the mass fraction of fatty alcohols in the feed to the dehydration reactor:"
   ]
  },
  {
   "cell_type": "code",
   "execution_count": null,
   "metadata": {},
   "outputs": [],
   "source": [
    "# %% Generate contour data\n",
    "mass_fractions = np.linspace(0.01, 0.2, 40)\n",
    "conversions = np.linspace(0.5, 0.999, 40)\n",
    "mass_fractions, conversions = np.meshgrid(mass_fractions, conversions)\n",
    "def f(mass_fraction, conversion):\n",
    "    ol.R102.reaction.X[:] = conversion\n",
    "    specs.run_specifications(dehydration_reactor_mass_fraction=mass_fraction)\n",
    "    return np.array([i() for i in olefin_metrics])\n",
    "f = np.vectorize(f, signature=\"(),()->(3)\")\n",
    "# specs.load_specifications(fermentation_titer=lab_titer,\n",
    "#                           fermentation_yield=lab_yield / 100)\n",
    "# data_lab = f(mass_fractions, conversions)\n",
    "specs.load_specifications(fermentation_titer=target_titer,\n",
    "                          fermentation_yield=target_yield / 100,\n",
    "                          fermentation_productivity=target_productivity,)\n",
    "data_target = f(mass_fractions, conversions)\n",
    "percent_mass_fractions = 100 * mass_fractions\n",
    "percent_conversions = 100 * conversions\n",
    "#data = np.array([data_lab, data_target])\n",
    "#data = np.rollaxis(data, 0, 4)"
   ]
  },
  {
   "cell_type": "code",
   "execution_count": null,
   "metadata": {},
   "outputs": [],
   "source": [
    "# %% Plot contours\n",
    "%matplotlib qt5\n",
    "data = data_target\n",
    "xlabel = 'Mass fraction [wt. %]'\n",
    "ylabel = \"Conversion [%]\"\n",
    "xticks = [1, 5, 10, 15, 20]\n",
    "yticks = [50, 60, 70, 80, 90, 100]\n",
    "metric_bars = (MetricBar('MPSP', MPSP_units, CABBI_green_colormap(),\n",
    "                         tickmarks(data[:, :, 0]), 100),\n",
    "               MetricBar('VOC', VOC_units, plt.cm.get_cmap('magma_r'),\n",
    "                         tickmarks(data[:, :, 1]), 25),\n",
    "               MetricBar(\"FCI\", FCI_units,\n",
    "                         plt.cm.get_cmap('bone_r'),\n",
    "                         tickmarks(data[:, :, 2]), 20))\n",
    "fig, axes = plot_contour_1d(percent_mass_fractions, percent_conversions, data, \n",
    "                            xlabel, ylabel, xticks, yticks, metric_bars, \n",
    "                            fillblack=False)\n",
    "MSP = data[:, :, 0]\n",
    "CS = None\n",
    "for ax in axes[0]:\n",
    "    plt.sca(ax)\n",
    "    if not CS:\n",
    "        CS = plt.contourf(percent_mass_fractions, percent_conversions, MSP, zorder=1e6,\n",
    "                          levels=LAO_price_range, colors=[shadecolor])\n",
    "    else:\n",
    "        CS = plt.contourf(CS, zorder=1e6, levels=LAO_price_range, colors=[shadecolor])\n",
    "    plt.contour(CS, zorder=1e6, linestyles='dashed', linewidths=1.,\n",
    "                levels=LAO_price_range, colors=[linecolor])\n",
    "\n",
    "for ax in axes[0]:\n",
    "    plt.sca(ax)\n",
    "    plot_scatter_points([target_mass_fraction], [target_conversion], marker='*', s=125, color=markercolor,\n",
    "                        edgecolor=edgecolor)\n",
    "    plot_scatter_points([lab_mass_fraction], [lab_conversion], marker='s', s=75, color=markercolor,\n",
    "                        edgecolor=edgecolor)\n",
    "\n",
    "plt.show()"
   ]
  },
  {
   "cell_type": "code",
   "execution_count": null,
   "metadata": {},
   "outputs": [],
   "source": []
  }
 ],
 "metadata": {
  "kernelspec": {
   "display_name": "Python 3",
   "language": "python",
   "name": "python3"
  },
  "language_info": {
   "codemirror_mode": {
    "name": "ipython",
    "version": 3
   },
   "file_extension": ".py",
   "mimetype": "text/x-python",
   "name": "python",
   "nbconvert_exporter": "python",
   "pygments_lexer": "ipython3",
   "version": "3.7.6"
  }
 },
 "nbformat": 4,
 "nbformat_minor": 4
}
