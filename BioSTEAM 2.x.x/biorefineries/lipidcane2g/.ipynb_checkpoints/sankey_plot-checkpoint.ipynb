{
 "cells": [
  {
   "cell_type": "code",
   "execution_count": 6,
   "metadata": {},
   "outputs": [],
   "source": [
    "from biorefineries import lipidcane2g as lc\n",
    "import biosteam as bst\n",
    "from biosteam.plots import sankey\n",
    "\n",
    "@bst.utils.piping.ignore_docking_warnings\n",
    "def create_sankey_plot(name):\n",
    "    lc.load(name)\n",
    "    if name == 0:\n",
    "        *sankey_groups, CHP, utilities, storage = lc.unit_groups\n",
    "        lc.pressed_bagasse.ID = 'bagasse'\n",
    "    elif name == 1:\n",
    "        *sankey_groups, wastewater,oil_ext, CHP, etoh_sep, biod_prod, utilities, storage = lc.unit_groups\n",
    "        sankey_groups += [oil_ext, etoh_sep, biod_prod]\n",
    "    elif name == 2:\n",
    "        *sankey_groups, wastewater,oil_ext, CHP, etoh_sep, biod_prod, utilities, storage = lc.unit_groups\n",
    "        sankey_groups += [oil_ext, etoh_sep, biod_prod]\n",
    "    lc.rvf_wash_water.ID = 'RVF_wash_water'\n",
    "    for i in storage.units: \n",
    "        if 'storage' in i.line.lower():\n",
    "            feed, = i.ins\n",
    "            product, = i.outs\n",
    "            source = feed.source\n",
    "            sink = product.sink\n",
    "            if sink: feed - sink\n",
    "            if source: source - product\n",
    "    if name == 0:\n",
    "        for i in sankey_groups:\n",
    "            if i.name == 'EtOH prod.':\n",
    "                MX = bst.Mixer('MX',\n",
    "                               (lc.evaporator_condensate, lc.stripper_bottoms_product, lc.water_vapor),\n",
    "                               'recycle_process_water')\n",
    "                MX.simulate()\n",
    "                i.units.append(MX)\n",
    "                break\n",
    "        ignored = [lc.D602.outs[0], lc.H604.ins[0]]\n",
    "    elif name == 1:\n",
    "        for i in sankey_groups:\n",
    "            if i.name == 'Oil ext.':\n",
    "                wastewater = lc.wastewater\n",
    "                wastewater.ID = ''\n",
    "                MX = bst.Mixer('MX',\n",
    "                               (lc.spent_wash_water, wastewater, lc.water_vapor),\n",
    "                               'wastewater')\n",
    "                MX.simulate()\n",
    "                i.units.append(MX)\n",
    "                break\n",
    "        lc.vent_1._ID = lc.vent_2._ID = 'vent'\n",
    "        lc.E301.outs[1]._ID = lc.P901.outs[0]._ID = lc.evaporator_condensate._ID = 'recycle_process_water'\n",
    "        lc.U504.outs[0].ID = 'lignin'\n",
    "        lc.waste.ID = lc.pretreatment_wastewater.ID = 'wastewater'\n",
    "        lc.stripping_water_area_500.ID = lc.stripping_water_area_700.ID = 'stripping_water'\n",
    "        lc.warm_process_water.ID = 'process_water'\n",
    "        ignored = [lc.H1104.ins[0], lc.U504.ins[1]]\n",
    "    elif name == 2:\n",
    "        for i in sankey_groups:\n",
    "            if i.name == 'Oil ext.':\n",
    "                wastewater = lc.wastewater\n",
    "                wastewater.ID = ''\n",
    "                MX = bst.Mixer('MX',\n",
    "                               (lc.spent_wash_water, wastewater, lc.water_vapor),\n",
    "                               'wastewater')\n",
    "                MX.simulate()\n",
    "                i.units.append(MX)\n",
    "                break\n",
    "        lc.evaporator_condensate._ID = 'recycle_process_water'\n",
    "        lc.U404.outs[0].ID = 'lignin'\n",
    "        lc.waste.ID = lc.pretreatment_wastewater.ID = 'wastewater'\n",
    "        lc.warm_process_water.ID = 'process_water'\n",
    "        lc.P108.outs[0].ID = 'recycle_process_water'\n",
    "        ignored = [lc.H1004.ins[0]]\n",
    "    sankey_installed_cost = {u.name: sum([i.installed_cost for i in u.units]) for u in sankey_groups}\n",
    "    max_installed_cost_of_groups = max(sankey_installed_cost.values())\n",
    "    handle = sankey.CarbonHandle(max_installed_cost_of_groups, max_feeds=20, max_products=20,\n",
    "                                 ignore=ignored)\n",
    "    nodes = handle.nodes(sankey_groups)\n",
    "    data = handle.sankey_data(nodes)\n",
    "    fig = handle.sankey_figure(nodes)\n",
    "    fig.show()\n",
    "    dct = globals()\n",
    "    dct.update(locals())"
   ]
  },
  {
   "cell_type": "code",
   "execution_count": 7,
   "metadata": {},
   "outputs": [
    {
     "name": "stderr",
     "output_type": "stream",
     "text": [
      "C:\\Users\\yrc2\\OneDrive\\Code\\biosteam\\biosteam\\process_tools\\system_factory.py:154: RuntimeWarning:\n",
      "\n",
      "<EnzymeHydrolysateMixer: M401> has been replaced in registry\n",
      "\n",
      "C:\\Users\\yrc2\\OneDrive\\Code\\biosteam\\biosteam\\units\\design_tools\\pressure_vessel.py:88: UserWarning:\n",
      "\n",
      "vacuum pressure vessel ASME codes not implemented yet; wall thickness may be inaccurate and stiffening rings may be required\n",
      "\n",
      "C:\\Users\\yrc2\\OneDrive\\Code\\thermosteam\\thermosteam\\utils\\registry.py:101: RuntimeWarning:\n",
      "\n",
      "upon renaming, <Stream: waste> replaced <Stream: wastewater> in registry\n",
      "\n",
      "C:\\Users\\yrc2\\OneDrive\\Code\\thermosteam\\thermosteam\\utils\\registry.py:101: RuntimeWarning:\n",
      "\n",
      "upon renaming, <Stream: pretreatment_wastewater> replaced <Stream: wastewater> in registry\n",
      "\n"
     ]
    },
    {
     "data": {
      "application/vnd.plotly.v1+json": {
       "config": {
        "plotlyServerURL": "https://plot.ly"
       },
       "data": [
        {
         "link": {
          "color": [
           "rgba(225, 225, 224, 1.0)",
           "rgba(234, 234, 234, 1.0)",
           "rgba(215, 215, 214, 1.0)",
           "rgba(220, 220, 219, 1.0)",
           "rgba(233, 233, 232, 1.0)",
           "rgba(213, 214, 213, 1.0)",
           "rgba(165, 166, 163, 1.0)",
           "rgba(225, 225, 224, 1.0)",
           "rgba(235, 236, 235, 1.0)",
           "rgba(202, 203, 202, 1.0)",
           "rgba(234, 234, 233, 1.0)",
           "rgba(158, 159, 157, 1.0)",
           "rgba(238, 238, 238, 1.0)",
           "rgba(238, 238, 238, 1.0)",
           "rgba(238, 238, 238, 1.0)",
           "rgba(206, 207, 205, 1.0)",
           "rgba(238, 238, 238, 1.0)",
           "rgba(238, 238, 238, 1.0)",
           "rgba(238, 238, 238, 1.0)",
           "rgba(238, 238, 238, 1.0)",
           "rgba(238, 238, 238, 1.0)",
           "rgba(238, 238, 238, 1.0)",
           "rgba(238, 238, 238, 1.0)",
           "rgba(238, 238, 238, 1.0)",
           "rgba(238, 238, 238, 1.0)",
           "rgba(238, 238, 238, 1.0)",
           "rgba(238, 238, 238, 1.0)",
           "rgba(238, 238, 238, 1.0)",
           "rgba(238, 238, 238, 1.0)",
           "rgba(188, 189, 187, 1.0)",
           "rgba(165, 166, 164, 1.0)",
           "rgba(208, 209, 207, 1.0)",
           "rgba(167, 167, 165, 1.0)",
           "rgba(238, 238, 237, 1.0)",
           "rgba(229, 229, 229, 1.0)",
           "rgba(237, 237, 236, 1.0)",
           "rgba(225, 225, 225, 1.0)",
           "rgba(238, 238, 238, 1.0)",
           "rgba(212, 213, 212, 1.0)",
           "rgba(234, 234, 233, 1.0)",
           "rgba(205, 205, 204, 1.0)"
          ],
          "source": [
           0,
           1,
           1,
           2,
           3,
           3,
           4,
           7,
           8,
           9,
           10,
           11,
           12,
           13,
           14,
           15,
           16,
           17,
           18,
           19,
           20,
           21,
           22,
           23,
           24,
           25,
           26,
           27,
           28,
           5,
           6,
           6,
           6,
           4,
           1,
           2,
           4,
           5,
           3,
           1,
           3
          ],
          "target": [
           1,
           3,
           2,
           3,
           4,
           5,
           6,
           0,
           3,
           6,
           1,
           5,
           3,
           3,
           1,
           6,
           6,
           6,
           6,
           4,
           3,
           2,
           2,
           1,
           1,
           3,
           1,
           1,
           3,
           29,
           30,
           31,
           32,
           33,
           34,
           35,
           36,
           37,
           38,
           39,
           40
          ],
          "value": [
           333333.334,
           263926.9759969144,
           146880.1965307966,
           181547.07783410995,
           435255.80640359654,
           34815.71761696355,
           9830.62489444462,
           333333.334,
           11059.77480677566,
           1057.0443416774858,
           1000,
           386.1417517025566,
           130.99543772057464,
           1347.920389348543,
           333.333334,
           0.16610921974786638,
           252.2641175086028,
           0.3553451999620555,
           0.03985617707713043,
           33096.912768219736,
           21435.835892182276,
           33615.91716630553,
           23486.895234702122,
           73.05467011611557,
           0.83,
           33619.040216215595,
           166.666667,
           87023.35,
           1,
           17938.57427925444,
           9739.289528726042,
           1261.6749152237521,
           139.9257721619781,
           349170.2018489822,
           9931.273754358514,
           22435.940755394437,
           109351.89242838944,
           17263.285089411667,
           16638.994596039855,
           533.135626589905,
           26407.310741907404
          ]
         },
         "node": {
          "color": [
           "rgba(228, 166, 17, 1.0)",
           "rgba(187, 137, 14, 1.0)",
           "rgba(102, 74, 7, 1.0)",
           "rgba(63, 46, 4, 1.0)",
           "rgba(221, 161, 16, 1.0)",
           "rgba(223, 163, 16, 1.0)",
           "rgba(235, 172, 17, 1.0)",
           "rgba(225, 225, 224, 1.0)",
           "rgba(235, 236, 235, 1.0)",
           "rgba(202, 203, 202, 1.0)",
           "rgba(234, 234, 233, 1.0)",
           "rgba(158, 159, 157, 1.0)",
           "rgba(238, 238, 238, 1.0)",
           "rgba(238, 238, 238, 1.0)",
           "rgba(238, 238, 238, 1.0)",
           "rgba(206, 207, 205, 1.0)",
           "rgba(238, 238, 238, 1.0)",
           "rgba(238, 238, 238, 1.0)",
           "rgba(238, 238, 238, 1.0)",
           "rgba(238, 238, 238, 1.0)",
           "rgba(238, 238, 238, 1.0)",
           "rgba(238, 238, 238, 1.0)",
           "rgba(238, 238, 238, 1.0)",
           "rgba(238, 238, 238, 1.0)",
           "rgba(238, 238, 238, 1.0)",
           "rgba(238, 238, 238, 1.0)",
           "rgba(238, 238, 238, 1.0)",
           "rgba(238, 238, 238, 1.0)",
           "rgba(238, 238, 238, 1.0)",
           "rgba(188, 189, 187, 1.0)",
           "rgba(165, 166, 164, 1.0)",
           "rgba(208, 209, 207, 1.0)",
           "rgba(167, 167, 165, 1.0)",
           "rgba(238, 238, 237, 1.0)",
           "rgba(229, 229, 229, 1.0)",
           "rgba(237, 237, 236, 1.0)",
           "rgba(225, 225, 225, 1.0)",
           "rgba(238, 238, 238, 1.0)",
           "rgba(212, 213, 212, 1.0)",
           "rgba(234, 234, 233, 1.0)",
           "rgba(205, 205, 204, 1.0)"
          ],
          "label": [
           "Feedstock handling",
           "Juicing",
           "Pretreatment",
           "Cofementation",
           "Oil ext.",
           "Ethanol sep.",
           "Biod. prod.",
           "lipidcane",
           "cellulase",
           "methanol",
           "enzyme",
           "denaturant",
           "DAP",
           "CSL",
           "lime",
           "catalyst",
           "biodiesel wash water",
           "HCl",
           "NaOH",
           "lipid wash water",
           "stripping water",
           "process water",
           "pretreatment steam",
           "RVF wash water",
           "polymer",
           "saccharification water",
           "H3PO4",
           "imbibition water",
           "s201",
           "ethanol",
           "biodiesel",
           "crude glycerol",
           "wastewater",
           "recycle process water",
           "filter cake",
           "wastewater",
           "wastewater",
           "s188",
           "vent",
           "fiber fines",
           "lignin"
          ]
         },
         "type": "sankey"
        }
       ],
       "layout": {
        "template": {
         "data": {
          "bar": [
           {
            "error_x": {
             "color": "#2a3f5f"
            },
            "error_y": {
             "color": "#2a3f5f"
            },
            "marker": {
             "line": {
              "color": "#E5ECF6",
              "width": 0.5
             }
            },
            "type": "bar"
           }
          ],
          "barpolar": [
           {
            "marker": {
             "line": {
              "color": "#E5ECF6",
              "width": 0.5
             }
            },
            "type": "barpolar"
           }
          ],
          "carpet": [
           {
            "aaxis": {
             "endlinecolor": "#2a3f5f",
             "gridcolor": "white",
             "linecolor": "white",
             "minorgridcolor": "white",
             "startlinecolor": "#2a3f5f"
            },
            "baxis": {
             "endlinecolor": "#2a3f5f",
             "gridcolor": "white",
             "linecolor": "white",
             "minorgridcolor": "white",
             "startlinecolor": "#2a3f5f"
            },
            "type": "carpet"
           }
          ],
          "choropleth": [
           {
            "colorbar": {
             "outlinewidth": 0,
             "ticks": ""
            },
            "type": "choropleth"
           }
          ],
          "contour": [
           {
            "colorbar": {
             "outlinewidth": 0,
             "ticks": ""
            },
            "colorscale": [
             [
              0,
              "#0d0887"
             ],
             [
              0.1111111111111111,
              "#46039f"
             ],
             [
              0.2222222222222222,
              "#7201a8"
             ],
             [
              0.3333333333333333,
              "#9c179e"
             ],
             [
              0.4444444444444444,
              "#bd3786"
             ],
             [
              0.5555555555555556,
              "#d8576b"
             ],
             [
              0.6666666666666666,
              "#ed7953"
             ],
             [
              0.7777777777777778,
              "#fb9f3a"
             ],
             [
              0.8888888888888888,
              "#fdca26"
             ],
             [
              1,
              "#f0f921"
             ]
            ],
            "type": "contour"
           }
          ],
          "contourcarpet": [
           {
            "colorbar": {
             "outlinewidth": 0,
             "ticks": ""
            },
            "type": "contourcarpet"
           }
          ],
          "heatmap": [
           {
            "colorbar": {
             "outlinewidth": 0,
             "ticks": ""
            },
            "colorscale": [
             [
              0,
              "#0d0887"
             ],
             [
              0.1111111111111111,
              "#46039f"
             ],
             [
              0.2222222222222222,
              "#7201a8"
             ],
             [
              0.3333333333333333,
              "#9c179e"
             ],
             [
              0.4444444444444444,
              "#bd3786"
             ],
             [
              0.5555555555555556,
              "#d8576b"
             ],
             [
              0.6666666666666666,
              "#ed7953"
             ],
             [
              0.7777777777777778,
              "#fb9f3a"
             ],
             [
              0.8888888888888888,
              "#fdca26"
             ],
             [
              1,
              "#f0f921"
             ]
            ],
            "type": "heatmap"
           }
          ],
          "heatmapgl": [
           {
            "colorbar": {
             "outlinewidth": 0,
             "ticks": ""
            },
            "colorscale": [
             [
              0,
              "#0d0887"
             ],
             [
              0.1111111111111111,
              "#46039f"
             ],
             [
              0.2222222222222222,
              "#7201a8"
             ],
             [
              0.3333333333333333,
              "#9c179e"
             ],
             [
              0.4444444444444444,
              "#bd3786"
             ],
             [
              0.5555555555555556,
              "#d8576b"
             ],
             [
              0.6666666666666666,
              "#ed7953"
             ],
             [
              0.7777777777777778,
              "#fb9f3a"
             ],
             [
              0.8888888888888888,
              "#fdca26"
             ],
             [
              1,
              "#f0f921"
             ]
            ],
            "type": "heatmapgl"
           }
          ],
          "histogram": [
           {
            "marker": {
             "colorbar": {
              "outlinewidth": 0,
              "ticks": ""
             }
            },
            "type": "histogram"
           }
          ],
          "histogram2d": [
           {
            "colorbar": {
             "outlinewidth": 0,
             "ticks": ""
            },
            "colorscale": [
             [
              0,
              "#0d0887"
             ],
             [
              0.1111111111111111,
              "#46039f"
             ],
             [
              0.2222222222222222,
              "#7201a8"
             ],
             [
              0.3333333333333333,
              "#9c179e"
             ],
             [
              0.4444444444444444,
              "#bd3786"
             ],
             [
              0.5555555555555556,
              "#d8576b"
             ],
             [
              0.6666666666666666,
              "#ed7953"
             ],
             [
              0.7777777777777778,
              "#fb9f3a"
             ],
             [
              0.8888888888888888,
              "#fdca26"
             ],
             [
              1,
              "#f0f921"
             ]
            ],
            "type": "histogram2d"
           }
          ],
          "histogram2dcontour": [
           {
            "colorbar": {
             "outlinewidth": 0,
             "ticks": ""
            },
            "colorscale": [
             [
              0,
              "#0d0887"
             ],
             [
              0.1111111111111111,
              "#46039f"
             ],
             [
              0.2222222222222222,
              "#7201a8"
             ],
             [
              0.3333333333333333,
              "#9c179e"
             ],
             [
              0.4444444444444444,
              "#bd3786"
             ],
             [
              0.5555555555555556,
              "#d8576b"
             ],
             [
              0.6666666666666666,
              "#ed7953"
             ],
             [
              0.7777777777777778,
              "#fb9f3a"
             ],
             [
              0.8888888888888888,
              "#fdca26"
             ],
             [
              1,
              "#f0f921"
             ]
            ],
            "type": "histogram2dcontour"
           }
          ],
          "mesh3d": [
           {
            "colorbar": {
             "outlinewidth": 0,
             "ticks": ""
            },
            "type": "mesh3d"
           }
          ],
          "parcoords": [
           {
            "line": {
             "colorbar": {
              "outlinewidth": 0,
              "ticks": ""
             }
            },
            "type": "parcoords"
           }
          ],
          "pie": [
           {
            "automargin": true,
            "type": "pie"
           }
          ],
          "scatter": [
           {
            "marker": {
             "colorbar": {
              "outlinewidth": 0,
              "ticks": ""
             }
            },
            "type": "scatter"
           }
          ],
          "scatter3d": [
           {
            "line": {
             "colorbar": {
              "outlinewidth": 0,
              "ticks": ""
             }
            },
            "marker": {
             "colorbar": {
              "outlinewidth": 0,
              "ticks": ""
             }
            },
            "type": "scatter3d"
           }
          ],
          "scattercarpet": [
           {
            "marker": {
             "colorbar": {
              "outlinewidth": 0,
              "ticks": ""
             }
            },
            "type": "scattercarpet"
           }
          ],
          "scattergeo": [
           {
            "marker": {
             "colorbar": {
              "outlinewidth": 0,
              "ticks": ""
             }
            },
            "type": "scattergeo"
           }
          ],
          "scattergl": [
           {
            "marker": {
             "colorbar": {
              "outlinewidth": 0,
              "ticks": ""
             }
            },
            "type": "scattergl"
           }
          ],
          "scattermapbox": [
           {
            "marker": {
             "colorbar": {
              "outlinewidth": 0,
              "ticks": ""
             }
            },
            "type": "scattermapbox"
           }
          ],
          "scatterpolar": [
           {
            "marker": {
             "colorbar": {
              "outlinewidth": 0,
              "ticks": ""
             }
            },
            "type": "scatterpolar"
           }
          ],
          "scatterpolargl": [
           {
            "marker": {
             "colorbar": {
              "outlinewidth": 0,
              "ticks": ""
             }
            },
            "type": "scatterpolargl"
           }
          ],
          "scatterternary": [
           {
            "marker": {
             "colorbar": {
              "outlinewidth": 0,
              "ticks": ""
             }
            },
            "type": "scatterternary"
           }
          ],
          "surface": [
           {
            "colorbar": {
             "outlinewidth": 0,
             "ticks": ""
            },
            "colorscale": [
             [
              0,
              "#0d0887"
             ],
             [
              0.1111111111111111,
              "#46039f"
             ],
             [
              0.2222222222222222,
              "#7201a8"
             ],
             [
              0.3333333333333333,
              "#9c179e"
             ],
             [
              0.4444444444444444,
              "#bd3786"
             ],
             [
              0.5555555555555556,
              "#d8576b"
             ],
             [
              0.6666666666666666,
              "#ed7953"
             ],
             [
              0.7777777777777778,
              "#fb9f3a"
             ],
             [
              0.8888888888888888,
              "#fdca26"
             ],
             [
              1,
              "#f0f921"
             ]
            ],
            "type": "surface"
           }
          ],
          "table": [
           {
            "cells": {
             "fill": {
              "color": "#EBF0F8"
             },
             "line": {
              "color": "white"
             }
            },
            "header": {
             "fill": {
              "color": "#C8D4E3"
             },
             "line": {
              "color": "white"
             }
            },
            "type": "table"
           }
          ]
         },
         "layout": {
          "annotationdefaults": {
           "arrowcolor": "#2a3f5f",
           "arrowhead": 0,
           "arrowwidth": 1
          },
          "autotypenumbers": "strict",
          "coloraxis": {
           "colorbar": {
            "outlinewidth": 0,
            "ticks": ""
           }
          },
          "colorscale": {
           "diverging": [
            [
             0,
             "#8e0152"
            ],
            [
             0.1,
             "#c51b7d"
            ],
            [
             0.2,
             "#de77ae"
            ],
            [
             0.3,
             "#f1b6da"
            ],
            [
             0.4,
             "#fde0ef"
            ],
            [
             0.5,
             "#f7f7f7"
            ],
            [
             0.6,
             "#e6f5d0"
            ],
            [
             0.7,
             "#b8e186"
            ],
            [
             0.8,
             "#7fbc41"
            ],
            [
             0.9,
             "#4d9221"
            ],
            [
             1,
             "#276419"
            ]
           ],
           "sequential": [
            [
             0,
             "#0d0887"
            ],
            [
             0.1111111111111111,
             "#46039f"
            ],
            [
             0.2222222222222222,
             "#7201a8"
            ],
            [
             0.3333333333333333,
             "#9c179e"
            ],
            [
             0.4444444444444444,
             "#bd3786"
            ],
            [
             0.5555555555555556,
             "#d8576b"
            ],
            [
             0.6666666666666666,
             "#ed7953"
            ],
            [
             0.7777777777777778,
             "#fb9f3a"
            ],
            [
             0.8888888888888888,
             "#fdca26"
            ],
            [
             1,
             "#f0f921"
            ]
           ],
           "sequentialminus": [
            [
             0,
             "#0d0887"
            ],
            [
             0.1111111111111111,
             "#46039f"
            ],
            [
             0.2222222222222222,
             "#7201a8"
            ],
            [
             0.3333333333333333,
             "#9c179e"
            ],
            [
             0.4444444444444444,
             "#bd3786"
            ],
            [
             0.5555555555555556,
             "#d8576b"
            ],
            [
             0.6666666666666666,
             "#ed7953"
            ],
            [
             0.7777777777777778,
             "#fb9f3a"
            ],
            [
             0.8888888888888888,
             "#fdca26"
            ],
            [
             1,
             "#f0f921"
            ]
           ]
          },
          "colorway": [
           "#636efa",
           "#EF553B",
           "#00cc96",
           "#ab63fa",
           "#FFA15A",
           "#19d3f3",
           "#FF6692",
           "#B6E880",
           "#FF97FF",
           "#FECB52"
          ],
          "font": {
           "color": "#2a3f5f"
          },
          "geo": {
           "bgcolor": "white",
           "lakecolor": "white",
           "landcolor": "#E5ECF6",
           "showlakes": true,
           "showland": true,
           "subunitcolor": "white"
          },
          "hoverlabel": {
           "align": "left"
          },
          "hovermode": "closest",
          "mapbox": {
           "style": "light"
          },
          "paper_bgcolor": "white",
          "plot_bgcolor": "#E5ECF6",
          "polar": {
           "angularaxis": {
            "gridcolor": "white",
            "linecolor": "white",
            "ticks": ""
           },
           "bgcolor": "#E5ECF6",
           "radialaxis": {
            "gridcolor": "white",
            "linecolor": "white",
            "ticks": ""
           }
          },
          "scene": {
           "xaxis": {
            "backgroundcolor": "#E5ECF6",
            "gridcolor": "white",
            "gridwidth": 2,
            "linecolor": "white",
            "showbackground": true,
            "ticks": "",
            "zerolinecolor": "white"
           },
           "yaxis": {
            "backgroundcolor": "#E5ECF6",
            "gridcolor": "white",
            "gridwidth": 2,
            "linecolor": "white",
            "showbackground": true,
            "ticks": "",
            "zerolinecolor": "white"
           },
           "zaxis": {
            "backgroundcolor": "#E5ECF6",
            "gridcolor": "white",
            "gridwidth": 2,
            "linecolor": "white",
            "showbackground": true,
            "ticks": "",
            "zerolinecolor": "white"
           }
          },
          "shapedefaults": {
           "line": {
            "color": "#2a3f5f"
           }
          },
          "ternary": {
           "aaxis": {
            "gridcolor": "white",
            "linecolor": "white",
            "ticks": ""
           },
           "baxis": {
            "gridcolor": "white",
            "linecolor": "white",
            "ticks": ""
           },
           "bgcolor": "#E5ECF6",
           "caxis": {
            "gridcolor": "white",
            "linecolor": "white",
            "ticks": ""
           }
          },
          "title": {
           "x": 0.05
          },
          "xaxis": {
           "automargin": true,
           "gridcolor": "white",
           "linecolor": "white",
           "ticks": "",
           "title": {
            "standoff": 15
           },
           "zerolinecolor": "white",
           "zerolinewidth": 2
          },
          "yaxis": {
           "automargin": true,
           "gridcolor": "white",
           "linecolor": "white",
           "ticks": "",
           "title": {
            "standoff": 15
           },
           "zerolinecolor": "white",
           "zerolinewidth": 2
          }
         }
        }
       }
      },
      "text/html": [
       "<div>                            <div id=\"991971b6-6d91-4b12-936d-48767a3dc764\" class=\"plotly-graph-div\" style=\"height:525px; width:100%;\"></div>            <script type=\"text/javascript\">                require([\"plotly\"], function(Plotly) {                    window.PLOTLYENV=window.PLOTLYENV || {};                                    if (document.getElementById(\"991971b6-6d91-4b12-936d-48767a3dc764\")) {                    Plotly.newPlot(                        \"991971b6-6d91-4b12-936d-48767a3dc764\",                        [{\"link\": {\"color\": [\"rgba(225, 225, 224, 1.0)\", \"rgba(234, 234, 234, 1.0)\", \"rgba(215, 215, 214, 1.0)\", \"rgba(220, 220, 219, 1.0)\", \"rgba(233, 233, 232, 1.0)\", \"rgba(213, 214, 213, 1.0)\", \"rgba(165, 166, 163, 1.0)\", \"rgba(225, 225, 224, 1.0)\", \"rgba(235, 236, 235, 1.0)\", \"rgba(202, 203, 202, 1.0)\", \"rgba(234, 234, 233, 1.0)\", \"rgba(158, 159, 157, 1.0)\", \"rgba(238, 238, 238, 1.0)\", \"rgba(238, 238, 238, 1.0)\", \"rgba(238, 238, 238, 1.0)\", \"rgba(206, 207, 205, 1.0)\", \"rgba(238, 238, 238, 1.0)\", \"rgba(238, 238, 238, 1.0)\", \"rgba(238, 238, 238, 1.0)\", \"rgba(238, 238, 238, 1.0)\", \"rgba(238, 238, 238, 1.0)\", \"rgba(238, 238, 238, 1.0)\", \"rgba(238, 238, 238, 1.0)\", \"rgba(238, 238, 238, 1.0)\", \"rgba(238, 238, 238, 1.0)\", \"rgba(238, 238, 238, 1.0)\", \"rgba(238, 238, 238, 1.0)\", \"rgba(238, 238, 238, 1.0)\", \"rgba(238, 238, 238, 1.0)\", \"rgba(188, 189, 187, 1.0)\", \"rgba(165, 166, 164, 1.0)\", \"rgba(208, 209, 207, 1.0)\", \"rgba(167, 167, 165, 1.0)\", \"rgba(238, 238, 237, 1.0)\", \"rgba(229, 229, 229, 1.0)\", \"rgba(237, 237, 236, 1.0)\", \"rgba(225, 225, 225, 1.0)\", \"rgba(238, 238, 238, 1.0)\", \"rgba(212, 213, 212, 1.0)\", \"rgba(234, 234, 233, 1.0)\", \"rgba(205, 205, 204, 1.0)\"], \"source\": [0, 1, 1, 2, 3, 3, 4, 7, 8, 9, 10, 11, 12, 13, 14, 15, 16, 17, 18, 19, 20, 21, 22, 23, 24, 25, 26, 27, 28, 5, 6, 6, 6, 4, 1, 2, 4, 5, 3, 1, 3], \"target\": [1, 3, 2, 3, 4, 5, 6, 0, 3, 6, 1, 5, 3, 3, 1, 6, 6, 6, 6, 4, 3, 2, 2, 1, 1, 3, 1, 1, 3, 29, 30, 31, 32, 33, 34, 35, 36, 37, 38, 39, 40], \"value\": [333333.334, 263926.9759969144, 146880.1965307966, 181547.07783410995, 435255.80640359654, 34815.71761696355, 9830.62489444462, 333333.334, 11059.77480677566, 1057.0443416774858, 1000.0, 386.1417517025566, 130.99543772057464, 1347.920389348543, 333.333334, 0.16610921974786638, 252.2641175086028, 0.3553451999620555, 0.03985617707713043, 33096.912768219736, 21435.835892182276, 33615.91716630553, 23486.895234702122, 73.05467011611557, 0.83, 33619.040216215595, 166.666667, 87023.35, 1.0, 17938.57427925444, 9739.289528726042, 1261.6749152237521, 139.9257721619781, 349170.2018489822, 9931.273754358514, 22435.940755394437, 109351.89242838944, 17263.285089411667, 16638.994596039855, 533.135626589905, 26407.310741907404]}, \"node\": {\"color\": [\"rgba(228, 166, 17, 1.0)\", \"rgba(187, 137, 14, 1.0)\", \"rgba(102, 74, 7, 1.0)\", \"rgba(63, 46, 4, 1.0)\", \"rgba(221, 161, 16, 1.0)\", \"rgba(223, 163, 16, 1.0)\", \"rgba(235, 172, 17, 1.0)\", \"rgba(225, 225, 224, 1.0)\", \"rgba(235, 236, 235, 1.0)\", \"rgba(202, 203, 202, 1.0)\", \"rgba(234, 234, 233, 1.0)\", \"rgba(158, 159, 157, 1.0)\", \"rgba(238, 238, 238, 1.0)\", \"rgba(238, 238, 238, 1.0)\", \"rgba(238, 238, 238, 1.0)\", \"rgba(206, 207, 205, 1.0)\", \"rgba(238, 238, 238, 1.0)\", \"rgba(238, 238, 238, 1.0)\", \"rgba(238, 238, 238, 1.0)\", \"rgba(238, 238, 238, 1.0)\", \"rgba(238, 238, 238, 1.0)\", \"rgba(238, 238, 238, 1.0)\", \"rgba(238, 238, 238, 1.0)\", \"rgba(238, 238, 238, 1.0)\", \"rgba(238, 238, 238, 1.0)\", \"rgba(238, 238, 238, 1.0)\", \"rgba(238, 238, 238, 1.0)\", \"rgba(238, 238, 238, 1.0)\", \"rgba(238, 238, 238, 1.0)\", \"rgba(188, 189, 187, 1.0)\", \"rgba(165, 166, 164, 1.0)\", \"rgba(208, 209, 207, 1.0)\", \"rgba(167, 167, 165, 1.0)\", \"rgba(238, 238, 237, 1.0)\", \"rgba(229, 229, 229, 1.0)\", \"rgba(237, 237, 236, 1.0)\", \"rgba(225, 225, 225, 1.0)\", \"rgba(238, 238, 238, 1.0)\", \"rgba(212, 213, 212, 1.0)\", \"rgba(234, 234, 233, 1.0)\", \"rgba(205, 205, 204, 1.0)\"], \"label\": [\"Feedstock handling\", \"Juicing\", \"Pretreatment\", \"Cofementation\", \"Oil ext.\", \"Ethanol sep.\", \"Biod. prod.\", \"lipidcane\", \"cellulase\", \"methanol\", \"enzyme\", \"denaturant\", \"DAP\", \"CSL\", \"lime\", \"catalyst\", \"biodiesel wash water\", \"HCl\", \"NaOH\", \"lipid wash water\", \"stripping water\", \"process water\", \"pretreatment steam\", \"RVF wash water\", \"polymer\", \"saccharification water\", \"H3PO4\", \"imbibition water\", \"s201\", \"ethanol\", \"biodiesel\", \"crude glycerol\", \"wastewater\", \"recycle process water\", \"filter cake\", \"wastewater\", \"wastewater\", \"s188\", \"vent\", \"fiber fines\", \"lignin\"]}, \"type\": \"sankey\"}],                        {\"template\": {\"data\": {\"bar\": [{\"error_x\": {\"color\": \"#2a3f5f\"}, \"error_y\": {\"color\": \"#2a3f5f\"}, \"marker\": {\"line\": {\"color\": \"#E5ECF6\", \"width\": 0.5}}, \"type\": \"bar\"}], \"barpolar\": [{\"marker\": {\"line\": {\"color\": \"#E5ECF6\", \"width\": 0.5}}, \"type\": \"barpolar\"}], \"carpet\": [{\"aaxis\": {\"endlinecolor\": \"#2a3f5f\", \"gridcolor\": \"white\", \"linecolor\": \"white\", \"minorgridcolor\": \"white\", \"startlinecolor\": \"#2a3f5f\"}, \"baxis\": {\"endlinecolor\": \"#2a3f5f\", \"gridcolor\": \"white\", \"linecolor\": \"white\", \"minorgridcolor\": \"white\", \"startlinecolor\": \"#2a3f5f\"}, \"type\": \"carpet\"}], \"choropleth\": [{\"colorbar\": {\"outlinewidth\": 0, \"ticks\": \"\"}, \"type\": \"choropleth\"}], \"contour\": [{\"colorbar\": {\"outlinewidth\": 0, \"ticks\": \"\"}, \"colorscale\": [[0.0, \"#0d0887\"], [0.1111111111111111, \"#46039f\"], [0.2222222222222222, \"#7201a8\"], [0.3333333333333333, \"#9c179e\"], [0.4444444444444444, \"#bd3786\"], [0.5555555555555556, \"#d8576b\"], [0.6666666666666666, \"#ed7953\"], [0.7777777777777778, \"#fb9f3a\"], [0.8888888888888888, \"#fdca26\"], [1.0, \"#f0f921\"]], \"type\": \"contour\"}], \"contourcarpet\": [{\"colorbar\": {\"outlinewidth\": 0, \"ticks\": \"\"}, \"type\": \"contourcarpet\"}], \"heatmap\": [{\"colorbar\": {\"outlinewidth\": 0, \"ticks\": \"\"}, \"colorscale\": [[0.0, \"#0d0887\"], [0.1111111111111111, \"#46039f\"], [0.2222222222222222, \"#7201a8\"], [0.3333333333333333, \"#9c179e\"], [0.4444444444444444, \"#bd3786\"], [0.5555555555555556, \"#d8576b\"], [0.6666666666666666, \"#ed7953\"], [0.7777777777777778, \"#fb9f3a\"], [0.8888888888888888, \"#fdca26\"], [1.0, \"#f0f921\"]], \"type\": \"heatmap\"}], \"heatmapgl\": [{\"colorbar\": {\"outlinewidth\": 0, \"ticks\": \"\"}, \"colorscale\": [[0.0, \"#0d0887\"], [0.1111111111111111, \"#46039f\"], [0.2222222222222222, \"#7201a8\"], [0.3333333333333333, \"#9c179e\"], [0.4444444444444444, \"#bd3786\"], [0.5555555555555556, \"#d8576b\"], [0.6666666666666666, \"#ed7953\"], [0.7777777777777778, \"#fb9f3a\"], [0.8888888888888888, \"#fdca26\"], [1.0, \"#f0f921\"]], \"type\": \"heatmapgl\"}], \"histogram\": [{\"marker\": {\"colorbar\": {\"outlinewidth\": 0, \"ticks\": \"\"}}, \"type\": \"histogram\"}], \"histogram2d\": [{\"colorbar\": {\"outlinewidth\": 0, \"ticks\": \"\"}, \"colorscale\": [[0.0, \"#0d0887\"], [0.1111111111111111, \"#46039f\"], [0.2222222222222222, \"#7201a8\"], [0.3333333333333333, \"#9c179e\"], [0.4444444444444444, \"#bd3786\"], [0.5555555555555556, \"#d8576b\"], [0.6666666666666666, \"#ed7953\"], [0.7777777777777778, \"#fb9f3a\"], [0.8888888888888888, \"#fdca26\"], [1.0, \"#f0f921\"]], \"type\": \"histogram2d\"}], \"histogram2dcontour\": [{\"colorbar\": {\"outlinewidth\": 0, \"ticks\": \"\"}, \"colorscale\": [[0.0, \"#0d0887\"], [0.1111111111111111, \"#46039f\"], [0.2222222222222222, \"#7201a8\"], [0.3333333333333333, \"#9c179e\"], [0.4444444444444444, \"#bd3786\"], [0.5555555555555556, \"#d8576b\"], [0.6666666666666666, \"#ed7953\"], [0.7777777777777778, \"#fb9f3a\"], [0.8888888888888888, \"#fdca26\"], [1.0, \"#f0f921\"]], \"type\": \"histogram2dcontour\"}], \"mesh3d\": [{\"colorbar\": {\"outlinewidth\": 0, \"ticks\": \"\"}, \"type\": \"mesh3d\"}], \"parcoords\": [{\"line\": {\"colorbar\": {\"outlinewidth\": 0, \"ticks\": \"\"}}, \"type\": \"parcoords\"}], \"pie\": [{\"automargin\": true, \"type\": \"pie\"}], \"scatter\": [{\"marker\": {\"colorbar\": {\"outlinewidth\": 0, \"ticks\": \"\"}}, \"type\": \"scatter\"}], \"scatter3d\": [{\"line\": {\"colorbar\": {\"outlinewidth\": 0, \"ticks\": \"\"}}, \"marker\": {\"colorbar\": {\"outlinewidth\": 0, \"ticks\": \"\"}}, \"type\": \"scatter3d\"}], \"scattercarpet\": [{\"marker\": {\"colorbar\": {\"outlinewidth\": 0, \"ticks\": \"\"}}, \"type\": \"scattercarpet\"}], \"scattergeo\": [{\"marker\": {\"colorbar\": {\"outlinewidth\": 0, \"ticks\": \"\"}}, \"type\": \"scattergeo\"}], \"scattergl\": [{\"marker\": {\"colorbar\": {\"outlinewidth\": 0, \"ticks\": \"\"}}, \"type\": \"scattergl\"}], \"scattermapbox\": [{\"marker\": {\"colorbar\": {\"outlinewidth\": 0, \"ticks\": \"\"}}, \"type\": \"scattermapbox\"}], \"scatterpolar\": [{\"marker\": {\"colorbar\": {\"outlinewidth\": 0, \"ticks\": \"\"}}, \"type\": \"scatterpolar\"}], \"scatterpolargl\": [{\"marker\": {\"colorbar\": {\"outlinewidth\": 0, \"ticks\": \"\"}}, \"type\": \"scatterpolargl\"}], \"scatterternary\": [{\"marker\": {\"colorbar\": {\"outlinewidth\": 0, \"ticks\": \"\"}}, \"type\": \"scatterternary\"}], \"surface\": [{\"colorbar\": {\"outlinewidth\": 0, \"ticks\": \"\"}, \"colorscale\": [[0.0, \"#0d0887\"], [0.1111111111111111, \"#46039f\"], [0.2222222222222222, \"#7201a8\"], [0.3333333333333333, \"#9c179e\"], [0.4444444444444444, \"#bd3786\"], [0.5555555555555556, \"#d8576b\"], [0.6666666666666666, \"#ed7953\"], [0.7777777777777778, \"#fb9f3a\"], [0.8888888888888888, \"#fdca26\"], [1.0, \"#f0f921\"]], \"type\": \"surface\"}], \"table\": [{\"cells\": {\"fill\": {\"color\": \"#EBF0F8\"}, \"line\": {\"color\": \"white\"}}, \"header\": {\"fill\": {\"color\": \"#C8D4E3\"}, \"line\": {\"color\": \"white\"}}, \"type\": \"table\"}]}, \"layout\": {\"annotationdefaults\": {\"arrowcolor\": \"#2a3f5f\", \"arrowhead\": 0, \"arrowwidth\": 1}, \"autotypenumbers\": \"strict\", \"coloraxis\": {\"colorbar\": {\"outlinewidth\": 0, \"ticks\": \"\"}}, \"colorscale\": {\"diverging\": [[0, \"#8e0152\"], [0.1, \"#c51b7d\"], [0.2, \"#de77ae\"], [0.3, \"#f1b6da\"], [0.4, \"#fde0ef\"], [0.5, \"#f7f7f7\"], [0.6, \"#e6f5d0\"], [0.7, \"#b8e186\"], [0.8, \"#7fbc41\"], [0.9, \"#4d9221\"], [1, \"#276419\"]], \"sequential\": [[0.0, \"#0d0887\"], [0.1111111111111111, \"#46039f\"], [0.2222222222222222, \"#7201a8\"], [0.3333333333333333, \"#9c179e\"], [0.4444444444444444, \"#bd3786\"], [0.5555555555555556, \"#d8576b\"], [0.6666666666666666, \"#ed7953\"], [0.7777777777777778, \"#fb9f3a\"], [0.8888888888888888, \"#fdca26\"], [1.0, \"#f0f921\"]], \"sequentialminus\": [[0.0, \"#0d0887\"], [0.1111111111111111, \"#46039f\"], [0.2222222222222222, \"#7201a8\"], [0.3333333333333333, \"#9c179e\"], [0.4444444444444444, \"#bd3786\"], [0.5555555555555556, \"#d8576b\"], [0.6666666666666666, \"#ed7953\"], [0.7777777777777778, \"#fb9f3a\"], [0.8888888888888888, \"#fdca26\"], [1.0, \"#f0f921\"]]}, \"colorway\": [\"#636efa\", \"#EF553B\", \"#00cc96\", \"#ab63fa\", \"#FFA15A\", \"#19d3f3\", \"#FF6692\", \"#B6E880\", \"#FF97FF\", \"#FECB52\"], \"font\": {\"color\": \"#2a3f5f\"}, \"geo\": {\"bgcolor\": \"white\", \"lakecolor\": \"white\", \"landcolor\": \"#E5ECF6\", \"showlakes\": true, \"showland\": true, \"subunitcolor\": \"white\"}, \"hoverlabel\": {\"align\": \"left\"}, \"hovermode\": \"closest\", \"mapbox\": {\"style\": \"light\"}, \"paper_bgcolor\": \"white\", \"plot_bgcolor\": \"#E5ECF6\", \"polar\": {\"angularaxis\": {\"gridcolor\": \"white\", \"linecolor\": \"white\", \"ticks\": \"\"}, \"bgcolor\": \"#E5ECF6\", \"radialaxis\": {\"gridcolor\": \"white\", \"linecolor\": \"white\", \"ticks\": \"\"}}, \"scene\": {\"xaxis\": {\"backgroundcolor\": \"#E5ECF6\", \"gridcolor\": \"white\", \"gridwidth\": 2, \"linecolor\": \"white\", \"showbackground\": true, \"ticks\": \"\", \"zerolinecolor\": \"white\"}, \"yaxis\": {\"backgroundcolor\": \"#E5ECF6\", \"gridcolor\": \"white\", \"gridwidth\": 2, \"linecolor\": \"white\", \"showbackground\": true, \"ticks\": \"\", \"zerolinecolor\": \"white\"}, \"zaxis\": {\"backgroundcolor\": \"#E5ECF6\", \"gridcolor\": \"white\", \"gridwidth\": 2, \"linecolor\": \"white\", \"showbackground\": true, \"ticks\": \"\", \"zerolinecolor\": \"white\"}}, \"shapedefaults\": {\"line\": {\"color\": \"#2a3f5f\"}}, \"ternary\": {\"aaxis\": {\"gridcolor\": \"white\", \"linecolor\": \"white\", \"ticks\": \"\"}, \"baxis\": {\"gridcolor\": \"white\", \"linecolor\": \"white\", \"ticks\": \"\"}, \"bgcolor\": \"#E5ECF6\", \"caxis\": {\"gridcolor\": \"white\", \"linecolor\": \"white\", \"ticks\": \"\"}}, \"title\": {\"x\": 0.05}, \"xaxis\": {\"automargin\": true, \"gridcolor\": \"white\", \"linecolor\": \"white\", \"ticks\": \"\", \"title\": {\"standoff\": 15}, \"zerolinecolor\": \"white\", \"zerolinewidth\": 2}, \"yaxis\": {\"automargin\": true, \"gridcolor\": \"white\", \"linecolor\": \"white\", \"ticks\": \"\", \"title\": {\"standoff\": 15}, \"zerolinecolor\": \"white\", \"zerolinewidth\": 2}}}},                        {\"responsive\": true}                    ).then(function(){\n",
       "                            \n",
       "var gd = document.getElementById('991971b6-6d91-4b12-936d-48767a3dc764');\n",
       "var x = new MutationObserver(function (mutations, observer) {{\n",
       "        var display = window.getComputedStyle(gd).display;\n",
       "        if (!display || display === 'none') {{\n",
       "            console.log([gd, 'removed!']);\n",
       "            Plotly.purge(gd);\n",
       "            observer.disconnect();\n",
       "        }}\n",
       "}});\n",
       "\n",
       "// Listen for the removal of the full notebook cells\n",
       "var notebookContainer = gd.closest('#notebook-container');\n",
       "if (notebookContainer) {{\n",
       "    x.observe(notebookContainer, {childList: true});\n",
       "}}\n",
       "\n",
       "// Listen for the clearing of the current output cell\n",
       "var outputEl = gd.closest('.output');\n",
       "if (outputEl) {{\n",
       "    x.observe(outputEl, {childList: true});\n",
       "}}\n",
       "\n",
       "                        })                };                });            </script>        </div>"
      ]
     },
     "metadata": {},
     "output_type": "display_data"
    }
   ],
   "source": [
    "create_sankey_plot(2)"
   ]
  },
  {
   "cell_type": "code",
   "execution_count": 9,
   "metadata": {},
   "outputs": [
    {
     "name": "stdout",
     "output_type": "stream",
     "text": [
      "Stream: s188 from <Pump: P801> to <Mixer: M1101>\n",
      " phase: 'l', T: 453.59 K, P: 1.01325e+06 Pa\n",
      " flow (kmol/hr): Water    958\n",
      "                 Ethanol  0.00375\n"
     ]
    }
   ],
   "source": [
    "lc.s188."
   ]
  },
  {
   "cell_type": "code",
   "execution_count": null,
   "metadata": {},
   "outputs": [],
   "source": [
    "for i,j in enumerate(lc.unit_groups):\n",
    "    print(i)\n",
    "    j.show()"
   ]
  },
  {
   "cell_type": "code",
   "execution_count": null,
   "metadata": {},
   "outputs": [],
   "source": [
    "lc.M401"
   ]
  },
  {
   "cell_type": "code",
   "execution_count": null,
   "metadata": {},
   "outputs": [],
   "source": [
    "for i in lc.unit_groups[3].units:\n",
    "    print(i.line, i, i.installed_cost / 1e6)"
   ]
  },
  {
   "cell_type": "code",
   "execution_count": null,
   "metadata": {},
   "outputs": [],
   "source": [
    "lc.unit_groups[3].units[0].results()"
   ]
  },
  {
   "cell_type": "code",
   "execution_count": null,
   "metadata": {},
   "outputs": [],
   "source": [
    "for i in lc.unit_groups: i.show()"
   ]
  },
  {
   "cell_type": "code",
   "execution_count": null,
   "metadata": {},
   "outputs": [],
   "source": [
    "sys = sankey_groups[-1].to_system()"
   ]
  },
  {
   "cell_type": "code",
   "execution_count": null,
   "metadata": {},
   "outputs": [],
   "source": [
    "sys"
   ]
  },
  {
   "cell_type": "code",
   "execution_count": null,
   "metadata": {},
   "outputs": [],
   "source": [
    "for i in sankey_groups[-1].units: i.show()"
   ]
  },
  {
   "cell_type": "code",
   "execution_count": null,
   "metadata": {},
   "outputs": [],
   "source": [
    "sankey_groups[1].get_inlet_flow('kg/s')"
   ]
  },
  {
   "cell_type": "code",
   "execution_count": null,
   "metadata": {},
   "outputs": [],
   "source": [
    "sankey_groups[1].get_outlet_flow('kg/s')"
   ]
  },
  {
   "cell_type": "code",
   "execution_count": null,
   "metadata": {},
   "outputs": [],
   "source": []
  }
 ],
 "metadata": {
  "kernelspec": {
   "display_name": "Python 3",
   "language": "python",
   "name": "python3"
  },
  "language_info": {
   "codemirror_mode": {
    "name": "ipython",
    "version": 3
   },
   "file_extension": ".py",
   "mimetype": "text/x-python",
   "name": "python",
   "nbconvert_exporter": "python",
   "pygments_lexer": "ipython3",
   "version": "3.8.5"
  }
 },
 "nbformat": 4,
 "nbformat_minor": 4
}
