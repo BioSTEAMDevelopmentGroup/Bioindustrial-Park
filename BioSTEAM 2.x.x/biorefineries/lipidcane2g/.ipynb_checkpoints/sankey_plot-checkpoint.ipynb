{
 "cells": [
  {
   "cell_type": "code",
   "execution_count": 7,
   "metadata": {},
   "outputs": [
    {
     "name": "stdout",
     "output_type": "stream",
     "text": [
      "Using matplotlib backend: Qt5Agg\n"
     ]
    }
   ],
   "source": [
    "%matplotlib\n",
    "from biorefineries import lipidcane2g as lc\n",
    "import biosteam as bst\n",
    "from biosteam.plots import sankey\n",
    "from biosteam.utils import colors, CABBI_colors\n",
    "from colorpalette import ColorWheel\n",
    "\n",
    "stream_colors = ColorWheel(\n",
    "    [CABBI_colors.grey.tint(30),\n",
    "     CABBI_colors.yellow.tint(10).shade(10),\n",
    "     CABBI_colors.yellow.shade(15),\n",
    "     CABBI_colors.orange.shade(15),\n",
    "     CABBI_colors.orange.shade(25)]\n",
    ")\n",
    "\n",
    "class NodeHandle(sankey.Handle):\n",
    "    __slots__ = ('node_colors',)\n",
    "\n",
    "    def _init(self, node_colors):\n",
    "        self.node_colors = node_colors\n",
    "    \n",
    "    def process_color(self, units, index):\n",
    "        color = self.node_colors[index]\n",
    "        RGB = color.RGB\n",
    "        return \"rgba(%d, %d, %d, 1.0)\" %tuple(RGB)\n",
    "\n",
    "\n",
    "class LipidColorHandle(sankey.Handle): \n",
    "    __slots__ = ()\n",
    "    \n",
    "    def stream_chemical_composition(self, stream):\n",
    "        return stream.imass['Lipid'] / stream.F_mass\n",
    "    \n",
    "    def chemical_composition_color(self, chemical_composition):\n",
    "        return stream_colors.interpolate(chemical_composition)\n",
    "                \n",
    "    def stream_color(self, stream):\n",
    "        composition = self.stream_chemical_composition(stream)\n",
    "        RGB = self.chemical_composition_color(composition).RGB\n",
    "        return \"rgba(%d, %d, %d, 1.0)\" %tuple(RGB)\n",
    "\n",
    "    def stream_colorbar(self, N_levels=25, orientation='vertical'):\n",
    "        return bst.plots.color_bar([i.RGBn for i in stream_colors.colors],\n",
    "                                   label=f'Lipid [wt. %]',\n",
    "                                   vmin=0, vmax=100, N_levels=25,\n",
    "                                   orientation=orientation)\n",
    "\n",
    "class LipidHandle(LipidColorHandle, sankey.MassStreamHandle, NodeHandle):\n",
    "    __slots__ = ()\n",
    "\n",
    "\n",
    "@bst.utils.piping.ignore_docking_warnings\n",
    "def create_sankey_plot(name):\n",
    "    lc.load(name)\n",
    "    if name == 'L1':\n",
    "        loaded = getattr(lc, 'loaded_1', False)\n",
    "        feedstock_handling, *sankey_groups, CHP, utilities, hxn, storage = lc.unit_groups\n",
    "        lc.pressed_bagasse.ID = 'bagasse'\n",
    "    elif name == 'L2':\n",
    "        loaded = getattr(lc, 'loaded_2', False)\n",
    "        feedstock_handling, *sankey_groups, wastewater, oil_ext, CHP, biod_prod, utilities, hxn, storage = lc.unit_groups\n",
    "        sankey_groups += [oil_ext, biod_prod]\n",
    "    else:\n",
    "        raise ValueError('name is invalid')\n",
    "    if not loaded:\n",
    "        lc.shredded_cane.ID = 'lipidcane'\n",
    "        lc.rvf_wash_water.ID = 'RVF_wash_water'\n",
    "        for i in storage.units: \n",
    "            if 'storage' in i.line.lower():\n",
    "                i.replace_with()\n",
    "        if name == 'L1':\n",
    "            for i in sankey_groups:\n",
    "                if 'EtOH prod.' in i.name:\n",
    "                    MXX = bst.Mixer('MXX',\n",
    "                                   (lc.evaporator_condensate, lc.stripper_bottoms_product),\n",
    "                                   'recycle_process_water')\n",
    "                    MXX.simulate()\n",
    "                    i.units.append(MXX)\n",
    "                    break\n",
    "            lc.waste.ID = 'wastewater'\n",
    "            lc.loaded_1 = True\n",
    "        elif name == 'L2':\n",
    "            for i in sankey_groups:\n",
    "                if 'Oil ext.' in i.name:\n",
    "                    wastewater = lc.wastewater\n",
    "                    wastewater.ID = ''\n",
    "                    MX = bst.Mixer('MX1',\n",
    "                                   (lc.spent_wash_water, wastewater),\n",
    "                                   'wastewater')\n",
    "                    MX.simulate()\n",
    "                    i.units.append(MX)\n",
    "                elif 'EtOH prod.' in i.name:\n",
    "                    MX = bst.Mixer('MX2',\n",
    "                                   (lc.E401.outs[1], lc.P404.outs[0]),\n",
    "                                   'recycle_process_water')\n",
    "                    MX.simulate()\n",
    "                    i.units.append(MX)\n",
    "            lc.loaded_2 = True\n",
    "            lc.U601.outs[0].ID = 'lignin'\n",
    "            lc.evaporator_condensate._ID = 'recycle_process_water'\n",
    "            lc.waste.ID = lc.pretreatment_wastewater.ID = 'wastewater'\n",
    "    #         lc.warm_process_water.ID = 'process_water'\n",
    "    #         lc.P601.outs[0].ID = 'recycle_process_water'\n",
    "    ignored = []\n",
    "#     if name == 1:\n",
    "#         ignored = [lc.H604.ins[0]]\n",
    "#     elif name == 2:\n",
    "#         ignored = [lc.H804.ins[0], lc.U601.ins[1]]\n",
    "\n",
    "    sankey_installed_cost = {u.name: sum([i.installed_cost for i in u.units]) for u in sankey_groups}\n",
    "    max_installed_cost_of_groups = max(sankey_installed_cost.values())\n",
    "    handle = LipidHandle(\n",
    "        max_feeds=20, max_products=20,\n",
    "        ignore=ignored,\n",
    "        node_colors=[lc.area_colors[i.name] for i in sankey_groups],\n",
    "    )\n",
    "    nodes = handle.nodes(sankey_groups)\n",
    "    data = handle.sankey_data(nodes)\n",
    "    fig = handle.sankey_figure(nodes)\n",
    "    fig.show()\n",
    "    dct = globals()\n",
    "    dct.update(locals())"
   ]
  },
  {
   "cell_type": "code",
   "execution_count": null,
   "metadata": {},
   "outputs": [],
   "source": [
    "lc.s93.show()\n",
    "lc.s33.show()"
   ]
  },
  {
   "cell_type": "code",
   "execution_count": 5,
   "metadata": {},
   "outputs": [
    {
     "name": "stderr",
     "output_type": "stream",
     "text": [
      "C:\\Users\\yrc2\\OneDrive\\Code\\thermosteam\\thermosteam\\utils\\registry.py:90: RuntimeWarning:\n",
      "\n",
      "upon renaming, <Stream: bagasse> replaced <Stream: bagasse> in registry\n",
      "\n"
     ]
    },
    {
     "data": {
      "application/vnd.plotly.v1+json": {
       "config": {
        "plotlyServerURL": "https://plot.ly"
       },
       "data": [
        {
         "link": {
          "color": [
           "rgba(233, 225, 201, 1.0)",
           "rgba(233, 229, 222, 1.0)",
           "rgba(233, 227, 211, 1.0)",
           "rgba(197, 143, 14, 1.0)",
           "rgba(234, 231, 229, 1.0)",
           "rgba(234, 231, 229, 1.0)",
           "rgba(234, 231, 229, 1.0)",
           "rgba(234, 231, 229, 1.0)",
           "rgba(234, 231, 229, 1.0)",
           "rgba(234, 231, 229, 1.0)",
           "rgba(234, 231, 229, 1.0)",
           "rgba(234, 231, 229, 1.0)",
           "rgba(234, 231, 229, 1.0)",
           "rgba(234, 231, 229, 1.0)",
           "rgba(233, 227, 211, 1.0)",
           "rgba(234, 231, 229, 1.0)",
           "rgba(234, 231, 229, 1.0)",
           "rgba(234, 231, 229, 1.0)",
           "rgba(234, 231, 229, 1.0)",
           "rgba(234, 231, 229, 1.0)",
           "rgba(234, 231, 229, 1.0)",
           "rgba(234, 231, 229, 1.0)",
           "rgba(234, 231, 229, 1.0)",
           "rgba(234, 231, 229, 1.0)",
           "rgba(234, 231, 229, 1.0)",
           "rgba(214, 166, 33, 1.0)",
           "rgba(189, 138, 14, 1.0)",
           "rgba(234, 231, 229, 1.0)",
           "rgba(234, 231, 229, 1.0)",
           "rgba(234, 231, 229, 1.0)",
           "rgba(233, 225, 204, 1.0)",
           "rgba(234, 231, 229, 1.0)",
           "rgba(234, 231, 229, 1.0)",
           "rgba(234, 231, 229, 1.0)",
           "rgba(233, 230, 227, 1.0)",
           "rgba(233, 230, 225, 1.0)",
           "rgba(234, 231, 229, 1.0)",
           "rgba(234, 231, 229, 1.0)",
           "rgba(234, 231, 229, 1.0)"
          ],
          "source": [
           0,
           0,
           1,
           2,
           4,
           5,
           6,
           7,
           8,
           9,
           10,
           11,
           12,
           13,
           14,
           15,
           16,
           17,
           18,
           19,
           20,
           21,
           1,
           3,
           3,
           3,
           3,
           2,
           2,
           1,
           2,
           1,
           1,
           1,
           2,
           0,
           3,
           2,
           0
          ],
          "target": [
           2,
           1,
           2,
           3,
           0,
           1,
           0,
           3,
           3,
           3,
           3,
           3,
           2,
           2,
           0,
           0,
           0,
           1,
           0,
           0,
           3,
           3,
           22,
           23,
           24,
           25,
           26,
           27,
           28,
           29,
           30,
           31,
           32,
           33,
           34,
           35,
           36,
           37,
           38
          ],
          "value": [
           143734.7929363246,
           263744.25437113957,
           94462.04326861945,
           6953.03803921367,
           999.9974040067494,
           253.64043971719408,
           333.333334,
           32.04186,
           1,
           193.3001810194551,
           0.3553451999620555,
           0.03985617707713043,
           91144.76869726935,
           -186.7008607665963,
           333333.334,
           166.666667,
           0.83,
           26836,
           73.27240594590432,
           83333.3335,
           7.71138824040186,
           4858.579010311605,
           11783.102573156737,
           6106.20950128529,
           966.3722070277717,
           90.63450872765905,
           323.3515006467029,
           150329.68343575596,
           -931.4997885492634,
           2924.8462196073883,
           80480.11074783801,
           11412.447009624668,
           159941.6506567095,
           10687.89038778126,
           9927.22150549551,
           526.2025872437613,
           56.65939135982403,
           81651.55117391028,
           10081.670580155207
          ]
         },
         "node": {
          "color": [
           "rgba(164, 189, 100, 1.0)",
           "rgba(155, 216, 217, 1.0)",
           "rgba(172, 159, 139, 1.0)",
           "rgba(252, 198, 66, 1.0)",
           "rgba(234, 231, 229, 1.0)",
           "rgba(234, 231, 229, 1.0)",
           "rgba(234, 231, 229, 1.0)",
           "rgba(234, 231, 229, 1.0)",
           "rgba(234, 231, 229, 1.0)",
           "rgba(234, 231, 229, 1.0)",
           "rgba(234, 231, 229, 1.0)",
           "rgba(234, 231, 229, 1.0)",
           "rgba(234, 231, 229, 1.0)",
           "rgba(234, 231, 229, 1.0)",
           "rgba(233, 227, 211, 1.0)",
           "rgba(234, 231, 229, 1.0)",
           "rgba(234, 231, 229, 1.0)",
           "rgba(234, 231, 229, 1.0)",
           "rgba(234, 231, 229, 1.0)",
           "rgba(234, 231, 229, 1.0)",
           "rgba(234, 231, 229, 1.0)",
           "rgba(234, 231, 229, 1.0)",
           "rgba(234, 231, 229, 1.0)",
           "rgba(234, 231, 229, 1.0)",
           "rgba(234, 231, 229, 1.0)",
           "rgba(214, 166, 33, 1.0)",
           "rgba(189, 138, 14, 1.0)",
           "rgba(234, 231, 229, 1.0)",
           "rgba(234, 231, 229, 1.0)",
           "rgba(234, 231, 229, 1.0)",
           "rgba(233, 225, 204, 1.0)",
           "rgba(234, 231, 229, 1.0)",
           "rgba(234, 231, 229, 1.0)",
           "rgba(234, 231, 229, 1.0)",
           "rgba(233, 230, 227, 1.0)",
           "rgba(233, 230, 225, 1.0)",
           "rgba(234, 231, 229, 1.0)",
           "rgba(234, 231, 229, 1.0)",
           "rgba(234, 231, 229, 1.0)"
          ],
          "label": [
           "Juicing",
           "EtOH prod.",
           "Oil ext.",
           "Biod. prod.",
           "enzyme",
           "denaturant",
           "lime",
           "methanol",
           "catalyst",
           "biodiesel wash water",
           "HCl",
           "NaOH",
           "dryer air",
           "dryer natural gas",
           "lipidcane",
           "H3PO4",
           "polymer",
           "stripping water",
           "RVF wash water",
           "imbibition water",
           "N2",
           "pure glycerine",
           "ethanol",
           "biodiesel",
           "crude glycerol",
           "wastewater",
           "polar lipids",
           "dryer outlet air",
           "dryer emissions",
           "Yeast",
           "bagasse",
           "s32",
           "s33",
           "vent",
           "vinasse",
           "fiber fines",
           "s93",
           "s66",
           "filter cake"
          ]
         },
         "type": "sankey"
        }
       ],
       "layout": {
        "template": {
         "data": {
          "bar": [
           {
            "error_x": {
             "color": "#2a3f5f"
            },
            "error_y": {
             "color": "#2a3f5f"
            },
            "marker": {
             "line": {
              "color": "#E5ECF6",
              "width": 0.5
             }
            },
            "type": "bar"
           }
          ],
          "barpolar": [
           {
            "marker": {
             "line": {
              "color": "#E5ECF6",
              "width": 0.5
             }
            },
            "type": "barpolar"
           }
          ],
          "carpet": [
           {
            "aaxis": {
             "endlinecolor": "#2a3f5f",
             "gridcolor": "white",
             "linecolor": "white",
             "minorgridcolor": "white",
             "startlinecolor": "#2a3f5f"
            },
            "baxis": {
             "endlinecolor": "#2a3f5f",
             "gridcolor": "white",
             "linecolor": "white",
             "minorgridcolor": "white",
             "startlinecolor": "#2a3f5f"
            },
            "type": "carpet"
           }
          ],
          "choropleth": [
           {
            "colorbar": {
             "outlinewidth": 0,
             "ticks": ""
            },
            "type": "choropleth"
           }
          ],
          "contour": [
           {
            "colorbar": {
             "outlinewidth": 0,
             "ticks": ""
            },
            "colorscale": [
             [
              0,
              "#0d0887"
             ],
             [
              0.1111111111111111,
              "#46039f"
             ],
             [
              0.2222222222222222,
              "#7201a8"
             ],
             [
              0.3333333333333333,
              "#9c179e"
             ],
             [
              0.4444444444444444,
              "#bd3786"
             ],
             [
              0.5555555555555556,
              "#d8576b"
             ],
             [
              0.6666666666666666,
              "#ed7953"
             ],
             [
              0.7777777777777778,
              "#fb9f3a"
             ],
             [
              0.8888888888888888,
              "#fdca26"
             ],
             [
              1,
              "#f0f921"
             ]
            ],
            "type": "contour"
           }
          ],
          "contourcarpet": [
           {
            "colorbar": {
             "outlinewidth": 0,
             "ticks": ""
            },
            "type": "contourcarpet"
           }
          ],
          "heatmap": [
           {
            "colorbar": {
             "outlinewidth": 0,
             "ticks": ""
            },
            "colorscale": [
             [
              0,
              "#0d0887"
             ],
             [
              0.1111111111111111,
              "#46039f"
             ],
             [
              0.2222222222222222,
              "#7201a8"
             ],
             [
              0.3333333333333333,
              "#9c179e"
             ],
             [
              0.4444444444444444,
              "#bd3786"
             ],
             [
              0.5555555555555556,
              "#d8576b"
             ],
             [
              0.6666666666666666,
              "#ed7953"
             ],
             [
              0.7777777777777778,
              "#fb9f3a"
             ],
             [
              0.8888888888888888,
              "#fdca26"
             ],
             [
              1,
              "#f0f921"
             ]
            ],
            "type": "heatmap"
           }
          ],
          "heatmapgl": [
           {
            "colorbar": {
             "outlinewidth": 0,
             "ticks": ""
            },
            "colorscale": [
             [
              0,
              "#0d0887"
             ],
             [
              0.1111111111111111,
              "#46039f"
             ],
             [
              0.2222222222222222,
              "#7201a8"
             ],
             [
              0.3333333333333333,
              "#9c179e"
             ],
             [
              0.4444444444444444,
              "#bd3786"
             ],
             [
              0.5555555555555556,
              "#d8576b"
             ],
             [
              0.6666666666666666,
              "#ed7953"
             ],
             [
              0.7777777777777778,
              "#fb9f3a"
             ],
             [
              0.8888888888888888,
              "#fdca26"
             ],
             [
              1,
              "#f0f921"
             ]
            ],
            "type": "heatmapgl"
           }
          ],
          "histogram": [
           {
            "marker": {
             "colorbar": {
              "outlinewidth": 0,
              "ticks": ""
             }
            },
            "type": "histogram"
           }
          ],
          "histogram2d": [
           {
            "colorbar": {
             "outlinewidth": 0,
             "ticks": ""
            },
            "colorscale": [
             [
              0,
              "#0d0887"
             ],
             [
              0.1111111111111111,
              "#46039f"
             ],
             [
              0.2222222222222222,
              "#7201a8"
             ],
             [
              0.3333333333333333,
              "#9c179e"
             ],
             [
              0.4444444444444444,
              "#bd3786"
             ],
             [
              0.5555555555555556,
              "#d8576b"
             ],
             [
              0.6666666666666666,
              "#ed7953"
             ],
             [
              0.7777777777777778,
              "#fb9f3a"
             ],
             [
              0.8888888888888888,
              "#fdca26"
             ],
             [
              1,
              "#f0f921"
             ]
            ],
            "type": "histogram2d"
           }
          ],
          "histogram2dcontour": [
           {
            "colorbar": {
             "outlinewidth": 0,
             "ticks": ""
            },
            "colorscale": [
             [
              0,
              "#0d0887"
             ],
             [
              0.1111111111111111,
              "#46039f"
             ],
             [
              0.2222222222222222,
              "#7201a8"
             ],
             [
              0.3333333333333333,
              "#9c179e"
             ],
             [
              0.4444444444444444,
              "#bd3786"
             ],
             [
              0.5555555555555556,
              "#d8576b"
             ],
             [
              0.6666666666666666,
              "#ed7953"
             ],
             [
              0.7777777777777778,
              "#fb9f3a"
             ],
             [
              0.8888888888888888,
              "#fdca26"
             ],
             [
              1,
              "#f0f921"
             ]
            ],
            "type": "histogram2dcontour"
           }
          ],
          "mesh3d": [
           {
            "colorbar": {
             "outlinewidth": 0,
             "ticks": ""
            },
            "type": "mesh3d"
           }
          ],
          "parcoords": [
           {
            "line": {
             "colorbar": {
              "outlinewidth": 0,
              "ticks": ""
             }
            },
            "type": "parcoords"
           }
          ],
          "pie": [
           {
            "automargin": true,
            "type": "pie"
           }
          ],
          "scatter": [
           {
            "marker": {
             "colorbar": {
              "outlinewidth": 0,
              "ticks": ""
             }
            },
            "type": "scatter"
           }
          ],
          "scatter3d": [
           {
            "line": {
             "colorbar": {
              "outlinewidth": 0,
              "ticks": ""
             }
            },
            "marker": {
             "colorbar": {
              "outlinewidth": 0,
              "ticks": ""
             }
            },
            "type": "scatter3d"
           }
          ],
          "scattercarpet": [
           {
            "marker": {
             "colorbar": {
              "outlinewidth": 0,
              "ticks": ""
             }
            },
            "type": "scattercarpet"
           }
          ],
          "scattergeo": [
           {
            "marker": {
             "colorbar": {
              "outlinewidth": 0,
              "ticks": ""
             }
            },
            "type": "scattergeo"
           }
          ],
          "scattergl": [
           {
            "marker": {
             "colorbar": {
              "outlinewidth": 0,
              "ticks": ""
             }
            },
            "type": "scattergl"
           }
          ],
          "scattermapbox": [
           {
            "marker": {
             "colorbar": {
              "outlinewidth": 0,
              "ticks": ""
             }
            },
            "type": "scattermapbox"
           }
          ],
          "scatterpolar": [
           {
            "marker": {
             "colorbar": {
              "outlinewidth": 0,
              "ticks": ""
             }
            },
            "type": "scatterpolar"
           }
          ],
          "scatterpolargl": [
           {
            "marker": {
             "colorbar": {
              "outlinewidth": 0,
              "ticks": ""
             }
            },
            "type": "scatterpolargl"
           }
          ],
          "scatterternary": [
           {
            "marker": {
             "colorbar": {
              "outlinewidth": 0,
              "ticks": ""
             }
            },
            "type": "scatterternary"
           }
          ],
          "surface": [
           {
            "colorbar": {
             "outlinewidth": 0,
             "ticks": ""
            },
            "colorscale": [
             [
              0,
              "#0d0887"
             ],
             [
              0.1111111111111111,
              "#46039f"
             ],
             [
              0.2222222222222222,
              "#7201a8"
             ],
             [
              0.3333333333333333,
              "#9c179e"
             ],
             [
              0.4444444444444444,
              "#bd3786"
             ],
             [
              0.5555555555555556,
              "#d8576b"
             ],
             [
              0.6666666666666666,
              "#ed7953"
             ],
             [
              0.7777777777777778,
              "#fb9f3a"
             ],
             [
              0.8888888888888888,
              "#fdca26"
             ],
             [
              1,
              "#f0f921"
             ]
            ],
            "type": "surface"
           }
          ],
          "table": [
           {
            "cells": {
             "fill": {
              "color": "#EBF0F8"
             },
             "line": {
              "color": "white"
             }
            },
            "header": {
             "fill": {
              "color": "#C8D4E3"
             },
             "line": {
              "color": "white"
             }
            },
            "type": "table"
           }
          ]
         },
         "layout": {
          "annotationdefaults": {
           "arrowcolor": "#2a3f5f",
           "arrowhead": 0,
           "arrowwidth": 1
          },
          "autotypenumbers": "strict",
          "coloraxis": {
           "colorbar": {
            "outlinewidth": 0,
            "ticks": ""
           }
          },
          "colorscale": {
           "diverging": [
            [
             0,
             "#8e0152"
            ],
            [
             0.1,
             "#c51b7d"
            ],
            [
             0.2,
             "#de77ae"
            ],
            [
             0.3,
             "#f1b6da"
            ],
            [
             0.4,
             "#fde0ef"
            ],
            [
             0.5,
             "#f7f7f7"
            ],
            [
             0.6,
             "#e6f5d0"
            ],
            [
             0.7,
             "#b8e186"
            ],
            [
             0.8,
             "#7fbc41"
            ],
            [
             0.9,
             "#4d9221"
            ],
            [
             1,
             "#276419"
            ]
           ],
           "sequential": [
            [
             0,
             "#0d0887"
            ],
            [
             0.1111111111111111,
             "#46039f"
            ],
            [
             0.2222222222222222,
             "#7201a8"
            ],
            [
             0.3333333333333333,
             "#9c179e"
            ],
            [
             0.4444444444444444,
             "#bd3786"
            ],
            [
             0.5555555555555556,
             "#d8576b"
            ],
            [
             0.6666666666666666,
             "#ed7953"
            ],
            [
             0.7777777777777778,
             "#fb9f3a"
            ],
            [
             0.8888888888888888,
             "#fdca26"
            ],
            [
             1,
             "#f0f921"
            ]
           ],
           "sequentialminus": [
            [
             0,
             "#0d0887"
            ],
            [
             0.1111111111111111,
             "#46039f"
            ],
            [
             0.2222222222222222,
             "#7201a8"
            ],
            [
             0.3333333333333333,
             "#9c179e"
            ],
            [
             0.4444444444444444,
             "#bd3786"
            ],
            [
             0.5555555555555556,
             "#d8576b"
            ],
            [
             0.6666666666666666,
             "#ed7953"
            ],
            [
             0.7777777777777778,
             "#fb9f3a"
            ],
            [
             0.8888888888888888,
             "#fdca26"
            ],
            [
             1,
             "#f0f921"
            ]
           ]
          },
          "colorway": [
           "#636efa",
           "#EF553B",
           "#00cc96",
           "#ab63fa",
           "#FFA15A",
           "#19d3f3",
           "#FF6692",
           "#B6E880",
           "#FF97FF",
           "#FECB52"
          ],
          "font": {
           "color": "#2a3f5f"
          },
          "geo": {
           "bgcolor": "white",
           "lakecolor": "white",
           "landcolor": "#E5ECF6",
           "showlakes": true,
           "showland": true,
           "subunitcolor": "white"
          },
          "hoverlabel": {
           "align": "left"
          },
          "hovermode": "closest",
          "mapbox": {
           "style": "light"
          },
          "paper_bgcolor": "white",
          "plot_bgcolor": "#E5ECF6",
          "polar": {
           "angularaxis": {
            "gridcolor": "white",
            "linecolor": "white",
            "ticks": ""
           },
           "bgcolor": "#E5ECF6",
           "radialaxis": {
            "gridcolor": "white",
            "linecolor": "white",
            "ticks": ""
           }
          },
          "scene": {
           "xaxis": {
            "backgroundcolor": "#E5ECF6",
            "gridcolor": "white",
            "gridwidth": 2,
            "linecolor": "white",
            "showbackground": true,
            "ticks": "",
            "zerolinecolor": "white"
           },
           "yaxis": {
            "backgroundcolor": "#E5ECF6",
            "gridcolor": "white",
            "gridwidth": 2,
            "linecolor": "white",
            "showbackground": true,
            "ticks": "",
            "zerolinecolor": "white"
           },
           "zaxis": {
            "backgroundcolor": "#E5ECF6",
            "gridcolor": "white",
            "gridwidth": 2,
            "linecolor": "white",
            "showbackground": true,
            "ticks": "",
            "zerolinecolor": "white"
           }
          },
          "shapedefaults": {
           "line": {
            "color": "#2a3f5f"
           }
          },
          "ternary": {
           "aaxis": {
            "gridcolor": "white",
            "linecolor": "white",
            "ticks": ""
           },
           "baxis": {
            "gridcolor": "white",
            "linecolor": "white",
            "ticks": ""
           },
           "bgcolor": "#E5ECF6",
           "caxis": {
            "gridcolor": "white",
            "linecolor": "white",
            "ticks": ""
           }
          },
          "title": {
           "x": 0.05
          },
          "xaxis": {
           "automargin": true,
           "gridcolor": "white",
           "linecolor": "white",
           "ticks": "",
           "title": {
            "standoff": 15
           },
           "zerolinecolor": "white",
           "zerolinewidth": 2
          },
          "yaxis": {
           "automargin": true,
           "gridcolor": "white",
           "linecolor": "white",
           "ticks": "",
           "title": {
            "standoff": 15
           },
           "zerolinecolor": "white",
           "zerolinewidth": 2
          }
         }
        }
       }
      },
      "text/html": [
       "<div>                            <div id=\"22b41a48-4f06-483c-b151-6da8c1c61a66\" class=\"plotly-graph-div\" style=\"height:525px; width:100%;\"></div>            <script type=\"text/javascript\">                require([\"plotly\"], function(Plotly) {                    window.PLOTLYENV=window.PLOTLYENV || {};                                    if (document.getElementById(\"22b41a48-4f06-483c-b151-6da8c1c61a66\")) {                    Plotly.newPlot(                        \"22b41a48-4f06-483c-b151-6da8c1c61a66\",                        [{\"link\": {\"color\": [\"rgba(233, 225, 201, 1.0)\", \"rgba(233, 229, 222, 1.0)\", \"rgba(233, 227, 211, 1.0)\", \"rgba(197, 143, 14, 1.0)\", \"rgba(234, 231, 229, 1.0)\", \"rgba(234, 231, 229, 1.0)\", \"rgba(234, 231, 229, 1.0)\", \"rgba(234, 231, 229, 1.0)\", \"rgba(234, 231, 229, 1.0)\", \"rgba(234, 231, 229, 1.0)\", \"rgba(234, 231, 229, 1.0)\", \"rgba(234, 231, 229, 1.0)\", \"rgba(234, 231, 229, 1.0)\", \"rgba(234, 231, 229, 1.0)\", \"rgba(233, 227, 211, 1.0)\", \"rgba(234, 231, 229, 1.0)\", \"rgba(234, 231, 229, 1.0)\", \"rgba(234, 231, 229, 1.0)\", \"rgba(234, 231, 229, 1.0)\", \"rgba(234, 231, 229, 1.0)\", \"rgba(234, 231, 229, 1.0)\", \"rgba(234, 231, 229, 1.0)\", \"rgba(234, 231, 229, 1.0)\", \"rgba(234, 231, 229, 1.0)\", \"rgba(234, 231, 229, 1.0)\", \"rgba(214, 166, 33, 1.0)\", \"rgba(189, 138, 14, 1.0)\", \"rgba(234, 231, 229, 1.0)\", \"rgba(234, 231, 229, 1.0)\", \"rgba(234, 231, 229, 1.0)\", \"rgba(233, 225, 204, 1.0)\", \"rgba(234, 231, 229, 1.0)\", \"rgba(234, 231, 229, 1.0)\", \"rgba(234, 231, 229, 1.0)\", \"rgba(233, 230, 227, 1.0)\", \"rgba(233, 230, 225, 1.0)\", \"rgba(234, 231, 229, 1.0)\", \"rgba(234, 231, 229, 1.0)\", \"rgba(234, 231, 229, 1.0)\"], \"source\": [0, 0, 1, 2, 4, 5, 6, 7, 8, 9, 10, 11, 12, 13, 14, 15, 16, 17, 18, 19, 20, 21, 1, 3, 3, 3, 3, 2, 2, 1, 2, 1, 1, 1, 2, 0, 3, 2, 0], \"target\": [2, 1, 2, 3, 0, 1, 0, 3, 3, 3, 3, 3, 2, 2, 0, 0, 0, 1, 0, 0, 3, 3, 22, 23, 24, 25, 26, 27, 28, 29, 30, 31, 32, 33, 34, 35, 36, 37, 38], \"value\": [143734.7929363246, 263744.25437113957, 94462.04326861945, 6953.03803921367, 999.9974040067494, 253.64043971719408, 333.333334, 32.04186, 1.0, 193.3001810194551, 0.3553451999620555, 0.03985617707713043, 91144.76869726935, -186.7008607665963, 333333.334, 166.666667, 0.83, 26836.0, 73.27240594590432, 83333.3335, 7.71138824040186, 4858.579010311605, 11783.102573156737, 6106.20950128529, 966.3722070277717, 90.63450872765905, 323.3515006467029, 150329.68343575596, -931.4997885492634, 2924.8462196073883, 80480.11074783801, 11412.447009624668, 159941.6506567095, 10687.89038778126, 9927.22150549551, 526.2025872437613, 56.65939135982403, 81651.55117391028, 10081.670580155207]}, \"node\": {\"color\": [\"rgba(164, 189, 100, 1.0)\", \"rgba(155, 216, 217, 1.0)\", \"rgba(172, 159, 139, 1.0)\", \"rgba(252, 198, 66, 1.0)\", \"rgba(234, 231, 229, 1.0)\", \"rgba(234, 231, 229, 1.0)\", \"rgba(234, 231, 229, 1.0)\", \"rgba(234, 231, 229, 1.0)\", \"rgba(234, 231, 229, 1.0)\", \"rgba(234, 231, 229, 1.0)\", \"rgba(234, 231, 229, 1.0)\", \"rgba(234, 231, 229, 1.0)\", \"rgba(234, 231, 229, 1.0)\", \"rgba(234, 231, 229, 1.0)\", \"rgba(233, 227, 211, 1.0)\", \"rgba(234, 231, 229, 1.0)\", \"rgba(234, 231, 229, 1.0)\", \"rgba(234, 231, 229, 1.0)\", \"rgba(234, 231, 229, 1.0)\", \"rgba(234, 231, 229, 1.0)\", \"rgba(234, 231, 229, 1.0)\", \"rgba(234, 231, 229, 1.0)\", \"rgba(234, 231, 229, 1.0)\", \"rgba(234, 231, 229, 1.0)\", \"rgba(234, 231, 229, 1.0)\", \"rgba(214, 166, 33, 1.0)\", \"rgba(189, 138, 14, 1.0)\", \"rgba(234, 231, 229, 1.0)\", \"rgba(234, 231, 229, 1.0)\", \"rgba(234, 231, 229, 1.0)\", \"rgba(233, 225, 204, 1.0)\", \"rgba(234, 231, 229, 1.0)\", \"rgba(234, 231, 229, 1.0)\", \"rgba(234, 231, 229, 1.0)\", \"rgba(233, 230, 227, 1.0)\", \"rgba(233, 230, 225, 1.0)\", \"rgba(234, 231, 229, 1.0)\", \"rgba(234, 231, 229, 1.0)\", \"rgba(234, 231, 229, 1.0)\"], \"label\": [\"Juicing\", \"EtOH prod.\", \"Oil ext.\", \"Biod. prod.\", \"enzyme\", \"denaturant\", \"lime\", \"methanol\", \"catalyst\", \"biodiesel wash water\", \"HCl\", \"NaOH\", \"dryer air\", \"dryer natural gas\", \"lipidcane\", \"H3PO4\", \"polymer\", \"stripping water\", \"RVF wash water\", \"imbibition water\", \"N2\", \"pure glycerine\", \"ethanol\", \"biodiesel\", \"crude glycerol\", \"wastewater\", \"polar lipids\", \"dryer outlet air\", \"dryer emissions\", \"Yeast\", \"bagasse\", \"s32\", \"s33\", \"vent\", \"vinasse\", \"fiber fines\", \"s93\", \"s66\", \"filter cake\"]}, \"type\": \"sankey\"}],                        {\"template\": {\"data\": {\"bar\": [{\"error_x\": {\"color\": \"#2a3f5f\"}, \"error_y\": {\"color\": \"#2a3f5f\"}, \"marker\": {\"line\": {\"color\": \"#E5ECF6\", \"width\": 0.5}}, \"type\": \"bar\"}], \"barpolar\": [{\"marker\": {\"line\": {\"color\": \"#E5ECF6\", \"width\": 0.5}}, \"type\": \"barpolar\"}], \"carpet\": [{\"aaxis\": {\"endlinecolor\": \"#2a3f5f\", \"gridcolor\": \"white\", \"linecolor\": \"white\", \"minorgridcolor\": \"white\", \"startlinecolor\": \"#2a3f5f\"}, \"baxis\": {\"endlinecolor\": \"#2a3f5f\", \"gridcolor\": \"white\", \"linecolor\": \"white\", \"minorgridcolor\": \"white\", \"startlinecolor\": \"#2a3f5f\"}, \"type\": \"carpet\"}], \"choropleth\": [{\"colorbar\": {\"outlinewidth\": 0, \"ticks\": \"\"}, \"type\": \"choropleth\"}], \"contour\": [{\"colorbar\": {\"outlinewidth\": 0, \"ticks\": \"\"}, \"colorscale\": [[0.0, \"#0d0887\"], [0.1111111111111111, \"#46039f\"], [0.2222222222222222, \"#7201a8\"], [0.3333333333333333, \"#9c179e\"], [0.4444444444444444, \"#bd3786\"], [0.5555555555555556, \"#d8576b\"], [0.6666666666666666, \"#ed7953\"], [0.7777777777777778, \"#fb9f3a\"], [0.8888888888888888, \"#fdca26\"], [1.0, \"#f0f921\"]], \"type\": \"contour\"}], \"contourcarpet\": [{\"colorbar\": {\"outlinewidth\": 0, \"ticks\": \"\"}, \"type\": \"contourcarpet\"}], \"heatmap\": [{\"colorbar\": {\"outlinewidth\": 0, \"ticks\": \"\"}, \"colorscale\": [[0.0, \"#0d0887\"], [0.1111111111111111, \"#46039f\"], [0.2222222222222222, \"#7201a8\"], [0.3333333333333333, \"#9c179e\"], [0.4444444444444444, \"#bd3786\"], [0.5555555555555556, \"#d8576b\"], [0.6666666666666666, \"#ed7953\"], [0.7777777777777778, \"#fb9f3a\"], [0.8888888888888888, \"#fdca26\"], [1.0, \"#f0f921\"]], \"type\": \"heatmap\"}], \"heatmapgl\": [{\"colorbar\": {\"outlinewidth\": 0, \"ticks\": \"\"}, \"colorscale\": [[0.0, \"#0d0887\"], [0.1111111111111111, \"#46039f\"], [0.2222222222222222, \"#7201a8\"], [0.3333333333333333, \"#9c179e\"], [0.4444444444444444, \"#bd3786\"], [0.5555555555555556, \"#d8576b\"], [0.6666666666666666, \"#ed7953\"], [0.7777777777777778, \"#fb9f3a\"], [0.8888888888888888, \"#fdca26\"], [1.0, \"#f0f921\"]], \"type\": \"heatmapgl\"}], \"histogram\": [{\"marker\": {\"colorbar\": {\"outlinewidth\": 0, \"ticks\": \"\"}}, \"type\": \"histogram\"}], \"histogram2d\": [{\"colorbar\": {\"outlinewidth\": 0, \"ticks\": \"\"}, \"colorscale\": [[0.0, \"#0d0887\"], [0.1111111111111111, \"#46039f\"], [0.2222222222222222, \"#7201a8\"], [0.3333333333333333, \"#9c179e\"], [0.4444444444444444, \"#bd3786\"], [0.5555555555555556, \"#d8576b\"], [0.6666666666666666, \"#ed7953\"], [0.7777777777777778, \"#fb9f3a\"], [0.8888888888888888, \"#fdca26\"], [1.0, \"#f0f921\"]], \"type\": \"histogram2d\"}], \"histogram2dcontour\": [{\"colorbar\": {\"outlinewidth\": 0, \"ticks\": \"\"}, \"colorscale\": [[0.0, \"#0d0887\"], [0.1111111111111111, \"#46039f\"], [0.2222222222222222, \"#7201a8\"], [0.3333333333333333, \"#9c179e\"], [0.4444444444444444, \"#bd3786\"], [0.5555555555555556, \"#d8576b\"], [0.6666666666666666, \"#ed7953\"], [0.7777777777777778, \"#fb9f3a\"], [0.8888888888888888, \"#fdca26\"], [1.0, \"#f0f921\"]], \"type\": \"histogram2dcontour\"}], \"mesh3d\": [{\"colorbar\": {\"outlinewidth\": 0, \"ticks\": \"\"}, \"type\": \"mesh3d\"}], \"parcoords\": [{\"line\": {\"colorbar\": {\"outlinewidth\": 0, \"ticks\": \"\"}}, \"type\": \"parcoords\"}], \"pie\": [{\"automargin\": true, \"type\": \"pie\"}], \"scatter\": [{\"marker\": {\"colorbar\": {\"outlinewidth\": 0, \"ticks\": \"\"}}, \"type\": \"scatter\"}], \"scatter3d\": [{\"line\": {\"colorbar\": {\"outlinewidth\": 0, \"ticks\": \"\"}}, \"marker\": {\"colorbar\": {\"outlinewidth\": 0, \"ticks\": \"\"}}, \"type\": \"scatter3d\"}], \"scattercarpet\": [{\"marker\": {\"colorbar\": {\"outlinewidth\": 0, \"ticks\": \"\"}}, \"type\": \"scattercarpet\"}], \"scattergeo\": [{\"marker\": {\"colorbar\": {\"outlinewidth\": 0, \"ticks\": \"\"}}, \"type\": \"scattergeo\"}], \"scattergl\": [{\"marker\": {\"colorbar\": {\"outlinewidth\": 0, \"ticks\": \"\"}}, \"type\": \"scattergl\"}], \"scattermapbox\": [{\"marker\": {\"colorbar\": {\"outlinewidth\": 0, \"ticks\": \"\"}}, \"type\": \"scattermapbox\"}], \"scatterpolar\": [{\"marker\": {\"colorbar\": {\"outlinewidth\": 0, \"ticks\": \"\"}}, \"type\": \"scatterpolar\"}], \"scatterpolargl\": [{\"marker\": {\"colorbar\": {\"outlinewidth\": 0, \"ticks\": \"\"}}, \"type\": \"scatterpolargl\"}], \"scatterternary\": [{\"marker\": {\"colorbar\": {\"outlinewidth\": 0, \"ticks\": \"\"}}, \"type\": \"scatterternary\"}], \"surface\": [{\"colorbar\": {\"outlinewidth\": 0, \"ticks\": \"\"}, \"colorscale\": [[0.0, \"#0d0887\"], [0.1111111111111111, \"#46039f\"], [0.2222222222222222, \"#7201a8\"], [0.3333333333333333, \"#9c179e\"], [0.4444444444444444, \"#bd3786\"], [0.5555555555555556, \"#d8576b\"], [0.6666666666666666, \"#ed7953\"], [0.7777777777777778, \"#fb9f3a\"], [0.8888888888888888, \"#fdca26\"], [1.0, \"#f0f921\"]], \"type\": \"surface\"}], \"table\": [{\"cells\": {\"fill\": {\"color\": \"#EBF0F8\"}, \"line\": {\"color\": \"white\"}}, \"header\": {\"fill\": {\"color\": \"#C8D4E3\"}, \"line\": {\"color\": \"white\"}}, \"type\": \"table\"}]}, \"layout\": {\"annotationdefaults\": {\"arrowcolor\": \"#2a3f5f\", \"arrowhead\": 0, \"arrowwidth\": 1}, \"autotypenumbers\": \"strict\", \"coloraxis\": {\"colorbar\": {\"outlinewidth\": 0, \"ticks\": \"\"}}, \"colorscale\": {\"diverging\": [[0, \"#8e0152\"], [0.1, \"#c51b7d\"], [0.2, \"#de77ae\"], [0.3, \"#f1b6da\"], [0.4, \"#fde0ef\"], [0.5, \"#f7f7f7\"], [0.6, \"#e6f5d0\"], [0.7, \"#b8e186\"], [0.8, \"#7fbc41\"], [0.9, \"#4d9221\"], [1, \"#276419\"]], \"sequential\": [[0.0, \"#0d0887\"], [0.1111111111111111, \"#46039f\"], [0.2222222222222222, \"#7201a8\"], [0.3333333333333333, \"#9c179e\"], [0.4444444444444444, \"#bd3786\"], [0.5555555555555556, \"#d8576b\"], [0.6666666666666666, \"#ed7953\"], [0.7777777777777778, \"#fb9f3a\"], [0.8888888888888888, \"#fdca26\"], [1.0, \"#f0f921\"]], \"sequentialminus\": [[0.0, \"#0d0887\"], [0.1111111111111111, \"#46039f\"], [0.2222222222222222, \"#7201a8\"], [0.3333333333333333, \"#9c179e\"], [0.4444444444444444, \"#bd3786\"], [0.5555555555555556, \"#d8576b\"], [0.6666666666666666, \"#ed7953\"], [0.7777777777777778, \"#fb9f3a\"], [0.8888888888888888, \"#fdca26\"], [1.0, \"#f0f921\"]]}, \"colorway\": [\"#636efa\", \"#EF553B\", \"#00cc96\", \"#ab63fa\", \"#FFA15A\", \"#19d3f3\", \"#FF6692\", \"#B6E880\", \"#FF97FF\", \"#FECB52\"], \"font\": {\"color\": \"#2a3f5f\"}, \"geo\": {\"bgcolor\": \"white\", \"lakecolor\": \"white\", \"landcolor\": \"#E5ECF6\", \"showlakes\": true, \"showland\": true, \"subunitcolor\": \"white\"}, \"hoverlabel\": {\"align\": \"left\"}, \"hovermode\": \"closest\", \"mapbox\": {\"style\": \"light\"}, \"paper_bgcolor\": \"white\", \"plot_bgcolor\": \"#E5ECF6\", \"polar\": {\"angularaxis\": {\"gridcolor\": \"white\", \"linecolor\": \"white\", \"ticks\": \"\"}, \"bgcolor\": \"#E5ECF6\", \"radialaxis\": {\"gridcolor\": \"white\", \"linecolor\": \"white\", \"ticks\": \"\"}}, \"scene\": {\"xaxis\": {\"backgroundcolor\": \"#E5ECF6\", \"gridcolor\": \"white\", \"gridwidth\": 2, \"linecolor\": \"white\", \"showbackground\": true, \"ticks\": \"\", \"zerolinecolor\": \"white\"}, \"yaxis\": {\"backgroundcolor\": \"#E5ECF6\", \"gridcolor\": \"white\", \"gridwidth\": 2, \"linecolor\": \"white\", \"showbackground\": true, \"ticks\": \"\", \"zerolinecolor\": \"white\"}, \"zaxis\": {\"backgroundcolor\": \"#E5ECF6\", \"gridcolor\": \"white\", \"gridwidth\": 2, \"linecolor\": \"white\", \"showbackground\": true, \"ticks\": \"\", \"zerolinecolor\": \"white\"}}, \"shapedefaults\": {\"line\": {\"color\": \"#2a3f5f\"}}, \"ternary\": {\"aaxis\": {\"gridcolor\": \"white\", \"linecolor\": \"white\", \"ticks\": \"\"}, \"baxis\": {\"gridcolor\": \"white\", \"linecolor\": \"white\", \"ticks\": \"\"}, \"bgcolor\": \"#E5ECF6\", \"caxis\": {\"gridcolor\": \"white\", \"linecolor\": \"white\", \"ticks\": \"\"}}, \"title\": {\"x\": 0.05}, \"xaxis\": {\"automargin\": true, \"gridcolor\": \"white\", \"linecolor\": \"white\", \"ticks\": \"\", \"title\": {\"standoff\": 15}, \"zerolinecolor\": \"white\", \"zerolinewidth\": 2}, \"yaxis\": {\"automargin\": true, \"gridcolor\": \"white\", \"linecolor\": \"white\", \"ticks\": \"\", \"title\": {\"standoff\": 15}, \"zerolinecolor\": \"white\", \"zerolinewidth\": 2}}}},                        {\"responsive\": true}                    ).then(function(){\n",
       "                            \n",
       "var gd = document.getElementById('22b41a48-4f06-483c-b151-6da8c1c61a66');\n",
       "var x = new MutationObserver(function (mutations, observer) {{\n",
       "        var display = window.getComputedStyle(gd).display;\n",
       "        if (!display || display === 'none') {{\n",
       "            console.log([gd, 'removed!']);\n",
       "            Plotly.purge(gd);\n",
       "            observer.disconnect();\n",
       "        }}\n",
       "}});\n",
       "\n",
       "// Listen for the removal of the full notebook cells\n",
       "var notebookContainer = gd.closest('#notebook-container');\n",
       "if (notebookContainer) {{\n",
       "    x.observe(notebookContainer, {childList: true});\n",
       "}}\n",
       "\n",
       "// Listen for the clearing of the current output cell\n",
       "var outputEl = gd.closest('.output');\n",
       "if (outputEl) {{\n",
       "    x.observe(outputEl, {childList: true});\n",
       "}}\n",
       "\n",
       "                        })                };                });            </script>        </div>"
      ]
     },
     "metadata": {},
     "output_type": "display_data"
    },
    {
     "data": {
      "text/plain": [
       "<matplotlib.colorbar.Colorbar at 0x253647d44c0>"
      ]
     },
     "execution_count": 5,
     "metadata": {},
     "output_type": "execute_result"
    }
   ],
   "source": [
    "create_sankey_plot('L1')\n",
    "handle.stream_colorbar(orientation='horizontal')"
   ]
  },
  {
   "cell_type": "code",
   "execution_count": 6,
   "metadata": {},
   "outputs": [
    {
     "name": "stdout",
     "output_type": "stream",
     "text": [
      "Stream: s130 from <HXprocess: H606> to <BinaryDistillation: D601>\n",
      " phase: 'l', T: 343.95 K, P: 101325 Pa\n",
      " flow (kmol/hr): Water     58.8\n",
      "                 Methanol  25.2\n",
      "                 Glycerol  8.4\n",
      "                 NaOH      0.000996\n"
     ]
    },
    {
     "name": "stderr",
     "output_type": "stream",
     "text": [
      "C:\\Users\\yrc2\\OneDrive\\Code\\thermosteam\\thermosteam\\utils\\registry.py:90: RuntimeWarning:\n",
      "\n",
      "upon renaming, <Stream: shredded_cane> replaced <Stream: lipidcane> in registry\n",
      "\n",
      "C:\\Users\\yrc2\\OneDrive\\Code\\thermosteam\\thermosteam\\utils\\registry.py:90: RuntimeWarning:\n",
      "\n",
      "upon renaming, <Stream: s107> replaced <Stream: lignin> in registry\n",
      "\n",
      "C:\\Users\\yrc2\\OneDrive\\Code\\thermosteam\\thermosteam\\utils\\registry.py:90: RuntimeWarning:\n",
      "\n",
      "upon renaming, <Stream: waste> replaced <Stream: wastewater> in registry\n",
      "\n",
      "C:\\Users\\yrc2\\OneDrive\\Code\\thermosteam\\thermosteam\\utils\\registry.py:90: RuntimeWarning:\n",
      "\n",
      "upon renaming, <Stream: pretreatment_wastewater> replaced <Stream: wastewater> in registry\n",
      "\n"
     ]
    },
    {
     "data": {
      "application/vnd.plotly.v1+json": {
       "config": {
        "plotlyServerURL": "https://plot.ly"
       },
       "data": [
        {
         "link": {
          "color": [
           "rgba(233, 225, 201, 1.0)",
           "rgba(233, 229, 222, 1.0)",
           "rgba(233, 225, 203, 1.0)",
           "rgba(233, 227, 214, 1.0)",
           "rgba(189, 138, 14, 1.0)",
           "rgba(234, 231, 229, 1.0)",
           "rgba(234, 231, 229, 1.0)",
           "rgba(234, 231, 229, 1.0)",
           "rgba(234, 231, 229, 1.0)",
           "rgba(234, 231, 229, 1.0)",
           "rgba(234, 231, 229, 1.0)",
           "rgba(234, 231, 229, 1.0)",
           "rgba(234, 231, 229, 1.0)",
           "rgba(234, 231, 229, 1.0)",
           "rgba(234, 231, 229, 1.0)",
           "rgba(234, 231, 229, 1.0)",
           "rgba(234, 231, 229, 1.0)",
           "rgba(234, 231, 229, 1.0)",
           "rgba(234, 231, 229, 1.0)",
           "rgba(234, 231, 229, 1.0)",
           "rgba(234, 231, 229, 1.0)",
           "rgba(234, 231, 229, 1.0)",
           "rgba(234, 231, 229, 1.0)",
           "rgba(234, 231, 229, 1.0)",
           "rgba(234, 231, 229, 1.0)",
           "rgba(233, 227, 211, 1.0)",
           "rgba(234, 231, 229, 1.0)",
           "rgba(234, 231, 229, 1.0)",
           "rgba(234, 231, 229, 1.0)",
           "rgba(215, 171, 42, 1.0)",
           "rgba(232, 224, 198, 1.0)",
           "rgba(233, 230, 227, 1.0)",
           "rgba(234, 231, 229, 1.0)",
           "rgba(234, 231, 229, 1.0)",
           "rgba(234, 231, 229, 1.0)",
           "rgba(189, 138, 14, 1.0)",
           "rgba(234, 231, 229, 1.0)",
           "rgba(234, 231, 229, 1.0)",
           "rgba(233, 230, 225, 1.0)",
           "rgba(234, 231, 229, 1.0)",
           "rgba(234, 231, 229, 1.0)"
          ],
          "source": [
           0,
           0,
           1,
           2,
           3,
           5,
           6,
           7,
           8,
           9,
           10,
           11,
           12,
           13,
           14,
           15,
           16,
           17,
           18,
           19,
           20,
           21,
           22,
           23,
           24,
           25,
           2,
           4,
           4,
           4,
           2,
           3,
           3,
           2,
           4,
           4,
           2,
           0,
           0,
           1,
           2
          ],
          "target": [
           1,
           2,
           2,
           3,
           4,
           2,
           2,
           0,
           2,
           2,
           0,
           4,
           4,
           4,
           4,
           4,
           4,
           4,
           0,
           0,
           0,
           1,
           0,
           2,
           2,
           0,
           26,
           27,
           28,
           29,
           30,
           31,
           32,
           33,
           34,
           35,
           36,
           37,
           38,
           39,
           40
          ],
          "value": [
           143734.7929363246,
           263744.25437113957,
           157611.66986211116,
           297111.25103849464,
           7597.326607614397,
           11643.026971622872,
           664.5573029302618,
           999.9974040067494,
           98.34834508158103,
           952.8646890205397,
           333.333334,
           32.04186,
           1,
           274.523735214282,
           0.3553451999620555,
           0.03985617707713043,
           9.170343852415131,
           7052.28572866975,
           166.666667,
           0.83,
           73.27240594590432,
           21448.933881744164,
           83333.3335,
           36863.67329066554,
           220266.3482417265,
           333333.334,
           30872.62770439379,
           7381.845738120093,
           1371.9921717329782,
           103.93908406811734,
           39639.35923592327,
           38478.984923555385,
           251034.93950732477,
           29880.64528059387,
           125.18825324821846,
           390.90150078180295,
           267236.2373789661,
           10081.670580155207,
           526.2025872437613,
           7572.069038339632,
           28109.55647602573
          ]
         },
         "node": {
          "color": [
           "rgba(164, 189, 100, 1.0)",
           "rgba(51, 152, 99, 1.0)",
           "rgba(155, 216, 217, 1.0)",
           "rgba(172, 159, 139, 1.0)",
           "rgba(252, 198, 66, 1.0)",
           "rgba(234, 231, 229, 1.0)",
           "rgba(234, 231, 229, 1.0)",
           "rgba(234, 231, 229, 1.0)",
           "rgba(234, 231, 229, 1.0)",
           "rgba(234, 231, 229, 1.0)",
           "rgba(234, 231, 229, 1.0)",
           "rgba(234, 231, 229, 1.0)",
           "rgba(234, 231, 229, 1.0)",
           "rgba(234, 231, 229, 1.0)",
           "rgba(234, 231, 229, 1.0)",
           "rgba(234, 231, 229, 1.0)",
           "rgba(234, 231, 229, 1.0)",
           "rgba(234, 231, 229, 1.0)",
           "rgba(234, 231, 229, 1.0)",
           "rgba(234, 231, 229, 1.0)",
           "rgba(234, 231, 229, 1.0)",
           "rgba(234, 231, 229, 1.0)",
           "rgba(234, 231, 229, 1.0)",
           "rgba(234, 231, 229, 1.0)",
           "rgba(234, 231, 229, 1.0)",
           "rgba(233, 227, 211, 1.0)",
           "rgba(234, 231, 229, 1.0)",
           "rgba(234, 231, 229, 1.0)",
           "rgba(234, 231, 229, 1.0)",
           "rgba(215, 171, 42, 1.0)",
           "rgba(232, 224, 198, 1.0)",
           "rgba(233, 230, 227, 1.0)",
           "rgba(234, 231, 229, 1.0)",
           "rgba(234, 231, 229, 1.0)",
           "rgba(234, 231, 229, 1.0)",
           "rgba(189, 138, 14, 1.0)",
           "rgba(234, 231, 229, 1.0)",
           "rgba(234, 231, 229, 1.0)",
           "rgba(233, 230, 225, 1.0)",
           "rgba(234, 231, 229, 1.0)",
           "rgba(234, 231, 229, 1.0)"
          ],
          "label": [
           "Juicing",
           "Pretreatment",
           "EtOH prod.",
           "Oil ext.",
           "Biod. prod.",
           "cellulase",
           "denaturant",
           "enzyme",
           "DAP",
           "CSL",
           "lime",
           "methanol",
           "catalyst",
           "biodiesel wash water",
           "HCl",
           "NaOH",
           "N2",
           "pure glycerine",
           "H3PO4",
           "polymer",
           "RVF wash water",
           "pretreatment steam",
           "imbibition water",
           "stripping water",
           "saccharification water",
           "lipidcane",
           "ethanol",
           "biodiesel",
           "crude glycerol",
           "wastewater",
           "lignin",
           "wastewater",
           "recycle process water",
           "s203",
           "s242",
           "polar lipids",
           "s195",
           "filter cake",
           "fiber fines",
           "wastewater",
           "vent"
          ]
         },
         "type": "sankey"
        }
       ],
       "layout": {
        "template": {
         "data": {
          "bar": [
           {
            "error_x": {
             "color": "#2a3f5f"
            },
            "error_y": {
             "color": "#2a3f5f"
            },
            "marker": {
             "line": {
              "color": "#E5ECF6",
              "width": 0.5
             }
            },
            "type": "bar"
           }
          ],
          "barpolar": [
           {
            "marker": {
             "line": {
              "color": "#E5ECF6",
              "width": 0.5
             }
            },
            "type": "barpolar"
           }
          ],
          "carpet": [
           {
            "aaxis": {
             "endlinecolor": "#2a3f5f",
             "gridcolor": "white",
             "linecolor": "white",
             "minorgridcolor": "white",
             "startlinecolor": "#2a3f5f"
            },
            "baxis": {
             "endlinecolor": "#2a3f5f",
             "gridcolor": "white",
             "linecolor": "white",
             "minorgridcolor": "white",
             "startlinecolor": "#2a3f5f"
            },
            "type": "carpet"
           }
          ],
          "choropleth": [
           {
            "colorbar": {
             "outlinewidth": 0,
             "ticks": ""
            },
            "type": "choropleth"
           }
          ],
          "contour": [
           {
            "colorbar": {
             "outlinewidth": 0,
             "ticks": ""
            },
            "colorscale": [
             [
              0,
              "#0d0887"
             ],
             [
              0.1111111111111111,
              "#46039f"
             ],
             [
              0.2222222222222222,
              "#7201a8"
             ],
             [
              0.3333333333333333,
              "#9c179e"
             ],
             [
              0.4444444444444444,
              "#bd3786"
             ],
             [
              0.5555555555555556,
              "#d8576b"
             ],
             [
              0.6666666666666666,
              "#ed7953"
             ],
             [
              0.7777777777777778,
              "#fb9f3a"
             ],
             [
              0.8888888888888888,
              "#fdca26"
             ],
             [
              1,
              "#f0f921"
             ]
            ],
            "type": "contour"
           }
          ],
          "contourcarpet": [
           {
            "colorbar": {
             "outlinewidth": 0,
             "ticks": ""
            },
            "type": "contourcarpet"
           }
          ],
          "heatmap": [
           {
            "colorbar": {
             "outlinewidth": 0,
             "ticks": ""
            },
            "colorscale": [
             [
              0,
              "#0d0887"
             ],
             [
              0.1111111111111111,
              "#46039f"
             ],
             [
              0.2222222222222222,
              "#7201a8"
             ],
             [
              0.3333333333333333,
              "#9c179e"
             ],
             [
              0.4444444444444444,
              "#bd3786"
             ],
             [
              0.5555555555555556,
              "#d8576b"
             ],
             [
              0.6666666666666666,
              "#ed7953"
             ],
             [
              0.7777777777777778,
              "#fb9f3a"
             ],
             [
              0.8888888888888888,
              "#fdca26"
             ],
             [
              1,
              "#f0f921"
             ]
            ],
            "type": "heatmap"
           }
          ],
          "heatmapgl": [
           {
            "colorbar": {
             "outlinewidth": 0,
             "ticks": ""
            },
            "colorscale": [
             [
              0,
              "#0d0887"
             ],
             [
              0.1111111111111111,
              "#46039f"
             ],
             [
              0.2222222222222222,
              "#7201a8"
             ],
             [
              0.3333333333333333,
              "#9c179e"
             ],
             [
              0.4444444444444444,
              "#bd3786"
             ],
             [
              0.5555555555555556,
              "#d8576b"
             ],
             [
              0.6666666666666666,
              "#ed7953"
             ],
             [
              0.7777777777777778,
              "#fb9f3a"
             ],
             [
              0.8888888888888888,
              "#fdca26"
             ],
             [
              1,
              "#f0f921"
             ]
            ],
            "type": "heatmapgl"
           }
          ],
          "histogram": [
           {
            "marker": {
             "colorbar": {
              "outlinewidth": 0,
              "ticks": ""
             }
            },
            "type": "histogram"
           }
          ],
          "histogram2d": [
           {
            "colorbar": {
             "outlinewidth": 0,
             "ticks": ""
            },
            "colorscale": [
             [
              0,
              "#0d0887"
             ],
             [
              0.1111111111111111,
              "#46039f"
             ],
             [
              0.2222222222222222,
              "#7201a8"
             ],
             [
              0.3333333333333333,
              "#9c179e"
             ],
             [
              0.4444444444444444,
              "#bd3786"
             ],
             [
              0.5555555555555556,
              "#d8576b"
             ],
             [
              0.6666666666666666,
              "#ed7953"
             ],
             [
              0.7777777777777778,
              "#fb9f3a"
             ],
             [
              0.8888888888888888,
              "#fdca26"
             ],
             [
              1,
              "#f0f921"
             ]
            ],
            "type": "histogram2d"
           }
          ],
          "histogram2dcontour": [
           {
            "colorbar": {
             "outlinewidth": 0,
             "ticks": ""
            },
            "colorscale": [
             [
              0,
              "#0d0887"
             ],
             [
              0.1111111111111111,
              "#46039f"
             ],
             [
              0.2222222222222222,
              "#7201a8"
             ],
             [
              0.3333333333333333,
              "#9c179e"
             ],
             [
              0.4444444444444444,
              "#bd3786"
             ],
             [
              0.5555555555555556,
              "#d8576b"
             ],
             [
              0.6666666666666666,
              "#ed7953"
             ],
             [
              0.7777777777777778,
              "#fb9f3a"
             ],
             [
              0.8888888888888888,
              "#fdca26"
             ],
             [
              1,
              "#f0f921"
             ]
            ],
            "type": "histogram2dcontour"
           }
          ],
          "mesh3d": [
           {
            "colorbar": {
             "outlinewidth": 0,
             "ticks": ""
            },
            "type": "mesh3d"
           }
          ],
          "parcoords": [
           {
            "line": {
             "colorbar": {
              "outlinewidth": 0,
              "ticks": ""
             }
            },
            "type": "parcoords"
           }
          ],
          "pie": [
           {
            "automargin": true,
            "type": "pie"
           }
          ],
          "scatter": [
           {
            "marker": {
             "colorbar": {
              "outlinewidth": 0,
              "ticks": ""
             }
            },
            "type": "scatter"
           }
          ],
          "scatter3d": [
           {
            "line": {
             "colorbar": {
              "outlinewidth": 0,
              "ticks": ""
             }
            },
            "marker": {
             "colorbar": {
              "outlinewidth": 0,
              "ticks": ""
             }
            },
            "type": "scatter3d"
           }
          ],
          "scattercarpet": [
           {
            "marker": {
             "colorbar": {
              "outlinewidth": 0,
              "ticks": ""
             }
            },
            "type": "scattercarpet"
           }
          ],
          "scattergeo": [
           {
            "marker": {
             "colorbar": {
              "outlinewidth": 0,
              "ticks": ""
             }
            },
            "type": "scattergeo"
           }
          ],
          "scattergl": [
           {
            "marker": {
             "colorbar": {
              "outlinewidth": 0,
              "ticks": ""
             }
            },
            "type": "scattergl"
           }
          ],
          "scattermapbox": [
           {
            "marker": {
             "colorbar": {
              "outlinewidth": 0,
              "ticks": ""
             }
            },
            "type": "scattermapbox"
           }
          ],
          "scatterpolar": [
           {
            "marker": {
             "colorbar": {
              "outlinewidth": 0,
              "ticks": ""
             }
            },
            "type": "scatterpolar"
           }
          ],
          "scatterpolargl": [
           {
            "marker": {
             "colorbar": {
              "outlinewidth": 0,
              "ticks": ""
             }
            },
            "type": "scatterpolargl"
           }
          ],
          "scatterternary": [
           {
            "marker": {
             "colorbar": {
              "outlinewidth": 0,
              "ticks": ""
             }
            },
            "type": "scatterternary"
           }
          ],
          "surface": [
           {
            "colorbar": {
             "outlinewidth": 0,
             "ticks": ""
            },
            "colorscale": [
             [
              0,
              "#0d0887"
             ],
             [
              0.1111111111111111,
              "#46039f"
             ],
             [
              0.2222222222222222,
              "#7201a8"
             ],
             [
              0.3333333333333333,
              "#9c179e"
             ],
             [
              0.4444444444444444,
              "#bd3786"
             ],
             [
              0.5555555555555556,
              "#d8576b"
             ],
             [
              0.6666666666666666,
              "#ed7953"
             ],
             [
              0.7777777777777778,
              "#fb9f3a"
             ],
             [
              0.8888888888888888,
              "#fdca26"
             ],
             [
              1,
              "#f0f921"
             ]
            ],
            "type": "surface"
           }
          ],
          "table": [
           {
            "cells": {
             "fill": {
              "color": "#EBF0F8"
             },
             "line": {
              "color": "white"
             }
            },
            "header": {
             "fill": {
              "color": "#C8D4E3"
             },
             "line": {
              "color": "white"
             }
            },
            "type": "table"
           }
          ]
         },
         "layout": {
          "annotationdefaults": {
           "arrowcolor": "#2a3f5f",
           "arrowhead": 0,
           "arrowwidth": 1
          },
          "autotypenumbers": "strict",
          "coloraxis": {
           "colorbar": {
            "outlinewidth": 0,
            "ticks": ""
           }
          },
          "colorscale": {
           "diverging": [
            [
             0,
             "#8e0152"
            ],
            [
             0.1,
             "#c51b7d"
            ],
            [
             0.2,
             "#de77ae"
            ],
            [
             0.3,
             "#f1b6da"
            ],
            [
             0.4,
             "#fde0ef"
            ],
            [
             0.5,
             "#f7f7f7"
            ],
            [
             0.6,
             "#e6f5d0"
            ],
            [
             0.7,
             "#b8e186"
            ],
            [
             0.8,
             "#7fbc41"
            ],
            [
             0.9,
             "#4d9221"
            ],
            [
             1,
             "#276419"
            ]
           ],
           "sequential": [
            [
             0,
             "#0d0887"
            ],
            [
             0.1111111111111111,
             "#46039f"
            ],
            [
             0.2222222222222222,
             "#7201a8"
            ],
            [
             0.3333333333333333,
             "#9c179e"
            ],
            [
             0.4444444444444444,
             "#bd3786"
            ],
            [
             0.5555555555555556,
             "#d8576b"
            ],
            [
             0.6666666666666666,
             "#ed7953"
            ],
            [
             0.7777777777777778,
             "#fb9f3a"
            ],
            [
             0.8888888888888888,
             "#fdca26"
            ],
            [
             1,
             "#f0f921"
            ]
           ],
           "sequentialminus": [
            [
             0,
             "#0d0887"
            ],
            [
             0.1111111111111111,
             "#46039f"
            ],
            [
             0.2222222222222222,
             "#7201a8"
            ],
            [
             0.3333333333333333,
             "#9c179e"
            ],
            [
             0.4444444444444444,
             "#bd3786"
            ],
            [
             0.5555555555555556,
             "#d8576b"
            ],
            [
             0.6666666666666666,
             "#ed7953"
            ],
            [
             0.7777777777777778,
             "#fb9f3a"
            ],
            [
             0.8888888888888888,
             "#fdca26"
            ],
            [
             1,
             "#f0f921"
            ]
           ]
          },
          "colorway": [
           "#636efa",
           "#EF553B",
           "#00cc96",
           "#ab63fa",
           "#FFA15A",
           "#19d3f3",
           "#FF6692",
           "#B6E880",
           "#FF97FF",
           "#FECB52"
          ],
          "font": {
           "color": "#2a3f5f"
          },
          "geo": {
           "bgcolor": "white",
           "lakecolor": "white",
           "landcolor": "#E5ECF6",
           "showlakes": true,
           "showland": true,
           "subunitcolor": "white"
          },
          "hoverlabel": {
           "align": "left"
          },
          "hovermode": "closest",
          "mapbox": {
           "style": "light"
          },
          "paper_bgcolor": "white",
          "plot_bgcolor": "#E5ECF6",
          "polar": {
           "angularaxis": {
            "gridcolor": "white",
            "linecolor": "white",
            "ticks": ""
           },
           "bgcolor": "#E5ECF6",
           "radialaxis": {
            "gridcolor": "white",
            "linecolor": "white",
            "ticks": ""
           }
          },
          "scene": {
           "xaxis": {
            "backgroundcolor": "#E5ECF6",
            "gridcolor": "white",
            "gridwidth": 2,
            "linecolor": "white",
            "showbackground": true,
            "ticks": "",
            "zerolinecolor": "white"
           },
           "yaxis": {
            "backgroundcolor": "#E5ECF6",
            "gridcolor": "white",
            "gridwidth": 2,
            "linecolor": "white",
            "showbackground": true,
            "ticks": "",
            "zerolinecolor": "white"
           },
           "zaxis": {
            "backgroundcolor": "#E5ECF6",
            "gridcolor": "white",
            "gridwidth": 2,
            "linecolor": "white",
            "showbackground": true,
            "ticks": "",
            "zerolinecolor": "white"
           }
          },
          "shapedefaults": {
           "line": {
            "color": "#2a3f5f"
           }
          },
          "ternary": {
           "aaxis": {
            "gridcolor": "white",
            "linecolor": "white",
            "ticks": ""
           },
           "baxis": {
            "gridcolor": "white",
            "linecolor": "white",
            "ticks": ""
           },
           "bgcolor": "#E5ECF6",
           "caxis": {
            "gridcolor": "white",
            "linecolor": "white",
            "ticks": ""
           }
          },
          "title": {
           "x": 0.05
          },
          "xaxis": {
           "automargin": true,
           "gridcolor": "white",
           "linecolor": "white",
           "ticks": "",
           "title": {
            "standoff": 15
           },
           "zerolinecolor": "white",
           "zerolinewidth": 2
          },
          "yaxis": {
           "automargin": true,
           "gridcolor": "white",
           "linecolor": "white",
           "ticks": "",
           "title": {
            "standoff": 15
           },
           "zerolinecolor": "white",
           "zerolinewidth": 2
          }
         }
        }
       }
      },
      "text/html": [
       "<div>                            <div id=\"0fa80a01-3edc-4689-b4b9-29e4767ae80c\" class=\"plotly-graph-div\" style=\"height:525px; width:100%;\"></div>            <script type=\"text/javascript\">                require([\"plotly\"], function(Plotly) {                    window.PLOTLYENV=window.PLOTLYENV || {};                                    if (document.getElementById(\"0fa80a01-3edc-4689-b4b9-29e4767ae80c\")) {                    Plotly.newPlot(                        \"0fa80a01-3edc-4689-b4b9-29e4767ae80c\",                        [{\"link\": {\"color\": [\"rgba(233, 225, 201, 1.0)\", \"rgba(233, 229, 222, 1.0)\", \"rgba(233, 225, 203, 1.0)\", \"rgba(233, 227, 214, 1.0)\", \"rgba(189, 138, 14, 1.0)\", \"rgba(234, 231, 229, 1.0)\", \"rgba(234, 231, 229, 1.0)\", \"rgba(234, 231, 229, 1.0)\", \"rgba(234, 231, 229, 1.0)\", \"rgba(234, 231, 229, 1.0)\", \"rgba(234, 231, 229, 1.0)\", \"rgba(234, 231, 229, 1.0)\", \"rgba(234, 231, 229, 1.0)\", \"rgba(234, 231, 229, 1.0)\", \"rgba(234, 231, 229, 1.0)\", \"rgba(234, 231, 229, 1.0)\", \"rgba(234, 231, 229, 1.0)\", \"rgba(234, 231, 229, 1.0)\", \"rgba(234, 231, 229, 1.0)\", \"rgba(234, 231, 229, 1.0)\", \"rgba(234, 231, 229, 1.0)\", \"rgba(234, 231, 229, 1.0)\", \"rgba(234, 231, 229, 1.0)\", \"rgba(234, 231, 229, 1.0)\", \"rgba(234, 231, 229, 1.0)\", \"rgba(233, 227, 211, 1.0)\", \"rgba(234, 231, 229, 1.0)\", \"rgba(234, 231, 229, 1.0)\", \"rgba(234, 231, 229, 1.0)\", \"rgba(215, 171, 42, 1.0)\", \"rgba(232, 224, 198, 1.0)\", \"rgba(233, 230, 227, 1.0)\", \"rgba(234, 231, 229, 1.0)\", \"rgba(234, 231, 229, 1.0)\", \"rgba(234, 231, 229, 1.0)\", \"rgba(189, 138, 14, 1.0)\", \"rgba(234, 231, 229, 1.0)\", \"rgba(234, 231, 229, 1.0)\", \"rgba(233, 230, 225, 1.0)\", \"rgba(234, 231, 229, 1.0)\", \"rgba(234, 231, 229, 1.0)\"], \"source\": [0, 0, 1, 2, 3, 5, 6, 7, 8, 9, 10, 11, 12, 13, 14, 15, 16, 17, 18, 19, 20, 21, 22, 23, 24, 25, 2, 4, 4, 4, 2, 3, 3, 2, 4, 4, 2, 0, 0, 1, 2], \"target\": [1, 2, 2, 3, 4, 2, 2, 0, 2, 2, 0, 4, 4, 4, 4, 4, 4, 4, 0, 0, 0, 1, 0, 2, 2, 0, 26, 27, 28, 29, 30, 31, 32, 33, 34, 35, 36, 37, 38, 39, 40], \"value\": [143734.7929363246, 263744.25437113957, 157611.66986211116, 297111.25103849464, 7597.326607614397, 11643.026971622872, 664.5573029302618, 999.9974040067494, 98.34834508158103, 952.8646890205397, 333.333334, 32.04186, 1.0, 274.523735214282, 0.3553451999620555, 0.03985617707713043, 9.170343852415131, 7052.28572866975, 166.666667, 0.83, 73.27240594590432, 21448.933881744164, 83333.3335, 36863.67329066554, 220266.3482417265, 333333.334, 30872.62770439379, 7381.845738120093, 1371.9921717329782, 103.93908406811734, 39639.35923592327, 38478.984923555385, 251034.93950732477, 29880.64528059387, 125.18825324821846, 390.90150078180295, 267236.2373789661, 10081.670580155207, 526.2025872437613, 7572.069038339632, 28109.55647602573]}, \"node\": {\"color\": [\"rgba(164, 189, 100, 1.0)\", \"rgba(51, 152, 99, 1.0)\", \"rgba(155, 216, 217, 1.0)\", \"rgba(172, 159, 139, 1.0)\", \"rgba(252, 198, 66, 1.0)\", \"rgba(234, 231, 229, 1.0)\", \"rgba(234, 231, 229, 1.0)\", \"rgba(234, 231, 229, 1.0)\", \"rgba(234, 231, 229, 1.0)\", \"rgba(234, 231, 229, 1.0)\", \"rgba(234, 231, 229, 1.0)\", \"rgba(234, 231, 229, 1.0)\", \"rgba(234, 231, 229, 1.0)\", \"rgba(234, 231, 229, 1.0)\", \"rgba(234, 231, 229, 1.0)\", \"rgba(234, 231, 229, 1.0)\", \"rgba(234, 231, 229, 1.0)\", \"rgba(234, 231, 229, 1.0)\", \"rgba(234, 231, 229, 1.0)\", \"rgba(234, 231, 229, 1.0)\", \"rgba(234, 231, 229, 1.0)\", \"rgba(234, 231, 229, 1.0)\", \"rgba(234, 231, 229, 1.0)\", \"rgba(234, 231, 229, 1.0)\", \"rgba(234, 231, 229, 1.0)\", \"rgba(233, 227, 211, 1.0)\", \"rgba(234, 231, 229, 1.0)\", \"rgba(234, 231, 229, 1.0)\", \"rgba(234, 231, 229, 1.0)\", \"rgba(215, 171, 42, 1.0)\", \"rgba(232, 224, 198, 1.0)\", \"rgba(233, 230, 227, 1.0)\", \"rgba(234, 231, 229, 1.0)\", \"rgba(234, 231, 229, 1.0)\", \"rgba(234, 231, 229, 1.0)\", \"rgba(189, 138, 14, 1.0)\", \"rgba(234, 231, 229, 1.0)\", \"rgba(234, 231, 229, 1.0)\", \"rgba(233, 230, 225, 1.0)\", \"rgba(234, 231, 229, 1.0)\", \"rgba(234, 231, 229, 1.0)\"], \"label\": [\"Juicing\", \"Pretreatment\", \"EtOH prod.\", \"Oil ext.\", \"Biod. prod.\", \"cellulase\", \"denaturant\", \"enzyme\", \"DAP\", \"CSL\", \"lime\", \"methanol\", \"catalyst\", \"biodiesel wash water\", \"HCl\", \"NaOH\", \"N2\", \"pure glycerine\", \"H3PO4\", \"polymer\", \"RVF wash water\", \"pretreatment steam\", \"imbibition water\", \"stripping water\", \"saccharification water\", \"lipidcane\", \"ethanol\", \"biodiesel\", \"crude glycerol\", \"wastewater\", \"lignin\", \"wastewater\", \"recycle process water\", \"s203\", \"s242\", \"polar lipids\", \"s195\", \"filter cake\", \"fiber fines\", \"wastewater\", \"vent\"]}, \"type\": \"sankey\"}],                        {\"template\": {\"data\": {\"bar\": [{\"error_x\": {\"color\": \"#2a3f5f\"}, \"error_y\": {\"color\": \"#2a3f5f\"}, \"marker\": {\"line\": {\"color\": \"#E5ECF6\", \"width\": 0.5}}, \"type\": \"bar\"}], \"barpolar\": [{\"marker\": {\"line\": {\"color\": \"#E5ECF6\", \"width\": 0.5}}, \"type\": \"barpolar\"}], \"carpet\": [{\"aaxis\": {\"endlinecolor\": \"#2a3f5f\", \"gridcolor\": \"white\", \"linecolor\": \"white\", \"minorgridcolor\": \"white\", \"startlinecolor\": \"#2a3f5f\"}, \"baxis\": {\"endlinecolor\": \"#2a3f5f\", \"gridcolor\": \"white\", \"linecolor\": \"white\", \"minorgridcolor\": \"white\", \"startlinecolor\": \"#2a3f5f\"}, \"type\": \"carpet\"}], \"choropleth\": [{\"colorbar\": {\"outlinewidth\": 0, \"ticks\": \"\"}, \"type\": \"choropleth\"}], \"contour\": [{\"colorbar\": {\"outlinewidth\": 0, \"ticks\": \"\"}, \"colorscale\": [[0.0, \"#0d0887\"], [0.1111111111111111, \"#46039f\"], [0.2222222222222222, \"#7201a8\"], [0.3333333333333333, \"#9c179e\"], [0.4444444444444444, \"#bd3786\"], [0.5555555555555556, \"#d8576b\"], [0.6666666666666666, \"#ed7953\"], [0.7777777777777778, \"#fb9f3a\"], [0.8888888888888888, \"#fdca26\"], [1.0, \"#f0f921\"]], \"type\": \"contour\"}], \"contourcarpet\": [{\"colorbar\": {\"outlinewidth\": 0, \"ticks\": \"\"}, \"type\": \"contourcarpet\"}], \"heatmap\": [{\"colorbar\": {\"outlinewidth\": 0, \"ticks\": \"\"}, \"colorscale\": [[0.0, \"#0d0887\"], [0.1111111111111111, \"#46039f\"], [0.2222222222222222, \"#7201a8\"], [0.3333333333333333, \"#9c179e\"], [0.4444444444444444, \"#bd3786\"], [0.5555555555555556, \"#d8576b\"], [0.6666666666666666, \"#ed7953\"], [0.7777777777777778, \"#fb9f3a\"], [0.8888888888888888, \"#fdca26\"], [1.0, \"#f0f921\"]], \"type\": \"heatmap\"}], \"heatmapgl\": [{\"colorbar\": {\"outlinewidth\": 0, \"ticks\": \"\"}, \"colorscale\": [[0.0, \"#0d0887\"], [0.1111111111111111, \"#46039f\"], [0.2222222222222222, \"#7201a8\"], [0.3333333333333333, \"#9c179e\"], [0.4444444444444444, \"#bd3786\"], [0.5555555555555556, \"#d8576b\"], [0.6666666666666666, \"#ed7953\"], [0.7777777777777778, \"#fb9f3a\"], [0.8888888888888888, \"#fdca26\"], [1.0, \"#f0f921\"]], \"type\": \"heatmapgl\"}], \"histogram\": [{\"marker\": {\"colorbar\": {\"outlinewidth\": 0, \"ticks\": \"\"}}, \"type\": \"histogram\"}], \"histogram2d\": [{\"colorbar\": {\"outlinewidth\": 0, \"ticks\": \"\"}, \"colorscale\": [[0.0, \"#0d0887\"], [0.1111111111111111, \"#46039f\"], [0.2222222222222222, \"#7201a8\"], [0.3333333333333333, \"#9c179e\"], [0.4444444444444444, \"#bd3786\"], [0.5555555555555556, \"#d8576b\"], [0.6666666666666666, \"#ed7953\"], [0.7777777777777778, \"#fb9f3a\"], [0.8888888888888888, \"#fdca26\"], [1.0, \"#f0f921\"]], \"type\": \"histogram2d\"}], \"histogram2dcontour\": [{\"colorbar\": {\"outlinewidth\": 0, \"ticks\": \"\"}, \"colorscale\": [[0.0, \"#0d0887\"], [0.1111111111111111, \"#46039f\"], [0.2222222222222222, \"#7201a8\"], [0.3333333333333333, \"#9c179e\"], [0.4444444444444444, \"#bd3786\"], [0.5555555555555556, \"#d8576b\"], [0.6666666666666666, \"#ed7953\"], [0.7777777777777778, \"#fb9f3a\"], [0.8888888888888888, \"#fdca26\"], [1.0, \"#f0f921\"]], \"type\": \"histogram2dcontour\"}], \"mesh3d\": [{\"colorbar\": {\"outlinewidth\": 0, \"ticks\": \"\"}, \"type\": \"mesh3d\"}], \"parcoords\": [{\"line\": {\"colorbar\": {\"outlinewidth\": 0, \"ticks\": \"\"}}, \"type\": \"parcoords\"}], \"pie\": [{\"automargin\": true, \"type\": \"pie\"}], \"scatter\": [{\"marker\": {\"colorbar\": {\"outlinewidth\": 0, \"ticks\": \"\"}}, \"type\": \"scatter\"}], \"scatter3d\": [{\"line\": {\"colorbar\": {\"outlinewidth\": 0, \"ticks\": \"\"}}, \"marker\": {\"colorbar\": {\"outlinewidth\": 0, \"ticks\": \"\"}}, \"type\": \"scatter3d\"}], \"scattercarpet\": [{\"marker\": {\"colorbar\": {\"outlinewidth\": 0, \"ticks\": \"\"}}, \"type\": \"scattercarpet\"}], \"scattergeo\": [{\"marker\": {\"colorbar\": {\"outlinewidth\": 0, \"ticks\": \"\"}}, \"type\": \"scattergeo\"}], \"scattergl\": [{\"marker\": {\"colorbar\": {\"outlinewidth\": 0, \"ticks\": \"\"}}, \"type\": \"scattergl\"}], \"scattermapbox\": [{\"marker\": {\"colorbar\": {\"outlinewidth\": 0, \"ticks\": \"\"}}, \"type\": \"scattermapbox\"}], \"scatterpolar\": [{\"marker\": {\"colorbar\": {\"outlinewidth\": 0, \"ticks\": \"\"}}, \"type\": \"scatterpolar\"}], \"scatterpolargl\": [{\"marker\": {\"colorbar\": {\"outlinewidth\": 0, \"ticks\": \"\"}}, \"type\": \"scatterpolargl\"}], \"scatterternary\": [{\"marker\": {\"colorbar\": {\"outlinewidth\": 0, \"ticks\": \"\"}}, \"type\": \"scatterternary\"}], \"surface\": [{\"colorbar\": {\"outlinewidth\": 0, \"ticks\": \"\"}, \"colorscale\": [[0.0, \"#0d0887\"], [0.1111111111111111, \"#46039f\"], [0.2222222222222222, \"#7201a8\"], [0.3333333333333333, \"#9c179e\"], [0.4444444444444444, \"#bd3786\"], [0.5555555555555556, \"#d8576b\"], [0.6666666666666666, \"#ed7953\"], [0.7777777777777778, \"#fb9f3a\"], [0.8888888888888888, \"#fdca26\"], [1.0, \"#f0f921\"]], \"type\": \"surface\"}], \"table\": [{\"cells\": {\"fill\": {\"color\": \"#EBF0F8\"}, \"line\": {\"color\": \"white\"}}, \"header\": {\"fill\": {\"color\": \"#C8D4E3\"}, \"line\": {\"color\": \"white\"}}, \"type\": \"table\"}]}, \"layout\": {\"annotationdefaults\": {\"arrowcolor\": \"#2a3f5f\", \"arrowhead\": 0, \"arrowwidth\": 1}, \"autotypenumbers\": \"strict\", \"coloraxis\": {\"colorbar\": {\"outlinewidth\": 0, \"ticks\": \"\"}}, \"colorscale\": {\"diverging\": [[0, \"#8e0152\"], [0.1, \"#c51b7d\"], [0.2, \"#de77ae\"], [0.3, \"#f1b6da\"], [0.4, \"#fde0ef\"], [0.5, \"#f7f7f7\"], [0.6, \"#e6f5d0\"], [0.7, \"#b8e186\"], [0.8, \"#7fbc41\"], [0.9, \"#4d9221\"], [1, \"#276419\"]], \"sequential\": [[0.0, \"#0d0887\"], [0.1111111111111111, \"#46039f\"], [0.2222222222222222, \"#7201a8\"], [0.3333333333333333, \"#9c179e\"], [0.4444444444444444, \"#bd3786\"], [0.5555555555555556, \"#d8576b\"], [0.6666666666666666, \"#ed7953\"], [0.7777777777777778, \"#fb9f3a\"], [0.8888888888888888, \"#fdca26\"], [1.0, \"#f0f921\"]], \"sequentialminus\": [[0.0, \"#0d0887\"], [0.1111111111111111, \"#46039f\"], [0.2222222222222222, \"#7201a8\"], [0.3333333333333333, \"#9c179e\"], [0.4444444444444444, \"#bd3786\"], [0.5555555555555556, \"#d8576b\"], [0.6666666666666666, \"#ed7953\"], [0.7777777777777778, \"#fb9f3a\"], [0.8888888888888888, \"#fdca26\"], [1.0, \"#f0f921\"]]}, \"colorway\": [\"#636efa\", \"#EF553B\", \"#00cc96\", \"#ab63fa\", \"#FFA15A\", \"#19d3f3\", \"#FF6692\", \"#B6E880\", \"#FF97FF\", \"#FECB52\"], \"font\": {\"color\": \"#2a3f5f\"}, \"geo\": {\"bgcolor\": \"white\", \"lakecolor\": \"white\", \"landcolor\": \"#E5ECF6\", \"showlakes\": true, \"showland\": true, \"subunitcolor\": \"white\"}, \"hoverlabel\": {\"align\": \"left\"}, \"hovermode\": \"closest\", \"mapbox\": {\"style\": \"light\"}, \"paper_bgcolor\": \"white\", \"plot_bgcolor\": \"#E5ECF6\", \"polar\": {\"angularaxis\": {\"gridcolor\": \"white\", \"linecolor\": \"white\", \"ticks\": \"\"}, \"bgcolor\": \"#E5ECF6\", \"radialaxis\": {\"gridcolor\": \"white\", \"linecolor\": \"white\", \"ticks\": \"\"}}, \"scene\": {\"xaxis\": {\"backgroundcolor\": \"#E5ECF6\", \"gridcolor\": \"white\", \"gridwidth\": 2, \"linecolor\": \"white\", \"showbackground\": true, \"ticks\": \"\", \"zerolinecolor\": \"white\"}, \"yaxis\": {\"backgroundcolor\": \"#E5ECF6\", \"gridcolor\": \"white\", \"gridwidth\": 2, \"linecolor\": \"white\", \"showbackground\": true, \"ticks\": \"\", \"zerolinecolor\": \"white\"}, \"zaxis\": {\"backgroundcolor\": \"#E5ECF6\", \"gridcolor\": \"white\", \"gridwidth\": 2, \"linecolor\": \"white\", \"showbackground\": true, \"ticks\": \"\", \"zerolinecolor\": \"white\"}}, \"shapedefaults\": {\"line\": {\"color\": \"#2a3f5f\"}}, \"ternary\": {\"aaxis\": {\"gridcolor\": \"white\", \"linecolor\": \"white\", \"ticks\": \"\"}, \"baxis\": {\"gridcolor\": \"white\", \"linecolor\": \"white\", \"ticks\": \"\"}, \"bgcolor\": \"#E5ECF6\", \"caxis\": {\"gridcolor\": \"white\", \"linecolor\": \"white\", \"ticks\": \"\"}}, \"title\": {\"x\": 0.05}, \"xaxis\": {\"automargin\": true, \"gridcolor\": \"white\", \"linecolor\": \"white\", \"ticks\": \"\", \"title\": {\"standoff\": 15}, \"zerolinecolor\": \"white\", \"zerolinewidth\": 2}, \"yaxis\": {\"automargin\": true, \"gridcolor\": \"white\", \"linecolor\": \"white\", \"ticks\": \"\", \"title\": {\"standoff\": 15}, \"zerolinecolor\": \"white\", \"zerolinewidth\": 2}}}},                        {\"responsive\": true}                    ).then(function(){\n",
       "                            \n",
       "var gd = document.getElementById('0fa80a01-3edc-4689-b4b9-29e4767ae80c');\n",
       "var x = new MutationObserver(function (mutations, observer) {{\n",
       "        var display = window.getComputedStyle(gd).display;\n",
       "        if (!display || display === 'none') {{\n",
       "            console.log([gd, 'removed!']);\n",
       "            Plotly.purge(gd);\n",
       "            observer.disconnect();\n",
       "        }}\n",
       "}});\n",
       "\n",
       "// Listen for the removal of the full notebook cells\n",
       "var notebookContainer = gd.closest('#notebook-container');\n",
       "if (notebookContainer) {{\n",
       "    x.observe(notebookContainer, {childList: true});\n",
       "}}\n",
       "\n",
       "// Listen for the clearing of the current output cell\n",
       "var outputEl = gd.closest('.output');\n",
       "if (outputEl) {{\n",
       "    x.observe(outputEl, {childList: true});\n",
       "}}\n",
       "\n",
       "                        })                };                });            </script>        </div>"
      ]
     },
     "metadata": {},
     "output_type": "display_data"
    },
    {
     "data": {
      "text/plain": [
       "<matplotlib.colorbar.Colorbar at 0x25364860370>"
      ]
     },
     "execution_count": 6,
     "metadata": {},
     "output_type": "execute_result"
    }
   ],
   "source": [
    "create_sankey_plot('L2')\n",
    "handle.stream_colorbar(orientation='vertical')"
   ]
  },
  {
   "cell_type": "code",
   "execution_count": 19,
   "metadata": {},
   "outputs": [
    {
     "name": "stdout",
     "output_type": "stream",
     "text": [
      "0\n",
      "UnitGroup: Feedstock handling [5 MM$]\n",
      " units: U101, U102, U103\n",
      "1\n",
      "UnitGroup: Juicing [14 MM$]\n",
      " units: U201, U202, U204, M201, T201,\n",
      "        H201, T202, P201, T203, T204,\n",
      "        P202, M202, H202, T205, U205,\n",
      "        U206, P203, U207, U203\n",
      "2\n",
      "UnitGroup: Pretreatment [35 MM$]\n",
      " units: M301, R301, P301, T301, F301,\n",
      "        P302, M302, H301\n",
      "3\n",
      "UnitGroup: EtOH prod. [35 MM$]\n",
      " units: E401, P401, M401, M402, H401,\n",
      "        S403, S401, S402, U402, T403,\n",
      "        R401, M403, U403, M404, T404,\n",
      "        P402, H402, D401, P403, M405,\n",
      "        D402, H403, U401, H404, T405,\n",
      "        P405, P406, M406, P404, MX2\n",
      "4\n",
      "UnitGroup: Wastewater treatment\n",
      " units: M501, U501, R501, M502, R502,\n",
      "        R503, S501, M503, C501, U502\n",
      "5\n",
      "UnitGroup: Oil ext. [14 MM$]\n",
      " units: U601, T601, P601, E601, P602,\n",
      "        C601, H601, T602, C602, F601,\n",
      "        H602, P603, MX1\n",
      "6\n",
      "UnitGroup: CH&P\n",
      " units: M701, BT701\n",
      "7\n",
      "UnitGroup: Biod. prod. [4 MM$]\n",
      " units: T803, P803, P801, P802, T804,\n",
      "        P804, S802, U801, C801, U802,\n",
      "        C802, P805, S801, T806, P809,\n",
      "        C804, T807, P810, H802, D801,\n",
      "        D802, H804, P812, T805, P806,\n",
      "        C803, F801, H801, P808, P807,\n",
      "        U803, H803, P811\n",
      "8\n",
      "UnitGroup: Utilities\n",
      " units: H901, CWP901, U902, ADP901, U901,\n",
      "        PWC901\n",
      "9\n",
      "UnitGroup: Storage\n",
      " units: T1001, T1002, T1003, T1004, T1005,\n",
      "        T1006, T1007, T1008, M1001, T1009\n"
     ]
    }
   ],
   "source": [
    "for i,j in enumerate(lc.unit_groups):\n",
    "    print(i)\n",
    "    j.show()"
   ]
  },
  {
   "cell_type": "code",
   "execution_count": 5,
   "metadata": {},
   "outputs": [
    {
     "ename": "AttributeError",
     "evalue": "module 'biorefineries.lipidcane2g' has no attribute 'M401'",
     "output_type": "error",
     "traceback": [
      "\u001b[1;31m---------------------------------------------------------------------------\u001b[0m",
      "\u001b[1;31mAttributeError\u001b[0m                            Traceback (most recent call last)",
      "\u001b[1;32m<ipython-input-5-10e7c78f8875>\u001b[0m in \u001b[0;36m<module>\u001b[1;34m\u001b[0m\n\u001b[1;32m----> 1\u001b[1;33m \u001b[0mlc\u001b[0m\u001b[1;33m.\u001b[0m\u001b[0mM401\u001b[0m\u001b[1;33m\u001b[0m\u001b[1;33m\u001b[0m\u001b[0m\n\u001b[0m",
      "\u001b[1;31mAttributeError\u001b[0m: module 'biorefineries.lipidcane2g' has no attribute 'M401'"
     ]
    }
   ],
   "source": [
    "lc.M401"
   ]
  },
  {
   "cell_type": "code",
   "execution_count": null,
   "metadata": {},
   "outputs": [],
   "source": [
    "for i in lc.unit_groups[3].units:\n",
    "    print(i.line, i, i.installed_cost / 1e6)"
   ]
  },
  {
   "cell_type": "code",
   "execution_count": null,
   "metadata": {},
   "outputs": [],
   "source": [
    "lc.unit_groups[3].units[0].results()"
   ]
  },
  {
   "cell_type": "code",
   "execution_count": null,
   "metadata": {},
   "outputs": [],
   "source": [
    "for i in lc.unit_groups: i.show()"
   ]
  },
  {
   "cell_type": "code",
   "execution_count": null,
   "metadata": {},
   "outputs": [],
   "source": [
    "sys = sankey_groups[-1].to_system()"
   ]
  },
  {
   "cell_type": "code",
   "execution_count": null,
   "metadata": {},
   "outputs": [],
   "source": [
    "sys"
   ]
  },
  {
   "cell_type": "code",
   "execution_count": null,
   "metadata": {},
   "outputs": [],
   "source": [
    "for i in sankey_groups[-1].units: i.show()"
   ]
  },
  {
   "cell_type": "code",
   "execution_count": null,
   "metadata": {},
   "outputs": [],
   "source": [
    "sankey_groups[1].get_inlet_flow('kg/s')"
   ]
  },
  {
   "cell_type": "code",
   "execution_count": null,
   "metadata": {},
   "outputs": [],
   "source": [
    "sankey_groups[1].get_outlet_flow('kg/s')"
   ]
  },
  {
   "cell_type": "code",
   "execution_count": null,
   "metadata": {},
   "outputs": [],
   "source": []
  }
 ],
 "metadata": {
  "kernelspec": {
   "display_name": "Python 3",
   "language": "python",
   "name": "python3"
  },
  "language_info": {
   "codemirror_mode": {
    "name": "ipython",
    "version": 3
   },
   "file_extension": ".py",
   "mimetype": "text/x-python",
   "name": "python",
   "nbconvert_exporter": "python",
   "pygments_lexer": "ipython3",
   "version": "3.8.5"
  }
 },
 "nbformat": 4,
 "nbformat_minor": 4
}
