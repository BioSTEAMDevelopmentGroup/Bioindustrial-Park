{
 "cells": [
  {
   "cell_type": "code",
   "execution_count": 50,
   "metadata": {},
   "outputs": [],
   "source": [
    "from biorefineries import lipidcane2g as lc\n",
    "import biosteam as bst\n",
    "from biosteam.plots import sankey\n",
    "\n",
    "@bst.utils.piping.ignore_docking_warnings\n",
    "def create_sankey_plot(name):\n",
    "    lc.load(name)\n",
    "    if name == 0:\n",
    "        *sankey_groups, CHP, utilities, storage = lc.unit_groups\n",
    "        lc.pressed_bagasse.ID = 'bagasse'\n",
    "    elif name == 1:\n",
    "        *sankey_groups, wastewater,oil_ext, CHP, etoh_sep, biod_prod, utilities, storage = lc.unit_groups\n",
    "        sankey_groups += [oil_ext, etoh_sep, biod_prod]\n",
    "    lc.rvf_wash_water.ID = 'RVF_wash_water'\n",
    "    for i in storage.units: \n",
    "        if 'storage' in i.line.lower():\n",
    "            feed, = i.ins\n",
    "            product, = i.outs\n",
    "            source = feed.source\n",
    "            sink = product.sink\n",
    "            if sink: feed - sink\n",
    "            if source: source - product\n",
    "    if name == 0:\n",
    "        for i in sankey_groups:\n",
    "            if i.name == 'EtOH prod.':\n",
    "                MX = bst.Mixer('MX',\n",
    "                               (lc.evaporator_condensate, lc.stripper_bottoms_product, lc.water_vapor),\n",
    "                               'recycle_process_water')\n",
    "                MX.simulate()\n",
    "                i.units.append(MX)\n",
    "                break\n",
    "        ignored = [lc.D602.outs[0], lc.H604.ins[0]]\n",
    "    elif name == 1:\n",
    "        for i in sankey_groups:\n",
    "            if i.name == 'Oil ext.':\n",
    "                wastewater = lc.wastewater\n",
    "                wastewater.ID = ''\n",
    "                MX = bst.Mixer('MX',\n",
    "                               (lc.spent_wash_water, wastewater, lc.water_vapor),\n",
    "                               'wastewater')\n",
    "                MX.simulate()\n",
    "                i.units.append(MX)\n",
    "                break\n",
    "        lc.vent_1._ID = lc.vent_2._ID = 'vent'\n",
    "        lc.E301.outs[1]._ID = lc.P901.outs[0]._ID = lc.evaporator_condensate._ID = 'recycle_process_water'\n",
    "        lc.U504.outs[0].ID = 'lignin'\n",
    "        lc.waste.ID = lc.pretreatment_wastewater.ID = 'wastewater'\n",
    "        lc.stripping_water_area_500.ID = lc.stripping_water_area_700.ID = 'stripping_water'\n",
    "        lc.warm_process_water.ID = 'process_water'\n",
    "        ignored = [lc.H1104.ins[0], lc.U504.ins[1]]\n",
    "    sankey_installed_cost = {u.name: sum([i.installed_cost for i in u.units]) for u in sankey_groups}\n",
    "    max_installed_cost_of_groups = max(sankey_installed_cost.values())\n",
    "    handle = sankey.CarbonHandle(max_installed_cost_of_groups, max_feeds=20, max_products=20,\n",
    "                                 ignore=ignored)\n",
    "    nodes = handle.nodes(sankey_groups)\n",
    "    data = handle.sankey_data(nodes)\n",
    "    fig = handle.sankey_figure(nodes)\n",
    "    fig.show()\n",
    "    dct = globals()\n",
    "    dct.update(locals())"
   ]
  },
  {
   "cell_type": "code",
   "execution_count": 51,
   "metadata": {},
   "outputs": [
    {
     "data": {
      "application/vnd.plotly.v1+json": {
       "config": {
        "plotlyServerURL": "https://plot.ly"
       },
       "data": [
        {
         "link": {
          "color": [
           "rgba(225, 225, 224, 1.0)",
           "rgba(234, 234, 234, 1.0)",
           "rgba(215, 215, 214, 1.0)",
           "rgba(213, 214, 213, 1.0)",
           "rgba(224, 224, 224, 1.0)",
           "rgba(232, 232, 231, 1.0)",
           "rgba(213, 214, 213, 1.0)",
           "rgba(165, 166, 163, 1.0)",
           "rgba(225, 225, 224, 1.0)",
           "rgba(202, 203, 202, 1.0)",
           "rgba(234, 234, 233, 1.0)",
           "rgba(158, 159, 157, 1.0)",
           "rgba(238, 238, 238, 1.0)",
           "rgba(235, 236, 235, 1.0)",
           "rgba(238, 238, 238, 1.0)",
           "rgba(238, 238, 238, 1.0)",
           "rgba(206, 207, 205, 1.0)",
           "rgba(238, 238, 238, 1.0)",
           "rgba(238, 238, 238, 1.0)",
           "rgba(238, 238, 238, 1.0)",
           "rgba(238, 238, 238, 1.0)",
           "rgba(238, 238, 238, 1.0)",
           "rgba(238, 238, 238, 1.0)",
           "rgba(238, 238, 238, 1.0)",
           "rgba(238, 238, 238, 1.0)",
           "rgba(238, 238, 238, 1.0)",
           "rgba(238, 238, 238, 1.0)",
           "rgba(238, 238, 238, 1.0)",
           "rgba(238, 238, 238, 1.0)",
           "rgba(188, 189, 187, 1.0)",
           "rgba(165, 166, 164, 1.0)",
           "rgba(208, 209, 207, 1.0)",
           "rgba(167, 167, 165, 1.0)",
           "rgba(238, 238, 238, 1.0)",
           "rgba(212, 212, 211, 1.0)",
           "rgba(213, 213, 212, 1.0)",
           "rgba(238, 238, 238, 1.0)",
           "rgba(205, 205, 204, 1.0)",
           "rgba(238, 238, 237, 1.0)",
           "rgba(229, 229, 229, 1.0)",
           "rgba(224, 224, 224, 1.0)",
           "rgba(237, 237, 237, 1.0)",
           "rgba(237, 237, 237, 1.0)",
           "rgba(234, 234, 233, 1.0)"
          ],
          "source": [
           0,
           1,
           1,
           2,
           3,
           4,
           4,
           5,
           8,
           9,
           10,
           11,
           12,
           13,
           14,
           15,
           16,
           17,
           18,
           19,
           20,
           21,
           22,
           23,
           24,
           25,
           26,
           27,
           28,
           6,
           7,
           7,
           7,
           2,
           2,
           4,
           6,
           4,
           5,
           1,
           5,
           2,
           3,
           1
          ],
          "target": [
           1,
           2,
           3,
           6,
           4,
           5,
           6,
           7,
           0,
           7,
           1,
           6,
           4,
           4,
           4,
           1,
           7,
           7,
           7,
           7,
           2,
           5,
           4,
           4,
           3,
           3,
           1,
           1,
           1,
           29,
           30,
           31,
           32,
           33,
           34,
           35,
           36,
           37,
           38,
           39,
           40,
           41,
           42,
           43
          ],
          "value": [
           333333.334,
           260245.00261309312,
           146880.1965311848,
           22572.06422279272,
           241600.97923060384,
           327862.01612677256,
           11659.785335114888,
           9399.627249207284,
           333333.334,
           1010.7010392128188,
           1000.0000020000001,
           379.66606053434737,
           127.50855754419828,
           278.06415991340833,
           996.3867272623075,
           333.333334,
           0.1588266020780069,
           241.19413758981574,
           0.3553451999620555,
           0.03985617707713043,
           26836,
           31645.866510134016,
           120443.40288668548,
           7189.908606495802,
           30153.49666847055,
           93907.01089698702,
           166.666667,
           0.83,
           83406.38817011614,
           17637.74002209824,
           9312.29623974901,
           1206.3618764544206,
           133.79654787000848,
           158620.7329914954,
           10774.700442489633,
           5605.158809231749,
           16973.775596343716,
           25508.459080552635,
           254458.3345519643,
           9931.273754388045,
           95649.92083573493,
           95199.52778596374,
           29339.734523738687,
           525.7569525931445
          ]
         },
         "node": {
          "color": [
           "rgba(228, 166, 17, 1.0)",
           "rgba(189, 138, 14, 1.0)",
           "rgba(221, 161, 16, 1.0)",
           "rgba(101, 74, 7, 1.0)",
           "rgba(63, 46, 4, 1.0)",
           "rgba(227, 166, 17, 1.0)",
           "rgba(224, 163, 16, 1.0)",
           "rgba(236, 172, 17, 1.0)",
           "rgba(225, 225, 224, 1.0)",
           "rgba(202, 203, 202, 1.0)",
           "rgba(234, 234, 233, 1.0)",
           "rgba(158, 159, 157, 1.0)",
           "rgba(238, 238, 238, 1.0)",
           "rgba(235, 236, 235, 1.0)",
           "rgba(238, 238, 238, 1.0)",
           "rgba(238, 238, 238, 1.0)",
           "rgba(206, 207, 205, 1.0)",
           "rgba(238, 238, 238, 1.0)",
           "rgba(238, 238, 238, 1.0)",
           "rgba(238, 238, 238, 1.0)",
           "rgba(238, 238, 238, 1.0)",
           "rgba(238, 238, 238, 1.0)",
           "rgba(238, 238, 238, 1.0)",
           "rgba(238, 238, 238, 1.0)",
           "rgba(238, 238, 238, 1.0)",
           "rgba(238, 238, 238, 1.0)",
           "rgba(238, 238, 238, 1.0)",
           "rgba(238, 238, 238, 1.0)",
           "rgba(238, 238, 238, 1.0)",
           "rgba(188, 189, 187, 1.0)",
           "rgba(165, 166, 164, 1.0)",
           "rgba(208, 209, 207, 1.0)",
           "rgba(167, 167, 165, 1.0)",
           "rgba(238, 238, 238, 1.0)",
           "rgba(212, 212, 211, 1.0)",
           "rgba(213, 213, 212, 1.0)",
           "rgba(238, 238, 238, 1.0)",
           "rgba(205, 205, 204, 1.0)",
           "rgba(238, 238, 237, 1.0)",
           "rgba(229, 229, 229, 1.0)",
           "rgba(224, 224, 224, 1.0)",
           "rgba(237, 237, 237, 1.0)",
           "rgba(237, 237, 237, 1.0)",
           "rgba(234, 234, 233, 1.0)"
          ],
          "label": [
           "Feedstock handling",
           "Juicing",
           "Conv. ferm.",
           "Pretreatment",
           "Cofementation",
           "Oil ext.",
           "Ethanol sep.",
           "Biod. prod.",
           "lipidcane",
           "methanol",
           "enzyme",
           "denaturant",
           "DAP",
           "cellulase",
           "CSL",
           "lime",
           "catalyst",
           "biodiesel wash water",
           "HCl",
           "NaOH",
           "stripping water",
           "lipid wash water",
           "saccharification water",
           "stripping water",
           "pretreatment steam",
           "warm process water",
           "H3PO4",
           "polymer",
           "",
           "ethanol",
           "biodiesel",
           "crude glycerol",
           "wastewater",
           "recycle process water",
           "vent",
           "vent",
           "recycle process water",
           "lignin",
           "recycle process water",
           "filter cake",
           "wastewater",
           "vinasse",
           "wastewater",
           "fiber fines"
          ]
         },
         "type": "sankey"
        }
       ],
       "layout": {
        "template": {
         "data": {
          "bar": [
           {
            "error_x": {
             "color": "#2a3f5f"
            },
            "error_y": {
             "color": "#2a3f5f"
            },
            "marker": {
             "line": {
              "color": "#E5ECF6",
              "width": 0.5
             }
            },
            "type": "bar"
           }
          ],
          "barpolar": [
           {
            "marker": {
             "line": {
              "color": "#E5ECF6",
              "width": 0.5
             }
            },
            "type": "barpolar"
           }
          ],
          "carpet": [
           {
            "aaxis": {
             "endlinecolor": "#2a3f5f",
             "gridcolor": "white",
             "linecolor": "white",
             "minorgridcolor": "white",
             "startlinecolor": "#2a3f5f"
            },
            "baxis": {
             "endlinecolor": "#2a3f5f",
             "gridcolor": "white",
             "linecolor": "white",
             "minorgridcolor": "white",
             "startlinecolor": "#2a3f5f"
            },
            "type": "carpet"
           }
          ],
          "choropleth": [
           {
            "colorbar": {
             "outlinewidth": 0,
             "ticks": ""
            },
            "type": "choropleth"
           }
          ],
          "contour": [
           {
            "colorbar": {
             "outlinewidth": 0,
             "ticks": ""
            },
            "colorscale": [
             [
              0,
              "#0d0887"
             ],
             [
              0.1111111111111111,
              "#46039f"
             ],
             [
              0.2222222222222222,
              "#7201a8"
             ],
             [
              0.3333333333333333,
              "#9c179e"
             ],
             [
              0.4444444444444444,
              "#bd3786"
             ],
             [
              0.5555555555555556,
              "#d8576b"
             ],
             [
              0.6666666666666666,
              "#ed7953"
             ],
             [
              0.7777777777777778,
              "#fb9f3a"
             ],
             [
              0.8888888888888888,
              "#fdca26"
             ],
             [
              1,
              "#f0f921"
             ]
            ],
            "type": "contour"
           }
          ],
          "contourcarpet": [
           {
            "colorbar": {
             "outlinewidth": 0,
             "ticks": ""
            },
            "type": "contourcarpet"
           }
          ],
          "heatmap": [
           {
            "colorbar": {
             "outlinewidth": 0,
             "ticks": ""
            },
            "colorscale": [
             [
              0,
              "#0d0887"
             ],
             [
              0.1111111111111111,
              "#46039f"
             ],
             [
              0.2222222222222222,
              "#7201a8"
             ],
             [
              0.3333333333333333,
              "#9c179e"
             ],
             [
              0.4444444444444444,
              "#bd3786"
             ],
             [
              0.5555555555555556,
              "#d8576b"
             ],
             [
              0.6666666666666666,
              "#ed7953"
             ],
             [
              0.7777777777777778,
              "#fb9f3a"
             ],
             [
              0.8888888888888888,
              "#fdca26"
             ],
             [
              1,
              "#f0f921"
             ]
            ],
            "type": "heatmap"
           }
          ],
          "heatmapgl": [
           {
            "colorbar": {
             "outlinewidth": 0,
             "ticks": ""
            },
            "colorscale": [
             [
              0,
              "#0d0887"
             ],
             [
              0.1111111111111111,
              "#46039f"
             ],
             [
              0.2222222222222222,
              "#7201a8"
             ],
             [
              0.3333333333333333,
              "#9c179e"
             ],
             [
              0.4444444444444444,
              "#bd3786"
             ],
             [
              0.5555555555555556,
              "#d8576b"
             ],
             [
              0.6666666666666666,
              "#ed7953"
             ],
             [
              0.7777777777777778,
              "#fb9f3a"
             ],
             [
              0.8888888888888888,
              "#fdca26"
             ],
             [
              1,
              "#f0f921"
             ]
            ],
            "type": "heatmapgl"
           }
          ],
          "histogram": [
           {
            "marker": {
             "colorbar": {
              "outlinewidth": 0,
              "ticks": ""
             }
            },
            "type": "histogram"
           }
          ],
          "histogram2d": [
           {
            "colorbar": {
             "outlinewidth": 0,
             "ticks": ""
            },
            "colorscale": [
             [
              0,
              "#0d0887"
             ],
             [
              0.1111111111111111,
              "#46039f"
             ],
             [
              0.2222222222222222,
              "#7201a8"
             ],
             [
              0.3333333333333333,
              "#9c179e"
             ],
             [
              0.4444444444444444,
              "#bd3786"
             ],
             [
              0.5555555555555556,
              "#d8576b"
             ],
             [
              0.6666666666666666,
              "#ed7953"
             ],
             [
              0.7777777777777778,
              "#fb9f3a"
             ],
             [
              0.8888888888888888,
              "#fdca26"
             ],
             [
              1,
              "#f0f921"
             ]
            ],
            "type": "histogram2d"
           }
          ],
          "histogram2dcontour": [
           {
            "colorbar": {
             "outlinewidth": 0,
             "ticks": ""
            },
            "colorscale": [
             [
              0,
              "#0d0887"
             ],
             [
              0.1111111111111111,
              "#46039f"
             ],
             [
              0.2222222222222222,
              "#7201a8"
             ],
             [
              0.3333333333333333,
              "#9c179e"
             ],
             [
              0.4444444444444444,
              "#bd3786"
             ],
             [
              0.5555555555555556,
              "#d8576b"
             ],
             [
              0.6666666666666666,
              "#ed7953"
             ],
             [
              0.7777777777777778,
              "#fb9f3a"
             ],
             [
              0.8888888888888888,
              "#fdca26"
             ],
             [
              1,
              "#f0f921"
             ]
            ],
            "type": "histogram2dcontour"
           }
          ],
          "mesh3d": [
           {
            "colorbar": {
             "outlinewidth": 0,
             "ticks": ""
            },
            "type": "mesh3d"
           }
          ],
          "parcoords": [
           {
            "line": {
             "colorbar": {
              "outlinewidth": 0,
              "ticks": ""
             }
            },
            "type": "parcoords"
           }
          ],
          "pie": [
           {
            "automargin": true,
            "type": "pie"
           }
          ],
          "scatter": [
           {
            "marker": {
             "colorbar": {
              "outlinewidth": 0,
              "ticks": ""
             }
            },
            "type": "scatter"
           }
          ],
          "scatter3d": [
           {
            "line": {
             "colorbar": {
              "outlinewidth": 0,
              "ticks": ""
             }
            },
            "marker": {
             "colorbar": {
              "outlinewidth": 0,
              "ticks": ""
             }
            },
            "type": "scatter3d"
           }
          ],
          "scattercarpet": [
           {
            "marker": {
             "colorbar": {
              "outlinewidth": 0,
              "ticks": ""
             }
            },
            "type": "scattercarpet"
           }
          ],
          "scattergeo": [
           {
            "marker": {
             "colorbar": {
              "outlinewidth": 0,
              "ticks": ""
             }
            },
            "type": "scattergeo"
           }
          ],
          "scattergl": [
           {
            "marker": {
             "colorbar": {
              "outlinewidth": 0,
              "ticks": ""
             }
            },
            "type": "scattergl"
           }
          ],
          "scattermapbox": [
           {
            "marker": {
             "colorbar": {
              "outlinewidth": 0,
              "ticks": ""
             }
            },
            "type": "scattermapbox"
           }
          ],
          "scatterpolar": [
           {
            "marker": {
             "colorbar": {
              "outlinewidth": 0,
              "ticks": ""
             }
            },
            "type": "scatterpolar"
           }
          ],
          "scatterpolargl": [
           {
            "marker": {
             "colorbar": {
              "outlinewidth": 0,
              "ticks": ""
             }
            },
            "type": "scatterpolargl"
           }
          ],
          "scatterternary": [
           {
            "marker": {
             "colorbar": {
              "outlinewidth": 0,
              "ticks": ""
             }
            },
            "type": "scatterternary"
           }
          ],
          "surface": [
           {
            "colorbar": {
             "outlinewidth": 0,
             "ticks": ""
            },
            "colorscale": [
             [
              0,
              "#0d0887"
             ],
             [
              0.1111111111111111,
              "#46039f"
             ],
             [
              0.2222222222222222,
              "#7201a8"
             ],
             [
              0.3333333333333333,
              "#9c179e"
             ],
             [
              0.4444444444444444,
              "#bd3786"
             ],
             [
              0.5555555555555556,
              "#d8576b"
             ],
             [
              0.6666666666666666,
              "#ed7953"
             ],
             [
              0.7777777777777778,
              "#fb9f3a"
             ],
             [
              0.8888888888888888,
              "#fdca26"
             ],
             [
              1,
              "#f0f921"
             ]
            ],
            "type": "surface"
           }
          ],
          "table": [
           {
            "cells": {
             "fill": {
              "color": "#EBF0F8"
             },
             "line": {
              "color": "white"
             }
            },
            "header": {
             "fill": {
              "color": "#C8D4E3"
             },
             "line": {
              "color": "white"
             }
            },
            "type": "table"
           }
          ]
         },
         "layout": {
          "annotationdefaults": {
           "arrowcolor": "#2a3f5f",
           "arrowhead": 0,
           "arrowwidth": 1
          },
          "autotypenumbers": "strict",
          "coloraxis": {
           "colorbar": {
            "outlinewidth": 0,
            "ticks": ""
           }
          },
          "colorscale": {
           "diverging": [
            [
             0,
             "#8e0152"
            ],
            [
             0.1,
             "#c51b7d"
            ],
            [
             0.2,
             "#de77ae"
            ],
            [
             0.3,
             "#f1b6da"
            ],
            [
             0.4,
             "#fde0ef"
            ],
            [
             0.5,
             "#f7f7f7"
            ],
            [
             0.6,
             "#e6f5d0"
            ],
            [
             0.7,
             "#b8e186"
            ],
            [
             0.8,
             "#7fbc41"
            ],
            [
             0.9,
             "#4d9221"
            ],
            [
             1,
             "#276419"
            ]
           ],
           "sequential": [
            [
             0,
             "#0d0887"
            ],
            [
             0.1111111111111111,
             "#46039f"
            ],
            [
             0.2222222222222222,
             "#7201a8"
            ],
            [
             0.3333333333333333,
             "#9c179e"
            ],
            [
             0.4444444444444444,
             "#bd3786"
            ],
            [
             0.5555555555555556,
             "#d8576b"
            ],
            [
             0.6666666666666666,
             "#ed7953"
            ],
            [
             0.7777777777777778,
             "#fb9f3a"
            ],
            [
             0.8888888888888888,
             "#fdca26"
            ],
            [
             1,
             "#f0f921"
            ]
           ],
           "sequentialminus": [
            [
             0,
             "#0d0887"
            ],
            [
             0.1111111111111111,
             "#46039f"
            ],
            [
             0.2222222222222222,
             "#7201a8"
            ],
            [
             0.3333333333333333,
             "#9c179e"
            ],
            [
             0.4444444444444444,
             "#bd3786"
            ],
            [
             0.5555555555555556,
             "#d8576b"
            ],
            [
             0.6666666666666666,
             "#ed7953"
            ],
            [
             0.7777777777777778,
             "#fb9f3a"
            ],
            [
             0.8888888888888888,
             "#fdca26"
            ],
            [
             1,
             "#f0f921"
            ]
           ]
          },
          "colorway": [
           "#636efa",
           "#EF553B",
           "#00cc96",
           "#ab63fa",
           "#FFA15A",
           "#19d3f3",
           "#FF6692",
           "#B6E880",
           "#FF97FF",
           "#FECB52"
          ],
          "font": {
           "color": "#2a3f5f"
          },
          "geo": {
           "bgcolor": "white",
           "lakecolor": "white",
           "landcolor": "#E5ECF6",
           "showlakes": true,
           "showland": true,
           "subunitcolor": "white"
          },
          "hoverlabel": {
           "align": "left"
          },
          "hovermode": "closest",
          "mapbox": {
           "style": "light"
          },
          "paper_bgcolor": "white",
          "plot_bgcolor": "#E5ECF6",
          "polar": {
           "angularaxis": {
            "gridcolor": "white",
            "linecolor": "white",
            "ticks": ""
           },
           "bgcolor": "#E5ECF6",
           "radialaxis": {
            "gridcolor": "white",
            "linecolor": "white",
            "ticks": ""
           }
          },
          "scene": {
           "xaxis": {
            "backgroundcolor": "#E5ECF6",
            "gridcolor": "white",
            "gridwidth": 2,
            "linecolor": "white",
            "showbackground": true,
            "ticks": "",
            "zerolinecolor": "white"
           },
           "yaxis": {
            "backgroundcolor": "#E5ECF6",
            "gridcolor": "white",
            "gridwidth": 2,
            "linecolor": "white",
            "showbackground": true,
            "ticks": "",
            "zerolinecolor": "white"
           },
           "zaxis": {
            "backgroundcolor": "#E5ECF6",
            "gridcolor": "white",
            "gridwidth": 2,
            "linecolor": "white",
            "showbackground": true,
            "ticks": "",
            "zerolinecolor": "white"
           }
          },
          "shapedefaults": {
           "line": {
            "color": "#2a3f5f"
           }
          },
          "ternary": {
           "aaxis": {
            "gridcolor": "white",
            "linecolor": "white",
            "ticks": ""
           },
           "baxis": {
            "gridcolor": "white",
            "linecolor": "white",
            "ticks": ""
           },
           "bgcolor": "#E5ECF6",
           "caxis": {
            "gridcolor": "white",
            "linecolor": "white",
            "ticks": ""
           }
          },
          "title": {
           "x": 0.05
          },
          "xaxis": {
           "automargin": true,
           "gridcolor": "white",
           "linecolor": "white",
           "ticks": "",
           "title": {
            "standoff": 15
           },
           "zerolinecolor": "white",
           "zerolinewidth": 2
          },
          "yaxis": {
           "automargin": true,
           "gridcolor": "white",
           "linecolor": "white",
           "ticks": "",
           "title": {
            "standoff": 15
           },
           "zerolinecolor": "white",
           "zerolinewidth": 2
          }
         }
        }
       }
      },
      "text/html": [
       "<div>                            <div id=\"d2e94e7f-2d84-4127-bad2-4a5f2bb0a6b5\" class=\"plotly-graph-div\" style=\"height:525px; width:100%;\"></div>            <script type=\"text/javascript\">                require([\"plotly\"], function(Plotly) {                    window.PLOTLYENV=window.PLOTLYENV || {};                                    if (document.getElementById(\"d2e94e7f-2d84-4127-bad2-4a5f2bb0a6b5\")) {                    Plotly.newPlot(                        \"d2e94e7f-2d84-4127-bad2-4a5f2bb0a6b5\",                        [{\"link\": {\"color\": [\"rgba(225, 225, 224, 1.0)\", \"rgba(234, 234, 234, 1.0)\", \"rgba(215, 215, 214, 1.0)\", \"rgba(213, 214, 213, 1.0)\", \"rgba(224, 224, 224, 1.0)\", \"rgba(232, 232, 231, 1.0)\", \"rgba(213, 214, 213, 1.0)\", \"rgba(165, 166, 163, 1.0)\", \"rgba(225, 225, 224, 1.0)\", \"rgba(202, 203, 202, 1.0)\", \"rgba(234, 234, 233, 1.0)\", \"rgba(158, 159, 157, 1.0)\", \"rgba(238, 238, 238, 1.0)\", \"rgba(235, 236, 235, 1.0)\", \"rgba(238, 238, 238, 1.0)\", \"rgba(238, 238, 238, 1.0)\", \"rgba(206, 207, 205, 1.0)\", \"rgba(238, 238, 238, 1.0)\", \"rgba(238, 238, 238, 1.0)\", \"rgba(238, 238, 238, 1.0)\", \"rgba(238, 238, 238, 1.0)\", \"rgba(238, 238, 238, 1.0)\", \"rgba(238, 238, 238, 1.0)\", \"rgba(238, 238, 238, 1.0)\", \"rgba(238, 238, 238, 1.0)\", \"rgba(238, 238, 238, 1.0)\", \"rgba(238, 238, 238, 1.0)\", \"rgba(238, 238, 238, 1.0)\", \"rgba(238, 238, 238, 1.0)\", \"rgba(188, 189, 187, 1.0)\", \"rgba(165, 166, 164, 1.0)\", \"rgba(208, 209, 207, 1.0)\", \"rgba(167, 167, 165, 1.0)\", \"rgba(238, 238, 238, 1.0)\", \"rgba(212, 212, 211, 1.0)\", \"rgba(213, 213, 212, 1.0)\", \"rgba(238, 238, 238, 1.0)\", \"rgba(205, 205, 204, 1.0)\", \"rgba(238, 238, 237, 1.0)\", \"rgba(229, 229, 229, 1.0)\", \"rgba(224, 224, 224, 1.0)\", \"rgba(237, 237, 237, 1.0)\", \"rgba(237, 237, 237, 1.0)\", \"rgba(234, 234, 233, 1.0)\"], \"source\": [0, 1, 1, 2, 3, 4, 4, 5, 8, 9, 10, 11, 12, 13, 14, 15, 16, 17, 18, 19, 20, 21, 22, 23, 24, 25, 26, 27, 28, 6, 7, 7, 7, 2, 2, 4, 6, 4, 5, 1, 5, 2, 3, 1], \"target\": [1, 2, 3, 6, 4, 5, 6, 7, 0, 7, 1, 6, 4, 4, 4, 1, 7, 7, 7, 7, 2, 5, 4, 4, 3, 3, 1, 1, 1, 29, 30, 31, 32, 33, 34, 35, 36, 37, 38, 39, 40, 41, 42, 43], \"value\": [333333.334, 260245.00261309312, 146880.1965311848, 22572.06422279272, 241600.97923060384, 327862.01612677256, 11659.785335114888, 9399.627249207284, 333333.334, 1010.7010392128188, 1000.0000020000001, 379.66606053434737, 127.50855754419828, 278.06415991340833, 996.3867272623075, 333.333334, 0.1588266020780069, 241.19413758981574, 0.3553451999620555, 0.03985617707713043, 26836.0, 31645.866510134016, 120443.40288668548, 7189.908606495802, 30153.49666847055, 93907.01089698702, 166.666667, 0.83, 83406.38817011614, 17637.74002209824, 9312.29623974901, 1206.3618764544206, 133.79654787000848, 158620.7329914954, 10774.700442489633, 5605.158809231749, 16973.775596343716, 25508.459080552635, 254458.3345519643, 9931.273754388045, 95649.92083573493, 95199.52778596374, 29339.734523738687, 525.7569525931445]}, \"node\": {\"color\": [\"rgba(228, 166, 17, 1.0)\", \"rgba(189, 138, 14, 1.0)\", \"rgba(221, 161, 16, 1.0)\", \"rgba(101, 74, 7, 1.0)\", \"rgba(63, 46, 4, 1.0)\", \"rgba(227, 166, 17, 1.0)\", \"rgba(224, 163, 16, 1.0)\", \"rgba(236, 172, 17, 1.0)\", \"rgba(225, 225, 224, 1.0)\", \"rgba(202, 203, 202, 1.0)\", \"rgba(234, 234, 233, 1.0)\", \"rgba(158, 159, 157, 1.0)\", \"rgba(238, 238, 238, 1.0)\", \"rgba(235, 236, 235, 1.0)\", \"rgba(238, 238, 238, 1.0)\", \"rgba(238, 238, 238, 1.0)\", \"rgba(206, 207, 205, 1.0)\", \"rgba(238, 238, 238, 1.0)\", \"rgba(238, 238, 238, 1.0)\", \"rgba(238, 238, 238, 1.0)\", \"rgba(238, 238, 238, 1.0)\", \"rgba(238, 238, 238, 1.0)\", \"rgba(238, 238, 238, 1.0)\", \"rgba(238, 238, 238, 1.0)\", \"rgba(238, 238, 238, 1.0)\", \"rgba(238, 238, 238, 1.0)\", \"rgba(238, 238, 238, 1.0)\", \"rgba(238, 238, 238, 1.0)\", \"rgba(238, 238, 238, 1.0)\", \"rgba(188, 189, 187, 1.0)\", \"rgba(165, 166, 164, 1.0)\", \"rgba(208, 209, 207, 1.0)\", \"rgba(167, 167, 165, 1.0)\", \"rgba(238, 238, 238, 1.0)\", \"rgba(212, 212, 211, 1.0)\", \"rgba(213, 213, 212, 1.0)\", \"rgba(238, 238, 238, 1.0)\", \"rgba(205, 205, 204, 1.0)\", \"rgba(238, 238, 237, 1.0)\", \"rgba(229, 229, 229, 1.0)\", \"rgba(224, 224, 224, 1.0)\", \"rgba(237, 237, 237, 1.0)\", \"rgba(237, 237, 237, 1.0)\", \"rgba(234, 234, 233, 1.0)\"], \"label\": [\"Feedstock handling\", \"Juicing\", \"Conv. ferm.\", \"Pretreatment\", \"Cofementation\", \"Oil ext.\", \"Ethanol sep.\", \"Biod. prod.\", \"lipidcane\", \"methanol\", \"enzyme\", \"denaturant\", \"DAP\", \"cellulase\", \"CSL\", \"lime\", \"catalyst\", \"biodiesel wash water\", \"HCl\", \"NaOH\", \"stripping water\", \"lipid wash water\", \"saccharification water\", \"stripping water\", \"pretreatment steam\", \"warm process water\", \"H3PO4\", \"polymer\", \"\", \"ethanol\", \"biodiesel\", \"crude glycerol\", \"wastewater\", \"recycle process water\", \"vent\", \"vent\", \"recycle process water\", \"lignin\", \"recycle process water\", \"filter cake\", \"wastewater\", \"vinasse\", \"wastewater\", \"fiber fines\"]}, \"type\": \"sankey\"}],                        {\"template\": {\"data\": {\"bar\": [{\"error_x\": {\"color\": \"#2a3f5f\"}, \"error_y\": {\"color\": \"#2a3f5f\"}, \"marker\": {\"line\": {\"color\": \"#E5ECF6\", \"width\": 0.5}}, \"type\": \"bar\"}], \"barpolar\": [{\"marker\": {\"line\": {\"color\": \"#E5ECF6\", \"width\": 0.5}}, \"type\": \"barpolar\"}], \"carpet\": [{\"aaxis\": {\"endlinecolor\": \"#2a3f5f\", \"gridcolor\": \"white\", \"linecolor\": \"white\", \"minorgridcolor\": \"white\", \"startlinecolor\": \"#2a3f5f\"}, \"baxis\": {\"endlinecolor\": \"#2a3f5f\", \"gridcolor\": \"white\", \"linecolor\": \"white\", \"minorgridcolor\": \"white\", \"startlinecolor\": \"#2a3f5f\"}, \"type\": \"carpet\"}], \"choropleth\": [{\"colorbar\": {\"outlinewidth\": 0, \"ticks\": \"\"}, \"type\": \"choropleth\"}], \"contour\": [{\"colorbar\": {\"outlinewidth\": 0, \"ticks\": \"\"}, \"colorscale\": [[0.0, \"#0d0887\"], [0.1111111111111111, \"#46039f\"], [0.2222222222222222, \"#7201a8\"], [0.3333333333333333, \"#9c179e\"], [0.4444444444444444, \"#bd3786\"], [0.5555555555555556, \"#d8576b\"], [0.6666666666666666, \"#ed7953\"], [0.7777777777777778, \"#fb9f3a\"], [0.8888888888888888, \"#fdca26\"], [1.0, \"#f0f921\"]], \"type\": \"contour\"}], \"contourcarpet\": [{\"colorbar\": {\"outlinewidth\": 0, \"ticks\": \"\"}, \"type\": \"contourcarpet\"}], \"heatmap\": [{\"colorbar\": {\"outlinewidth\": 0, \"ticks\": \"\"}, \"colorscale\": [[0.0, \"#0d0887\"], [0.1111111111111111, \"#46039f\"], [0.2222222222222222, \"#7201a8\"], [0.3333333333333333, \"#9c179e\"], [0.4444444444444444, \"#bd3786\"], [0.5555555555555556, \"#d8576b\"], [0.6666666666666666, \"#ed7953\"], [0.7777777777777778, \"#fb9f3a\"], [0.8888888888888888, \"#fdca26\"], [1.0, \"#f0f921\"]], \"type\": \"heatmap\"}], \"heatmapgl\": [{\"colorbar\": {\"outlinewidth\": 0, \"ticks\": \"\"}, \"colorscale\": [[0.0, \"#0d0887\"], [0.1111111111111111, \"#46039f\"], [0.2222222222222222, \"#7201a8\"], [0.3333333333333333, \"#9c179e\"], [0.4444444444444444, \"#bd3786\"], [0.5555555555555556, \"#d8576b\"], [0.6666666666666666, \"#ed7953\"], [0.7777777777777778, \"#fb9f3a\"], [0.8888888888888888, \"#fdca26\"], [1.0, \"#f0f921\"]], \"type\": \"heatmapgl\"}], \"histogram\": [{\"marker\": {\"colorbar\": {\"outlinewidth\": 0, \"ticks\": \"\"}}, \"type\": \"histogram\"}], \"histogram2d\": [{\"colorbar\": {\"outlinewidth\": 0, \"ticks\": \"\"}, \"colorscale\": [[0.0, \"#0d0887\"], [0.1111111111111111, \"#46039f\"], [0.2222222222222222, \"#7201a8\"], [0.3333333333333333, \"#9c179e\"], [0.4444444444444444, \"#bd3786\"], [0.5555555555555556, \"#d8576b\"], [0.6666666666666666, \"#ed7953\"], [0.7777777777777778, \"#fb9f3a\"], [0.8888888888888888, \"#fdca26\"], [1.0, \"#f0f921\"]], \"type\": \"histogram2d\"}], \"histogram2dcontour\": [{\"colorbar\": {\"outlinewidth\": 0, \"ticks\": \"\"}, \"colorscale\": [[0.0, \"#0d0887\"], [0.1111111111111111, \"#46039f\"], [0.2222222222222222, \"#7201a8\"], [0.3333333333333333, \"#9c179e\"], [0.4444444444444444, \"#bd3786\"], [0.5555555555555556, \"#d8576b\"], [0.6666666666666666, \"#ed7953\"], [0.7777777777777778, \"#fb9f3a\"], [0.8888888888888888, \"#fdca26\"], [1.0, \"#f0f921\"]], \"type\": \"histogram2dcontour\"}], \"mesh3d\": [{\"colorbar\": {\"outlinewidth\": 0, \"ticks\": \"\"}, \"type\": \"mesh3d\"}], \"parcoords\": [{\"line\": {\"colorbar\": {\"outlinewidth\": 0, \"ticks\": \"\"}}, \"type\": \"parcoords\"}], \"pie\": [{\"automargin\": true, \"type\": \"pie\"}], \"scatter\": [{\"marker\": {\"colorbar\": {\"outlinewidth\": 0, \"ticks\": \"\"}}, \"type\": \"scatter\"}], \"scatter3d\": [{\"line\": {\"colorbar\": {\"outlinewidth\": 0, \"ticks\": \"\"}}, \"marker\": {\"colorbar\": {\"outlinewidth\": 0, \"ticks\": \"\"}}, \"type\": \"scatter3d\"}], \"scattercarpet\": [{\"marker\": {\"colorbar\": {\"outlinewidth\": 0, \"ticks\": \"\"}}, \"type\": \"scattercarpet\"}], \"scattergeo\": [{\"marker\": {\"colorbar\": {\"outlinewidth\": 0, \"ticks\": \"\"}}, \"type\": \"scattergeo\"}], \"scattergl\": [{\"marker\": {\"colorbar\": {\"outlinewidth\": 0, \"ticks\": \"\"}}, \"type\": \"scattergl\"}], \"scattermapbox\": [{\"marker\": {\"colorbar\": {\"outlinewidth\": 0, \"ticks\": \"\"}}, \"type\": \"scattermapbox\"}], \"scatterpolar\": [{\"marker\": {\"colorbar\": {\"outlinewidth\": 0, \"ticks\": \"\"}}, \"type\": \"scatterpolar\"}], \"scatterpolargl\": [{\"marker\": {\"colorbar\": {\"outlinewidth\": 0, \"ticks\": \"\"}}, \"type\": \"scatterpolargl\"}], \"scatterternary\": [{\"marker\": {\"colorbar\": {\"outlinewidth\": 0, \"ticks\": \"\"}}, \"type\": \"scatterternary\"}], \"surface\": [{\"colorbar\": {\"outlinewidth\": 0, \"ticks\": \"\"}, \"colorscale\": [[0.0, \"#0d0887\"], [0.1111111111111111, \"#46039f\"], [0.2222222222222222, \"#7201a8\"], [0.3333333333333333, \"#9c179e\"], [0.4444444444444444, \"#bd3786\"], [0.5555555555555556, \"#d8576b\"], [0.6666666666666666, \"#ed7953\"], [0.7777777777777778, \"#fb9f3a\"], [0.8888888888888888, \"#fdca26\"], [1.0, \"#f0f921\"]], \"type\": \"surface\"}], \"table\": [{\"cells\": {\"fill\": {\"color\": \"#EBF0F8\"}, \"line\": {\"color\": \"white\"}}, \"header\": {\"fill\": {\"color\": \"#C8D4E3\"}, \"line\": {\"color\": \"white\"}}, \"type\": \"table\"}]}, \"layout\": {\"annotationdefaults\": {\"arrowcolor\": \"#2a3f5f\", \"arrowhead\": 0, \"arrowwidth\": 1}, \"autotypenumbers\": \"strict\", \"coloraxis\": {\"colorbar\": {\"outlinewidth\": 0, \"ticks\": \"\"}}, \"colorscale\": {\"diverging\": [[0, \"#8e0152\"], [0.1, \"#c51b7d\"], [0.2, \"#de77ae\"], [0.3, \"#f1b6da\"], [0.4, \"#fde0ef\"], [0.5, \"#f7f7f7\"], [0.6, \"#e6f5d0\"], [0.7, \"#b8e186\"], [0.8, \"#7fbc41\"], [0.9, \"#4d9221\"], [1, \"#276419\"]], \"sequential\": [[0.0, \"#0d0887\"], [0.1111111111111111, \"#46039f\"], [0.2222222222222222, \"#7201a8\"], [0.3333333333333333, \"#9c179e\"], [0.4444444444444444, \"#bd3786\"], [0.5555555555555556, \"#d8576b\"], [0.6666666666666666, \"#ed7953\"], [0.7777777777777778, \"#fb9f3a\"], [0.8888888888888888, \"#fdca26\"], [1.0, \"#f0f921\"]], \"sequentialminus\": [[0.0, \"#0d0887\"], [0.1111111111111111, \"#46039f\"], [0.2222222222222222, \"#7201a8\"], [0.3333333333333333, \"#9c179e\"], [0.4444444444444444, \"#bd3786\"], [0.5555555555555556, \"#d8576b\"], [0.6666666666666666, \"#ed7953\"], [0.7777777777777778, \"#fb9f3a\"], [0.8888888888888888, \"#fdca26\"], [1.0, \"#f0f921\"]]}, \"colorway\": [\"#636efa\", \"#EF553B\", \"#00cc96\", \"#ab63fa\", \"#FFA15A\", \"#19d3f3\", \"#FF6692\", \"#B6E880\", \"#FF97FF\", \"#FECB52\"], \"font\": {\"color\": \"#2a3f5f\"}, \"geo\": {\"bgcolor\": \"white\", \"lakecolor\": \"white\", \"landcolor\": \"#E5ECF6\", \"showlakes\": true, \"showland\": true, \"subunitcolor\": \"white\"}, \"hoverlabel\": {\"align\": \"left\"}, \"hovermode\": \"closest\", \"mapbox\": {\"style\": \"light\"}, \"paper_bgcolor\": \"white\", \"plot_bgcolor\": \"#E5ECF6\", \"polar\": {\"angularaxis\": {\"gridcolor\": \"white\", \"linecolor\": \"white\", \"ticks\": \"\"}, \"bgcolor\": \"#E5ECF6\", \"radialaxis\": {\"gridcolor\": \"white\", \"linecolor\": \"white\", \"ticks\": \"\"}}, \"scene\": {\"xaxis\": {\"backgroundcolor\": \"#E5ECF6\", \"gridcolor\": \"white\", \"gridwidth\": 2, \"linecolor\": \"white\", \"showbackground\": true, \"ticks\": \"\", \"zerolinecolor\": \"white\"}, \"yaxis\": {\"backgroundcolor\": \"#E5ECF6\", \"gridcolor\": \"white\", \"gridwidth\": 2, \"linecolor\": \"white\", \"showbackground\": true, \"ticks\": \"\", \"zerolinecolor\": \"white\"}, \"zaxis\": {\"backgroundcolor\": \"#E5ECF6\", \"gridcolor\": \"white\", \"gridwidth\": 2, \"linecolor\": \"white\", \"showbackground\": true, \"ticks\": \"\", \"zerolinecolor\": \"white\"}}, \"shapedefaults\": {\"line\": {\"color\": \"#2a3f5f\"}}, \"ternary\": {\"aaxis\": {\"gridcolor\": \"white\", \"linecolor\": \"white\", \"ticks\": \"\"}, \"baxis\": {\"gridcolor\": \"white\", \"linecolor\": \"white\", \"ticks\": \"\"}, \"bgcolor\": \"#E5ECF6\", \"caxis\": {\"gridcolor\": \"white\", \"linecolor\": \"white\", \"ticks\": \"\"}}, \"title\": {\"x\": 0.05}, \"xaxis\": {\"automargin\": true, \"gridcolor\": \"white\", \"linecolor\": \"white\", \"ticks\": \"\", \"title\": {\"standoff\": 15}, \"zerolinecolor\": \"white\", \"zerolinewidth\": 2}, \"yaxis\": {\"automargin\": true, \"gridcolor\": \"white\", \"linecolor\": \"white\", \"ticks\": \"\", \"title\": {\"standoff\": 15}, \"zerolinecolor\": \"white\", \"zerolinewidth\": 2}}}},                        {\"responsive\": true}                    ).then(function(){\n",
       "                            \n",
       "var gd = document.getElementById('d2e94e7f-2d84-4127-bad2-4a5f2bb0a6b5');\n",
       "var x = new MutationObserver(function (mutations, observer) {{\n",
       "        var display = window.getComputedStyle(gd).display;\n",
       "        if (!display || display === 'none') {{\n",
       "            console.log([gd, 'removed!']);\n",
       "            Plotly.purge(gd);\n",
       "            observer.disconnect();\n",
       "        }}\n",
       "}});\n",
       "\n",
       "// Listen for the removal of the full notebook cells\n",
       "var notebookContainer = gd.closest('#notebook-container');\n",
       "if (notebookContainer) {{\n",
       "    x.observe(notebookContainer, {childList: true});\n",
       "}}\n",
       "\n",
       "// Listen for the clearing of the current output cell\n",
       "var outputEl = gd.closest('.output');\n",
       "if (outputEl) {{\n",
       "    x.observe(outputEl, {childList: true});\n",
       "}}\n",
       "\n",
       "                        })                };                });            </script>        </div>"
      ]
     },
     "metadata": {},
     "output_type": "display_data"
    }
   ],
   "source": [
    "create_sankey_plot(1)"
   ]
  },
  {
   "cell_type": "code",
   "execution_count": 49,
   "metadata": {},
   "outputs": [
    {
     "name": "stdout",
     "output_type": "stream",
     "text": [
      "Stream: warm_process_water to <Mixer: M401>\n",
      " phase: 'l', T: 368.15 K, P: 476228 Pa\n",
      " flow (kmol/hr): Water  5.21e+03\n"
     ]
    }
   ],
   "source": [
    "lc.warm_process_water"
   ]
  },
  {
   "cell_type": "code",
   "execution_count": 3,
   "metadata": {},
   "outputs": [
    {
     "name": "stdout",
     "output_type": "stream",
     "text": [
      "0\n",
      "UnitGroup: Feedstock handling\n",
      " units: U101, U102, U103\n",
      "1\n",
      "UnitGroup: Juicing\n",
      " units: U201, U202, U204, M201, U203,\n",
      "        T201, H201, T202, P201, T203,\n",
      "        T204, P202, M202, H202, T205,\n",
      "        U205, U206, P203, U207\n",
      "2\n",
      "UnitGroup: Conv. ferm.\n",
      " units: S301, E301, P301, M301, H301,\n",
      "        R301, T301, C301, T302, U301,\n",
      "        M302, P301, H302, D301, P302\n",
      "3\n",
      "UnitGroup: Pretreatment\n",
      " units: M401, M402, R401, P401, T401,\n",
      "        F401, P402, M403, H401\n",
      "4\n",
      "UnitGroup: Cofementation\n",
      " units: H501, M501, U501, S503, S501,\n",
      "        S502, U502, T503, R501, M502,\n",
      "        U503, M503, T504, P501, H502,\n",
      "        D501, P502, U504\n",
      "5\n",
      "UnitGroup: Wastewater treatment\n",
      " units: M601, U601, R601, M602, R602,\n",
      "        R603, S601, M603, C601, U602\n",
      "6\n",
      "UnitGroup: Oil ext.\n",
      " units: T701, P701, E701, P702, C701,\n",
      "        H701, T702, C702, F701, MX\n",
      "7\n",
      "UnitGroup: CH&P\n",
      " units: M801, H801\n",
      "8\n",
      "UnitGroup: Ethanol sep.\n",
      " units: M901, M902, D901, H901, U901,\n",
      "        H902, T901, P902, P903, M903,\n",
      "        P901\n",
      "9\n",
      "UnitGroup: Biod. prod.\n",
      " units: T1103, P1103, P1101, P1102, T1104,\n",
      "        P1104, S1102, U1101, C1101, U1102,\n",
      "        C1102, P1105, S1101, T1106, P1109,\n",
      "        C1104, T1107, P1110, H1102, D1101,\n",
      "        D1102, H1104, P1112, T1105, P1106,\n",
      "        C1103, F1101, H1101, P1108, P1107,\n",
      "        U1103, H1103, P1111\n",
      "10\n",
      "UnitGroup: Utilities\n",
      " units: M1201, H1201, CWP1201, U1202, ADP1201,\n",
      "        U1201, PWC1201\n",
      "11\n",
      "UnitGroup: Storage\n",
      " units: T1301, T1302, T1303, T1304, T1305,\n",
      "        T1306, T1307, T1308, T1309\n"
     ]
    }
   ],
   "source": [
    "for i,j in enumerate(lc.unit_groups):\n",
    "    print(i)\n",
    "    j.show()"
   ]
  },
  {
   "cell_type": "code",
   "execution_count": 4,
   "metadata": {},
   "outputs": [
    {
     "data": {
      "image/png": "[encoded data removed]",
      "text/plain": [
       "<IPython.core.display.Image object>"
      ]
     },
     "metadata": {},
     "output_type": "display_data"
    },
    {
     "name": "stdout",
     "output_type": "stream",
     "text": [
      "Mixer: M401\n",
      "ins...\n",
      "[0] warm_process_water\n",
      "    phase: 'l', T: 368.15 K, P: 476228 Pa\n",
      "    flow (kmol/hr): Water  5.21e+03\n",
      "[1] bagasse  from  ConveyingBelt-U203\n",
      "    phase: 'l', T: 326.73 K, P: 101325 Pa\n",
      "    flow (kmol/hr): Water      4.08e+03\n",
      "                    Glucose    0.504\n",
      "                    Sucrose    3\n",
      "                    Ash        1.94e+03\n",
      "                    Cellulose  162\n",
      "                    Lignin     92.2\n",
      "                    Solids     5.02e+03\n",
      "                    ...\n",
      "[2] cornstover\n",
      "    phase: 'l', T: 298.15 K, P: 101325 Pa\n",
      "    flow: 0\n",
      "outs...\n",
      "[0] s23  to  SteamMixer-M402\n",
      "    phase: 'l', T: 346.08 K, P: 101325 Pa\n",
      "    flow (kmol/hr): Water      9.29e+03\n",
      "                    Glucose    0.504\n",
      "                    Sucrose    3\n",
      "                    Ash        1.94e+03\n",
      "                    Cellulose  162\n",
      "                    Lignin     92.2\n",
      "                    Solids     5.02e+03\n",
      "                    ...\n"
     ]
    }
   ],
   "source": [
    "lc.M401"
   ]
  },
  {
   "cell_type": "code",
   "execution_count": 5,
   "metadata": {},
   "outputs": [
    {
     "name": "stdout",
     "output_type": "stream",
     "text": [
      "Mixer M401 0.0\n",
      "Steam mixer M402 0.0\n",
      "Pretreatment reactor system R401 32.06076385987346\n",
      "Blowdown discharge pump P401 0.05734158105920551\n",
      "Oligomer conversion tank T401 0.6444103161145524\n",
      "Pretreatment flash F401 1.4073964061157516\n",
      "Hydrolyzate pump P402 0.04006052307270222\n",
      "Mixer M403 0.0\n",
      "Waste vapor condenser H401 0.36223842223182184\n"
     ]
    }
   ],
   "source": [
    "for i in lc.unit_groups[3].units:\n",
    "    print(i.line, i, i.installed_cost / 1e6)"
   ]
  },
  {
   "cell_type": "code",
   "execution_count": 6,
   "metadata": {},
   "outputs": [
    {
     "data": {
      "text/html": [
       "<div>\n",
       "<style scoped>\n",
       "    .dataframe tbody tr th:only-of-type {\n",
       "        vertical-align: middle;\n",
       "    }\n",
       "\n",
       "    .dataframe tbody tr th {\n",
       "        vertical-align: top;\n",
       "    }\n",
       "\n",
       "    .dataframe thead th {\n",
       "        text-align: right;\n",
       "    }\n",
       "</style>\n",
       "<table border=\"1\" class=\"dataframe\">\n",
       "  <thead>\n",
       "    <tr style=\"text-align: right;\">\n",
       "      <th></th>\n",
       "      <th>Mixer</th>\n",
       "      <th>Units</th>\n",
       "      <th>M401</th>\n",
       "    </tr>\n",
       "  </thead>\n",
       "  <tbody>\n",
       "    <tr>\n",
       "      <th>Total purchase cost</th>\n",
       "      <th></th>\n",
       "      <td>USD</td>\n",
       "      <td>0</td>\n",
       "    </tr>\n",
       "    <tr>\n",
       "      <th>Utility cost</th>\n",
       "      <th></th>\n",
       "      <td>USD/hr</td>\n",
       "      <td>0</td>\n",
       "    </tr>\n",
       "  </tbody>\n",
       "</table>\n",
       "</div>"
      ],
      "text/plain": [
       "Mixer                  Units  M401\n",
       "Total purchase cost      USD     0\n",
       "Utility cost          USD/hr     0"
      ]
     },
     "execution_count": 6,
     "metadata": {},
     "output_type": "execute_result"
    }
   ],
   "source": [
    "lc.unit_groups[3].units[0].results()"
   ]
  },
  {
   "cell_type": "code",
   "execution_count": 7,
   "metadata": {},
   "outputs": [
    {
     "name": "stdout",
     "output_type": "stream",
     "text": [
      "UnitGroup: Feedstock handling\n",
      " units: U101, U102, U103\n",
      "UnitGroup: Juicing\n",
      " units: U201, U202, U204, M201, U203,\n",
      "        T201, H201, T202, P201, T203,\n",
      "        T204, P202, M202, H202, T205,\n",
      "        U205, U206, P203, U207\n",
      "UnitGroup: Conv. ferm.\n",
      " units: S301, E301, P301, M301, H301,\n",
      "        R301, T301, C301, T302, U301,\n",
      "        M302, P301, H302, D301, P302\n",
      "UnitGroup: Pretreatment\n",
      " units: M401, M402, R401, P401, T401,\n",
      "        F401, P402, M403, H401\n",
      "UnitGroup: Cofementation\n",
      " units: H501, M501, U501, S503, S501,\n",
      "        S502, U502, T503, R501, M502,\n",
      "        U503, M503, T504, P501, H502,\n",
      "        D501, P502, U504\n",
      "UnitGroup: Wastewater treatment\n",
      " units: M601, U601, R601, M602, R602,\n",
      "        R603, S601, M603, C601, U602\n",
      "UnitGroup: Oil ext.\n",
      " units: T701, P701, E701, P702, C701,\n",
      "        H701, T702, C702, F701, MX\n",
      "UnitGroup: CH&P\n",
      " units: M801, H801\n",
      "UnitGroup: Ethanol sep.\n",
      " units: M901, M902, D901, H901, U901,\n",
      "        H902, T901, P902, P903, M903,\n",
      "        P901\n",
      "UnitGroup: Biod. prod.\n",
      " units: T1103, P1103, P1101, P1102, T1104,\n",
      "        P1104, S1102, U1101, C1101, U1102,\n",
      "        C1102, P1105, S1101, T1106, P1109,\n",
      "        C1104, T1107, P1110, H1102, D1101,\n",
      "        D1102, H1104, P1112, T1105, P1106,\n",
      "        C1103, F1101, H1101, P1108, P1107,\n",
      "        U1103, H1103, P1111\n",
      "UnitGroup: Utilities\n",
      " units: M1201, H1201, CWP1201, U1202, ADP1201,\n",
      "        U1201, PWC1201\n",
      "UnitGroup: Storage\n",
      " units: T1301, T1302, T1303, T1304, T1305,\n",
      "        T1306, T1307, T1308, T1309\n"
     ]
    }
   ],
   "source": [
    "for i in lc.unit_groups: i.show()"
   ]
  },
  {
   "cell_type": "code",
   "execution_count": 8,
   "metadata": {},
   "outputs": [],
   "source": [
    "sys = sankey_groups[-1].to_system()"
   ]
  },
  {
   "cell_type": "code",
   "execution_count": 9,
   "metadata": {},
   "outputs": [
    {
     "data": {
      "image/png": "[encoded data removed]",
      "text/plain": [
       "<IPython.core.display.Image object>"
      ]
     },
     "metadata": {},
     "output_type": "display_data"
    },
    {
     "name": "stdout",
     "output_type": "stream",
     "text": [
      "System: SYS.3\n",
      "ins...\n",
      "[0] methanol\n",
      "    phase: 'l', T: 298.15 K, P: 101325 Pa\n",
      "    flow (kmol/hr): Methanol  31.5\n",
      "[1] HCl\n",
      "    phase: 'l', T: 298.15 K, P: 101325 Pa\n",
      "    flow (kmol/hr): Water  0.0128\n",
      "                    HCl    0.00341\n",
      "[2] catalyst\n",
      "    phase: 'l', T: 298.15 K, P: 101325 Pa\n",
      "    flow (kmol/hr): Methanol  0.00372\n",
      "                    NaOCH3    0.000735\n",
      "[3] washed_lipid  from  SplitFlash-F701\n",
      "    phase: 'l', T: 357.15 K, P: 2026.5 Pa\n",
      "    flow (kmol/hr): Water  0.0176\n",
      "                    Lipid  10.6\n",
      "[4] s127\n",
      "    phase: 'g', T: 373.69 K, P: 101325 Pa\n",
      "    flow (kmol/hr): Water     83.5\n",
      "                    Methanol  0.00969\n",
      "                    Glycerol  0.00835\n",
      "[5] biodiesel_wash_water\n",
      "    phase: 'l', T: 333.15 K, P: 101325 Pa\n",
      "    flow (kmol/hr): Water  13.4\n",
      "[6] NaOH\n",
      "    phase: 'l', T: 298.15 K, P: 101325 Pa\n",
      "    flow (kmol/hr): NaOH  0.000996\n",
      "outs...\n",
      "[0] crude_glycerol\n",
      "    phase: 'l', T: 374.99 K, P: 101325 Pa\n",
      "    flow (kmol/hr): Water     13.4\n",
      "                    Glycerol  10.5\n",
      "                    NaOH      0.000996\n",
      "[1] missing stream\n",
      "[2] waste\n",
      "    phase: 'l', T: 330.75 K, P: 101325 Pa\n",
      "    flow (kmol/hr): Water      0.097\n",
      "                    Biodiesel  0.0919\n",
      "                    Methanol   0.0385\n",
      "                    Glycerol   0.0105\n",
      "                    HCl        0.00341\n",
      "                    NaOH       0.000735\n",
      "                    Lipid      0.116\n",
      "[3] biodiesel\n",
      "    phase: 'l', T: 331.5 K, P: 2026.5 Pa\n",
      "    flow (kmol/hr): Water      9.7e-06\n",
      "                    Biodiesel  31.4\n",
      "                    Methanol   1.64e-05\n",
      "                    Glycerol   0.00377\n"
     ]
    }
   ],
   "source": [
    "sys"
   ]
  },
  {
   "cell_type": "code",
   "execution_count": 10,
   "metadata": {},
   "outputs": [
    {
     "name": "stdout",
     "output_type": "stream",
     "text": [
      "StorageTank: T1103\n",
      "ins...\n",
      "[0] washed_lipid  from  SplitFlash-F701\n",
      "    phase: 'l', T: 357.15 K, P: 2026.5 Pa\n",
      "    flow (kmol/hr): Water  0.0176\n",
      "                    Lipid  10.6\n",
      "outs...\n",
      "[0] s97  to  Pump-P1103\n",
      "    phase: 'l', T: 357.15 K, P: 2026.5 Pa\n",
      "    flow (kmol/hr): Water  0.0176\n",
      "                    Lipid  10.6\n",
      "Pump: P1103\n",
      "ins...\n",
      "[0] s97  from  StorageTank-T1103\n",
      "    phase: 'l', T: 357.15 K, P: 2026.5 Pa\n",
      "    flow (kmol/hr): Water  0.0176\n",
      "                    Lipid  10.6\n",
      "outs...\n",
      "[0] s98  to  Transesterification-U1101\n",
      "    phase: 'l', T: 357.15 K, P: 2026.5 Pa\n",
      "    flow (kmol/hr): Water  0.0176\n",
      "                    Lipid  10.6\n",
      "Pump: P1101\n",
      "ins...\n",
      "[0] methanol\n",
      "    phase: 'l', T: 298.15 K, P: 101325 Pa\n",
      "    flow (kmol/hr): Methanol  31.5\n",
      "outs...\n",
      "[0] s94  to  MixTank-T1104\n",
      "    phase: 'l', T: 298.15 K, P: 101325 Pa\n",
      "    flow (kmol/hr): Methanol  31.5\n",
      "Pump: P1102\n",
      "ins...\n",
      "[0] catalyst\n",
      "    phase: 'l', T: 298.15 K, P: 101325 Pa\n",
      "    flow (kmol/hr): Methanol  0.00372\n",
      "                    NaOCH3    0.000735\n",
      "outs...\n",
      "[0] s96  to  MixTank-T1104\n",
      "    phase: 'l', T: 298.15 K, P: 101325 Pa\n",
      "    flow (kmol/hr): Methanol  0.00372\n",
      "                    NaOCH3    0.000735\n",
      "MixTank: T1104\n",
      "ins...\n",
      "[0] s130  from  Pump-P1111\n",
      "    phase: 'l', T: 315 K, P: 101325 Pa\n",
      "    flow (kmol/hr): Water     0.000385\n",
      "                    Methanol  38.5\n",
      "[1] s94  from  Pump-P1101\n",
      "    phase: 'l', T: 298.15 K, P: 101325 Pa\n",
      "    flow (kmol/hr): Methanol  31.5\n",
      "[2] s96  from  Pump-P1102\n",
      "    phase: 'l', T: 298.15 K, P: 101325 Pa\n",
      "    flow (kmol/hr): Methanol  0.00372\n",
      "                    NaOCH3    0.000735\n",
      "outs...\n",
      "[0] s99  to  Pump-P1104\n",
      "    phase: 'l', T: 298.15 K, P: 101325 Pa\n",
      "    flow (kmol/hr): Methanol  70\n",
      "                    NaOCH3    0.000735\n",
      "Pump: P1104\n",
      "ins...\n",
      "[0] s99  from  MixTank-T1104\n",
      "    phase: 'l', T: 298.15 K, P: 101325 Pa\n",
      "    flow (kmol/hr): Methanol  70\n",
      "                    NaOCH3    0.000735\n",
      "outs...\n",
      "[0] s100  to  FakeSplitter-S1102\n",
      "    phase: 'l', T: 298.15 K, P: 101325 Pa\n",
      "    flow (kmol/hr): Methanol  70\n",
      "                    NaOCH3    0.000735\n",
      "FakeSplitter: S1102\n",
      "ins...\n",
      "[0] s100  from  Pump-P1104\n",
      "    phase: 'l', T: 298.15 K, P: 101325 Pa\n",
      "    flow (kmol/hr): Methanol  70\n",
      "                    NaOCH3    0.000735\n",
      "outs...\n",
      "[0] s101  to  Transesterification-U1101\n",
      "    phase: 'l', T: 298.15 K, P: 101325 Pa\n",
      "    flow (kmol/hr): Methanol  63.7\n",
      "                    NaOCH3    0.000669\n",
      "[1] s102  to  Transesterification-U1102\n",
      "    phase: 'l', T: 298.15 K, P: 101325 Pa\n",
      "    flow (kmol/hr): Methanol  6.31\n",
      "                    NaOCH3    6.62e-05\n",
      "Transesterification: U1101\n",
      "ins...\n",
      "[0] s98  from  Pump-P1103\n",
      "    phase: 'l', T: 357.15 K, P: 2026.5 Pa\n",
      "    flow (kmol/hr): Water  0.0176\n",
      "                    Lipid  10.6\n",
      "[1] s101  from  FakeSplitter-S1102\n",
      "    phase: 'l', T: 298.15 K, P: 101325 Pa\n",
      "    flow (kmol/hr): Methanol  63.7\n",
      "                    NaOCH3    0.000669\n",
      "outs...\n",
      "[0] s103  to  LiquidsSplitCentrifuge-C1101\n",
      "    phase: 'l', T: 333.15 K, P: 101325 Pa\n",
      "    flow (kmol/hr): Water      0.0176\n",
      "                    Biodiesel  28.7\n",
      "                    Methanol   35\n",
      "                    Glycerol   9.55\n",
      "                    NaOH       0.000669\n",
      "                    Lipid      1.06\n",
      "LiquidsSplitCentrifuge: C1101\n",
      "ins...\n",
      "[0] s103  from  Transesterification-U1101\n",
      "    phase: 'l', T: 333.15 K, P: 101325 Pa\n",
      "    flow (kmol/hr): Water      0.0176\n",
      "                    Biodiesel  28.7\n",
      "                    Methanol   35\n",
      "                    Glycerol   9.55\n",
      "                    NaOH       0.000669\n",
      "                    Lipid      1.06\n",
      "outs...\n",
      "[0] s104  to  Transesterification-U1102\n",
      "    phase: 'l', T: 333.15 K, P: 101325 Pa\n",
      "    flow (kmol/hr): Water      0.00703\n",
      "                    Biodiesel  28.6\n",
      "                    Methanol   14\n",
      "                    Glycerol   0.573\n",
      "                    Lipid      1.05\n",
      "[1] s105  to  Pump-P1105\n",
      "    phase: 'l', T: 333.15 K, P: 101325 Pa\n",
      "    flow (kmol/hr): Water      0.0105\n",
      "                    Biodiesel  0.0287\n",
      "                    Methanol   21\n",
      "                    Glycerol   8.98\n",
      "                    NaOH       0.000669\n",
      "                    Lipid      0.0106\n",
      "Transesterification: U1102\n",
      "ins...\n",
      "[0] s104  from  LiquidsSplitCentrifuge-C1101\n",
      "    phase: 'l', T: 333.15 K, P: 101325 Pa\n",
      "    flow (kmol/hr): Water      0.00703\n",
      "                    Biodiesel  28.6\n",
      "                    Methanol   14\n",
      "                    Glycerol   0.573\n",
      "                    Lipid      1.05\n",
      "[1] s102  from  FakeSplitter-S1102\n",
      "    phase: 'l', T: 298.15 K, P: 101325 Pa\n",
      "    flow (kmol/hr): Methanol  6.31\n",
      "                    NaOCH3    6.62e-05\n",
      "outs...\n",
      "[0] s107  to  LiquidsSplitCentrifuge-C1102\n",
      "    phase: 'l', T: 333.15 K, P: 101325 Pa\n",
      "    flow (kmol/hr): Water      0.00703\n",
      "                    Biodiesel  31.5\n",
      "                    Methanol   17.5\n",
      "                    Glycerol   1.52\n",
      "                    NaOH       6.62e-05\n",
      "                    Lipid      0.105\n",
      "LiquidsSplitCentrifuge: C1102\n",
      "ins...\n",
      "[0] s107  from  Transesterification-U1102\n",
      "    phase: 'l', T: 333.15 K, P: 101325 Pa\n",
      "    flow (kmol/hr): Water      0.00703\n",
      "                    Biodiesel  31.5\n",
      "                    Methanol   17.5\n",
      "                    Glycerol   1.52\n",
      "                    NaOH       6.62e-05\n",
      "                    Lipid      0.105\n",
      "outs...\n",
      "[0] s108  to  MixTank-T1105\n",
      "    phase: 'l', T: 333.15 K, P: 101325 Pa\n",
      "    flow (kmol/hr): Water      0.000703\n",
      "                    Biodiesel  31.4\n",
      "                    Methanol   1.75\n",
      "                    Glycerol   0.076\n",
      "                    Lipid      0.0946\n",
      "[1] s109  to  MixTank-T1106\n",
      "    phase: 'l', T: 333.15 K, P: 101325 Pa\n",
      "    flow (kmol/hr): Water      0.00632\n",
      "                    Biodiesel  0.0315\n",
      "                    Methanol   15.7\n",
      "                    Glycerol   1.44\n",
      "                    NaOH       6.62e-05\n",
      "                    Lipid      0.0105\n",
      "Pump: P1105\n",
      "ins...\n",
      "[0] s105  from  LiquidsSplitCentrifuge-C1101\n",
      "    phase: 'l', T: 333.15 K, P: 101325 Pa\n",
      "    flow (kmol/hr): Water      0.0105\n",
      "                    Biodiesel  0.0287\n",
      "                    Methanol   21\n",
      "                    Glycerol   8.98\n",
      "                    NaOH       0.000669\n",
      "                    Lipid      0.0106\n",
      "outs...\n",
      "[0] s106  to  MixTank-T1106\n",
      "    phase: 'l', T: 333.15 K, P: 101325 Pa\n",
      "    flow (kmol/hr): Water      0.0105\n",
      "                    Biodiesel  0.0287\n",
      "                    Methanol   21\n",
      "                    Glycerol   8.98\n",
      "                    NaOH       0.000669\n",
      "                    Lipid      0.0106\n",
      "FakeSplitter: S1101\n",
      "ins...\n",
      "[0] HCl\n",
      "    phase: 'l', T: 298.15 K, P: 101325 Pa\n",
      "    flow (kmol/hr): Water  0.0128\n",
      "                    HCl    0.00341\n",
      "outs...\n",
      "[0] HCl1  to  MixTank-T1105\n",
      "    phase: 'l', T: 298.15 K, P: 101325 Pa\n",
      "    flow (kmol/hr): Water  0.0123\n",
      "                    HCl    0.00327\n",
      "[1] HCl2  to  MixTank-T1106\n",
      "    phase: 'l', T: 298.15 K, P: 101325 Pa\n",
      "    flow (kmol/hr): Water  0.000523\n",
      "                    HCl    0.000139\n",
      "MixTank: T1106\n",
      "ins...\n",
      "[0] s106  from  Pump-P1105\n",
      "    phase: 'l', T: 333.15 K, P: 101325 Pa\n",
      "    flow (kmol/hr): Water      0.0105\n",
      "                    Biodiesel  0.0287\n",
      "                    Methanol   21\n",
      "                    Glycerol   8.98\n",
      "                    NaOH       0.000669\n",
      "                    Lipid      0.0106\n",
      "[1] s109  from  LiquidsSplitCentrifuge-C1102\n",
      "    phase: 'l', T: 333.15 K, P: 101325 Pa\n",
      "    flow (kmol/hr): Water      0.00632\n",
      "                    Biodiesel  0.0315\n",
      "                    Methanol   15.7\n",
      "                    Glycerol   1.44\n",
      "                    NaOH       6.62e-05\n",
      "                    Lipid      0.0105\n",
      "[2] s113  from  LiquidsRatioCentrifuge-C1103\n",
      "    phase: 'l', T: 329.02 K, P: 101325 Pa\n",
      "    flow (kmol/hr): Water      96.9\n",
      "                    Biodiesel  0.0314\n",
      "                    Methanol   1.59\n",
      "                    Glycerol   0.0805\n",
      "                    HCl        0.00327\n",
      "                    Lipid      0.0946\n",
      "[3] s118  from  Pump-P1108\n",
      "    phase: 'l', T: 295 K, P: 2026.5 Pa\n",
      "    flow (kmol/hr): Water      0.0969\n",
      "                    Biodiesel  0.000314\n",
      "                    Methanol   0.164\n",
      "[4] HCl2  from  FakeSplitter-S1101\n",
      "    phase: 'l', T: 298.15 K, P: 101325 Pa\n",
      "    flow (kmol/hr): Water  0.000523\n",
      "                    HCl    0.000139\n",
      "outs...\n",
      "[0] s119  to  Pump-P1109\n",
      "    phase: 'l', T: 330.75 K, P: 101325 Pa\n",
      "    flow (kmol/hr): Water      97\n",
      "                    Biodiesel  0.0919\n",
      "                    Methanol   38.5\n",
      "                    Glycerol   10.5\n",
      "                    HCl        0.00341\n",
      "                    NaOH       0.000735\n",
      "                    Lipid      0.116\n",
      "Pump: P1109\n",
      "ins...\n",
      "[0] s119  from  MixTank-T1106\n",
      "    phase: 'l', T: 330.75 K, P: 101325 Pa\n",
      "    flow (kmol/hr): Water      97\n",
      "                    Biodiesel  0.0919\n",
      "                    Methanol   38.5\n",
      "                    Glycerol   10.5\n",
      "                    HCl        0.00341\n",
      "                    NaOH       0.000735\n",
      "                    Lipid      0.116\n",
      "outs...\n",
      "[0] s120  to  LiquidsSplitCentrifuge-C1104\n",
      "    phase: 'l', T: 330.75 K, P: 101325 Pa\n",
      "    flow (kmol/hr): Water      97\n",
      "                    Biodiesel  0.0919\n",
      "                    Methanol   38.5\n",
      "                    Glycerol   10.5\n",
      "                    HCl        0.00341\n",
      "                    NaOH       0.000735\n",
      "                    Lipid      0.116\n",
      "LiquidsSplitCentrifuge: C1104\n",
      "ins...\n",
      "[0] s120  from  Pump-P1109\n",
      "    phase: 'l', T: 330.75 K, P: 101325 Pa\n",
      "    flow (kmol/hr): Water      97\n",
      "                    Biodiesel  0.0919\n",
      "                    Methanol   38.5\n",
      "                    Glycerol   10.5\n",
      "                    HCl        0.00341\n",
      "                    NaOH       0.000735\n",
      "                    Lipid      0.116\n",
      "outs...\n",
      "[0] s121  to  MixTank-T1107\n",
      "    phase: 'l', T: 330.75 K, P: 101325 Pa\n",
      "    flow (kmol/hr): Water     96.9\n",
      "                    Methanol  38.5\n",
      "                    Glycerol  10.5\n",
      "[1] waste\n",
      "    phase: 'l', T: 330.75 K, P: 101325 Pa\n",
      "    flow (kmol/hr): Water      0.097\n",
      "                    Biodiesel  0.0919\n",
      "                    Methanol   0.0385\n",
      "                    Glycerol   0.0105\n",
      "                    HCl        0.00341\n",
      "                    NaOH       0.000735\n",
      "                    Lipid      0.116\n",
      "MixTank: T1107\n",
      "ins...\n",
      "[0] s121  from  LiquidsSplitCentrifuge-C1104\n",
      "    phase: 'l', T: 330.75 K, P: 101325 Pa\n",
      "    flow (kmol/hr): Water     96.9\n",
      "                    Methanol  38.5\n",
      "                    Glycerol  10.5\n",
      "[1] NaOH\n",
      "    phase: 'l', T: 298.15 K, P: 101325 Pa\n",
      "    flow (kmol/hr): NaOH  0.000996\n",
      "outs...\n",
      "[0] s122  to  Pump-P1110\n",
      "    phase: 'l', T: 330.75 K, P: 101325 Pa\n",
      "    flow (kmol/hr): Water     96.9\n",
      "                    Methanol  38.5\n",
      "                    Glycerol  10.5\n",
      "                    NaOH      0.000996\n",
      "Pump: P1110\n",
      "ins...\n",
      "[0] s122  from  MixTank-T1107\n",
      "    phase: 'l', T: 330.75 K, P: 101325 Pa\n",
      "    flow (kmol/hr): Water     96.9\n",
      "                    Methanol  38.5\n",
      "                    Glycerol  10.5\n",
      "                    NaOH      0.000996\n",
      "outs...\n",
      "[0] s123  to  HXutility-H1102\n",
      "    phase: 'l', T: 330.75 K, P: 101325 Pa\n",
      "    flow (kmol/hr): Water     96.9\n",
      "                    Methanol  38.5\n",
      "                    Glycerol  10.5\n",
      "                    NaOH      0.000996\n",
      "HXutility: H1102\n",
      "ins...\n",
      "[0] s123  from  Pump-P1110\n",
      "    phase: 'l', T: 330.75 K, P: 101325 Pa\n",
      "    flow (kmol/hr): Water     96.9\n",
      "                    Methanol  38.5\n",
      "                    Glycerol  10.5\n",
      "                    NaOH      0.000996\n",
      "outs...\n",
      "[0] s126  to  BinaryDistillation-D1101\n",
      "    phase: 'l', T: 353 K, P: 101325 Pa\n",
      "    flow (kmol/hr): Water     96.9\n",
      "                    Methanol  38.5\n",
      "                    Glycerol  10.5\n",
      "                    NaOH      0.000996\n",
      "BinaryDistillation: D1101\n",
      "ins...\n",
      "[0] s126  from  HXutility-H1102\n",
      "    phase: 'l', T: 353 K, P: 101325 Pa\n",
      "    flow (kmol/hr): Water     96.9\n",
      "                    Methanol  38.5\n",
      "                    Glycerol  10.5\n",
      "                    NaOH      0.000996\n",
      "outs...\n",
      "[0] s124  to  MassBalance-U1103\n",
      "    phase: 'g', T: 337.69 K, P: 101325 Pa\n",
      "    flow (kmol/hr): Water     0.000385\n",
      "                    Methanol  38.5\n",
      "[1] s125  to  BinaryDistillation-D1102\n",
      "    phase: 'l', T: 374.18 K, P: 101325 Pa\n",
      "    flow (kmol/hr): Water     96.9\n",
      "                    Methanol  0.00969\n",
      "                    Glycerol  10.5\n",
      "                    NaOH      0.000996\n",
      "BinaryDistillation: D1102\n",
      "ins...\n",
      "[0] s125  from  BinaryDistillation-D1101\n",
      "    phase: 'l', T: 374.18 K, P: 101325 Pa\n",
      "    flow (kmol/hr): Water     96.9\n",
      "                    Methanol  0.00969\n",
      "                    Glycerol  10.5\n",
      "                    NaOH      0.000996\n",
      "outs...\n",
      "[0] crude_glycerol\n",
      "    phase: 'l', T: 374.99 K, P: 101325 Pa\n",
      "    flow (kmol/hr): Water     13.4\n",
      "                    Glycerol  10.5\n",
      "                    NaOH      0.000996\n",
      "[1] missing stream\n",
      "HXutility: H1104\n",
      "ins...\n",
      "[0] s127\n",
      "    phase: 'g', T: 373.69 K, P: 101325 Pa\n",
      "    flow (kmol/hr): Water     83.5\n",
      "                    Methanol  0.00969\n",
      "                    Glycerol  0.00835\n",
      "outs...\n",
      "[0] s131  to  Pump-P1112\n",
      "    phase: 'l', T: 315 K, P: 101325 Pa\n",
      "    flow (kmol/hr): Water     83.5\n",
      "                    Methanol  0.00969\n",
      "                    Glycerol  0.00835\n",
      "Pump: P1112\n",
      "ins...\n",
      "[0] s131  from  HXutility-H1104\n",
      "    phase: 'l', T: 315 K, P: 101325 Pa\n",
      "    flow (kmol/hr): Water     83.5\n",
      "                    Methanol  0.00969\n",
      "                    Glycerol  0.00835\n",
      "outs...\n",
      "[0] s132  to  MixTank-T1105\n",
      "    phase: 'l', T: 315 K, P: 101325 Pa\n",
      "    flow (kmol/hr): Water     83.5\n",
      "                    Methanol  0.00969\n",
      "                    Glycerol  0.00835\n",
      "MixTank: T1105\n",
      "ins...\n",
      "[0] s108  from  LiquidsSplitCentrifuge-C1102\n",
      "    phase: 'l', T: 333.15 K, P: 101325 Pa\n",
      "    flow (kmol/hr): Water      0.000703\n",
      "                    Biodiesel  31.4\n",
      "                    Methanol   1.75\n",
      "                    Glycerol   0.076\n",
      "                    Lipid      0.0946\n",
      "[1] s132  from  Pump-P1112\n",
      "    phase: 'l', T: 315 K, P: 101325 Pa\n",
      "    flow (kmol/hr): Water     83.5\n",
      "                    Methanol  0.00969\n",
      "                    Glycerol  0.00835\n",
      "[2] biodiesel_wash_water\n",
      "    phase: 'l', T: 333.15 K, P: 101325 Pa\n",
      "    flow (kmol/hr): Water  13.4\n",
      "[3] HCl1  from  FakeSplitter-S1101\n",
      "    phase: 'l', T: 298.15 K, P: 101325 Pa\n",
      "    flow (kmol/hr): Water  0.0123\n",
      "                    HCl    0.00327\n",
      "outs...\n",
      "[0] s110  to  Pump-P1106\n",
      "    phase: 'l', T: 329.02 K, P: 101325 Pa\n",
      "    flow (kmol/hr): Water      97\n",
      "                    Biodiesel  31.4\n",
      "                    Methanol   1.76\n",
      "                    Glycerol   0.0843\n",
      "                    HCl        0.00327\n",
      "                    Lipid      0.0946\n",
      "Pump: P1106\n",
      "ins...\n",
      "[0] s110  from  MixTank-T1105\n",
      "    phase: 'l', T: 329.02 K, P: 101325 Pa\n",
      "    flow (kmol/hr): Water      97\n",
      "                    Biodiesel  31.4\n",
      "                    Methanol   1.76\n",
      "                    Glycerol   0.0843\n",
      "                    HCl        0.00327\n",
      "                    Lipid      0.0946\n",
      "outs...\n",
      "[0] s111  to  LiquidsRatioCentrifuge-C1103\n",
      "    phase: 'l', T: 329.02 K, P: 101325 Pa\n",
      "    flow (kmol/hr): Water      97\n",
      "                    Biodiesel  31.4\n",
      "                    Methanol   1.76\n",
      "                    Glycerol   0.0843\n",
      "                    HCl        0.00327\n",
      "                    Lipid      0.0946\n",
      "LiquidsRatioCentrifuge: C1103\n",
      "ins...\n",
      "[0] s111  from  Pump-P1106\n",
      "    phase: 'l', T: 329.02 K, P: 101325 Pa\n",
      "    flow (kmol/hr): Water      97\n",
      "                    Biodiesel  31.4\n",
      "                    Methanol   1.76\n",
      "                    Glycerol   0.0843\n",
      "                    HCl        0.00327\n",
      "                    Lipid      0.0946\n",
      "outs...\n",
      "[0] s112  to  SplitFlash-F1101\n",
      "    phase: 'l', T: 329.02 K, P: 101325 Pa\n",
      "    flow (kmol/hr): Water      0.097\n",
      "                    Biodiesel  31.4\n",
      "                    Methanol   0.164\n",
      "                    Glycerol   0.00377\n",
      "[1] s113  to  MixTank-T1106\n",
      "    phase: 'l', T: 329.02 K, P: 101325 Pa\n",
      "    flow (kmol/hr): Water      96.9\n",
      "                    Biodiesel  0.0314\n",
      "                    Methanol   1.59\n",
      "                    Glycerol   0.0805\n",
      "                    HCl        0.00327\n",
      "                    Lipid      0.0946\n",
      "SplitFlash: F1101\n",
      "ins...\n",
      "[0] s112  from  LiquidsRatioCentrifuge-C1103\n",
      "    phase: 'l', T: 329.02 K, P: 101325 Pa\n",
      "    flow (kmol/hr): Water      0.097\n",
      "                    Biodiesel  31.4\n",
      "                    Methanol   0.164\n",
      "                    Glycerol   0.00377\n",
      "outs...\n",
      "[0] s114  to  HXutility-H1101\n",
      "    phase: 'g', T: 331.5 K, P: 2026.5 Pa\n",
      "    flow (kmol/hr): Water      0.0969\n",
      "                    Biodiesel  0.000314\n",
      "                    Methanol   0.164\n",
      "[1] s115  to  Pump-P1107\n",
      "    phase: 'l', T: 331.5 K, P: 2026.5 Pa\n",
      "    flow (kmol/hr): Water      9.7e-06\n",
      "                    Biodiesel  31.4\n",
      "                    Methanol   1.64e-05\n",
      "                    Glycerol   0.00377\n",
      "HXutility: H1101\n",
      "ins...\n",
      "[0] s114  from  SplitFlash-F1101\n",
      "    phase: 'g', T: 331.5 K, P: 2026.5 Pa\n",
      "    flow (kmol/hr): Water      0.0969\n",
      "                    Biodiesel  0.000314\n",
      "                    Methanol   0.164\n",
      "outs...\n",
      "[0] s117  to  Pump-P1108\n",
      "    phase: 'l', T: 295 K, P: 2026.5 Pa\n",
      "    flow (kmol/hr): Water      0.0969\n",
      "                    Biodiesel  0.000314\n",
      "                    Methanol   0.164\n",
      "Pump: P1108\n",
      "ins...\n",
      "[0] s117  from  HXutility-H1101\n",
      "    phase: 'l', T: 295 K, P: 2026.5 Pa\n",
      "    flow (kmol/hr): Water      0.0969\n",
      "                    Biodiesel  0.000314\n",
      "                    Methanol   0.164\n",
      "outs...\n",
      "[0] s118  to  MixTank-T1106\n",
      "    phase: 'l', T: 295 K, P: 2026.5 Pa\n",
      "    flow (kmol/hr): Water      0.0969\n",
      "                    Biodiesel  0.000314\n",
      "                    Methanol   0.164\n",
      "Pump: P1107\n",
      "ins...\n",
      "[0] s115  from  SplitFlash-F1101\n",
      "    phase: 'l', T: 331.5 K, P: 2026.5 Pa\n",
      "    flow (kmol/hr): Water      9.7e-06\n",
      "                    Biodiesel  31.4\n",
      "                    Methanol   1.64e-05\n",
      "                    Glycerol   0.00377\n",
      "outs...\n",
      "[0] biodiesel\n",
      "    phase: 'l', T: 331.5 K, P: 2026.5 Pa\n",
      "    flow (kmol/hr): Water      9.7e-06\n",
      "                    Biodiesel  31.4\n",
      "                    Methanol   1.64e-05\n",
      "                    Glycerol   0.00377\n",
      "MassBalance: U1103\n",
      "ins...\n",
      "[0] s124  from  BinaryDistillation-D1101\n",
      "    phase: 'g', T: 337.69 K, P: 101325 Pa\n",
      "    flow (kmol/hr): Water     0.000385\n",
      "                    Methanol  38.5\n",
      "outs...\n",
      "[0] s133  to  HXutility-H1103\n",
      "    phase: 'g', T: 337.69 K, P: 101325 Pa\n",
      "    flow (kmol/hr): Water     0.000385\n",
      "                    Methanol  38.5\n",
      "HXutility: H1103\n",
      "ins...\n",
      "[0] s133  from  MassBalance-U1103\n",
      "    phase: 'g', T: 337.69 K, P: 101325 Pa\n",
      "    flow (kmol/hr): Water     0.000385\n",
      "                    Methanol  38.5\n",
      "outs...\n",
      "[0] s129  to  Pump-P1111\n",
      "    phase: 'l', T: 315 K, P: 101325 Pa\n",
      "    flow (kmol/hr): Water     0.000385\n",
      "                    Methanol  38.5\n",
      "Pump: P1111\n",
      "ins...\n",
      "[0] s129  from  HXutility-H1103\n",
      "    phase: 'l', T: 315 K, P: 101325 Pa\n",
      "    flow (kmol/hr): Water     0.000385\n",
      "                    Methanol  38.5\n",
      "outs...\n",
      "[0] s130  to  MixTank-T1104\n",
      "    phase: 'l', T: 315 K, P: 101325 Pa\n",
      "    flow (kmol/hr): Water     0.000385\n",
      "                    Methanol  38.5\n"
     ]
    }
   ],
   "source": [
    "for i in sankey_groups[-1].units: i.show()"
   ]
  },
  {
   "cell_type": "code",
   "execution_count": 11,
   "metadata": {},
   "outputs": [
    {
     "data": {
      "text/plain": [
       "1593.4963950899112"
      ]
     },
     "execution_count": 11,
     "metadata": {},
     "output_type": "execute_result"
    }
   ],
   "source": [
    "sankey_groups[1].get_inlet_flow('kg/s')"
   ]
  },
  {
   "cell_type": "code",
   "execution_count": 12,
   "metadata": {},
   "outputs": [
    {
     "data": {
      "text/plain": [
       "1593.3135277782847"
      ]
     },
     "execution_count": 12,
     "metadata": {},
     "output_type": "execute_result"
    }
   ],
   "source": [
    "sankey_groups[1].get_outlet_flow('kg/s')"
   ]
  },
  {
   "cell_type": "code",
   "execution_count": null,
   "metadata": {},
   "outputs": [],
   "source": []
  }
 ],
 "metadata": {
  "kernelspec": {
   "display_name": "Python 3",
   "language": "python",
   "name": "python3"
  },
  "language_info": {
   "codemirror_mode": {
    "name": "ipython",
    "version": 3
   },
   "file_extension": ".py",
   "mimetype": "text/x-python",
   "name": "python",
   "nbconvert_exporter": "python",
   "pygments_lexer": "ipython3",
   "version": "3.8.5"
  }
 },
 "nbformat": 4,
 "nbformat_minor": 4
}
