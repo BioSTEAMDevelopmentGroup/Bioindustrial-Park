{
 "cells": [
  {
   "cell_type": "markdown",
   "metadata": {},
   "source": [
    "## Contour plot function"
   ]
  },
  {
   "cell_type": "code",
   "execution_count": 1,
   "metadata": {},
   "outputs": [],
   "source": [
    "%matplotlib qt5\n",
    "from biorefineries import lipidcane2g as lc\n",
    "import biosteam as bst\n",
    "import numpy as np\n",
    "import pandas as pd\n",
    "from biosteam.utils import colors\n",
    "from matplotlib.colors import LinearSegmentedColormap\n",
    "import matplotlib.pyplot as plt\n",
    "from biosteam.utils import colors\n",
    "from biosteam.plots import plot_contour_2d, MetricBar, plot_scatter_points, plot_contour_1d, plot_vertical_line\n",
    "from math import floor, ceil\n",
    "from biosteam import plots\n",
    "from biosteam.utils import CABBI_colors\n",
    "from thermosteam.units_of_measure import format_units\n",
    "from biosteam.plots.utils import style_axis, style_plot_limits, fill_plot, set_axes_labels\n",
    "from biosteam import Metric\n",
    "\n",
    "shadecolor = (*colors.neutral.RGBn, 0.20)\n",
    "linecolor = (*colors.neutral_shade.RGBn, 0.85)\n",
    "markercolor = (*colors.CABBI_blue_light.RGBn, 1)\n",
    "edgecolor = (*colors.CABBI_black.RGBn, 1)\n",
    "\n",
    "def tickmarks(data, accuracy=50, N_points=5):\n",
    "    dmin = data.min()\n",
    "    dmax = data.max()\n",
    "    dmin = floor(dmin/accuracy) * accuracy\n",
    "    dmax = ceil(dmax/accuracy) * accuracy\n",
    "    step = (dmax - dmin) / (N_points - 1)\n",
    "    if step == 0:\n",
    "        return [0, 1]\n",
    "    else:\n",
    "        return [dmin + step * i for i in range(N_points)]\n",
    "    \n",
    "CABBI_colors = (colors.CABBI_yellow.tint(75).RGBn, \n",
    "                colors.CABBI_yellow.RGBn,\n",
    "                colors.CABBI_green.RGBn,\n",
    "                colors.CABBI_teal_green.shade(75).RGBn)\n",
    "\n",
    "CABBI_colors_x = (colors.CABBI_blue_light.tint(75).RGBn,\n",
    "                  colors.CABBI_blue_light.RGBn, \n",
    "                  colors.CABBI_blue.RGBn,\n",
    "                  colors.CABBI_teal_green.shade(70).RGBn)\n",
    "\n",
    "colormaps = [\n",
    "    LinearSegmentedColormap.from_list('CABBI', CABBI_colors, 25),\n",
    "    LinearSegmentedColormap.from_list('CABBI', CABBI_colors_x, 25),\n",
    "    plt.cm.get_cmap('inferno_r'),\n",
    "    plt.cm.get_cmap('copper_r'),\n",
    "    plt.cm.get_cmap('bone_r'),\n",
    "]\n",
    "\n",
    "def create_contour_plots(load=False, save=True):\n",
    "    # %% Generate contour data\n",
    "    x = np.linspace(0.3, 1., 10)\n",
    "    y = np.linspace(0.02, 0.15, 10)\n",
    "    X, Y = np.meshgrid(x, y)\n",
    "    dollar_per_mt = format_units(r'\\$/MT')\n",
    "    metric = bst.metric\n",
    "    kg_per_ton = 907.18474\n",
    "    \n",
    "    NG = None\n",
    "    @metric(units=format_units(r'\\$/ton'))\n",
    "    def MFPP():\n",
    "        return kg_per_ton * lc.lipidcane_tea.solve_price(lc.lipidcane)\n",
    "\n",
    "    @metric(units=format_units(r'10^6*\\$'))\n",
    "    def TCI():\n",
    "        return lc.lipidcane_tea.TCI / 1e6 # 10^6*$\n",
    "\n",
    "#     @metric(units=format_units('GGE/ton'))\n",
    "#     def productivity():\n",
    "#         feedstock = lc.lipidcane.get_total_flow('ton/hr')\n",
    "#         GGE = (lc.ethanol.F_mass * 2.98668849 / 1.5\n",
    "#            + lc.biodiesel.get_total_flow('gal/hr') / 0.9536\n",
    "#            - sum([i.rate for i in lc.lipidcane_sys.power_utilities]) * 3600 / feedstock / 131760\n",
    "#            - lc.natural_gas.get_total_flow('ft3/hr') / 126.67)\n",
    "#         return GGE / feedstock\n",
    "    \n",
    "#     MFPP = bst.Metric(\n",
    "#         'MFPP',\n",
    "#         lambda: 1000 * lc.lipidcane_tea.solve_price(lc.lipidcane), # $/MT\n",
    "#         dollar_per_mt,\n",
    "#     )\n",
    "#     BD = bst.Metric( \n",
    "#         'Biod. prod.',\n",
    "#         lambda: lc.biodiesel.cost / lipidcane_flow_rate,\n",
    "#         dollar_per_mt\n",
    "#     )\n",
    "# #     Et = bst.Metric( \n",
    "# #         'EtOH. prod.',\n",
    "# #         lambda: lc.ethanol.cost / lipidcane_flow_rate,\n",
    "# #         dollar_per_mt\n",
    "# #     )\n",
    "#     EP = bst.Metric( \n",
    "#         'Elec. prod.',\n",
    "#         lambda: - sum([i.cost for i in lc.lipidcane_sys.power_utilities]) / lipidcane_flow_rate,\n",
    "#         dollar_per_mt,\n",
    "#     )\n",
    "#     NG = bst.Metric( \n",
    "#         'N.G. cons.',\n",
    "#         lambda: 0.218 * lc.natural_gas.F_mass / lipidcane_flow_rate,\n",
    "#         dollar_per_mt,\n",
    "#     )\n",
    "#     FCI = bst.Metric( \n",
    "#         'FCI',\n",
    "#         lambda: lc.lipidcane_tea.FCI / 1e6, # 10^6*$\n",
    "#         format_units(r'10^6*\\$'),\n",
    "#     )\n",
    "    metrics = [MFPP, TCI]\n",
    "    configurations = [1, 2, 3]\n",
    "    if load:\n",
    "        data = np.load(f'lipid_extraction_analysis.npy')\n",
    "    else:\n",
    "        data = lc.evaluate_across_configurations(X, Y, 0.80, metrics, configurations)\n",
    "        save and np.save(f'lipid_extraction_analysis', data)\n",
    "\n",
    "    # %% Plot contours\n",
    "    xlabel = 'Lipid extraction[%]'\n",
    "    ylabel = \"Lipid content [dry wt. %]\"\n",
    "    xticks = [30, 40, 60, 80, 100]\n",
    "    yticks = [2, 5, 10, 15]\n",
    "    metric_bars = [\n",
    "        MetricBar(j.name, j.units, colormaps[i],\n",
    "                  tickmarks(data[:, :, i, :], 5, 5), 15)\n",
    "        for i, j in enumerate(metrics)\n",
    "    ]\n",
    "    \n",
    "    column_title = lambda configuration: \"Configuration \" + int(configuration) * 'I' \n",
    "    fig, axes, CSs, CBs = plot_contour_2d(100.*X, 100.*Y, configurations, data, \n",
    "                                        xlabel, ylabel, xticks, yticks, metric_bars, \n",
    "                                        Z_value_format=column_title,\n",
    "                                        fillblack=False,\n",
    "                                       styleaxiskw=dict(xtick0=False),\n",
    "                                         label=True)\n",
    "    M = len(metrics)\n",
    "    N = len(configurations)\n",
    "    for i in range(M):\n",
    "        for j in range(N):\n",
    "            ax = axes[i, j]\n",
    "            CS = CSs[i, j]\n",
    "            plt.sca(ax)\n",
    "#             if not CS:\n",
    "\n",
    "#             else:\n",
    "#                 CS = plt.contourf(CS, zorder=1e6, levels=levels, colors=[shadecolor])\n",
    "#             plt.contour(CS, zorder=1e6, linestyles='dashed', linewidths=1.,\n",
    "#                         levels=CS.levels[1:-1], colors=[linecolor])\n",
    "            metric_data = data[:, :, i, j]\n",
    "            lb = metric_data.min()\n",
    "            ub = metric_data.max()\n",
    "            levels = [i for i in CS.levels if lb <= i <= ub]\n",
    "            CS = plt.contour(100.*X, 100.*Y, data=metric_data, zorder=1e16, linestyles='dashed', linewidths=1.,\n",
    "                             levels=levels, colors=[linecolor])\n",
    "            \n",
    "            ax.clabel(CS, levels=CS.levels, inline=True, fmt=lambda x: f'{round(x):,}',\n",
    "                      fontsize=10, colors=[linecolor], zorder=1e16)\n",
    "            \n",
    "            if j == 0:\n",
    "                lb = 45\n",
    "                ub = 55\n",
    "            else:\n",
    "                lb = 75\n",
    "                ub = 80\n",
    "            plt.fill_between([lb, ub], [2], [15], \n",
    "                             color=shadecolor,\n",
    "                             linewidth=1)\n",
    "            plot_vertical_line(lb, ls='-.',\n",
    "                               color=linecolor,\n",
    "                               linewidth=1.0)\n",
    "            plot_vertical_line(ub, ls='-.',\n",
    "                               color=linecolor,\n",
    "                               linewidth=1.0)\n",
    "\n",
    "#     for ax in axes[0]:\n",
    "#         plt.sca(ax)\n",
    "#         plot_scatter_points([target_mass_fraction], [target_conversion], marker='*', s=125, color=markercolor,\n",
    "#                             edgecolor=edgecolor)\n",
    "#         plot_scatter_points([lab_mass_fraction], [lab_conversion], marker='s', s=75, color=markercolor,\n",
    "#                             edgecolor=edgecolor)\n",
    "\n",
    "    plt.show()"
   ]
  },
  {
   "cell_type": "markdown",
   "metadata": {},
   "source": [
    "## Contour plots"
   ]
  },
  {
   "cell_type": "code",
   "execution_count": 2,
   "metadata": {},
   "outputs": [
    {
     "name": "stderr",
     "output_type": "stream",
     "text": [
      "C:\\Users\\yrc2\\OneDrive\\Code\\biosteam\\biosteam\\units\\design_tools\\pressure_vessel.py:88: UserWarning: vacuum pressure vessel ASME codes not implemented yet; wall thickness may be inaccurate and stiffening rings may be required\n",
      "  warn('vacuum pressure vessel ASME codes not implemented yet; '\n",
      "C:\\Users\\yrc2\\OneDrive\\Code\\biosteam\\biosteam\\units\\design_tools\\pressure_vessel.py:88: UserWarning: vacuum pressure vessel ASME codes not implemented yet; wall thickness may be inaccurate and stiffening rings may be required\n",
      "  warn('vacuum pressure vessel ASME codes not implemented yet; '\n",
      "<ipython-input-1-e9551aac8109>:152: UserWarning: No contour levels were found within the data range.\n",
      "  CS = plt.contour(100.*X, 100.*Y, data=metric_data, zorder=1e16, linestyles='dashed', linewidths=1.,\n"
     ]
    }
   ],
   "source": [
    "create_contour_plots(load=True)"
   ]
  },
  {
   "cell_type": "code",
   "execution_count": 11,
   "metadata": {},
   "outputs": [
    {
     "name": "stderr",
     "output_type": "stream",
     "text": [
      "<ipython-input-5-eded6f201def>:136: UserWarning: No contour levels were found within the data range.\n",
      "  CS = plt.contour(100.*X, 100.*Y, data=metric_data, zorder=1e16, linestyles='dashed', linewidths=1.,\n"
     ]
    },
    {
     "data": {
      "text/plain": [
       "Text(0.5, 0.98, 'Biodiesel production from stillage, 1g ethanol production from juice, and 2g ethanol production from bagasse')"
      ]
     },
     "execution_count": 11,
     "metadata": {},
     "output_type": "execute_result"
    }
   ],
   "source": [
    "create_contour_plots(2, load=True)\n",
    "plt.suptitle('Biodiesel production from stillage, 1g ethanol production from juice, and 2g ethanol production from bagasse')"
   ]
  },
  {
   "cell_type": "code",
   "execution_count": 12,
   "metadata": {},
   "outputs": [
    {
     "name": "stderr",
     "output_type": "stream",
     "text": [
      "<ipython-input-5-eded6f201def>:136: UserWarning: No contour levels were found within the data range.\n",
      "  CS = plt.contour(100.*X, 100.*Y, data=metric_data, zorder=1e16, linestyles='dashed', linewidths=1.,\n"
     ]
    },
    {
     "data": {
      "text/plain": [
       "Text(0.5, 0.98, 'Biodiesel production from stillage, ethanol production from juice and bagasse (combined)')"
      ]
     },
     "execution_count": 12,
     "metadata": {},
     "output_type": "execute_result"
    }
   ],
   "source": [
    "create_contour_plots(3, load=True)\n",
    "plt.suptitle('Biodiesel production from stillage, ethanol production from juice and bagasse (combined)')"
   ]
  },
  {
   "cell_type": "code",
   "execution_count": null,
   "metadata": {},
   "outputs": [],
   "source": []
  },
  {
   "cell_type": "code",
   "execution_count": null,
   "metadata": {},
   "outputs": [],
   "source": []
  }
 ],
 "metadata": {
  "kernelspec": {
   "display_name": "Python 3",
   "language": "python",
   "name": "python3"
  },
  "language_info": {
   "codemirror_mode": {
    "name": "ipython",
    "version": 3
   },
   "file_extension": ".py",
   "mimetype": "text/x-python",
   "name": "python",
   "nbconvert_exporter": "python",
   "pygments_lexer": "ipython3",
   "version": "3.8.5"
  }
 },
 "nbformat": 4,
 "nbformat_minor": 4
}
