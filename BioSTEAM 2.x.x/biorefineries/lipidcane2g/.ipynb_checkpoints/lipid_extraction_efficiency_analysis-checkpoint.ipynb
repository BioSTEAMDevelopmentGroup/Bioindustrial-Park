{
 "cells": [
  {
   "cell_type": "markdown",
   "metadata": {},
   "source": [
    "## Contour plot function"
   ]
  },
  {
   "cell_type": "code",
   "execution_count": 5,
   "metadata": {},
   "outputs": [],
   "source": [
    "%matplotlib qt5\n",
    "from biorefineries import lipidcane2g as lc\n",
    "import biosteam as bst\n",
    "import numpy as np\n",
    "import pandas as pd\n",
    "from biosteam.utils import colors\n",
    "from matplotlib.colors import LinearSegmentedColormap\n",
    "import matplotlib.pyplot as plt\n",
    "from biosteam.utils import colors\n",
    "from biosteam.plots import plot_contour_2d, MetricBar, plot_scatter_points, plot_contour_1d\n",
    "from math import floor, ceil\n",
    "from biosteam import plots\n",
    "from biosteam.utils import CABBI_colors\n",
    "from thermosteam.units_of_measure import format_units\n",
    "from biosteam.plots.utils import style_axis, style_plot_limits, fill_plot, set_axes_labels\n",
    "from biosteam import Metric\n",
    "\n",
    "shadecolor = (*colors.neutral.RGBn, 0.30)\n",
    "linecolor = (*colors.neutral_shade.RGBn, 0.85)\n",
    "markercolor = (*colors.CABBI_blue_light.RGBn, 1)\n",
    "edgecolor = (*colors.CABBI_black.RGBn, 1)\n",
    "\n",
    "def tickmarks(data, accuracy=50, N_points=5):\n",
    "    dmin = data.min()\n",
    "    dmax = data.max()\n",
    "    dmin = floor(dmin/accuracy) * accuracy\n",
    "    dmax = ceil(dmax/accuracy) * accuracy\n",
    "    step = (dmax - dmin) / (N_points - 1)\n",
    "    if step == 0:\n",
    "        return [0, 1]\n",
    "    else:\n",
    "        return [dmin + step * i for i in range(N_points)]\n",
    "    \n",
    "CABBI_colors = (colors.CABBI_yellow.tint(75).RGBn, \n",
    "                colors.CABBI_yellow.RGBn,\n",
    "                colors.CABBI_green.RGBn,\n",
    "                colors.CABBI_teal_green.shade(75).RGBn)\n",
    "colormaps = [\n",
    "    LinearSegmentedColormap.from_list('CABBI', CABBI_colors, 25),\n",
    "    plt.cm.get_cmap('inferno_r'),\n",
    "    plt.cm.get_cmap('copper_r'),\n",
    "    plt.cm.get_cmap('bone_r'),\n",
    "]\n",
    "\n",
    "def create_contour_plots(name='1g', load=False, save=True):\n",
    "    # %% Generate contour data\n",
    "    x = np.linspace(0.2, 1., 6)\n",
    "    y = np.linspace(0.02, 0.15, 6)\n",
    "    Z = np.array([0.50, 0.75, 1.0])\n",
    "    X, Y = np.meshgrid(x, y)\n",
    "    dollar_per_mt = format_units(r'\\$/MT')\n",
    "    MFPP = bst.Metric(\n",
    "        'MFPP',\n",
    "        lambda: 1000 * lc.lipidcane_tea.solve_price(lc.lipidcane), # $/MT\n",
    "        dollar_per_mt,\n",
    "    )\n",
    "    BD = bst.Metric( \n",
    "        'Biod. prod.',\n",
    "        lambda: lc.biodiesel.cost / lipidcane_flow_rate,\n",
    "        dollar_per_mt\n",
    "    )\n",
    "#     Et = bst.Metric( \n",
    "#         'EtOH. prod.',\n",
    "#         lambda: lc.ethanol.cost / lipidcane_flow_rate,\n",
    "#         dollar_per_mt\n",
    "#     )\n",
    "    EP = bst.Metric( \n",
    "        'Elec. prod.',\n",
    "        lambda: - sum([i.cost for i in lc.lipidcane_sys.power_utilities]) / lipidcane_flow_rate,\n",
    "        dollar_per_mt,\n",
    "    )\n",
    "    NG = bst.Metric( \n",
    "        'N.G. cons.',\n",
    "        lambda: 0.218 * lc.natural_gas.F_mass / lipidcane_flow_rate,\n",
    "        dollar_per_mt,\n",
    "    )\n",
    "    FCI = bst.Metric( \n",
    "        'FCI',\n",
    "        lambda: lc.lipidcane_tea.FCI / 1e6, # 10^6*$\n",
    "        format_units(r'10^6*\\$'),\n",
    "    )\n",
    "    if name == 1:\n",
    "        metrics = [MFPP, BD, EP, FCI]\n",
    "    elif name == 0 or name == 2 or name == 3:\n",
    "        metrics = [MFPP, BD, NG, FCI]\n",
    "    if load:\n",
    "        data = np.load(f'lipid_extraction_analysis_{name}.npy')\n",
    "    else:\n",
    "        lc.load(name)\n",
    "        lipidcane_flow_rate = lc.lipidcane.F_mass / 1e3 # MT / hr\n",
    "        data = lc.lipid_extraction_specification.evaluate_across_lipid_retention(X, Y, metrics, Z)\n",
    "        save and np.save(f'lipid_extraction_analysis_{name}', data)\n",
    "\n",
    "    # %% Plot contours\n",
    "    xlabel = 'Lipid extraction[%]'\n",
    "    ylabel = \"Lipid content [dry wt. %]\"\n",
    "    xticks = [20, 40, 60, 80, 100]\n",
    "    yticks = [2, 5, 10, 15]\n",
    "    metric_bars = [\n",
    "        MetricBar(j.name, j.units, colormaps[i],\n",
    "                  tickmarks(data[:, :, i, :], 5, 5), \n",
    "                  10, (1 if j is NG else 0))\n",
    "        for i, j in enumerate(metrics)\n",
    "    ]\n",
    "    \n",
    "    lipid_retention = Z\n",
    "    def column_title(Z):\n",
    "        title =  f\"{Z:.1f} [%]\"\n",
    "        if Z == 100 * lipid_retention[0]:\n",
    "            title = \"Bagasse lipid retention: \" + title\n",
    "        return title\n",
    "    \n",
    "    fig, axes, CSs, CBs = plot_contour_2d(100.*X, 100.*Y, 100*Z, data, \n",
    "                                        xlabel, ylabel, xticks, yticks, metric_bars, \n",
    "                                        Z_value_format=column_title,\n",
    "                                        fillblack=False,\n",
    "                                       styleaxiskw=dict(xtick0=False),\n",
    "                                         label=True)\n",
    "    M = len(metrics)\n",
    "    N = len(Z)\n",
    "    for i in range(M):\n",
    "        for j in range(N):\n",
    "            ax = axes[i, j]\n",
    "            CS = CSs[i, j]\n",
    "            plt.sca(ax)\n",
    "#             if not CS:\n",
    "\n",
    "#             else:\n",
    "#                 CS = plt.contourf(CS, zorder=1e6, levels=levels, colors=[shadecolor])\n",
    "#             plt.contour(CS, zorder=1e6, linestyles='dashed', linewidths=1.,\n",
    "#                         levels=CS.levels[1:-1], colors=[linecolor])\n",
    "            metric_data = data[:, :, i, j]\n",
    "            lb = metric_data.min()\n",
    "            ub = metric_data.max()\n",
    "            levels = [i for i in CS.levels if lb <= i <= ub]\n",
    "            CS = plt.contour(100.*X, 100.*Y, data=metric_data, zorder=1e16, linestyles='dashed', linewidths=1.,\n",
    "                             levels=levels, colors=[linecolor])\n",
    "            \n",
    "            ax.clabel(CS, levels=CS.levels, inline=True, fmt=lambda x: f'{round(x):,}',\n",
    "                      fontsize=10, colors=[linecolor], zorder=1e16)\n",
    "    \n",
    "\n",
    "#     for ax in axes[0]:\n",
    "#         plt.sca(ax)\n",
    "#         plot_scatter_points([target_mass_fraction], [target_conversion], marker='*', s=125, color=markercolor,\n",
    "#                             edgecolor=edgecolor)\n",
    "#         plot_scatter_points([lab_mass_fraction], [lab_conversion], marker='s', s=75, color=markercolor,\n",
    "#                             edgecolor=edgecolor)\n",
    "\n",
    "    plt.show()"
   ]
  },
  {
   "cell_type": "markdown",
   "metadata": {},
   "source": [
    "## Contour plots"
   ]
  },
  {
   "cell_type": "code",
   "execution_count": 6,
   "metadata": {},
   "outputs": [
    {
     "name": "stderr",
     "output_type": "stream",
     "text": [
      "<ipython-input-5-eded6f201def>:136: UserWarning: No contour levels were found within the data range.\n",
      "  CS = plt.contour(100.*X, 100.*Y, data=metric_data, zorder=1e16, linestyles='dashed', linewidths=1.,\n"
     ]
    },
    {
     "data": {
      "text/plain": [
       "Text(0.5, 0.98, 'Biodiesel production from expressed oil from pelleted bagasse and 1 and 2g ethanol production from juice')"
      ]
     },
     "execution_count": 6,
     "metadata": {},
     "output_type": "execute_result"
    }
   ],
   "source": [
    "create_contour_plots(0, load=True)\n",
    "plt.suptitle('Biodiesel production from expressed oil from pelleted bagasse and 1 and 2g ethanol production from juice')"
   ]
  },
  {
   "cell_type": "code",
   "execution_count": 3,
   "metadata": {},
   "outputs": [
    {
     "name": "stderr",
     "output_type": "stream",
     "text": [
      "<ipython-input-1-40aa8f9ea7ac>:135: UserWarning: No contour levels were found within the data range.\n",
      "  CS = plt.contour(100.*X, 100.*Y, data=metric_data, zorder=1e16, linestyles='dashed', linewidths=1.,\n"
     ]
    },
    {
     "data": {
      "text/plain": [
       "Text(0.5, 0.98, 'Biodiesel production from expressed oil from pelleted bagasse and 1g ethanol production from juice')"
      ]
     },
     "execution_count": 3,
     "metadata": {},
     "output_type": "execute_result"
    }
   ],
   "source": [
    "create_contour_plots(1, load=True)\n",
    "plt.suptitle('Biodiesel production from expressed oil from pelleted bagasse and 1g ethanol production from juice')"
   ]
  },
  {
   "cell_type": "code",
   "execution_count": 7,
   "metadata": {},
   "outputs": [
    {
     "name": "stderr",
     "output_type": "stream",
     "text": [
      "<ipython-input-5-eded6f201def>:136: UserWarning: No contour levels were found within the data range.\n",
      "  CS = plt.contour(100.*X, 100.*Y, data=metric_data, zorder=1e16, linestyles='dashed', linewidths=1.,\n"
     ]
    },
    {
     "data": {
      "text/plain": [
       "Text(0.5, 0.98, 'Biodiesel production from stillage, 1g ethanol production from juice, and 2g ethanol production from bagasse')"
      ]
     },
     "execution_count": 7,
     "metadata": {},
     "output_type": "execute_result"
    }
   ],
   "source": [
    "create_contour_plots(2, load=True)\n",
    "plt.suptitle('Biodiesel production from stillage, 1g ethanol production from juice, and 2g ethanol production from bagasse')"
   ]
  },
  {
   "cell_type": "code",
   "execution_count": 8,
   "metadata": {},
   "outputs": [
    {
     "name": "stderr",
     "output_type": "stream",
     "text": [
      "<ipython-input-5-eded6f201def>:136: UserWarning: No contour levels were found within the data range.\n",
      "  CS = plt.contour(100.*X, 100.*Y, data=metric_data, zorder=1e16, linestyles='dashed', linewidths=1.,\n"
     ]
    },
    {
     "data": {
      "text/plain": [
       "Text(0.5, 0.98, 'Biodiesel production from stillage, ethanol production from juice and bagasse (combined)')"
      ]
     },
     "execution_count": 8,
     "metadata": {},
     "output_type": "execute_result"
    }
   ],
   "source": [
    "create_contour_plots(3, load=True)\n",
    "plt.suptitle('Biodiesel production from stillage, ethanol production from juice and bagasse (combined)')"
   ]
  },
  {
   "cell_type": "code",
   "execution_count": null,
   "metadata": {},
   "outputs": [],
   "source": []
  },
  {
   "cell_type": "code",
   "execution_count": null,
   "metadata": {},
   "outputs": [],
   "source": []
  }
 ],
 "metadata": {
  "kernelspec": {
   "display_name": "Python 3",
   "language": "python",
   "name": "python3"
  },
  "language_info": {
   "codemirror_mode": {
    "name": "ipython",
    "version": 3
   },
   "file_extension": ".py",
   "mimetype": "text/x-python",
   "name": "python",
   "nbconvert_exporter": "python",
   "pygments_lexer": "ipython3",
   "version": "3.8.5"
  }
 },
 "nbformat": 4,
 "nbformat_minor": 4
}
