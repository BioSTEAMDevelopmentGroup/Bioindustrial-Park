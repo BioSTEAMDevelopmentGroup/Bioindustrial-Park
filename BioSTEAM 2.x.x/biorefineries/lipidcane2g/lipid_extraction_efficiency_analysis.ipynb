{
 "cells": [
  {
   "cell_type": "markdown",
   "metadata": {},
   "source": [
    "## Contour plot function"
   ]
  },
  {
   "cell_type": "code",
   "execution_count": 1,
   "metadata": {},
   "outputs": [],
   "source": [
    "%matplotlib qt5\n",
    "from biorefineries import lipidcane2g as lc\n",
    "import biosteam as bst\n",
    "import numpy as np\n",
    "import pandas as pd\n",
    "from biosteam.utils import colors\n",
    "from matplotlib.colors import LinearSegmentedColormap\n",
    "import matplotlib.pyplot as plt\n",
    "from biosteam.utils import colors\n",
    "from biosteam.plots import (\n",
    "    plot_contour_2d,\n",
    "    MetricBar,\n",
    "    plot_scatter_points,\n",
    "    plot_contour_single_metric,\n",
    "    plot_vertical_line,\n",
    "    rounded_tickmarks_from_data as tickmarks\n",
    ")\n",
    "from math import floor, ceil\n",
    "from biosteam import plots\n",
    "from biosteam.utils import CABBI_colors\n",
    "from thermosteam.units_of_measure import format_units\n",
    "from biosteam.plots.utils import style_axis, style_plot_limits, fill_plot, set_axes_labels\n",
    "from biosteam import Metric\n",
    "from warnings import filterwarnings\n",
    "filterwarnings('ignore', category=bst.utils.DesignWarning)\n",
    "    \n",
    "shadecolor = (*colors.neutral.RGBn, 0.20)\n",
    "linecolor = (*colors.neutral_shade.RGBn, 0.85)\n",
    "markercolor = (*colors.orange_tint.RGBn, 1)\n",
    "edgecolor = (*colors.CABBI_black.RGBn, 1)\n",
    "    \n",
    "CABBI_colors = (colors.CABBI_yellow.tint(75).RGBn, \n",
    "                colors.CABBI_yellow.RGBn,\n",
    "                colors.CABBI_green.RGBn,\n",
    "                colors.CABBI_teal_green.shade(60).RGBn)\n",
    "\n",
    "CABBI_colors_x = (colors.CABBI_blue_light.tint(90).RGBn,\n",
    "                  colors.CABBI_blue_light.tint(40).RGBn, \n",
    "                  colors.CABBI_blue_light.RGBn, \n",
    "#                   colors.CABBI_teal.RGBn,\n",
    "#                   colors.CABBI_teal_green.tint(10).RGBn,\n",
    "                  colors.CABBI_teal_green.tint(40).shade(15).RGBn,\n",
    "                  colors.CABBI_teal_green.shade(45).RGBn)\n",
    "\n",
    "colormaps = [\n",
    "    LinearSegmentedColormap.from_list('CABBI', CABBI_colors, 25),\n",
    "    LinearSegmentedColormap.from_list('CABBI', CABBI_colors_x, 25),\n",
    "    plt.cm.get_cmap('inferno_r'),\n",
    "    plt.cm.get_cmap('copper_r'),\n",
    "    plt.cm.get_cmap('bone_r'),\n",
    "]\n",
    "\n",
    "def create_contour_plots(load=False, metric_index=0):\n",
    "    # %% Generate contour data\n",
    "    x = np.linspace(0.3, 1., 6)\n",
    "    y = np.linspace(0.02, 0.15, 6)\n",
    "    X, Y = np.meshgrid(x, y)\n",
    "    metric = bst.metric\n",
    "    kg_per_ton = 907.18474\n",
    "    metrics = lc.all_metric_mockups\n",
    "    MFPP = metrics[0]\n",
    "    TCI = metrics[1]\n",
    "    MFPP.units = format_units(r'$/ton')\n",
    "    TCI.units = format_units(r'10^6*$')\n",
    "    file = 'lipid_extraction_analysis'\n",
    "    configurations = [1, 2]\n",
    "    agile = [False, True]\n",
    "    if load:\n",
    "        data = np.load(file + '.npy')\n",
    "    else:\n",
    "        data = lc.evaluate_configurations_across_extraction_efficiency_and_lipid_content(X, Y, 0.70, agile, configurations)\n",
    "    np.save(file, data)\n",
    "    data = data[:, :, :, :, metric_index]\n",
    "    # %% Plot contours\n",
    "    xlabel = 'Lipid extraction [%]'\n",
    "    ylabel = \"Lipid content [dry wt. %]\"\n",
    "    ylabels = [f'Lipid-cane only\\n{ylabel}',\n",
    "               f'Lipid-cane & lipid-sorghum\\n{ylabel}']\n",
    "    xticks = [30, 40, 60, 80, 100]\n",
    "    yticks = [2, 5, 10, 15]\n",
    "    metric = metrics[metric_index]\n",
    "    \n",
    "    metric_bar = MetricBar(metric.name, metric.units, colormaps[metric_index], tickmarks(data, 5, 5), 18)\n",
    "    fig, axes, CSs, CB = plot_contour_single_metric(\n",
    "        100.*X, 100.*Y, data, xlabel, ylabels, xticks, yticks, metric_bar, \n",
    "        fillblack=False, styleaxiskw=dict(xtick0=False), label=True,\n",
    "        titles=['Configuration I', 'Configuration II'],\n",
    "    )\n",
    "    M = len(configurations)\n",
    "    N = len(agile)\n",
    "    for i in range(M):\n",
    "        for j in range(N):\n",
    "            ax = axes[i, j]\n",
    "            CS = CSs[i, j]\n",
    "            plt.sca(ax)\n",
    "            metric_data = data[:, :, i, j]\n",
    "            lb = metric_data.min()\n",
    "            ub = metric_data.max()\n",
    "            levels = [i for i in CS.levels if lb <= i <= ub]\n",
    "            CS = plt.contour(100.*X, 100.*Y, data=metric_data, zorder=1e16, linestyles='dashed', linewidths=1.,\n",
    "                             levels=levels, colors=[linecolor])\n",
    "            ax.clabel(CS, levels=CS.levels, inline=True, fmt=lambda x: f'{round(x):,}',\n",
    "                      fontsize=10, colors=[linecolor], zorder=1e16)\n",
    "            if j == 0:\n",
    "                lb = 47.5\n",
    "                ub = 52.5\n",
    "            else:\n",
    "                lb = 75\n",
    "                ub = 80\n",
    "            baseline = (lb + ub) / 2.\n",
    "            plt.fill_between([lb, ub], [2], [20], \n",
    "                             color=shadecolor,\n",
    "                             linewidth=1)\n",
    "            plot_vertical_line(lb, ls='-.',\n",
    "                               color=linecolor,\n",
    "                               linewidth=1.0)\n",
    "            plot_vertical_line(ub, ls='-.',\n",
    "                               color=linecolor,\n",
    "                               linewidth=1.0)\n",
    "            plot_scatter_points([baseline], [10], marker='*', s=125, color=markercolor,\n",
    "                                edgecolor=edgecolor)\n",
    "\n",
    "\n",
    "    plt.show()\n",
    "    return data"
   ]
  },
  {
   "cell_type": "markdown",
   "metadata": {},
   "source": [
    "## Contour plots"
   ]
  },
  {
   "cell_type": "code",
   "execution_count": 2,
   "metadata": {},
   "outputs": [
    {
     "name": "stderr",
     "output_type": "stream",
     "text": [
      "C:\\Users\\yrc2\\OneDrive\\Code\\Bioindustrial-Park\\BioSTEAM 2.x.x\\biorefineries\\cornstover\\_system.py:498: RuntimeWarning: cannot define water split, only moisture content\n",
      "  S303 = bst.PressureFilter('S303', slurry, (lignin, ''))\n",
      "C:\\Users\\yrc2\\OneDrive\\Code\\Bioindustrial-Park\\BioSTEAM 2.x.x\\biorefineries\\lipidcane2g\\_system.py:907: RuntimeWarning: undocked inlet stream s150 from unit S403; s150 is now docked at M404\n",
      "  MX = bst.Mixer(400, [S303-1, screened_juice])\n",
      "C:\\Users\\yrc2\\OneDrive\\Code\\Bioindustrial-Park\\BioSTEAM 2.x.x\\biorefineries\\lipidcane2g\\_system.py:907: RuntimeWarning: undocked inlet stream s405 from unit S403; s405 is now docked at M404\n",
      "  MX = bst.Mixer(400, [S303-1, screened_juice])\n",
      "C:\\Users\\yrc2\\OneDrive\\Code\\biosteam\\biosteam\\_unit.py:658: RuntimeWarning: heat exchanger network energy balance is off by -2.71% (an absolute error greater than 1.00%)\n",
      "  self._cost()\n",
      "C:\\Users\\yrc2\\OneDrive\\Code\\biosteam\\biosteam\\_unit.py:658: RuntimeWarning: heat exchanger network energy balance is off by -2.70% (an absolute error greater than 1.00%)\n",
      "  self._cost()\n",
      "C:\\Users\\yrc2\\OneDrive\\Code\\biosteam\\biosteam\\_unit.py:658: RuntimeWarning: heat exchanger network energy balance is off by -2.72% (an absolute error greater than 1.00%)\n",
      "  self._cost()\n",
      "<ipython-input-1-e3c3ce8c24ae>:100: UserWarning: No contour levels were found within the data range.\n",
      "  CS = plt.contour(100.*X, 100.*Y, data=metric_data, zorder=1e16, linestyles='dashed', linewidths=1.,\n"
     ]
    }
   ],
   "source": [
    "data = create_contour_plots(metric_index=0, load=False)"
   ]
  },
  {
   "cell_type": "code",
   "execution_count": 11,
   "metadata": {},
   "outputs": [
    {
     "data": {
      "text/plain": [
       "'$\\\\mathrm{\\\\$} \\\\cdot \\\\mathrm{ton}^{-1}$'"
      ]
     },
     "execution_count": 11,
     "metadata": {},
     "output_type": "execute_result"
    }
   ],
   "source": [
    "lc.all_metric_mockups[0].units"
   ]
  },
  {
   "cell_type": "code",
   "execution_count": 12,
   "metadata": {},
   "outputs": [
    {
     "name": "stderr",
     "output_type": "stream",
     "text": [
      "<ipython-input-9-f81380a27ccb>:100: UserWarning: No contour levels were found within the data range.\n",
      "  CS = plt.contour(100.*X, 100.*Y, data=metric_data, zorder=1e16, linestyles='dashed', linewidths=1.,\n"
     ]
    },
    {
     "data": {
      "text/plain": [
       "array([[[[ 0.746,  0.825],\n",
       "         [ 0.97 ,  1.073]],\n",
       "\n",
       "        [[ 1.617,  1.788],\n",
       "         [ 2.103,  2.325]],\n",
       "\n",
       "        [[ 2.488,  2.751],\n",
       "         [ 3.235,  3.576]]],\n",
       "\n",
       "\n",
       "       [[[ 3.173,  3.507],\n",
       "         [ 4.124,  4.56 ]],\n",
       "\n",
       "        [[ 6.874,  7.6  ],\n",
       "         [ 8.936,  9.88 ]],\n",
       "\n",
       "        [[10.575, 11.692],\n",
       "         [13.748, 15.199]]],\n",
       "\n",
       "\n",
       "       [[[ 5.599,  6.19 ],\n",
       "         [ 7.278,  8.047]],\n",
       "\n",
       "        [[12.13 , 13.411],\n",
       "         [15.77 , 17.434]],\n",
       "\n",
       "        [[18.662, 20.632],\n",
       "         [24.261, 26.822]]]])"
      ]
     },
     "execution_count": 12,
     "metadata": {},
     "output_type": "execute_result"
    }
   ],
   "source": [
    "create_contour_plots(load=True, metric_index=1)"
   ]
  },
  {
   "cell_type": "code",
   "execution_count": null,
   "metadata": {},
   "outputs": [],
   "source": [
    "create_contour_plots(3, load=True)\n",
    "plt.suptitle('Biodiesel production from stillage, ethanol production from juice and bagasse (combined)')"
   ]
  },
  {
   "cell_type": "code",
   "execution_count": null,
   "metadata": {},
   "outputs": [],
   "source": []
  },
  {
   "cell_type": "code",
   "execution_count": null,
   "metadata": {},
   "outputs": [],
   "source": []
  }
 ],
 "metadata": {
  "kernelspec": {
   "display_name": "Python 3",
   "language": "python",
   "name": "python3"
  },
  "language_info": {
   "codemirror_mode": {
    "name": "ipython",
    "version": 3
   },
   "file_extension": ".py",
   "mimetype": "text/x-python",
   "name": "python",
   "nbconvert_exporter": "python",
   "pygments_lexer": "ipython3",
   "version": "3.8.5"
  }
 },
 "nbformat": 4,
 "nbformat_minor": 4
}
