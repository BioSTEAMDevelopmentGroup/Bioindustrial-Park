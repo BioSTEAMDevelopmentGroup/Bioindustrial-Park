{
 "cells": [
  {
   "cell_type": "markdown",
   "metadata": {},
   "source": [
    "## Contour plot function"
   ]
  },
  {
   "cell_type": "code",
   "execution_count": 6,
   "metadata": {},
   "outputs": [],
   "source": [
    "%matplotlib qt5\n",
    "from biorefineries import lipidcane2g as lc\n",
    "import biosteam as bst\n",
    "import numpy as np\n",
    "import pandas as pd\n",
    "from biosteam.utils import colors\n",
    "from matplotlib.colors import LinearSegmentedColormap\n",
    "import matplotlib.pyplot as plt\n",
    "from biosteam.utils import colors\n",
    "from biosteam.plots import plot_contour_2d, MetricBar, plot_scatter_points, plot_contour_single_metric, plot_vertical_line\n",
    "from math import floor, ceil\n",
    "from biosteam import plots\n",
    "from biosteam.utils import CABBI_colors\n",
    "from thermosteam.units_of_measure import format_units\n",
    "from biosteam.plots.utils import style_axis, style_plot_limits, fill_plot, set_axes_labels\n",
    "from biosteam import Metric\n",
    "from warnings import filterwarnings\n",
    "filterwarnings('ignore', category=bst.utils.DesignWarning)\n",
    "    \n",
    "shadecolor = (*colors.neutral.RGBn, 0.20)\n",
    "linecolor = (*colors.neutral_shade.RGBn, 0.85)\n",
    "markercolor = (*colors.orange_tint.RGBn, 1)\n",
    "edgecolor = (*colors.CABBI_black.RGBn, 1)\n",
    "\n",
    "def tickmarks(data, accuracy=50, N_points=5):\n",
    "    dmin = data.min()\n",
    "    dmax = data.max()\n",
    "    dmin = floor(dmin/accuracy) * accuracy\n",
    "    dmax = ceil(dmax/accuracy) * accuracy\n",
    "    step = (dmax - dmin) / (N_points - 1)\n",
    "    if step == 0:\n",
    "        return [0, 1]\n",
    "    else:\n",
    "        return [dmin + step * i for i in range(N_points)]\n",
    "    \n",
    "CABBI_colors = (colors.CABBI_yellow.tint(75).RGBn, \n",
    "                colors.CABBI_yellow.RGBn,\n",
    "                colors.CABBI_green.RGBn,\n",
    "                colors.CABBI_teal_green.shade(60).RGBn)\n",
    "\n",
    "CABBI_colors_x = (colors.CABBI_blue_light.tint(90).RGBn,\n",
    "                  colors.CABBI_blue_light.tint(40).RGBn, \n",
    "                  colors.CABBI_blue_light.RGBn, \n",
    "#                   colors.CABBI_teal.RGBn,\n",
    "#                   colors.CABBI_teal_green.tint(10).RGBn,\n",
    "                  colors.CABBI_teal_green.tint(40).shade(15).RGBn,\n",
    "                  colors.CABBI_teal_green.shade(45).RGBn)\n",
    "\n",
    "colormaps = [\n",
    "    LinearSegmentedColormap.from_list('CABBI', CABBI_colors, 25),\n",
    "    LinearSegmentedColormap.from_list('CABBI', CABBI_colors_x, 25),\n",
    "    plt.cm.get_cmap('inferno_r'),\n",
    "    plt.cm.get_cmap('copper_r'),\n",
    "    plt.cm.get_cmap('bone_r'),\n",
    "]\n",
    "\n",
    "def create_contour_plots(load=False, metric_index=0):\n",
    "    # %% Generate contour data\n",
    "    x = np.linspace(0.3, 1., 10)\n",
    "    y = np.linspace(0.02, 0.15, 10)\n",
    "    X, Y = np.meshgrid(x, y)\n",
    "    dollar_per_mt = format_units(r'\\$/MT')\n",
    "    metric = bst.metric\n",
    "    kg_per_ton = 907.18474\n",
    "    \n",
    "    NG = None\n",
    "    @metric(units=format_units(r'\\$/ton'))\n",
    "    def MFPP():\n",
    "        return kg_per_ton * lc.lipidcane_tea.solve_price(lc.lipidcane)\n",
    "\n",
    "    @metric(units=format_units(r'10^6*\\$'))\n",
    "    def TCI():\n",
    "        return lc.lipidcane_tea.TCI / 1e6 # 10^6*$\n",
    "    \n",
    "    metrics = [MFPP, TCI]\n",
    "    file = 'lipid_extraction_analysis'\n",
    "    configurations = [1, 2]\n",
    "    agile = [False, True]\n",
    "    if load:\n",
    "        data = np.load(file + '.npy')\n",
    "    else:\n",
    "        data = lc.evaluate_across_configurations(X, Y, 0.85, agile, configurations, metrics)\n",
    "    np.save(file, data)\n",
    "    data = data[:, :, :, :, metric_index]\n",
    "    # %% Plot contours\n",
    "    xlabel = 'Lipid extraction[%]'\n",
    "    ylabel = \"Lipid content [dry wt. %]\"\n",
    "    xticks = [30, 40, 60, 80, 100]\n",
    "    yticks = [2, 5, 10, 15]\n",
    "    metric = metrics[metric_index]\n",
    "    metric_bar = MetricBar(metric.name, metric.units, colormaps[metric_index], tickmarks(data, 5, 5), 18)\n",
    "    fig, axes, CSs, CB = plot_contour_single_metric(\n",
    "        100.*X, 100.*Y, data, xlabel, ylabel, xticks, yticks, metric_bar, \n",
    "        fillblack=False, styleaxiskw=dict(xtick0=False), label=True\n",
    "    )\n",
    "    M = len(configurations)\n",
    "    N = len(agile)\n",
    "    for i in range(M):\n",
    "        for j in range(N):\n",
    "            ax = axes[i, j]\n",
    "            CS = CSs[i, j]\n",
    "            plt.sca(ax)\n",
    "            metric_data = data[:, :, i, j]\n",
    "            lb = metric_data.min()\n",
    "            ub = metric_data.max()\n",
    "            levels = [i for i in CS.levels if lb <= i <= ub]\n",
    "            CS = plt.contour(100.*X, 100.*Y, data=metric_data, zorder=1e16, linestyles='dashed', linewidths=1.,\n",
    "                             levels=levels, colors=[linecolor])\n",
    "            ax.clabel(CS, levels=CS.levels, inline=True, fmt=lambda x: f'{round(x):,}',\n",
    "                      fontsize=10, colors=[linecolor], zorder=1e16)\n",
    "            if j == 0:\n",
    "                lb = 47.5\n",
    "                ub = 52.5\n",
    "            else:\n",
    "                lb = 75\n",
    "                ub = 80\n",
    "            baseline = (lb + ub) / 2.\n",
    "            plt.fill_between([lb, ub], [2], [20], \n",
    "                             color=shadecolor,\n",
    "                             linewidth=1)\n",
    "            plot_vertical_line(lb, ls='-.',\n",
    "                               color=linecolor,\n",
    "                               linewidth=1.0)\n",
    "            plot_vertical_line(ub, ls='-.',\n",
    "                               color=linecolor,\n",
    "                               linewidth=1.0)\n",
    "            plot_scatter_points([baseline], [10], marker='*', s=125, color=markercolor,\n",
    "                                edgecolor=edgecolor)\n",
    "\n",
    "\n",
    "    plt.show()"
   ]
  },
  {
   "cell_type": "markdown",
   "metadata": {},
   "source": [
    "## Contour plots"
   ]
  },
  {
   "cell_type": "code",
   "execution_count": 7,
   "metadata": {},
   "outputs": [
    {
     "name": "stderr",
     "output_type": "stream",
     "text": [
      "<ipython-input-6-91b01dd7c07c>:107: UserWarning: No contour levels were found within the data range.\n",
      "  CS = plt.contour(100.*X, 100.*Y, data=metric_data, zorder=1e16, linestyles='dashed', linewidths=1.,\n"
     ]
    }
   ],
   "source": [
    "create_contour_plots(load=True, metric_index=1)"
   ]
  },
  {
   "cell_type": "code",
   "execution_count": null,
   "metadata": {},
   "outputs": [],
   "source": [
    "create_contour_plots(2, load=True)\n",
    "plt.suptitle('Biodiesel production from stillage, 1g ethanol production from juice, and 2g ethanol production from bagasse')"
   ]
  },
  {
   "cell_type": "code",
   "execution_count": null,
   "metadata": {},
   "outputs": [],
   "source": [
    "create_contour_plots(3, load=True)\n",
    "plt.suptitle('Biodiesel production from stillage, ethanol production from juice and bagasse (combined)')"
   ]
  },
  {
   "cell_type": "code",
   "execution_count": null,
   "metadata": {},
   "outputs": [],
   "source": []
  },
  {
   "cell_type": "code",
   "execution_count": null,
   "metadata": {},
   "outputs": [],
   "source": []
  }
 ],
 "metadata": {
  "kernelspec": {
   "display_name": "Python 3",
   "language": "python",
   "name": "python3"
  }
 },
 "nbformat": 4,
 "nbformat_minor": 4
}
