{
 "cells": [
  {
   "cell_type": "markdown",
   "metadata": {},
   "source": [
    "## Contour plot function"
   ]
  },
  {
   "cell_type": "code",
   "execution_count": 1,
   "metadata": {},
   "outputs": [],
   "source": [
    "%matplotlib qt5\n",
    "from biorefineries import lipidcane2g as lc\n",
    "import biosteam as bst\n",
    "import numpy as np\n",
    "import pandas as pd\n",
    "from biosteam.utils import colors\n",
    "from matplotlib.colors import LinearSegmentedColormap\n",
    "import matplotlib.pyplot as plt\n",
    "from biosteam.utils import colors\n",
    "from biosteam.plots import plot_contour_2d, MetricBar, plot_scatter_points, plot_contour_1d\n",
    "from math import floor, ceil\n",
    "from biosteam import plots\n",
    "from biosteam.utils import CABBI_colors\n",
    "from thermosteam.units_of_measure import format_units\n",
    "from biosteam.plots.utils import style_axis, style_plot_limits, fill_plot, set_axes_labels\n",
    "from biosteam import Metric\n",
    "\n",
    "def tickmarks(data, accuracy=50, N_points=5):\n",
    "    dmin = data.min()\n",
    "    dmax = data.max()\n",
    "    dmin = floor(dmin/accuracy) * accuracy\n",
    "    dmax = ceil(dmax/accuracy) * accuracy\n",
    "    step = (dmax - dmin) / (N_points - 1)\n",
    "    if step == 0:\n",
    "        return [0, 1]\n",
    "    else:\n",
    "        return [dmin + step * i for i in range(N_points)]\n",
    "    \n",
    "CABBI_colors = (colors.CABBI_yellow.tint(75).RGBn, \n",
    "                colors.CABBI_yellow.RGBn,\n",
    "                colors.CABBI_green.RGBn,\n",
    "                colors.CABBI_teal_green.shade(75).RGBn)\n",
    "colormaps = [\n",
    "    LinearSegmentedColormap.from_list('CABBI', CABBI_colors, 25),\n",
    "    plt.cm.get_cmap('magma_r'),\n",
    "    plt.cm.get_cmap('copper_r'),\n",
    "    plt.cm.get_cmap('bone_r'),\n",
    "]\n",
    "\n",
    "def create_contour_plots(name='1g', load=False, save=True):\n",
    "    # %% Generate contour data\n",
    "    x = np.linspace(0.2, 1., 6)\n",
    "    y = np.linspace(0.02, 0.15, 6)\n",
    "    Z = np.array([0.50, 0.75, 1.0])\n",
    "    X, Y = np.meshgrid(x, y)\n",
    "    dollar_per_mt = format_units(r'\\$/MT')\n",
    "    MPSP = bst.Metric(\n",
    "        'MPSP',\n",
    "        lambda: 1000 * lc.lipidcane_tea.solve_price(lc.lipidcane), # $/MT\n",
    "        dollar_per_mt,\n",
    "    )\n",
    "    EP = bst.Metric( \n",
    "        'Elec. prod.',\n",
    "        lambda: - sum([i.cost for i in lc.lipidcane_sys.power_utilities]) / lipidcane_flow_rate,\n",
    "        dollar_per_mt,\n",
    "    )\n",
    "    NG = bst.Metric( \n",
    "        'N.G. cons.',\n",
    "        lambda: 0.218 * lc.natural_gas.F_mass / lipidcane_flow_rate,\n",
    "        dollar_per_mt,\n",
    "    )\n",
    "    BD = bst.Metric( \n",
    "        'Biod. prod.',\n",
    "        lambda: lc.biodiesel.cost / lipidcane_flow_rate,\n",
    "        dollar_per_mt\n",
    "    )\n",
    "    FCI = bst.Metric( \n",
    "        'FCI',\n",
    "        lambda: lc.lipidcane_tea.FCI / 1e6, # 10^6*$\n",
    "        dollar_per_mt,\n",
    "    )\n",
    "    if name == 0 or name == 1:\n",
    "        metrics = [MPSP, EP, BD, FCI]\n",
    "    elif name == 2 or name == 3:\n",
    "        metrics = [MPSP, NG, BD, FCI]\n",
    "    if load:\n",
    "        data = np.load(f'lipid_extraction_analysis_{name}.npy')\n",
    "    else:\n",
    "        lc.load(name)\n",
    "        lipidcane_flow_rate = lc.lipidcane.F_mass / 1e3 # MT / hr\n",
    "        data = lc.lipid_extraction_specification.evaluate_across_lipid_retention(X, Y, metrics, Z)\n",
    "        save and np.save(f'lipid_extraction_analysis_{name}', data)\n",
    "\n",
    "    # %% Plot contours\n",
    "    xlabel = 'Lipid extraction[%]'\n",
    "    ylabel = \"Lipid content [dry wt. %]\"\n",
    "    xticks = [20, 40, 60, 80, 100]\n",
    "    yticks = [2, 5, 10, 15]\n",
    "    metric_bars = [\n",
    "        MetricBar(j.name, j.units, colormaps[i],\n",
    "                  tickmarks(data[:, :, i, :], 5, 5))\n",
    "        for i, j in enumerate(metrics)\n",
    "    ]\n",
    "    lipid_content = Z\n",
    "    def column_title(Z):\n",
    "        title =  f\"{Z:.1f} [%]\"\n",
    "        if Z == 100 * lipid_content[0]:\n",
    "            title = \"Bagasse lipid retention: \" + title\n",
    "        return title\n",
    "    \n",
    "    fig, axes = plot_contour_2d(100.*X, 100.*Y, 100*Z, data, \n",
    "                                xlabel, ylabel, xticks, yticks, metric_bars, \n",
    "                                Z_value_format=column_title,\n",
    "                                fillblack=False,\n",
    "                               styleaxiskw=dict(xtick0=False))\n",
    "    plt.show()"
   ]
  },
  {
   "cell_type": "markdown",
   "metadata": {},
   "source": [
    "## Contour plots"
   ]
  },
  {
   "cell_type": "code",
   "execution_count": 2,
   "metadata": {},
   "outputs": [
    {
     "data": {
      "text/plain": [
       "Text(0.5, 0.98, 'Biodiesel production from expressed oil from pelleted bagasse and 1g ethanol production from juice')"
      ]
     },
     "execution_count": 2,
     "metadata": {},
     "output_type": "execute_result"
    }
   ],
   "source": [
    "create_contour_plots(0, load=True)\n",
    "plt.suptitle('Biodiesel production from expressed oil from pelleted bagasse and 1g ethanol production from juice')"
   ]
  },
  {
   "cell_type": "code",
   "execution_count": 3,
   "metadata": {},
   "outputs": [
    {
     "data": {
      "text/plain": [
       "Text(0.5, 0.98, 'Biodiesel production from expressed oil from pelleted bagasse, 1g ethanol production from juice, and 2g ethanol production from bagasse')"
      ]
     },
     "execution_count": 3,
     "metadata": {},
     "output_type": "execute_result"
    }
   ],
   "source": [
    "create_contour_plots(1, load=True)\n",
    "plt.suptitle('Biodiesel production from expressed oil from pelleted bagasse, 1g ethanol production from juice, and 2g ethanol production from bagasse')"
   ]
  },
  {
   "cell_type": "code",
   "execution_count": 4,
   "metadata": {},
   "outputs": [
    {
     "data": {
      "text/plain": [
       "Text(0.5, 0.98, 'Biodiesel production from stillage, 1g ethanol production from juice, and 2g ethanol production from bagasse')"
      ]
     },
     "execution_count": 4,
     "metadata": {},
     "output_type": "execute_result"
    }
   ],
   "source": [
    "create_contour_plots(2, load=True)\n",
    "plt.suptitle('Biodiesel production from stillage, 1g ethanol production from juice, and 2g ethanol production from bagasse')"
   ]
  },
  {
   "cell_type": "code",
   "execution_count": 5,
   "metadata": {},
   "outputs": [
    {
     "data": {
      "text/plain": [
       "Text(0.5, 0.98, 'Biodiesel production from stillage, ethanol production from juice and bagasse (combined)')"
      ]
     },
     "execution_count": 5,
     "metadata": {},
     "output_type": "execute_result"
    }
   ],
   "source": [
    "create_contour_plots(3, load=True)\n",
    "plt.suptitle('Biodiesel production from stillage, ethanol production from juice and bagasse (combined)')"
   ]
  },
  {
   "cell_type": "code",
   "execution_count": null,
   "metadata": {},
   "outputs": [],
   "source": []
  }
 ],
 "metadata": {
  "kernelspec": {
   "display_name": "Python 3",
   "language": "python",
   "name": "python3"
  },
  "language_info": {
   "codemirror_mode": {
    "name": "ipython",
    "version": 3
   },
   "file_extension": ".py",
   "mimetype": "text/x-python",
   "name": "python",
   "nbconvert_exporter": "python",
   "pygments_lexer": "ipython3",
   "version": "3.8.5"
  }
 },
 "nbformat": 4,
 "nbformat_minor": 4
}
