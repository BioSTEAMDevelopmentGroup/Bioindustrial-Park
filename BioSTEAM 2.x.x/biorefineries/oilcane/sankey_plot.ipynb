{
 "cells": [
  {
   "cell_type": "code",
   "execution_count": 5,
   "metadata": {
    "scrolled": true
   },
   "outputs": [
    {
     "name": "stdout",
     "output_type": "stream",
     "text": [
      "Using matplotlib backend: Qt5Agg\n"
     ]
    }
   ],
   "source": [
    "%matplotlib\n",
    "from biorefineries import oilcane as oc\n",
    "import biosteam as bst\n",
    "from biosteam.plots import sankey\n",
    "from biosteam.utils import colors, CABBI_colors\n",
    "from colorpalette import ColorWheel, Color\n",
    "from matplotlib import cm\n",
    "import numpy as np\n",
    "\n",
    "no_oil = no_color = CABBI_colors.grey.tint(15)\n",
    "orange_RGB = CABBI_colors.orange.shade(20).RGB\n",
    "little_oil = Color(fg=0.05 *  + 0.95 * no_oil.RGB)\n",
    "some_oil = Color(fg=0.20 * orange_RGB + 0.80 * no_oil.RGB)\n",
    "alot_oil = Color(fg=0.40 * orange_RGB + 0.60 * no_oil.RGB)\n",
    "all_oil = Color(fg=0.70 * orange_RGB + 0.30 * no_oil.RGB)\n",
    "\n",
    "class NodeHandle(sankey.Handle):\n",
    "    __slots__ = ('node_colors',)\n",
    "\n",
    "    def _init(self, node_colors):\n",
    "        self.node_colors = node_colors\n",
    "    \n",
    "    def process_color(self, units, index):\n",
    "        color = self.node_colors[index]\n",
    "        RGB = color.RGB\n",
    "        return \"rgba(%d, %d, %d, 1.0)\" %tuple(RGB)\n",
    "\n",
    "class MassHandle(NodeHandle):\n",
    "    __slots__ = ()\n",
    "    def stream_width(self, stream): return (stream.F_mass - stream.imass['Oil']) / 10 or 1e-6\n",
    "    def stream_color(self, stream): return \"rgba(%d, %d, %d, 1.0)\" %tuple(no_color.RGB)\n",
    "\n",
    "class OilHandle(NodeHandle): \n",
    "    __slots__ = ()\n",
    "    def stream_width(self, stream): return stream.imass['Oil']\n",
    "    def stream_color(self, stream): return \"rgba(%d, %d, %d, 1.0)\" %tuple(some_oil.RGB)\n",
    "    \n",
    "@bst.utils.piping.ignore_docking_warnings\n",
    "def create_sankey_plot(name):\n",
    "    oc.load(name, reduce_chemicals=False)\n",
    "    if name == 'O1':\n",
    "        loaded = getattr(oc, 'loaded_1', False)\n",
    "        feedstock_handling, *sankey_groups, CHP, utilities, hxn, storage = oc.unit_groups\n",
    "#         oc.pressed_bagasse.ID = 'bagasse'\n",
    "    elif name == 'O2':\n",
    "        loaded = getattr(oc, 'loaded_2', False)\n",
    "        feedstock_handling, *sankey_groups, wastewater, oil_ext, CHP, biod_prod, utilities, hxn, storage = oc.unit_groups\n",
    "        sankey_groups += [oil_ext, biod_prod]\n",
    "    else:\n",
    "        raise ValueError('name is invalid')\n",
    "    if not loaded:\n",
    "        oc.shredded_cane.ID = 'oilcane'\n",
    "        oc.rvf_wash_water.ID = 'RVF_wash_water'\n",
    "        for i in storage.units: \n",
    "            if 'storage' in i.line.lower():\n",
    "                i.replace_with()\n",
    "        if name == 'O1':\n",
    "            for i in oc.M801.ins: i.ID = 'process_water'\n",
    "            oc.P304.outs[0].ID = 'process_water'\n",
    "            oc.R601.outs[0].ID = 'N2_purge'\n",
    "            oc.loaded_1 = True\n",
    "        elif name == 'O2':\n",
    "#             for i in sankey_groups:\n",
    "#                 if 'Oil ext.' in i.name:\n",
    "#                     wastewater = oc.wastewater\n",
    "#                     wastewater.ID = ''\n",
    "#                     MX = bst.Mixer('MX1',\n",
    "#                                    (oc.spent_wash_water, wastewater),\n",
    "#                                    'wastewater')\n",
    "#                     MX.simulate()\n",
    "#                     i.units.append(MX)\n",
    "#                 elif 'EtOH prod.' in i.name:\n",
    "#                     MX = bst.Mixer('MX2',\n",
    "#                                    (oc.E401.outs[1], oc.P404.outs[0]),\n",
    "#                                    'recycle_process_water')\n",
    "#                     MX.simulate()\n",
    "#                     i.units.append(MX)\n",
    "            oc.loaded_2 = True\n",
    "            #oc.U601.outs[0].ID = 'lignin'\n",
    "            oc.evaporator_condensate._ID = 'process_water'\n",
    "            oc.pretreatment_wastewater.ID = 'wastewater'\n",
    "            oc.s57.ID = oc.s48.ID ='process_water'\n",
    "            oc.s110.ID = 'wastewater'\n",
    "            oc.s80.ID = 'wastewater'\n",
    "            oc.s106.ID = 'N2_purge'\n",
    "    #         oc.warm_process_water.ID = 'process_water'\n",
    "    #         oc.P601.outs[0].ID = 'recycle_process_water'\n",
    "    ignored = []\n",
    "#     if name == 1:\n",
    "#         ignored = [oc.H604.ins[0]]\n",
    "#     elif name == 2:\n",
    "#         ignored = [oc.H804.ins[0], oc.U601.ins[1]]\n",
    "\n",
    "    sankey_installed_cost = {u.name: sum([i.installed_cost for i in u.units]) for u in sankey_groups}\n",
    "    max_installed_cost_of_groups = max(sankey_installed_cost.values())\n",
    "    handle = MassHandle(\n",
    "        max_feeds=100, max_products=100,\n",
    "        ignore=ignored,\n",
    "        node_colors=[oc.area_colors[i.name] for i in sankey_groups],\n",
    "    )\n",
    "    oilhandle = OilHandle(max_feeds=100, max_products=100,\n",
    "        ignore=ignored,\n",
    "        node_colors=[oc.area_colors[i.name] for i in sankey_groups],\n",
    "    )\n",
    "    nodes = handle.nodes(sankey_groups)\n",
    "    nodes_dct = {i.name: i for i in nodes}\n",
    "    dct = globals()\n",
    "    dct.update(locals())\n",
    "    links = sum([i.links() for i in nodes], [])\n",
    "    onodes = oilhandle.nodes(sankey_groups)\n",
    "    olinks = sum([i.links() for i in onodes], [])\n",
    "    for i in olinks:\n",
    "        i.source = nodes_dct[i.source.name]\n",
    "        i.sink = nodes_dct[i.sink.name]\n",
    "    print(2)\n",
    "    links += olinks \n",
    "    print(3)\n",
    "    dct = globals()\n",
    "    dct.update(locals())"
   ]
  },
  {
   "cell_type": "code",
   "execution_count": 6,
   "metadata": {},
   "outputs": [
    {
     "data": {
      "text/plain": [
       "{'Juicing': <ProcessNode: Juicing>,\n",
       " 'EtOH prod.': <ProcessNode: EtOH prod.>,\n",
       " 'Oil ext.': <ProcessNode: Oil ext.>,\n",
       " 'Biod. prod.': <ProcessNode: Biod. prod.>,\n",
       " 'denaturant': <FeedNode: denaturant>,\n",
       " 'pure glycerine': <FeedNode: pure glycerine>,\n",
       " 'lime': <FeedNode: lime>,\n",
       " 'methanol': <FeedNode: methanol>,\n",
       " 'catalyst': <FeedNode: catalyst>,\n",
       " 'biodiesel wash water': <FeedNode: biodiesel wash water>,\n",
       " 'HCl': <FeedNode: HCl>,\n",
       " 'NaOH': <FeedNode: NaOH>,\n",
       " 'H3PO4': <FeedNode: H3PO4>,\n",
       " 'polymer': <FeedNode: polymer>,\n",
       " 'N2': <FeedNode: N2>,\n",
       " 'RVF wash water': <FeedNode: RVF wash water>,\n",
       " 'imbibition water': <FeedNode: imbibition water>,\n",
       " 'stripping water': <FeedNode: stripping water>,\n",
       " 'oilcane': <FeedNode: oilcane>,\n",
       " 'ethanol': <ProductNode: ethanol>,\n",
       " 'biodiesel': <ProductNode: biodiesel>,\n",
       " 'crude glycerol': <ProductNode: crude glycerol>,\n",
       " 'filter cake': <ProductNode: filter cake>,\n",
       " 'polar lipids': <ProductNode: polar lipids>,\n",
       " 'wastewater': <ProductNode: wastewater>,\n",
       " 'bagasse': <ProductNode: bagasse>,\n",
       " 'fiber fines': <ProductNode: fiber fines>,\n",
       " 'process water': <ProductNode: process water>,\n",
       " 'vent': <ProductNode: vent>,\n",
       " 'N2 purge': <ProductNode: N2 purge>,\n",
       " 'vinasse': <ProductNode: vinasse>,\n",
       " 'Yeast': <ProductNode: Yeast>}"
      ]
     },
     "execution_count": 6,
     "metadata": {},
     "output_type": "execute_result"
    }
   ],
   "source": [
    "nodes_dct"
   ]
  },
  {
   "cell_type": "code",
   "execution_count": 7,
   "metadata": {
    "scrolled": false
   },
   "outputs": [
    {
     "name": "stdout",
     "output_type": "stream",
     "text": [
      "2\n",
      "3\n"
     ]
    }
   ],
   "source": [
    "create_sankey_plot('O1')"
   ]
  },
  {
   "cell_type": "code",
   "execution_count": 8,
   "metadata": {},
   "outputs": [
    {
     "name": "stdout",
     "output_type": "stream",
     "text": [
      "4\n"
     ]
    },
    {
     "data": {
      "application/vnd.plotly.v1+json": {
       "config": {
        "plotlyServerURL": "https://plot.ly"
       },
       "data": [
        {
         "arrangement": "snap",
         "link": {
          "color": [
           "rgba(229, 226, 223, 1.0)",
           "rgba(229, 226, 223, 1.0)",
           "rgba(229, 226, 223, 1.0)",
           "rgba(229, 226, 223, 1.0)",
           "rgba(229, 226, 223, 1.0)",
           "rgba(229, 226, 223, 1.0)",
           "rgba(229, 226, 223, 1.0)",
           "rgba(229, 226, 223, 1.0)",
           "rgba(229, 226, 223, 1.0)",
           "rgba(229, 226, 223, 1.0)",
           "rgba(229, 226, 223, 1.0)",
           "rgba(229, 226, 223, 1.0)",
           "rgba(229, 226, 223, 1.0)",
           "rgba(229, 226, 223, 1.0)",
           "rgba(229, 226, 223, 1.0)",
           "rgba(229, 226, 223, 1.0)",
           "rgba(229, 226, 223, 1.0)",
           "rgba(229, 226, 223, 1.0)",
           "rgba(229, 226, 223, 1.0)",
           "rgba(229, 226, 223, 1.0)",
           "rgba(229, 226, 223, 1.0)",
           "rgba(229, 226, 223, 1.0)",
           "rgba(229, 226, 223, 1.0)",
           "rgba(229, 226, 223, 1.0)",
           "rgba(229, 226, 223, 1.0)",
           "rgba(229, 226, 223, 1.0)",
           "rgba(229, 226, 223, 1.0)",
           "rgba(229, 226, 223, 1.0)",
           "rgba(229, 226, 223, 1.0)",
           "rgba(229, 226, 223, 1.0)",
           "rgba(229, 226, 223, 1.0)",
           "rgba(229, 226, 223, 1.0)",
           "rgba(223, 210, 181, 1.0)",
           "rgba(223, 210, 181, 1.0)",
           "rgba(223, 210, 181, 1.0)",
           "rgba(223, 210, 181, 1.0)",
           "rgba(223, 210, 181, 1.0)",
           "rgba(223, 210, 181, 1.0)",
           "rgba(223, 210, 181, 1.0)",
           "rgba(223, 210, 181, 1.0)",
           "rgba(223, 210, 181, 1.0)"
          ],
          "source": [
           0,
           1,
           2,
           4,
           5,
           6,
           7,
           8,
           9,
           10,
           11,
           12,
           13,
           14,
           15,
           16,
           17,
           18,
           1,
           3,
           3,
           0,
           3,
           3,
           0,
           0,
           2,
           1,
           1,
           3,
           2,
           1,
           0,
           1,
           2,
           18,
           3,
           3,
           0,
           0,
           2
          ],
          "target": [
           1,
           2,
           3,
           1,
           3,
           0,
           3,
           3,
           3,
           3,
           3,
           0,
           0,
           3,
           0,
           0,
           1,
           0,
           19,
           20,
           21,
           22,
           23,
           24,
           25,
           26,
           27,
           28,
           29,
           30,
           31,
           32,
           1,
           2,
           3,
           0,
           23,
           24,
           25,
           26,
           31
          ],
          "value": [
           28306.95708013066,
           25509.039878224605,
           0.45812797189214505,
           37.799435052840934,
           37.60775769476935,
           33.3333334,
           3.204186,
           0.1,
           13.97653584548571,
           0.03553451999620555,
           0.003985617707713043,
           16.6666667,
           0.08299999999999999,
           0.3306035976447795,
           7.165757606403785,
           8166.666682999999,
           2683.6,
           32833.333398999996,
           1756.0079178683432,
           268.97536296332777,
           69.91602457487083,
           946.4505667852636,
           1e-06,
           2.123871087202581,
           11747.047523959252,
           56.79366883122244,
           7854.2117104559675,
           1699.3942959994329,
           1628.0170765903888,
           5.84347274767782,
           17654.37003979675,
           438.1694698531167,
           2997.000005994,
           2924.221105835086,
           2894.9788947767347,
           5000.000010000001,
           296.6733302933467,
           9.401414603352215,
           2000.0000040000004,
           3.000000006000108,
           29.24221105835068
          ]
         },
         "node": {
          "color": [
           "rgba(164, 189, 100, 1.0)",
           "rgba(155, 216, 217, 1.0)",
           "rgba(172, 159, 139, 1.0)",
           "rgba(252, 198, 66, 1.0)",
           "rgba(229, 226, 223, 1.0)",
           "rgba(229, 226, 223, 1.0)",
           "rgba(229, 226, 223, 1.0)",
           "rgba(229, 226, 223, 1.0)",
           "rgba(229, 226, 223, 1.0)",
           "rgba(229, 226, 223, 1.0)",
           "rgba(229, 226, 223, 1.0)",
           "rgba(229, 226, 223, 1.0)",
           "rgba(229, 226, 223, 1.0)",
           "rgba(229, 226, 223, 1.0)",
           "rgba(229, 226, 223, 1.0)",
           "rgba(229, 226, 223, 1.0)",
           "rgba(229, 226, 223, 1.0)",
           "rgba(229, 226, 223, 1.0)",
           "rgba(229, 226, 223, 1.0)",
           "rgba(229, 226, 223, 1.0)",
           "rgba(229, 226, 223, 1.0)",
           "rgba(229, 226, 223, 1.0)",
           "rgba(229, 226, 223, 1.0)",
           "rgba(229, 226, 223, 1.0)",
           "rgba(229, 226, 223, 1.0)",
           "rgba(229, 226, 223, 1.0)",
           "rgba(229, 226, 223, 1.0)",
           "rgba(229, 226, 223, 1.0)",
           "rgba(229, 226, 223, 1.0)",
           "rgba(229, 226, 223, 1.0)",
           "rgba(229, 226, 223, 1.0)",
           "rgba(229, 226, 223, 1.0)",
           "rgba(229, 226, 223, 1.0)"
          ],
          "label": [
           "Juicing",
           "EtOH prod.",
           "Oil ext.",
           "Biod. prod.",
           "denaturant",
           "pure glycerine",
           "lime",
           "methanol",
           "catalyst",
           "biodiesel wash water",
           "HCl",
           "NaOH",
           "H3PO4",
           "polymer",
           "N2",
           "RVF wash water",
           "imbibition water",
           "stripping water",
           "oilcane",
           "ethanol",
           "biodiesel",
           "crude glycerol",
           "filter cake",
           "polar lipids",
           "wastewater",
           "bagasse",
           "fiber fines",
           "process water",
           "process water",
           "vent",
           "N2 purge",
           "vinasse",
           "Yeast"
          ]
         },
         "type": "sankey"
        }
       ],
       "layout": {
        "template": {
         "data": {
          "bar": [
           {
            "error_x": {
             "color": "#2a3f5f"
            },
            "error_y": {
             "color": "#2a3f5f"
            },
            "marker": {
             "line": {
              "color": "#E5ECF6",
              "width": 0.5
             },
             "pattern": {
              "fillmode": "overlay",
              "size": 10,
              "solidity": 0.2
             }
            },
            "type": "bar"
           }
          ],
          "barpolar": [
           {
            "marker": {
             "line": {
              "color": "#E5ECF6",
              "width": 0.5
             },
             "pattern": {
              "fillmode": "overlay",
              "size": 10,
              "solidity": 0.2
             }
            },
            "type": "barpolar"
           }
          ],
          "carpet": [
           {
            "aaxis": {
             "endlinecolor": "#2a3f5f",
             "gridcolor": "white",
             "linecolor": "white",
             "minorgridcolor": "white",
             "startlinecolor": "#2a3f5f"
            },
            "baxis": {
             "endlinecolor": "#2a3f5f",
             "gridcolor": "white",
             "linecolor": "white",
             "minorgridcolor": "white",
             "startlinecolor": "#2a3f5f"
            },
            "type": "carpet"
           }
          ],
          "choropleth": [
           {
            "colorbar": {
             "outlinewidth": 0,
             "ticks": ""
            },
            "type": "choropleth"
           }
          ],
          "contour": [
           {
            "colorbar": {
             "outlinewidth": 0,
             "ticks": ""
            },
            "colorscale": [
             [
              0,
              "#0d0887"
             ],
             [
              0.1111111111111111,
              "#46039f"
             ],
             [
              0.2222222222222222,
              "#7201a8"
             ],
             [
              0.3333333333333333,
              "#9c179e"
             ],
             [
              0.4444444444444444,
              "#bd3786"
             ],
             [
              0.5555555555555556,
              "#d8576b"
             ],
             [
              0.6666666666666666,
              "#ed7953"
             ],
             [
              0.7777777777777778,
              "#fb9f3a"
             ],
             [
              0.8888888888888888,
              "#fdca26"
             ],
             [
              1,
              "#f0f921"
             ]
            ],
            "type": "contour"
           }
          ],
          "contourcarpet": [
           {
            "colorbar": {
             "outlinewidth": 0,
             "ticks": ""
            },
            "type": "contourcarpet"
           }
          ],
          "heatmap": [
           {
            "colorbar": {
             "outlinewidth": 0,
             "ticks": ""
            },
            "colorscale": [
             [
              0,
              "#0d0887"
             ],
             [
              0.1111111111111111,
              "#46039f"
             ],
             [
              0.2222222222222222,
              "#7201a8"
             ],
             [
              0.3333333333333333,
              "#9c179e"
             ],
             [
              0.4444444444444444,
              "#bd3786"
             ],
             [
              0.5555555555555556,
              "#d8576b"
             ],
             [
              0.6666666666666666,
              "#ed7953"
             ],
             [
              0.7777777777777778,
              "#fb9f3a"
             ],
             [
              0.8888888888888888,
              "#fdca26"
             ],
             [
              1,
              "#f0f921"
             ]
            ],
            "type": "heatmap"
           }
          ],
          "heatmapgl": [
           {
            "colorbar": {
             "outlinewidth": 0,
             "ticks": ""
            },
            "colorscale": [
             [
              0,
              "#0d0887"
             ],
             [
              0.1111111111111111,
              "#46039f"
             ],
             [
              0.2222222222222222,
              "#7201a8"
             ],
             [
              0.3333333333333333,
              "#9c179e"
             ],
             [
              0.4444444444444444,
              "#bd3786"
             ],
             [
              0.5555555555555556,
              "#d8576b"
             ],
             [
              0.6666666666666666,
              "#ed7953"
             ],
             [
              0.7777777777777778,
              "#fb9f3a"
             ],
             [
              0.8888888888888888,
              "#fdca26"
             ],
             [
              1,
              "#f0f921"
             ]
            ],
            "type": "heatmapgl"
           }
          ],
          "histogram": [
           {
            "marker": {
             "pattern": {
              "fillmode": "overlay",
              "size": 10,
              "solidity": 0.2
             }
            },
            "type": "histogram"
           }
          ],
          "histogram2d": [
           {
            "colorbar": {
             "outlinewidth": 0,
             "ticks": ""
            },
            "colorscale": [
             [
              0,
              "#0d0887"
             ],
             [
              0.1111111111111111,
              "#46039f"
             ],
             [
              0.2222222222222222,
              "#7201a8"
             ],
             [
              0.3333333333333333,
              "#9c179e"
             ],
             [
              0.4444444444444444,
              "#bd3786"
             ],
             [
              0.5555555555555556,
              "#d8576b"
             ],
             [
              0.6666666666666666,
              "#ed7953"
             ],
             [
              0.7777777777777778,
              "#fb9f3a"
             ],
             [
              0.8888888888888888,
              "#fdca26"
             ],
             [
              1,
              "#f0f921"
             ]
            ],
            "type": "histogram2d"
           }
          ],
          "histogram2dcontour": [
           {
            "colorbar": {
             "outlinewidth": 0,
             "ticks": ""
            },
            "colorscale": [
             [
              0,
              "#0d0887"
             ],
             [
              0.1111111111111111,
              "#46039f"
             ],
             [
              0.2222222222222222,
              "#7201a8"
             ],
             [
              0.3333333333333333,
              "#9c179e"
             ],
             [
              0.4444444444444444,
              "#bd3786"
             ],
             [
              0.5555555555555556,
              "#d8576b"
             ],
             [
              0.6666666666666666,
              "#ed7953"
             ],
             [
              0.7777777777777778,
              "#fb9f3a"
             ],
             [
              0.8888888888888888,
              "#fdca26"
             ],
             [
              1,
              "#f0f921"
             ]
            ],
            "type": "histogram2dcontour"
           }
          ],
          "mesh3d": [
           {
            "colorbar": {
             "outlinewidth": 0,
             "ticks": ""
            },
            "type": "mesh3d"
           }
          ],
          "parcoords": [
           {
            "line": {
             "colorbar": {
              "outlinewidth": 0,
              "ticks": ""
             }
            },
            "type": "parcoords"
           }
          ],
          "pie": [
           {
            "automargin": true,
            "type": "pie"
           }
          ],
          "scatter": [
           {
            "fillpattern": {
             "fillmode": "overlay",
             "size": 10,
             "solidity": 0.2
            },
            "type": "scatter"
           }
          ],
          "scatter3d": [
           {
            "line": {
             "colorbar": {
              "outlinewidth": 0,
              "ticks": ""
             }
            },
            "marker": {
             "colorbar": {
              "outlinewidth": 0,
              "ticks": ""
             }
            },
            "type": "scatter3d"
           }
          ],
          "scattercarpet": [
           {
            "marker": {
             "colorbar": {
              "outlinewidth": 0,
              "ticks": ""
             }
            },
            "type": "scattercarpet"
           }
          ],
          "scattergeo": [
           {
            "marker": {
             "colorbar": {
              "outlinewidth": 0,
              "ticks": ""
             }
            },
            "type": "scattergeo"
           }
          ],
          "scattergl": [
           {
            "marker": {
             "colorbar": {
              "outlinewidth": 0,
              "ticks": ""
             }
            },
            "type": "scattergl"
           }
          ],
          "scattermapbox": [
           {
            "marker": {
             "colorbar": {
              "outlinewidth": 0,
              "ticks": ""
             }
            },
            "type": "scattermapbox"
           }
          ],
          "scatterpolar": [
           {
            "marker": {
             "colorbar": {
              "outlinewidth": 0,
              "ticks": ""
             }
            },
            "type": "scatterpolar"
           }
          ],
          "scatterpolargl": [
           {
            "marker": {
             "colorbar": {
              "outlinewidth": 0,
              "ticks": ""
             }
            },
            "type": "scatterpolargl"
           }
          ],
          "scatterternary": [
           {
            "marker": {
             "colorbar": {
              "outlinewidth": 0,
              "ticks": ""
             }
            },
            "type": "scatterternary"
           }
          ],
          "surface": [
           {
            "colorbar": {
             "outlinewidth": 0,
             "ticks": ""
            },
            "colorscale": [
             [
              0,
              "#0d0887"
             ],
             [
              0.1111111111111111,
              "#46039f"
             ],
             [
              0.2222222222222222,
              "#7201a8"
             ],
             [
              0.3333333333333333,
              "#9c179e"
             ],
             [
              0.4444444444444444,
              "#bd3786"
             ],
             [
              0.5555555555555556,
              "#d8576b"
             ],
             [
              0.6666666666666666,
              "#ed7953"
             ],
             [
              0.7777777777777778,
              "#fb9f3a"
             ],
             [
              0.8888888888888888,
              "#fdca26"
             ],
             [
              1,
              "#f0f921"
             ]
            ],
            "type": "surface"
           }
          ],
          "table": [
           {
            "cells": {
             "fill": {
              "color": "#EBF0F8"
             },
             "line": {
              "color": "white"
             }
            },
            "header": {
             "fill": {
              "color": "#C8D4E3"
             },
             "line": {
              "color": "white"
             }
            },
            "type": "table"
           }
          ]
         },
         "layout": {
          "annotationdefaults": {
           "arrowcolor": "#2a3f5f",
           "arrowhead": 0,
           "arrowwidth": 1
          },
          "autotypenumbers": "strict",
          "coloraxis": {
           "colorbar": {
            "outlinewidth": 0,
            "ticks": ""
           }
          },
          "colorscale": {
           "diverging": [
            [
             0,
             "#8e0152"
            ],
            [
             0.1,
             "#c51b7d"
            ],
            [
             0.2,
             "#de77ae"
            ],
            [
             0.3,
             "#f1b6da"
            ],
            [
             0.4,
             "#fde0ef"
            ],
            [
             0.5,
             "#f7f7f7"
            ],
            [
             0.6,
             "#e6f5d0"
            ],
            [
             0.7,
             "#b8e186"
            ],
            [
             0.8,
             "#7fbc41"
            ],
            [
             0.9,
             "#4d9221"
            ],
            [
             1,
             "#276419"
            ]
           ],
           "sequential": [
            [
             0,
             "#0d0887"
            ],
            [
             0.1111111111111111,
             "#46039f"
            ],
            [
             0.2222222222222222,
             "#7201a8"
            ],
            [
             0.3333333333333333,
             "#9c179e"
            ],
            [
             0.4444444444444444,
             "#bd3786"
            ],
            [
             0.5555555555555556,
             "#d8576b"
            ],
            [
             0.6666666666666666,
             "#ed7953"
            ],
            [
             0.7777777777777778,
             "#fb9f3a"
            ],
            [
             0.8888888888888888,
             "#fdca26"
            ],
            [
             1,
             "#f0f921"
            ]
           ],
           "sequentialminus": [
            [
             0,
             "#0d0887"
            ],
            [
             0.1111111111111111,
             "#46039f"
            ],
            [
             0.2222222222222222,
             "#7201a8"
            ],
            [
             0.3333333333333333,
             "#9c179e"
            ],
            [
             0.4444444444444444,
             "#bd3786"
            ],
            [
             0.5555555555555556,
             "#d8576b"
            ],
            [
             0.6666666666666666,
             "#ed7953"
            ],
            [
             0.7777777777777778,
             "#fb9f3a"
            ],
            [
             0.8888888888888888,
             "#fdca26"
            ],
            [
             1,
             "#f0f921"
            ]
           ]
          },
          "colorway": [
           "#636efa",
           "#EF553B",
           "#00cc96",
           "#ab63fa",
           "#FFA15A",
           "#19d3f3",
           "#FF6692",
           "#B6E880",
           "#FF97FF",
           "#FECB52"
          ],
          "font": {
           "color": "#2a3f5f"
          },
          "geo": {
           "bgcolor": "white",
           "lakecolor": "white",
           "landcolor": "#E5ECF6",
           "showlakes": true,
           "showland": true,
           "subunitcolor": "white"
          },
          "hoverlabel": {
           "align": "left"
          },
          "hovermode": "closest",
          "mapbox": {
           "style": "light"
          },
          "paper_bgcolor": "white",
          "plot_bgcolor": "#E5ECF6",
          "polar": {
           "angularaxis": {
            "gridcolor": "white",
            "linecolor": "white",
            "ticks": ""
           },
           "bgcolor": "#E5ECF6",
           "radialaxis": {
            "gridcolor": "white",
            "linecolor": "white",
            "ticks": ""
           }
          },
          "scene": {
           "xaxis": {
            "backgroundcolor": "#E5ECF6",
            "gridcolor": "white",
            "gridwidth": 2,
            "linecolor": "white",
            "showbackground": true,
            "ticks": "",
            "zerolinecolor": "white"
           },
           "yaxis": {
            "backgroundcolor": "#E5ECF6",
            "gridcolor": "white",
            "gridwidth": 2,
            "linecolor": "white",
            "showbackground": true,
            "ticks": "",
            "zerolinecolor": "white"
           },
           "zaxis": {
            "backgroundcolor": "#E5ECF6",
            "gridcolor": "white",
            "gridwidth": 2,
            "linecolor": "white",
            "showbackground": true,
            "ticks": "",
            "zerolinecolor": "white"
           }
          },
          "shapedefaults": {
           "line": {
            "color": "#2a3f5f"
           }
          },
          "ternary": {
           "aaxis": {
            "gridcolor": "white",
            "linecolor": "white",
            "ticks": ""
           },
           "baxis": {
            "gridcolor": "white",
            "linecolor": "white",
            "ticks": ""
           },
           "bgcolor": "#E5ECF6",
           "caxis": {
            "gridcolor": "white",
            "linecolor": "white",
            "ticks": ""
           }
          },
          "title": {
           "x": 0.05
          },
          "xaxis": {
           "automargin": true,
           "gridcolor": "white",
           "linecolor": "white",
           "ticks": "",
           "title": {
            "standoff": 15
           },
           "zerolinecolor": "white",
           "zerolinewidth": 2
          },
          "yaxis": {
           "automargin": true,
           "gridcolor": "white",
           "linecolor": "white",
           "ticks": "",
           "title": {
            "standoff": 15
           },
           "zerolinecolor": "white",
           "zerolinewidth": 2
          }
         }
        }
       }
      },
      "text/html": [
       "<div>                            <div id=\"df8ec3f3-8256-4c84-a7a3-a066f2aae8e7\" class=\"plotly-graph-div\" style=\"height:525px; width:100%;\"></div>            <script type=\"text/javascript\">                require([\"plotly\"], function(Plotly) {                    window.PLOTLYENV=window.PLOTLYENV || {};                                    if (document.getElementById(\"df8ec3f3-8256-4c84-a7a3-a066f2aae8e7\")) {                    Plotly.newPlot(                        \"df8ec3f3-8256-4c84-a7a3-a066f2aae8e7\",                        [{\"arrangement\":\"snap\",\"link\":{\"color\":[\"rgba(229, 226, 223, 1.0)\",\"rgba(229, 226, 223, 1.0)\",\"rgba(229, 226, 223, 1.0)\",\"rgba(229, 226, 223, 1.0)\",\"rgba(229, 226, 223, 1.0)\",\"rgba(229, 226, 223, 1.0)\",\"rgba(229, 226, 223, 1.0)\",\"rgba(229, 226, 223, 1.0)\",\"rgba(229, 226, 223, 1.0)\",\"rgba(229, 226, 223, 1.0)\",\"rgba(229, 226, 223, 1.0)\",\"rgba(229, 226, 223, 1.0)\",\"rgba(229, 226, 223, 1.0)\",\"rgba(229, 226, 223, 1.0)\",\"rgba(229, 226, 223, 1.0)\",\"rgba(229, 226, 223, 1.0)\",\"rgba(229, 226, 223, 1.0)\",\"rgba(229, 226, 223, 1.0)\",\"rgba(229, 226, 223, 1.0)\",\"rgba(229, 226, 223, 1.0)\",\"rgba(229, 226, 223, 1.0)\",\"rgba(229, 226, 223, 1.0)\",\"rgba(229, 226, 223, 1.0)\",\"rgba(229, 226, 223, 1.0)\",\"rgba(229, 226, 223, 1.0)\",\"rgba(229, 226, 223, 1.0)\",\"rgba(229, 226, 223, 1.0)\",\"rgba(229, 226, 223, 1.0)\",\"rgba(229, 226, 223, 1.0)\",\"rgba(229, 226, 223, 1.0)\",\"rgba(229, 226, 223, 1.0)\",\"rgba(229, 226, 223, 1.0)\",\"rgba(223, 210, 181, 1.0)\",\"rgba(223, 210, 181, 1.0)\",\"rgba(223, 210, 181, 1.0)\",\"rgba(223, 210, 181, 1.0)\",\"rgba(223, 210, 181, 1.0)\",\"rgba(223, 210, 181, 1.0)\",\"rgba(223, 210, 181, 1.0)\",\"rgba(223, 210, 181, 1.0)\",\"rgba(223, 210, 181, 1.0)\"],\"source\":[0,1,2,4,5,6,7,8,9,10,11,12,13,14,15,16,17,18,1,3,3,0,3,3,0,0,2,1,1,3,2,1,0,1,2,18,3,3,0,0,2],\"target\":[1,2,3,1,3,0,3,3,3,3,3,0,0,3,0,0,1,0,19,20,21,22,23,24,25,26,27,28,29,30,31,32,1,2,3,0,23,24,25,26,31],\"value\":[28306.95708013066,25509.039878224605,0.45812797189214505,37.799435052840934,37.60775769476935,33.3333334,3.204186,0.1,13.97653584548571,0.03553451999620555,0.003985617707713043,16.6666667,0.08299999999999999,0.3306035976447795,7.165757606403785,8166.666682999999,2683.6,32833.333398999996,1756.0079178683432,268.97536296332777,69.91602457487083,946.4505667852636,1e-06,2.123871087202581,11747.047523959252,56.79366883122244,7854.2117104559675,1699.3942959994329,1628.0170765903888,5.84347274767782,17654.37003979675,438.1694698531167,2997.000005994,2924.221105835086,2894.9788947767347,5000.000010000001,296.6733302933467,9.401414603352215,2000.0000040000004,3.000000006000108,29.24221105835068]},\"node\":{\"color\":[\"rgba(164, 189, 100, 1.0)\",\"rgba(155, 216, 217, 1.0)\",\"rgba(172, 159, 139, 1.0)\",\"rgba(252, 198, 66, 1.0)\",\"rgba(229, 226, 223, 1.0)\",\"rgba(229, 226, 223, 1.0)\",\"rgba(229, 226, 223, 1.0)\",\"rgba(229, 226, 223, 1.0)\",\"rgba(229, 226, 223, 1.0)\",\"rgba(229, 226, 223, 1.0)\",\"rgba(229, 226, 223, 1.0)\",\"rgba(229, 226, 223, 1.0)\",\"rgba(229, 226, 223, 1.0)\",\"rgba(229, 226, 223, 1.0)\",\"rgba(229, 226, 223, 1.0)\",\"rgba(229, 226, 223, 1.0)\",\"rgba(229, 226, 223, 1.0)\",\"rgba(229, 226, 223, 1.0)\",\"rgba(229, 226, 223, 1.0)\",\"rgba(229, 226, 223, 1.0)\",\"rgba(229, 226, 223, 1.0)\",\"rgba(229, 226, 223, 1.0)\",\"rgba(229, 226, 223, 1.0)\",\"rgba(229, 226, 223, 1.0)\",\"rgba(229, 226, 223, 1.0)\",\"rgba(229, 226, 223, 1.0)\",\"rgba(229, 226, 223, 1.0)\",\"rgba(229, 226, 223, 1.0)\",\"rgba(229, 226, 223, 1.0)\",\"rgba(229, 226, 223, 1.0)\",\"rgba(229, 226, 223, 1.0)\",\"rgba(229, 226, 223, 1.0)\",\"rgba(229, 226, 223, 1.0)\"],\"label\":[\"Juicing\",\"EtOH prod.\",\"Oil ext.\",\"Biod. prod.\",\"denaturant\",\"pure glycerine\",\"lime\",\"methanol\",\"catalyst\",\"biodiesel wash water\",\"HCl\",\"NaOH\",\"H3PO4\",\"polymer\",\"N2\",\"RVF wash water\",\"imbibition water\",\"stripping water\",\"oilcane\",\"ethanol\",\"biodiesel\",\"crude glycerol\",\"filter cake\",\"polar lipids\",\"wastewater\",\"bagasse\",\"fiber fines\",\"process water\",\"process water\",\"vent\",\"N2 purge\",\"vinasse\",\"Yeast\"]},\"type\":\"sankey\"}],                        {\"template\":{\"data\":{\"histogram2dcontour\":[{\"type\":\"histogram2dcontour\",\"colorbar\":{\"outlinewidth\":0,\"ticks\":\"\"},\"colorscale\":[[0.0,\"#0d0887\"],[0.1111111111111111,\"#46039f\"],[0.2222222222222222,\"#7201a8\"],[0.3333333333333333,\"#9c179e\"],[0.4444444444444444,\"#bd3786\"],[0.5555555555555556,\"#d8576b\"],[0.6666666666666666,\"#ed7953\"],[0.7777777777777778,\"#fb9f3a\"],[0.8888888888888888,\"#fdca26\"],[1.0,\"#f0f921\"]]}],\"choropleth\":[{\"type\":\"choropleth\",\"colorbar\":{\"outlinewidth\":0,\"ticks\":\"\"}}],\"histogram2d\":[{\"type\":\"histogram2d\",\"colorbar\":{\"outlinewidth\":0,\"ticks\":\"\"},\"colorscale\":[[0.0,\"#0d0887\"],[0.1111111111111111,\"#46039f\"],[0.2222222222222222,\"#7201a8\"],[0.3333333333333333,\"#9c179e\"],[0.4444444444444444,\"#bd3786\"],[0.5555555555555556,\"#d8576b\"],[0.6666666666666666,\"#ed7953\"],[0.7777777777777778,\"#fb9f3a\"],[0.8888888888888888,\"#fdca26\"],[1.0,\"#f0f921\"]]}],\"heatmap\":[{\"type\":\"heatmap\",\"colorbar\":{\"outlinewidth\":0,\"ticks\":\"\"},\"colorscale\":[[0.0,\"#0d0887\"],[0.1111111111111111,\"#46039f\"],[0.2222222222222222,\"#7201a8\"],[0.3333333333333333,\"#9c179e\"],[0.4444444444444444,\"#bd3786\"],[0.5555555555555556,\"#d8576b\"],[0.6666666666666666,\"#ed7953\"],[0.7777777777777778,\"#fb9f3a\"],[0.8888888888888888,\"#fdca26\"],[1.0,\"#f0f921\"]]}],\"heatmapgl\":[{\"type\":\"heatmapgl\",\"colorbar\":{\"outlinewidth\":0,\"ticks\":\"\"},\"colorscale\":[[0.0,\"#0d0887\"],[0.1111111111111111,\"#46039f\"],[0.2222222222222222,\"#7201a8\"],[0.3333333333333333,\"#9c179e\"],[0.4444444444444444,\"#bd3786\"],[0.5555555555555556,\"#d8576b\"],[0.6666666666666666,\"#ed7953\"],[0.7777777777777778,\"#fb9f3a\"],[0.8888888888888888,\"#fdca26\"],[1.0,\"#f0f921\"]]}],\"contourcarpet\":[{\"type\":\"contourcarpet\",\"colorbar\":{\"outlinewidth\":0,\"ticks\":\"\"}}],\"contour\":[{\"type\":\"contour\",\"colorbar\":{\"outlinewidth\":0,\"ticks\":\"\"},\"colorscale\":[[0.0,\"#0d0887\"],[0.1111111111111111,\"#46039f\"],[0.2222222222222222,\"#7201a8\"],[0.3333333333333333,\"#9c179e\"],[0.4444444444444444,\"#bd3786\"],[0.5555555555555556,\"#d8576b\"],[0.6666666666666666,\"#ed7953\"],[0.7777777777777778,\"#fb9f3a\"],[0.8888888888888888,\"#fdca26\"],[1.0,\"#f0f921\"]]}],\"surface\":[{\"type\":\"surface\",\"colorbar\":{\"outlinewidth\":0,\"ticks\":\"\"},\"colorscale\":[[0.0,\"#0d0887\"],[0.1111111111111111,\"#46039f\"],[0.2222222222222222,\"#7201a8\"],[0.3333333333333333,\"#9c179e\"],[0.4444444444444444,\"#bd3786\"],[0.5555555555555556,\"#d8576b\"],[0.6666666666666666,\"#ed7953\"],[0.7777777777777778,\"#fb9f3a\"],[0.8888888888888888,\"#fdca26\"],[1.0,\"#f0f921\"]]}],\"mesh3d\":[{\"type\":\"mesh3d\",\"colorbar\":{\"outlinewidth\":0,\"ticks\":\"\"}}],\"scatter\":[{\"fillpattern\":{\"fillmode\":\"overlay\",\"size\":10,\"solidity\":0.2},\"type\":\"scatter\"}],\"parcoords\":[{\"type\":\"parcoords\",\"line\":{\"colorbar\":{\"outlinewidth\":0,\"ticks\":\"\"}}}],\"scatterpolargl\":[{\"type\":\"scatterpolargl\",\"marker\":{\"colorbar\":{\"outlinewidth\":0,\"ticks\":\"\"}}}],\"bar\":[{\"error_x\":{\"color\":\"#2a3f5f\"},\"error_y\":{\"color\":\"#2a3f5f\"},\"marker\":{\"line\":{\"color\":\"#E5ECF6\",\"width\":0.5},\"pattern\":{\"fillmode\":\"overlay\",\"size\":10,\"solidity\":0.2}},\"type\":\"bar\"}],\"scattergeo\":[{\"type\":\"scattergeo\",\"marker\":{\"colorbar\":{\"outlinewidth\":0,\"ticks\":\"\"}}}],\"scatterpolar\":[{\"type\":\"scatterpolar\",\"marker\":{\"colorbar\":{\"outlinewidth\":0,\"ticks\":\"\"}}}],\"histogram\":[{\"marker\":{\"pattern\":{\"fillmode\":\"overlay\",\"size\":10,\"solidity\":0.2}},\"type\":\"histogram\"}],\"scattergl\":[{\"type\":\"scattergl\",\"marker\":{\"colorbar\":{\"outlinewidth\":0,\"ticks\":\"\"}}}],\"scatter3d\":[{\"type\":\"scatter3d\",\"line\":{\"colorbar\":{\"outlinewidth\":0,\"ticks\":\"\"}},\"marker\":{\"colorbar\":{\"outlinewidth\":0,\"ticks\":\"\"}}}],\"scattermapbox\":[{\"type\":\"scattermapbox\",\"marker\":{\"colorbar\":{\"outlinewidth\":0,\"ticks\":\"\"}}}],\"scatterternary\":[{\"type\":\"scatterternary\",\"marker\":{\"colorbar\":{\"outlinewidth\":0,\"ticks\":\"\"}}}],\"scattercarpet\":[{\"type\":\"scattercarpet\",\"marker\":{\"colorbar\":{\"outlinewidth\":0,\"ticks\":\"\"}}}],\"carpet\":[{\"aaxis\":{\"endlinecolor\":\"#2a3f5f\",\"gridcolor\":\"white\",\"linecolor\":\"white\",\"minorgridcolor\":\"white\",\"startlinecolor\":\"#2a3f5f\"},\"baxis\":{\"endlinecolor\":\"#2a3f5f\",\"gridcolor\":\"white\",\"linecolor\":\"white\",\"minorgridcolor\":\"white\",\"startlinecolor\":\"#2a3f5f\"},\"type\":\"carpet\"}],\"table\":[{\"cells\":{\"fill\":{\"color\":\"#EBF0F8\"},\"line\":{\"color\":\"white\"}},\"header\":{\"fill\":{\"color\":\"#C8D4E3\"},\"line\":{\"color\":\"white\"}},\"type\":\"table\"}],\"barpolar\":[{\"marker\":{\"line\":{\"color\":\"#E5ECF6\",\"width\":0.5},\"pattern\":{\"fillmode\":\"overlay\",\"size\":10,\"solidity\":0.2}},\"type\":\"barpolar\"}],\"pie\":[{\"automargin\":true,\"type\":\"pie\"}]},\"layout\":{\"autotypenumbers\":\"strict\",\"colorway\":[\"#636efa\",\"#EF553B\",\"#00cc96\",\"#ab63fa\",\"#FFA15A\",\"#19d3f3\",\"#FF6692\",\"#B6E880\",\"#FF97FF\",\"#FECB52\"],\"font\":{\"color\":\"#2a3f5f\"},\"hovermode\":\"closest\",\"hoverlabel\":{\"align\":\"left\"},\"paper_bgcolor\":\"white\",\"plot_bgcolor\":\"#E5ECF6\",\"polar\":{\"bgcolor\":\"#E5ECF6\",\"angularaxis\":{\"gridcolor\":\"white\",\"linecolor\":\"white\",\"ticks\":\"\"},\"radialaxis\":{\"gridcolor\":\"white\",\"linecolor\":\"white\",\"ticks\":\"\"}},\"ternary\":{\"bgcolor\":\"#E5ECF6\",\"aaxis\":{\"gridcolor\":\"white\",\"linecolor\":\"white\",\"ticks\":\"\"},\"baxis\":{\"gridcolor\":\"white\",\"linecolor\":\"white\",\"ticks\":\"\"},\"caxis\":{\"gridcolor\":\"white\",\"linecolor\":\"white\",\"ticks\":\"\"}},\"coloraxis\":{\"colorbar\":{\"outlinewidth\":0,\"ticks\":\"\"}},\"colorscale\":{\"sequential\":[[0.0,\"#0d0887\"],[0.1111111111111111,\"#46039f\"],[0.2222222222222222,\"#7201a8\"],[0.3333333333333333,\"#9c179e\"],[0.4444444444444444,\"#bd3786\"],[0.5555555555555556,\"#d8576b\"],[0.6666666666666666,\"#ed7953\"],[0.7777777777777778,\"#fb9f3a\"],[0.8888888888888888,\"#fdca26\"],[1.0,\"#f0f921\"]],\"sequentialminus\":[[0.0,\"#0d0887\"],[0.1111111111111111,\"#46039f\"],[0.2222222222222222,\"#7201a8\"],[0.3333333333333333,\"#9c179e\"],[0.4444444444444444,\"#bd3786\"],[0.5555555555555556,\"#d8576b\"],[0.6666666666666666,\"#ed7953\"],[0.7777777777777778,\"#fb9f3a\"],[0.8888888888888888,\"#fdca26\"],[1.0,\"#f0f921\"]],\"diverging\":[[0,\"#8e0152\"],[0.1,\"#c51b7d\"],[0.2,\"#de77ae\"],[0.3,\"#f1b6da\"],[0.4,\"#fde0ef\"],[0.5,\"#f7f7f7\"],[0.6,\"#e6f5d0\"],[0.7,\"#b8e186\"],[0.8,\"#7fbc41\"],[0.9,\"#4d9221\"],[1,\"#276419\"]]},\"xaxis\":{\"gridcolor\":\"white\",\"linecolor\":\"white\",\"ticks\":\"\",\"title\":{\"standoff\":15},\"zerolinecolor\":\"white\",\"automargin\":true,\"zerolinewidth\":2},\"yaxis\":{\"gridcolor\":\"white\",\"linecolor\":\"white\",\"ticks\":\"\",\"title\":{\"standoff\":15},\"zerolinecolor\":\"white\",\"automargin\":true,\"zerolinewidth\":2},\"scene\":{\"xaxis\":{\"backgroundcolor\":\"#E5ECF6\",\"gridcolor\":\"white\",\"linecolor\":\"white\",\"showbackground\":true,\"ticks\":\"\",\"zerolinecolor\":\"white\",\"gridwidth\":2},\"yaxis\":{\"backgroundcolor\":\"#E5ECF6\",\"gridcolor\":\"white\",\"linecolor\":\"white\",\"showbackground\":true,\"ticks\":\"\",\"zerolinecolor\":\"white\",\"gridwidth\":2},\"zaxis\":{\"backgroundcolor\":\"#E5ECF6\",\"gridcolor\":\"white\",\"linecolor\":\"white\",\"showbackground\":true,\"ticks\":\"\",\"zerolinecolor\":\"white\",\"gridwidth\":2}},\"shapedefaults\":{\"line\":{\"color\":\"#2a3f5f\"}},\"annotationdefaults\":{\"arrowcolor\":\"#2a3f5f\",\"arrowhead\":0,\"arrowwidth\":1},\"geo\":{\"bgcolor\":\"white\",\"landcolor\":\"#E5ECF6\",\"subunitcolor\":\"white\",\"showland\":true,\"showlakes\":true,\"lakecolor\":\"white\"},\"title\":{\"x\":0.05},\"mapbox\":{\"style\":\"light\"}}}},                        {\"responsive\": true}                    ).then(function(){\n",
       "                            \n",
       "var gd = document.getElementById('df8ec3f3-8256-4c84-a7a3-a066f2aae8e7');\n",
       "var x = new MutationObserver(function (mutations, observer) {{\n",
       "        var display = window.getComputedStyle(gd).display;\n",
       "        if (!display || display === 'none') {{\n",
       "            console.log([gd, 'removed!']);\n",
       "            Plotly.purge(gd);\n",
       "            observer.disconnect();\n",
       "        }}\n",
       "}});\n",
       "\n",
       "// Listen for the removal of the full notebook cells\n",
       "var notebookContainer = gd.closest('#notebook-container');\n",
       "if (notebookContainer) {{\n",
       "    x.observe(notebookContainer, {childList: true});\n",
       "}}\n",
       "\n",
       "// Listen for the clearing of the current output cell\n",
       "var outputEl = gd.closest('.output');\n",
       "if (outputEl) {{\n",
       "    x.observe(outputEl, {childList: true});\n",
       "}}\n",
       "\n",
       "                        })                };                });            </script>        </div>"
      ]
     },
     "metadata": {},
     "output_type": "display_data"
    }
   ],
   "source": [
    "data = sankey.sankey_data(nodes, links=links)\n",
    "fig = sankey.sankey_figure(nodes, links=links)\n",
    "print(4)\n",
    "fig.show()"
   ]
  },
  {
   "cell_type": "code",
   "execution_count": 9,
   "metadata": {},
   "outputs": [
    {
     "data": {
      "text/plain": [
       "<ProcessNode: EtOH prod.>"
      ]
     },
     "execution_count": 9,
     "metadata": {},
     "output_type": "execute_result"
    }
   ],
   "source": [
    "oilnodes[0].links()[0].sink"
   ]
  },
  {
   "cell_type": "code",
   "execution_count": 10,
   "metadata": {},
   "outputs": [
    {
     "data": {
      "text/plain": [
       "<bound method ProcessNode.links of <ProcessNode: Juicing>>"
      ]
     },
     "execution_count": 10,
     "metadata": {},
     "output_type": "execute_result"
    }
   ],
   "source": [
    "nodes[0]."
   ]
  },
  {
   "cell_type": "code",
   "execution_count": null,
   "metadata": {},
   "outputs": [],
   "source": []
  },
  {
   "cell_type": "code",
   "execution_count": 3,
   "metadata": {},
   "outputs": [
    {
     "name": "stderr",
     "output_type": "stream",
     "text": [
      "C:\\Users\\yrc2\\Code\\bioindustrial-park\\BioSTEAM 2.x.x\\biorefineries\\cornstover\\systems.py:622: RuntimeWarning:\n",
      "\n",
      "cannot define both moisture split and moisture content\n",
      "\n",
      "C:\\Users\\yrc2\\Code\\biosteam\\biosteam\\units\\wastewater.py:398: RuntimeWarning:\n",
      "\n",
      "cannot define both moisture split and moisture content\n",
      "\n",
      "C:\\Users\\yrc2\\Code\\biosteam\\biosteam\\_unit.py:635: RuntimeWarning:\n",
      "\n",
      "the purchase cost item, 'Vacuum system', has no defined bare-module factor in the 'SplitFlash.F_BM' dictionary; bare-module factor now has a default value of 1\n",
      "\n",
      "C:\\Users\\yrc2\\Code\\biosteam\\biosteam\\units\\design_tools\\pressure_vessel.py:82: CostWarning:\n",
      "\n",
      "\u001b[38;2;229;63;229m<Flash: F803>\u001b[0m Vertical vessel weight (399.5 lb) is out of bounds (4200 to 1e+06 lb).\n",
      "\n",
      "C:\\Users\\yrc2\\Code\\biosteam\\biosteam\\units\\design_tools\\pressure_vessel.py:82: CostWarning:\n",
      "\n",
      "\u001b[38;2;229;63;229m<Flash: F803>\u001b[0m Vertical vessel length (7.5 ft) is out of bounds (12 to 40 ft).\n",
      "\n",
      "C:\\Users\\yrc2\\Code\\biosteam\\biosteam\\units\\design_tools\\pressure_vessel.py:82: CostWarning:\n",
      "\n",
      "\u001b[38;2;229;63;229m<Flash: F802>\u001b[0m Vertical vessel weight (1190 lb) is out of bounds (4200 to 1e+06 lb).\n",
      "\n",
      "C:\\Users\\yrc2\\Code\\thermosteam\\thermosteam\\utils\\registry.py:105: RuntimeWarning:\n",
      "\n",
      "upon renaming, <Stream: shredded_cane> replaced <Stream: oilcane> in registry\n",
      "\n",
      "C:\\Users\\yrc2\\Code\\thermosteam\\thermosteam\\utils\\registry.py:105: RuntimeWarning:\n",
      "\n",
      "upon renaming, <Stream: pretreatment_wastewater> replaced <Stream: wastewater> in registry\n",
      "\n",
      "C:\\Users\\yrc2\\Code\\thermosteam\\thermosteam\\utils\\registry.py:105: RuntimeWarning:\n",
      "\n",
      "upon renaming, <Stream: s48> replaced <Stream: process_water> in registry\n",
      "\n",
      "C:\\Users\\yrc2\\Code\\thermosteam\\thermosteam\\utils\\registry.py:105: RuntimeWarning:\n",
      "\n",
      "upon renaming, <Stream: s110> replaced <Stream: wastewater> in registry\n",
      "\n",
      "C:\\Users\\yrc2\\Code\\thermosteam\\thermosteam\\utils\\registry.py:105: RuntimeWarning:\n",
      "\n",
      "upon renaming, <Stream: s80> replaced <Stream: wastewater> in registry\n",
      "\n"
     ]
    },
    {
     "data": {
      "application/vnd.plotly.v1+json": {
       "config": {
        "plotlyServerURL": "https://plot.ly"
       },
       "data": [
        {
         "link": {
          "color": [
           "rgba(217, 194, 139, 1.0)",
           "rgba(217, 194, 139, 1.0)",
           "rgba(217, 194, 139, 1.0)",
           "rgba(217, 194, 139, 1.0)",
           "rgba(217, 194, 139, 1.0)",
           "rgba(229, 226, 223, 1.0)",
           "rgba(229, 226, 223, 1.0)",
           "rgba(229, 226, 223, 1.0)",
           "rgba(229, 226, 223, 1.0)",
           "rgba(229, 226, 223, 1.0)",
           "rgba(229, 226, 223, 1.0)",
           "rgba(229, 226, 223, 1.0)",
           "rgba(229, 226, 223, 1.0)",
           "rgba(229, 226, 223, 1.0)",
           "rgba(229, 226, 223, 1.0)",
           "rgba(229, 226, 223, 1.0)",
           "rgba(229, 226, 223, 1.0)",
           "rgba(229, 226, 223, 1.0)",
           "rgba(229, 226, 223, 1.0)",
           "rgba(229, 226, 223, 1.0)",
           "rgba(229, 226, 223, 1.0)",
           "rgba(209, 170, 77, 1.0)",
           "rgba(229, 226, 223, 1.0)",
           "rgba(229, 226, 223, 1.0)",
           "rgba(229, 226, 223, 1.0)",
           "rgba(229, 226, 223, 1.0)",
           "rgba(223, 210, 181, 1.0)",
           "rgba(223, 210, 181, 1.0)",
           "rgba(217, 194, 139, 1.0)",
           "rgba(223, 210, 181, 1.0)",
           "rgba(229, 226, 223, 1.0)",
           "rgba(229, 226, 223, 1.0)",
           "rgba(223, 210, 181, 1.0)",
           "rgba(229, 226, 223, 1.0)",
           "rgba(229, 226, 223, 1.0)",
           "rgba(223, 210, 181, 1.0)",
           "rgba(229, 226, 223, 1.0)",
           "rgba(229, 226, 223, 1.0)",
           "rgba(229, 226, 223, 1.0)",
           "rgba(229, 226, 223, 1.0)"
          ],
          "source": [
           0,
           0,
           1,
           2,
           3,
           5,
           6,
           7,
           8,
           9,
           10,
           11,
           12,
           13,
           14,
           15,
           16,
           17,
           18,
           19,
           20,
           21,
           22,
           2,
           4,
           4,
           4,
           4,
           2,
           3,
           1,
           3,
           4,
           2,
           3,
           0,
           2,
           4,
           0,
           2
          ],
          "target": [
           1,
           2,
           2,
           3,
           4,
           2,
           2,
           4,
           0,
           4,
           4,
           4,
           4,
           4,
           0,
           1,
           2,
           0,
           0,
           2,
           0,
           0,
           4,
           23,
           24,
           25,
           26,
           27,
           28,
           29,
           30,
           31,
           32,
           33,
           34,
           35,
           36,
           37,
           38,
           39
          ],
          "value": [
           119470.47524359255,
           286066.5708073006,
           134614.47704458173,
           398978.88572246075,
           3480.052701953626,
           9923.183781319967,
           653.7862454407247,
           451.36838314342793,
           333.333334,
           32.04186,
           1,
           167.79266631243394,
           0.3553451999620555,
           0.03985617707713043,
           81666.66682999999,
           21654.124030239924,
           36682.97871817383,
           71.65757606403785,
           166.666667,
           109451.59299974426,
           0.83,
           333333.334,
           3.9679050408017087,
           30372.24820906531,
           3228.242846145954,
           839.1242859947979,
           30.903491401293685,
           356.06739041213484,
           38430.02578067762,
           254990.08633902756,
           6510.133555975529,
           139807.18465646246,
           5.845908292142351,
           28160.04696849395,
           701.5620250172141,
           570.9366883182246,
           49391.9143489285,
           70.13337161627335,
           9464.505667852636,
           29393.048196400225
          ]
         },
         "node": {
          "color": [
           "rgba(164, 189, 100, 1.0)",
           "rgba(51, 152, 99, 1.0)",
           "rgba(155, 216, 217, 1.0)",
           "rgba(172, 159, 139, 1.0)",
           "rgba(252, 198, 66, 1.0)",
           "rgba(229, 226, 223, 1.0)",
           "rgba(229, 226, 223, 1.0)",
           "rgba(229, 226, 223, 1.0)",
           "rgba(229, 226, 223, 1.0)",
           "rgba(229, 226, 223, 1.0)",
           "rgba(229, 226, 223, 1.0)",
           "rgba(229, 226, 223, 1.0)",
           "rgba(229, 226, 223, 1.0)",
           "rgba(229, 226, 223, 1.0)",
           "rgba(229, 226, 223, 1.0)",
           "rgba(229, 226, 223, 1.0)",
           "rgba(229, 226, 223, 1.0)",
           "rgba(229, 226, 223, 1.0)",
           "rgba(229, 226, 223, 1.0)",
           "rgba(229, 226, 223, 1.0)",
           "rgba(229, 226, 223, 1.0)",
           "rgba(209, 170, 77, 1.0)",
           "rgba(229, 226, 223, 1.0)",
           "rgba(229, 226, 223, 1.0)",
           "rgba(229, 226, 223, 1.0)",
           "rgba(229, 226, 223, 1.0)",
           "rgba(223, 210, 181, 1.0)",
           "rgba(223, 210, 181, 1.0)",
           "rgba(217, 194, 139, 1.0)",
           "rgba(223, 210, 181, 1.0)",
           "rgba(229, 226, 223, 1.0)",
           "rgba(229, 226, 223, 1.0)",
           "rgba(223, 210, 181, 1.0)",
           "rgba(229, 226, 223, 1.0)",
           "rgba(229, 226, 223, 1.0)",
           "rgba(223, 210, 181, 1.0)",
           "rgba(229, 226, 223, 1.0)",
           "rgba(229, 226, 223, 1.0)",
           "rgba(229, 226, 223, 1.0)",
           "rgba(229, 226, 223, 1.0)"
          ],
          "label": [
           "Juicing",
           "Pretreatment",
           "EtOH prod.",
           "Oil ext.",
           "Biod. prod.",
           "cellulase",
           "denaturant",
           "pure glycerine",
           "lime",
           "methanol",
           "catalyst",
           "biodiesel wash water",
           "HCl",
           "NaOH",
           "imbibition water",
           "pretreatment steam",
           "stripping water",
           "RVF wash water",
           "H3PO4",
           "saccharification water",
           "polymer",
           "oilcane",
           "N2",
           "ethanol",
           "biodiesel",
           "crude glycerol",
           "s259",
           "polar lipids",
           "lignin",
           "wastewater",
           "wastewater",
           "process water",
           "s229",
           "vent",
           "cellmass",
           "fiber fines",
           "s197",
           "s255",
           "filter cake",
           "s206"
          ]
         },
         "type": "sankey"
        }
       ],
       "layout": {
        "template": {
         "data": {
          "bar": [
           {
            "error_x": {
             "color": "#2a3f5f"
            },
            "error_y": {
             "color": "#2a3f5f"
            },
            "marker": {
             "line": {
              "color": "#E5ECF6",
              "width": 0.5
             }
            },
            "type": "bar"
           }
          ],
          "barpolar": [
           {
            "marker": {
             "line": {
              "color": "#E5ECF6",
              "width": 0.5
             }
            },
            "type": "barpolar"
           }
          ],
          "carpet": [
           {
            "aaxis": {
             "endlinecolor": "#2a3f5f",
             "gridcolor": "white",
             "linecolor": "white",
             "minorgridcolor": "white",
             "startlinecolor": "#2a3f5f"
            },
            "baxis": {
             "endlinecolor": "#2a3f5f",
             "gridcolor": "white",
             "linecolor": "white",
             "minorgridcolor": "white",
             "startlinecolor": "#2a3f5f"
            },
            "type": "carpet"
           }
          ],
          "choropleth": [
           {
            "colorbar": {
             "outlinewidth": 0,
             "ticks": ""
            },
            "type": "choropleth"
           }
          ],
          "contour": [
           {
            "colorbar": {
             "outlinewidth": 0,
             "ticks": ""
            },
            "colorscale": [
             [
              0,
              "#0d0887"
             ],
             [
              0.1111111111111111,
              "#46039f"
             ],
             [
              0.2222222222222222,
              "#7201a8"
             ],
             [
              0.3333333333333333,
              "#9c179e"
             ],
             [
              0.4444444444444444,
              "#bd3786"
             ],
             [
              0.5555555555555556,
              "#d8576b"
             ],
             [
              0.6666666666666666,
              "#ed7953"
             ],
             [
              0.7777777777777778,
              "#fb9f3a"
             ],
             [
              0.8888888888888888,
              "#fdca26"
             ],
             [
              1,
              "#f0f921"
             ]
            ],
            "type": "contour"
           }
          ],
          "contourcarpet": [
           {
            "colorbar": {
             "outlinewidth": 0,
             "ticks": ""
            },
            "type": "contourcarpet"
           }
          ],
          "heatmap": [
           {
            "colorbar": {
             "outlinewidth": 0,
             "ticks": ""
            },
            "colorscale": [
             [
              0,
              "#0d0887"
             ],
             [
              0.1111111111111111,
              "#46039f"
             ],
             [
              0.2222222222222222,
              "#7201a8"
             ],
             [
              0.3333333333333333,
              "#9c179e"
             ],
             [
              0.4444444444444444,
              "#bd3786"
             ],
             [
              0.5555555555555556,
              "#d8576b"
             ],
             [
              0.6666666666666666,
              "#ed7953"
             ],
             [
              0.7777777777777778,
              "#fb9f3a"
             ],
             [
              0.8888888888888888,
              "#fdca26"
             ],
             [
              1,
              "#f0f921"
             ]
            ],
            "type": "heatmap"
           }
          ],
          "heatmapgl": [
           {
            "colorbar": {
             "outlinewidth": 0,
             "ticks": ""
            },
            "colorscale": [
             [
              0,
              "#0d0887"
             ],
             [
              0.1111111111111111,
              "#46039f"
             ],
             [
              0.2222222222222222,
              "#7201a8"
             ],
             [
              0.3333333333333333,
              "#9c179e"
             ],
             [
              0.4444444444444444,
              "#bd3786"
             ],
             [
              0.5555555555555556,
              "#d8576b"
             ],
             [
              0.6666666666666666,
              "#ed7953"
             ],
             [
              0.7777777777777778,
              "#fb9f3a"
             ],
             [
              0.8888888888888888,
              "#fdca26"
             ],
             [
              1,
              "#f0f921"
             ]
            ],
            "type": "heatmapgl"
           }
          ],
          "histogram": [
           {
            "marker": {
             "colorbar": {
              "outlinewidth": 0,
              "ticks": ""
             }
            },
            "type": "histogram"
           }
          ],
          "histogram2d": [
           {
            "colorbar": {
             "outlinewidth": 0,
             "ticks": ""
            },
            "colorscale": [
             [
              0,
              "#0d0887"
             ],
             [
              0.1111111111111111,
              "#46039f"
             ],
             [
              0.2222222222222222,
              "#7201a8"
             ],
             [
              0.3333333333333333,
              "#9c179e"
             ],
             [
              0.4444444444444444,
              "#bd3786"
             ],
             [
              0.5555555555555556,
              "#d8576b"
             ],
             [
              0.6666666666666666,
              "#ed7953"
             ],
             [
              0.7777777777777778,
              "#fb9f3a"
             ],
             [
              0.8888888888888888,
              "#fdca26"
             ],
             [
              1,
              "#f0f921"
             ]
            ],
            "type": "histogram2d"
           }
          ],
          "histogram2dcontour": [
           {
            "colorbar": {
             "outlinewidth": 0,
             "ticks": ""
            },
            "colorscale": [
             [
              0,
              "#0d0887"
             ],
             [
              0.1111111111111111,
              "#46039f"
             ],
             [
              0.2222222222222222,
              "#7201a8"
             ],
             [
              0.3333333333333333,
              "#9c179e"
             ],
             [
              0.4444444444444444,
              "#bd3786"
             ],
             [
              0.5555555555555556,
              "#d8576b"
             ],
             [
              0.6666666666666666,
              "#ed7953"
             ],
             [
              0.7777777777777778,
              "#fb9f3a"
             ],
             [
              0.8888888888888888,
              "#fdca26"
             ],
             [
              1,
              "#f0f921"
             ]
            ],
            "type": "histogram2dcontour"
           }
          ],
          "mesh3d": [
           {
            "colorbar": {
             "outlinewidth": 0,
             "ticks": ""
            },
            "type": "mesh3d"
           }
          ],
          "parcoords": [
           {
            "line": {
             "colorbar": {
              "outlinewidth": 0,
              "ticks": ""
             }
            },
            "type": "parcoords"
           }
          ],
          "pie": [
           {
            "automargin": true,
            "type": "pie"
           }
          ],
          "scatter": [
           {
            "marker": {
             "colorbar": {
              "outlinewidth": 0,
              "ticks": ""
             }
            },
            "type": "scatter"
           }
          ],
          "scatter3d": [
           {
            "line": {
             "colorbar": {
              "outlinewidth": 0,
              "ticks": ""
             }
            },
            "marker": {
             "colorbar": {
              "outlinewidth": 0,
              "ticks": ""
             }
            },
            "type": "scatter3d"
           }
          ],
          "scattercarpet": [
           {
            "marker": {
             "colorbar": {
              "outlinewidth": 0,
              "ticks": ""
             }
            },
            "type": "scattercarpet"
           }
          ],
          "scattergeo": [
           {
            "marker": {
             "colorbar": {
              "outlinewidth": 0,
              "ticks": ""
             }
            },
            "type": "scattergeo"
           }
          ],
          "scattergl": [
           {
            "marker": {
             "colorbar": {
              "outlinewidth": 0,
              "ticks": ""
             }
            },
            "type": "scattergl"
           }
          ],
          "scattermapbox": [
           {
            "marker": {
             "colorbar": {
              "outlinewidth": 0,
              "ticks": ""
             }
            },
            "type": "scattermapbox"
           }
          ],
          "scatterpolar": [
           {
            "marker": {
             "colorbar": {
              "outlinewidth": 0,
              "ticks": ""
             }
            },
            "type": "scatterpolar"
           }
          ],
          "scatterpolargl": [
           {
            "marker": {
             "colorbar": {
              "outlinewidth": 0,
              "ticks": ""
             }
            },
            "type": "scatterpolargl"
           }
          ],
          "scatterternary": [
           {
            "marker": {
             "colorbar": {
              "outlinewidth": 0,
              "ticks": ""
             }
            },
            "type": "scatterternary"
           }
          ],
          "surface": [
           {
            "colorbar": {
             "outlinewidth": 0,
             "ticks": ""
            },
            "colorscale": [
             [
              0,
              "#0d0887"
             ],
             [
              0.1111111111111111,
              "#46039f"
             ],
             [
              0.2222222222222222,
              "#7201a8"
             ],
             [
              0.3333333333333333,
              "#9c179e"
             ],
             [
              0.4444444444444444,
              "#bd3786"
             ],
             [
              0.5555555555555556,
              "#d8576b"
             ],
             [
              0.6666666666666666,
              "#ed7953"
             ],
             [
              0.7777777777777778,
              "#fb9f3a"
             ],
             [
              0.8888888888888888,
              "#fdca26"
             ],
             [
              1,
              "#f0f921"
             ]
            ],
            "type": "surface"
           }
          ],
          "table": [
           {
            "cells": {
             "fill": {
              "color": "#EBF0F8"
             },
             "line": {
              "color": "white"
             }
            },
            "header": {
             "fill": {
              "color": "#C8D4E3"
             },
             "line": {
              "color": "white"
             }
            },
            "type": "table"
           }
          ]
         },
         "layout": {
          "annotationdefaults": {
           "arrowcolor": "#2a3f5f",
           "arrowhead": 0,
           "arrowwidth": 1
          },
          "autotypenumbers": "strict",
          "coloraxis": {
           "colorbar": {
            "outlinewidth": 0,
            "ticks": ""
           }
          },
          "colorscale": {
           "diverging": [
            [
             0,
             "#8e0152"
            ],
            [
             0.1,
             "#c51b7d"
            ],
            [
             0.2,
             "#de77ae"
            ],
            [
             0.3,
             "#f1b6da"
            ],
            [
             0.4,
             "#fde0ef"
            ],
            [
             0.5,
             "#f7f7f7"
            ],
            [
             0.6,
             "#e6f5d0"
            ],
            [
             0.7,
             "#b8e186"
            ],
            [
             0.8,
             "#7fbc41"
            ],
            [
             0.9,
             "#4d9221"
            ],
            [
             1,
             "#276419"
            ]
           ],
           "sequential": [
            [
             0,
             "#0d0887"
            ],
            [
             0.1111111111111111,
             "#46039f"
            ],
            [
             0.2222222222222222,
             "#7201a8"
            ],
            [
             0.3333333333333333,
             "#9c179e"
            ],
            [
             0.4444444444444444,
             "#bd3786"
            ],
            [
             0.5555555555555556,
             "#d8576b"
            ],
            [
             0.6666666666666666,
             "#ed7953"
            ],
            [
             0.7777777777777778,
             "#fb9f3a"
            ],
            [
             0.8888888888888888,
             "#fdca26"
            ],
            [
             1,
             "#f0f921"
            ]
           ],
           "sequentialminus": [
            [
             0,
             "#0d0887"
            ],
            [
             0.1111111111111111,
             "#46039f"
            ],
            [
             0.2222222222222222,
             "#7201a8"
            ],
            [
             0.3333333333333333,
             "#9c179e"
            ],
            [
             0.4444444444444444,
             "#bd3786"
            ],
            [
             0.5555555555555556,
             "#d8576b"
            ],
            [
             0.6666666666666666,
             "#ed7953"
            ],
            [
             0.7777777777777778,
             "#fb9f3a"
            ],
            [
             0.8888888888888888,
             "#fdca26"
            ],
            [
             1,
             "#f0f921"
            ]
           ]
          },
          "colorway": [
           "#636efa",
           "#EF553B",
           "#00cc96",
           "#ab63fa",
           "#FFA15A",
           "#19d3f3",
           "#FF6692",
           "#B6E880",
           "#FF97FF",
           "#FECB52"
          ],
          "font": {
           "color": "#2a3f5f"
          },
          "geo": {
           "bgcolor": "white",
           "lakecolor": "white",
           "landcolor": "#E5ECF6",
           "showlakes": true,
           "showland": true,
           "subunitcolor": "white"
          },
          "hoverlabel": {
           "align": "left"
          },
          "hovermode": "closest",
          "mapbox": {
           "style": "light"
          },
          "paper_bgcolor": "white",
          "plot_bgcolor": "#E5ECF6",
          "polar": {
           "angularaxis": {
            "gridcolor": "white",
            "linecolor": "white",
            "ticks": ""
           },
           "bgcolor": "#E5ECF6",
           "radialaxis": {
            "gridcolor": "white",
            "linecolor": "white",
            "ticks": ""
           }
          },
          "scene": {
           "xaxis": {
            "backgroundcolor": "#E5ECF6",
            "gridcolor": "white",
            "gridwidth": 2,
            "linecolor": "white",
            "showbackground": true,
            "ticks": "",
            "zerolinecolor": "white"
           },
           "yaxis": {
            "backgroundcolor": "#E5ECF6",
            "gridcolor": "white",
            "gridwidth": 2,
            "linecolor": "white",
            "showbackground": true,
            "ticks": "",
            "zerolinecolor": "white"
           },
           "zaxis": {
            "backgroundcolor": "#E5ECF6",
            "gridcolor": "white",
            "gridwidth": 2,
            "linecolor": "white",
            "showbackground": true,
            "ticks": "",
            "zerolinecolor": "white"
           }
          },
          "shapedefaults": {
           "line": {
            "color": "#2a3f5f"
           }
          },
          "ternary": {
           "aaxis": {
            "gridcolor": "white",
            "linecolor": "white",
            "ticks": ""
           },
           "baxis": {
            "gridcolor": "white",
            "linecolor": "white",
            "ticks": ""
           },
           "bgcolor": "#E5ECF6",
           "caxis": {
            "gridcolor": "white",
            "linecolor": "white",
            "ticks": ""
           }
          },
          "title": {
           "x": 0.05
          },
          "xaxis": {
           "automargin": true,
           "gridcolor": "white",
           "linecolor": "white",
           "ticks": "",
           "title": {
            "standoff": 15
           },
           "zerolinecolor": "white",
           "zerolinewidth": 2
          },
          "yaxis": {
           "automargin": true,
           "gridcolor": "white",
           "linecolor": "white",
           "ticks": "",
           "title": {
            "standoff": 15
           },
           "zerolinecolor": "white",
           "zerolinewidth": 2
          }
         }
        }
       }
      },
      "text/html": [
       "<div>                            <div id=\"c16f4adf-a965-4148-9b1f-0715741ff003\" class=\"plotly-graph-div\" style=\"height:525px; width:100%;\"></div>            <script type=\"text/javascript\">                require([\"plotly\"], function(Plotly) {                    window.PLOTLYENV=window.PLOTLYENV || {};                                    if (document.getElementById(\"c16f4adf-a965-4148-9b1f-0715741ff003\")) {                    Plotly.newPlot(                        \"c16f4adf-a965-4148-9b1f-0715741ff003\",                        [{\"link\": {\"color\": [\"rgba(217, 194, 139, 1.0)\", \"rgba(217, 194, 139, 1.0)\", \"rgba(217, 194, 139, 1.0)\", \"rgba(217, 194, 139, 1.0)\", \"rgba(217, 194, 139, 1.0)\", \"rgba(229, 226, 223, 1.0)\", \"rgba(229, 226, 223, 1.0)\", \"rgba(229, 226, 223, 1.0)\", \"rgba(229, 226, 223, 1.0)\", \"rgba(229, 226, 223, 1.0)\", \"rgba(229, 226, 223, 1.0)\", \"rgba(229, 226, 223, 1.0)\", \"rgba(229, 226, 223, 1.0)\", \"rgba(229, 226, 223, 1.0)\", \"rgba(229, 226, 223, 1.0)\", \"rgba(229, 226, 223, 1.0)\", \"rgba(229, 226, 223, 1.0)\", \"rgba(229, 226, 223, 1.0)\", \"rgba(229, 226, 223, 1.0)\", \"rgba(229, 226, 223, 1.0)\", \"rgba(229, 226, 223, 1.0)\", \"rgba(209, 170, 77, 1.0)\", \"rgba(229, 226, 223, 1.0)\", \"rgba(229, 226, 223, 1.0)\", \"rgba(229, 226, 223, 1.0)\", \"rgba(229, 226, 223, 1.0)\", \"rgba(223, 210, 181, 1.0)\", \"rgba(223, 210, 181, 1.0)\", \"rgba(217, 194, 139, 1.0)\", \"rgba(223, 210, 181, 1.0)\", \"rgba(229, 226, 223, 1.0)\", \"rgba(229, 226, 223, 1.0)\", \"rgba(223, 210, 181, 1.0)\", \"rgba(229, 226, 223, 1.0)\", \"rgba(229, 226, 223, 1.0)\", \"rgba(223, 210, 181, 1.0)\", \"rgba(229, 226, 223, 1.0)\", \"rgba(229, 226, 223, 1.0)\", \"rgba(229, 226, 223, 1.0)\", \"rgba(229, 226, 223, 1.0)\"], \"source\": [0, 0, 1, 2, 3, 5, 6, 7, 8, 9, 10, 11, 12, 13, 14, 15, 16, 17, 18, 19, 20, 21, 22, 2, 4, 4, 4, 4, 2, 3, 1, 3, 4, 2, 3, 0, 2, 4, 0, 2], \"target\": [1, 2, 2, 3, 4, 2, 2, 4, 0, 4, 4, 4, 4, 4, 0, 1, 2, 0, 0, 2, 0, 0, 4, 23, 24, 25, 26, 27, 28, 29, 30, 31, 32, 33, 34, 35, 36, 37, 38, 39], \"value\": [119470.47524359255, 286066.5708073006, 134614.47704458173, 398978.88572246075, 3480.052701953626, 9923.183781319967, 653.7862454407247, 451.36838314342793, 333.333334, 32.04186, 1.0, 167.79266631243394, 0.3553451999620555, 0.03985617707713043, 81666.66682999999, 21654.124030239924, 36682.97871817383, 71.65757606403785, 166.666667, 109451.59299974426, 0.83, 333333.334, 3.9679050408017087, 30372.24820906531, 3228.242846145954, 839.1242859947979, 30.903491401293685, 356.06739041213484, 38430.02578067762, 254990.08633902756, 6510.133555975529, 139807.18465646246, 5.845908292142351, 28160.04696849395, 701.5620250172141, 570.9366883182246, 49391.9143489285, 70.13337161627335, 9464.505667852636, 29393.048196400225]}, \"node\": {\"color\": [\"rgba(164, 189, 100, 1.0)\", \"rgba(51, 152, 99, 1.0)\", \"rgba(155, 216, 217, 1.0)\", \"rgba(172, 159, 139, 1.0)\", \"rgba(252, 198, 66, 1.0)\", \"rgba(229, 226, 223, 1.0)\", \"rgba(229, 226, 223, 1.0)\", \"rgba(229, 226, 223, 1.0)\", \"rgba(229, 226, 223, 1.0)\", \"rgba(229, 226, 223, 1.0)\", \"rgba(229, 226, 223, 1.0)\", \"rgba(229, 226, 223, 1.0)\", \"rgba(229, 226, 223, 1.0)\", \"rgba(229, 226, 223, 1.0)\", \"rgba(229, 226, 223, 1.0)\", \"rgba(229, 226, 223, 1.0)\", \"rgba(229, 226, 223, 1.0)\", \"rgba(229, 226, 223, 1.0)\", \"rgba(229, 226, 223, 1.0)\", \"rgba(229, 226, 223, 1.0)\", \"rgba(229, 226, 223, 1.0)\", \"rgba(209, 170, 77, 1.0)\", \"rgba(229, 226, 223, 1.0)\", \"rgba(229, 226, 223, 1.0)\", \"rgba(229, 226, 223, 1.0)\", \"rgba(229, 226, 223, 1.0)\", \"rgba(223, 210, 181, 1.0)\", \"rgba(223, 210, 181, 1.0)\", \"rgba(217, 194, 139, 1.0)\", \"rgba(223, 210, 181, 1.0)\", \"rgba(229, 226, 223, 1.0)\", \"rgba(229, 226, 223, 1.0)\", \"rgba(223, 210, 181, 1.0)\", \"rgba(229, 226, 223, 1.0)\", \"rgba(229, 226, 223, 1.0)\", \"rgba(223, 210, 181, 1.0)\", \"rgba(229, 226, 223, 1.0)\", \"rgba(229, 226, 223, 1.0)\", \"rgba(229, 226, 223, 1.0)\", \"rgba(229, 226, 223, 1.0)\"], \"label\": [\"Juicing\", \"Pretreatment\", \"EtOH prod.\", \"Oil ext.\", \"Biod. prod.\", \"cellulase\", \"denaturant\", \"pure glycerine\", \"lime\", \"methanol\", \"catalyst\", \"biodiesel wash water\", \"HCl\", \"NaOH\", \"imbibition water\", \"pretreatment steam\", \"stripping water\", \"RVF wash water\", \"H3PO4\", \"saccharification water\", \"polymer\", \"oilcane\", \"N2\", \"ethanol\", \"biodiesel\", \"crude glycerol\", \"s259\", \"polar lipids\", \"lignin\", \"wastewater\", \"wastewater\", \"process water\", \"s229\", \"vent\", \"cellmass\", \"fiber fines\", \"s197\", \"s255\", \"filter cake\", \"s206\"]}, \"type\": \"sankey\"}],                        {\"template\": {\"data\": {\"bar\": [{\"error_x\": {\"color\": \"#2a3f5f\"}, \"error_y\": {\"color\": \"#2a3f5f\"}, \"marker\": {\"line\": {\"color\": \"#E5ECF6\", \"width\": 0.5}}, \"type\": \"bar\"}], \"barpolar\": [{\"marker\": {\"line\": {\"color\": \"#E5ECF6\", \"width\": 0.5}}, \"type\": \"barpolar\"}], \"carpet\": [{\"aaxis\": {\"endlinecolor\": \"#2a3f5f\", \"gridcolor\": \"white\", \"linecolor\": \"white\", \"minorgridcolor\": \"white\", \"startlinecolor\": \"#2a3f5f\"}, \"baxis\": {\"endlinecolor\": \"#2a3f5f\", \"gridcolor\": \"white\", \"linecolor\": \"white\", \"minorgridcolor\": \"white\", \"startlinecolor\": \"#2a3f5f\"}, \"type\": \"carpet\"}], \"choropleth\": [{\"colorbar\": {\"outlinewidth\": 0, \"ticks\": \"\"}, \"type\": \"choropleth\"}], \"contour\": [{\"colorbar\": {\"outlinewidth\": 0, \"ticks\": \"\"}, \"colorscale\": [[0.0, \"#0d0887\"], [0.1111111111111111, \"#46039f\"], [0.2222222222222222, \"#7201a8\"], [0.3333333333333333, \"#9c179e\"], [0.4444444444444444, \"#bd3786\"], [0.5555555555555556, \"#d8576b\"], [0.6666666666666666, \"#ed7953\"], [0.7777777777777778, \"#fb9f3a\"], [0.8888888888888888, \"#fdca26\"], [1.0, \"#f0f921\"]], \"type\": \"contour\"}], \"contourcarpet\": [{\"colorbar\": {\"outlinewidth\": 0, \"ticks\": \"\"}, \"type\": \"contourcarpet\"}], \"heatmap\": [{\"colorbar\": {\"outlinewidth\": 0, \"ticks\": \"\"}, \"colorscale\": [[0.0, \"#0d0887\"], [0.1111111111111111, \"#46039f\"], [0.2222222222222222, \"#7201a8\"], [0.3333333333333333, \"#9c179e\"], [0.4444444444444444, \"#bd3786\"], [0.5555555555555556, \"#d8576b\"], [0.6666666666666666, \"#ed7953\"], [0.7777777777777778, \"#fb9f3a\"], [0.8888888888888888, \"#fdca26\"], [1.0, \"#f0f921\"]], \"type\": \"heatmap\"}], \"heatmapgl\": [{\"colorbar\": {\"outlinewidth\": 0, \"ticks\": \"\"}, \"colorscale\": [[0.0, \"#0d0887\"], [0.1111111111111111, \"#46039f\"], [0.2222222222222222, \"#7201a8\"], [0.3333333333333333, \"#9c179e\"], [0.4444444444444444, \"#bd3786\"], [0.5555555555555556, \"#d8576b\"], [0.6666666666666666, \"#ed7953\"], [0.7777777777777778, \"#fb9f3a\"], [0.8888888888888888, \"#fdca26\"], [1.0, \"#f0f921\"]], \"type\": \"heatmapgl\"}], \"histogram\": [{\"marker\": {\"colorbar\": {\"outlinewidth\": 0, \"ticks\": \"\"}}, \"type\": \"histogram\"}], \"histogram2d\": [{\"colorbar\": {\"outlinewidth\": 0, \"ticks\": \"\"}, \"colorscale\": [[0.0, \"#0d0887\"], [0.1111111111111111, \"#46039f\"], [0.2222222222222222, \"#7201a8\"], [0.3333333333333333, \"#9c179e\"], [0.4444444444444444, \"#bd3786\"], [0.5555555555555556, \"#d8576b\"], [0.6666666666666666, \"#ed7953\"], [0.7777777777777778, \"#fb9f3a\"], [0.8888888888888888, \"#fdca26\"], [1.0, \"#f0f921\"]], \"type\": \"histogram2d\"}], \"histogram2dcontour\": [{\"colorbar\": {\"outlinewidth\": 0, \"ticks\": \"\"}, \"colorscale\": [[0.0, \"#0d0887\"], [0.1111111111111111, \"#46039f\"], [0.2222222222222222, \"#7201a8\"], [0.3333333333333333, \"#9c179e\"], [0.4444444444444444, \"#bd3786\"], [0.5555555555555556, \"#d8576b\"], [0.6666666666666666, \"#ed7953\"], [0.7777777777777778, \"#fb9f3a\"], [0.8888888888888888, \"#fdca26\"], [1.0, \"#f0f921\"]], \"type\": \"histogram2dcontour\"}], \"mesh3d\": [{\"colorbar\": {\"outlinewidth\": 0, \"ticks\": \"\"}, \"type\": \"mesh3d\"}], \"parcoords\": [{\"line\": {\"colorbar\": {\"outlinewidth\": 0, \"ticks\": \"\"}}, \"type\": \"parcoords\"}], \"pie\": [{\"automargin\": true, \"type\": \"pie\"}], \"scatter\": [{\"marker\": {\"colorbar\": {\"outlinewidth\": 0, \"ticks\": \"\"}}, \"type\": \"scatter\"}], \"scatter3d\": [{\"line\": {\"colorbar\": {\"outlinewidth\": 0, \"ticks\": \"\"}}, \"marker\": {\"colorbar\": {\"outlinewidth\": 0, \"ticks\": \"\"}}, \"type\": \"scatter3d\"}], \"scattercarpet\": [{\"marker\": {\"colorbar\": {\"outlinewidth\": 0, \"ticks\": \"\"}}, \"type\": \"scattercarpet\"}], \"scattergeo\": [{\"marker\": {\"colorbar\": {\"outlinewidth\": 0, \"ticks\": \"\"}}, \"type\": \"scattergeo\"}], \"scattergl\": [{\"marker\": {\"colorbar\": {\"outlinewidth\": 0, \"ticks\": \"\"}}, \"type\": \"scattergl\"}], \"scattermapbox\": [{\"marker\": {\"colorbar\": {\"outlinewidth\": 0, \"ticks\": \"\"}}, \"type\": \"scattermapbox\"}], \"scatterpolar\": [{\"marker\": {\"colorbar\": {\"outlinewidth\": 0, \"ticks\": \"\"}}, \"type\": \"scatterpolar\"}], \"scatterpolargl\": [{\"marker\": {\"colorbar\": {\"outlinewidth\": 0, \"ticks\": \"\"}}, \"type\": \"scatterpolargl\"}], \"scatterternary\": [{\"marker\": {\"colorbar\": {\"outlinewidth\": 0, \"ticks\": \"\"}}, \"type\": \"scatterternary\"}], \"surface\": [{\"colorbar\": {\"outlinewidth\": 0, \"ticks\": \"\"}, \"colorscale\": [[0.0, \"#0d0887\"], [0.1111111111111111, \"#46039f\"], [0.2222222222222222, \"#7201a8\"], [0.3333333333333333, \"#9c179e\"], [0.4444444444444444, \"#bd3786\"], [0.5555555555555556, \"#d8576b\"], [0.6666666666666666, \"#ed7953\"], [0.7777777777777778, \"#fb9f3a\"], [0.8888888888888888, \"#fdca26\"], [1.0, \"#f0f921\"]], \"type\": \"surface\"}], \"table\": [{\"cells\": {\"fill\": {\"color\": \"#EBF0F8\"}, \"line\": {\"color\": \"white\"}}, \"header\": {\"fill\": {\"color\": \"#C8D4E3\"}, \"line\": {\"color\": \"white\"}}, \"type\": \"table\"}]}, \"layout\": {\"annotationdefaults\": {\"arrowcolor\": \"#2a3f5f\", \"arrowhead\": 0, \"arrowwidth\": 1}, \"autotypenumbers\": \"strict\", \"coloraxis\": {\"colorbar\": {\"outlinewidth\": 0, \"ticks\": \"\"}}, \"colorscale\": {\"diverging\": [[0, \"#8e0152\"], [0.1, \"#c51b7d\"], [0.2, \"#de77ae\"], [0.3, \"#f1b6da\"], [0.4, \"#fde0ef\"], [0.5, \"#f7f7f7\"], [0.6, \"#e6f5d0\"], [0.7, \"#b8e186\"], [0.8, \"#7fbc41\"], [0.9, \"#4d9221\"], [1, \"#276419\"]], \"sequential\": [[0.0, \"#0d0887\"], [0.1111111111111111, \"#46039f\"], [0.2222222222222222, \"#7201a8\"], [0.3333333333333333, \"#9c179e\"], [0.4444444444444444, \"#bd3786\"], [0.5555555555555556, \"#d8576b\"], [0.6666666666666666, \"#ed7953\"], [0.7777777777777778, \"#fb9f3a\"], [0.8888888888888888, \"#fdca26\"], [1.0, \"#f0f921\"]], \"sequentialminus\": [[0.0, \"#0d0887\"], [0.1111111111111111, \"#46039f\"], [0.2222222222222222, \"#7201a8\"], [0.3333333333333333, \"#9c179e\"], [0.4444444444444444, \"#bd3786\"], [0.5555555555555556, \"#d8576b\"], [0.6666666666666666, \"#ed7953\"], [0.7777777777777778, \"#fb9f3a\"], [0.8888888888888888, \"#fdca26\"], [1.0, \"#f0f921\"]]}, \"colorway\": [\"#636efa\", \"#EF553B\", \"#00cc96\", \"#ab63fa\", \"#FFA15A\", \"#19d3f3\", \"#FF6692\", \"#B6E880\", \"#FF97FF\", \"#FECB52\"], \"font\": {\"color\": \"#2a3f5f\"}, \"geo\": {\"bgcolor\": \"white\", \"lakecolor\": \"white\", \"landcolor\": \"#E5ECF6\", \"showlakes\": true, \"showland\": true, \"subunitcolor\": \"white\"}, \"hoverlabel\": {\"align\": \"left\"}, \"hovermode\": \"closest\", \"mapbox\": {\"style\": \"light\"}, \"paper_bgcolor\": \"white\", \"plot_bgcolor\": \"#E5ECF6\", \"polar\": {\"angularaxis\": {\"gridcolor\": \"white\", \"linecolor\": \"white\", \"ticks\": \"\"}, \"bgcolor\": \"#E5ECF6\", \"radialaxis\": {\"gridcolor\": \"white\", \"linecolor\": \"white\", \"ticks\": \"\"}}, \"scene\": {\"xaxis\": {\"backgroundcolor\": \"#E5ECF6\", \"gridcolor\": \"white\", \"gridwidth\": 2, \"linecolor\": \"white\", \"showbackground\": true, \"ticks\": \"\", \"zerolinecolor\": \"white\"}, \"yaxis\": {\"backgroundcolor\": \"#E5ECF6\", \"gridcolor\": \"white\", \"gridwidth\": 2, \"linecolor\": \"white\", \"showbackground\": true, \"ticks\": \"\", \"zerolinecolor\": \"white\"}, \"zaxis\": {\"backgroundcolor\": \"#E5ECF6\", \"gridcolor\": \"white\", \"gridwidth\": 2, \"linecolor\": \"white\", \"showbackground\": true, \"ticks\": \"\", \"zerolinecolor\": \"white\"}}, \"shapedefaults\": {\"line\": {\"color\": \"#2a3f5f\"}}, \"ternary\": {\"aaxis\": {\"gridcolor\": \"white\", \"linecolor\": \"white\", \"ticks\": \"\"}, \"baxis\": {\"gridcolor\": \"white\", \"linecolor\": \"white\", \"ticks\": \"\"}, \"bgcolor\": \"#E5ECF6\", \"caxis\": {\"gridcolor\": \"white\", \"linecolor\": \"white\", \"ticks\": \"\"}}, \"title\": {\"x\": 0.05}, \"xaxis\": {\"automargin\": true, \"gridcolor\": \"white\", \"linecolor\": \"white\", \"ticks\": \"\", \"title\": {\"standoff\": 15}, \"zerolinecolor\": \"white\", \"zerolinewidth\": 2}, \"yaxis\": {\"automargin\": true, \"gridcolor\": \"white\", \"linecolor\": \"white\", \"ticks\": \"\", \"title\": {\"standoff\": 15}, \"zerolinecolor\": \"white\", \"zerolinewidth\": 2}}}},                        {\"responsive\": true}                    ).then(function(){\n",
       "                            \n",
       "var gd = document.getElementById('c16f4adf-a965-4148-9b1f-0715741ff003');\n",
       "var x = new MutationObserver(function (mutations, observer) {{\n",
       "        var display = window.getComputedStyle(gd).display;\n",
       "        if (!display || display === 'none') {{\n",
       "            console.log([gd, 'removed!']);\n",
       "            Plotly.purge(gd);\n",
       "            observer.disconnect();\n",
       "        }}\n",
       "}});\n",
       "\n",
       "// Listen for the removal of the full notebook cells\n",
       "var notebookContainer = gd.closest('#notebook-container');\n",
       "if (notebookContainer) {{\n",
       "    x.observe(notebookContainer, {childList: true});\n",
       "}}\n",
       "\n",
       "// Listen for the clearing of the current output cell\n",
       "var outputEl = gd.closest('.output');\n",
       "if (outputEl) {{\n",
       "    x.observe(outputEl, {childList: true});\n",
       "}}\n",
       "\n",
       "                        })                };                });            </script>        </div>"
      ]
     },
     "metadata": {},
     "output_type": "display_data"
    }
   ],
   "source": [
    "create_sankey_plot('O2')"
   ]
  },
  {
   "cell_type": "code",
   "execution_count": 4,
   "metadata": {
    "scrolled": true
   },
   "outputs": [
    {
     "data": {
      "text/plain": [
       "<matplotlib.colorbar.Colorbar at 0x24fb1f8f880>"
      ]
     },
     "execution_count": 4,
     "metadata": {},
     "output_type": "execute_result"
    }
   ],
   "source": [
    "handle.stream_colorbar(orientation='horizontal')"
   ]
  },
  {
   "cell_type": "code",
   "execution_count": null,
   "metadata": {
    "scrolled": true
   },
   "outputs": [],
   "source": []
  }
 ],
 "metadata": {
  "kernelspec": {
   "display_name": "Python 3 (ipykernel)",
   "language": "python",
   "name": "python3"
  },
  "language_info": {
   "codemirror_mode": {
    "name": "ipython",
    "version": 3
   },
   "file_extension": ".py",
   "mimetype": "text/x-python",
   "name": "python",
   "nbconvert_exporter": "python",
   "pygments_lexer": "ipython3",
   "version": "3.8.8"
  }
 },
 "nbformat": 4,
 "nbformat_minor": 4
}
