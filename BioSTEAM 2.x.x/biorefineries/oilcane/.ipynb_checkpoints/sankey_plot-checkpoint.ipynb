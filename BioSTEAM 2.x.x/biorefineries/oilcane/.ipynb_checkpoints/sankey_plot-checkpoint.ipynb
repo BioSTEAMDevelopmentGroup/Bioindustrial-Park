{
 "cells": [
  {
   "cell_type": "code",
   "execution_count": 8,
   "metadata": {
    "scrolled": true
   },
   "outputs": [
    {
     "name": "stdout",
     "output_type": "stream",
     "text": [
      "Using matplotlib backend: Qt5Agg\n"
     ]
    }
   ],
   "source": [
    "%matplotlib\n",
    "from biorefineries import oilcane as oc\n",
    "import biosteam as bst\n",
    "from biosteam.plots import sankey\n",
    "from biosteam.utils import colors, CABBI_colors\n",
    "from colorpalette import ColorWheel, Color\n",
    "from matplotlib import cm\n",
    "import numpy as np\n",
    "\n",
    "other = CABBI_colors.grey.tint(20)\n",
    "orange_RGB = CABBI_colors.orange.shade(20).RGB\n",
    "oil = Color(fg=0.70 * orange_RGB + 0.30 * other.RGB)\n",
    "# water = Color(fg=0.70 * CABBI_colors.blue_light.tint(10).RGB + 0.30 * other.RGB)\n",
    "\n",
    "class NodeHandle(sankey.Handle):\n",
    "    __slots__ = ('node_colors',)\n",
    "\n",
    "    def _init(self, node_colors):\n",
    "        self.node_colors = node_colors\n",
    "    \n",
    "    def process_color(self, units, index):\n",
    "        color = self.node_colors[index]\n",
    "        RGB = color.RGB\n",
    "        return \"rgba(%d, %d, %d, 1.0)\" %tuple(RGB)\n",
    "\n",
    "class OtherHandle(NodeHandle):\n",
    "    __slots__ = ()\n",
    "    def stream_width(self, stream): return (stream.F_mass - stream.imass['Oil']) or 1e-6\n",
    "    def stream_color(self, stream):\n",
    "#         w = stream.imass['Water']\n",
    "        o = stream.imass['Oil'] * 10  \n",
    "        ot = stream.F_mass - o / 10\n",
    "        t = o + ot\n",
    "        RGB = Color(fg=o / t * oil.RGB + ot / t * other.RGB).RGB\n",
    "        return \"rgba(%d, %d, %d, 1.0)\" %tuple(RGB)\n",
    "    def link_color(self, stream): \n",
    "        return \"rgba(%d, %d, %d, 1.0)\" %tuple(other.RGB)\n",
    "\n",
    "class OilHandle(NodeHandle): \n",
    "    __slots__ = ()\n",
    "    def stream_width(self, stream): return stream.imass['Oil'] * 10\n",
    "    stream_color = OtherHandle.stream_color\n",
    "    def link_color(self, stream): return \"rgba(%d, %d, %d, 1.0)\" %tuple(oil.RGB)\n",
    "    \n",
    "# class WaterHandle(NodeHandle):\n",
    "#     __slots__ = ()\n",
    "#     def stream_width(self, stream): return stream.imass['Water']\n",
    "#     stream_color = OtherHandle.stream_color\n",
    "#     def link_color(self, stream): return \"rgba(%d, %d, %d, 1.0)\" %tuple(water.RGB)\n",
    "    \n",
    "    \n",
    "@bst.utils.piping.ignore_docking_warnings\n",
    "def create_sankey_plot(name):\n",
    "    oc.load(name, reduce_chemicals=False)\n",
    "    if name == 'O1':\n",
    "        loaded = getattr(oc, 'loaded_1', False)\n",
    "        feedstock_handling, *sankey_groups, CHP, utilities, hxn, storage = oc.unit_groups\n",
    "#         oc.pressed_bagasse.ID = 'bagasse'\n",
    "    elif name == 'O2':\n",
    "        loaded = getattr(oc, 'loaded_2', False)\n",
    "        feedstock_handling, *sankey_groups, wastewater, oil_ext, CHP, biod_prod, utilities, hxn, storage = oc.unit_groups\n",
    "        sankey_groups += [oil_ext, biod_prod]\n",
    "    else:\n",
    "        raise ValueError('name is invalid')\n",
    "    if not loaded:\n",
    "        oc.shredded_cane.ID = 'oilcane'\n",
    "        oc.rvf_wash_water.ID = 'RVF_wash_water'\n",
    "        for i in storage.units: \n",
    "            if 'storage' in i.line.lower():\n",
    "                i.replace_with()\n",
    "        if name == 'O1':\n",
    "            for i in oc.M801.ins: i.ID = 'process_water'\n",
    "            oc.P304.outs[0].ID = 'process_water'\n",
    "            oc.R601.outs[0].ID = 'N2_purge'\n",
    "            oc.loaded_1 = True\n",
    "        elif name == 'O2':\n",
    "#             for i in sankey_groups:\n",
    "#                 if 'Oil ext.' in i.name:\n",
    "#                     wastewater = oc.wastewater\n",
    "#                     wastewater.ID = ''\n",
    "#                     MX = bst.Mixer('MX1',\n",
    "#                                    (oc.spent_wash_water, wastewater),\n",
    "#                                    'wastewater')\n",
    "#                     MX.simulate()\n",
    "#                     i.units.append(MX)\n",
    "#                 elif 'EtOH prod.' in i.name:\n",
    "#                     MX = bst.Mixer('MX2',\n",
    "#                                    (oc.E401.outs[1], oc.P404.outs[0]),\n",
    "#                                    'recycle_process_water')\n",
    "#                     MX.simulate()\n",
    "#                     i.units.append(MX)\n",
    "            oc.loaded_2 = True\n",
    "            #oc.U601.outs[0].ID = 'lignin'\n",
    "            oc.evaporator_condensate._ID = 'process_water'\n",
    "            oc.pretreatment_wastewater.ID = 'wastewater'\n",
    "            oc.s57.ID = oc.s48.ID ='process_water'\n",
    "            oc.s110.ID = 'wastewater'\n",
    "            oc.s80.ID = 'wastewater'\n",
    "            oc.s106.ID = 'N2_purge'\n",
    "    #         oc.warm_process_water.ID = 'process_water'\n",
    "    #         oc.P601.outs[0].ID = 'recycle_process_water'\n",
    "    ignored = []\n",
    "#     if name == 1:\n",
    "#         ignored = [oc.H604.ins[0]]\n",
    "#     elif name == 2:\n",
    "#         ignored = [oc.H804.ins[0], oc.U601.ins[1]]\n",
    "\n",
    "    sankey_installed_cost = {u.name: sum([i.installed_cost for i in u.units]) for u in sankey_groups}\n",
    "    max_installed_cost_of_groups = max(sankey_installed_cost.values())\n",
    "    handle = OtherHandle(\n",
    "        max_feeds=100, max_products=100,\n",
    "        ignore=ignored,\n",
    "        node_colors=[oc.area_colors[i.name] for i in sankey_groups],\n",
    "    )\n",
    "    oilhandle = OilHandle(max_feeds=100, max_products=100,\n",
    "        ignore=ignored,\n",
    "        node_colors=handle.node_colors,\n",
    "    )\n",
    "#     waterhandle = WaterHandle(max_feeds=100, max_products=100,\n",
    "#         ignore=ignored,\n",
    "#         node_colors=handle.node_colors,\n",
    "#     )\n",
    "    nodes = handle.nodes(sankey_groups)\n",
    "    print([i.name for i in nodes])\n",
    "    nodes_dct = {i.name: i for i in nodes}\n",
    "    dct = globals()\n",
    "    dct.update(locals())\n",
    "    onodes = oilhandle.nodes(sankey_groups) # + waterhandle.nodes(sankey_groups)\n",
    "    links = sum([i.links() for i in nodes + onodes], [])\n",
    "    for i in links:\n",
    "        i.source = nodes_dct[i.source.name]\n",
    "        i.sink = nodes_dct[i.sink.name]\n",
    "    data = sankey.sankey_data(nodes, links=links)\n",
    "    fig = sankey.sankey_figure(nodes, links=links)\n",
    "    fig.show()\n",
    "    dct = globals()\n",
    "    dct.update(locals())"
   ]
  },
  {
   "cell_type": "code",
   "execution_count": 9,
   "metadata": {
    "scrolled": false
   },
   "outputs": [
    {
     "name": "stdout",
     "output_type": "stream",
     "text": [
      "['Juicing', 'EtOH prod.', 'Oil ext.', 'Biod. prod.', 'denaturant', 'pure glycerine', 'lime', 'methanol', 'catalyst', 'biodiesel wash water', 'HCl', 'NaOH', 'imbibition water', 'H3PO4', 'polymer', 'N2', 'oilcane', 'RVF wash water', 'stripping water', 'ethanol', 'biodiesel', 'crude glycerol', 'N2 purge', 'polar lipids', 'bagasse', 'fiber fines', 'process water', 'process water', 'vinasse', 'vent', 'filter cake', 'wastewater', 'Yeast']\n"
     ]
    },
    {
     "data": {
      "application/vnd.plotly.v1+json": {
       "config": {
        "plotlyServerURL": "https://plot.ly"
       },
       "data": [
        {
         "link": {
          "color": [
           "rgba(231, 228, 225, 1.0)",
           "rgba(231, 228, 225, 1.0)",
           "rgba(231, 228, 225, 1.0)",
           "rgba(231, 228, 225, 1.0)",
           "rgba(231, 228, 225, 1.0)",
           "rgba(231, 228, 225, 1.0)",
           "rgba(231, 228, 225, 1.0)",
           "rgba(231, 228, 225, 1.0)",
           "rgba(231, 228, 225, 1.0)",
           "rgba(231, 228, 225, 1.0)",
           "rgba(231, 228, 225, 1.0)",
           "rgba(231, 228, 225, 1.0)",
           "rgba(231, 228, 225, 1.0)",
           "rgba(231, 228, 225, 1.0)",
           "rgba(231, 228, 225, 1.0)",
           "rgba(231, 228, 225, 1.0)",
           "rgba(231, 228, 225, 1.0)",
           "rgba(231, 228, 225, 1.0)",
           "rgba(231, 228, 225, 1.0)",
           "rgba(231, 228, 225, 1.0)",
           "rgba(231, 228, 225, 1.0)",
           "rgba(231, 228, 225, 1.0)",
           "rgba(231, 228, 225, 1.0)",
           "rgba(231, 228, 225, 1.0)",
           "rgba(231, 228, 225, 1.0)",
           "rgba(231, 228, 225, 1.0)",
           "rgba(231, 228, 225, 1.0)",
           "rgba(231, 228, 225, 1.0)",
           "rgba(231, 228, 225, 1.0)",
           "rgba(231, 228, 225, 1.0)",
           "rgba(231, 228, 225, 1.0)",
           "rgba(231, 228, 225, 1.0)",
           "rgba(210, 171, 78, 1.0)",
           "rgba(210, 171, 78, 1.0)",
           "rgba(210, 171, 78, 1.0)",
           "rgba(210, 171, 78, 1.0)",
           "rgba(210, 171, 78, 1.0)",
           "rgba(210, 171, 78, 1.0)",
           "rgba(210, 171, 78, 1.0)",
           "rgba(210, 171, 78, 1.0)",
           "rgba(210, 171, 78, 1.0)"
          ],
          "source": [
           0,
           1,
           2,
           4,
           5,
           6,
           7,
           8,
           9,
           10,
           11,
           12,
           13,
           14,
           15,
           16,
           17,
           18,
           1,
           3,
           3,
           3,
           3,
           0,
           0,
           2,
           1,
           2,
           1,
           0,
           3,
           1,
           0,
           1,
           2,
           16,
           3,
           0,
           0,
           2,
           3
          ],
          "target": [
           1,
           2,
           3,
           1,
           3,
           0,
           3,
           3,
           3,
           3,
           3,
           0,
           0,
           0,
           3,
           0,
           0,
           1,
           19,
           20,
           21,
           22,
           23,
           24,
           25,
           27,
           27,
           28,
           29,
           30,
           31,
           32,
           1,
           2,
           3,
           0,
           23,
           24,
           25,
           28,
           31
          ],
          "value": [
           283069.57080130663,
           255090.39878224605,
           4.581279718921451,
           377.9943505284093,
           376.0775769476935,
           333.333334,
           32.04186,
           1,
           139.7653584548571,
           0.3553451999620555,
           0.03985617707713043,
           81666.66682999999,
           166.666667,
           0.83,
           3.3060359764477947,
           328333.33398999996,
           71.65757606403785,
           26836,
           17560.07917868343,
           2689.753629633278,
           699.1602457487083,
           58.43472747677821,
           1e-06,
           117470.47523959252,
           567.9366883122244,
           78542.11710455967,
           16993.94295999433,
           176543.7003979675,
           16280.170765903888,
           9464.505667852636,
           21.23871087202581,
           4381.694698531167,
           29970.000059939997,
           29242.21105835086,
           28949.788947767345,
           50000.000100000005,
           2966.733302933467,
           20000.000040000006,
           30.000000060001078,
           292.4221105835068,
           94.01414603352215
          ]
         },
         "node": {
          "color": [
           "rgba(164, 189, 100, 1.0)",
           "rgba(155, 216, 217, 1.0)",
           "rgba(172, 159, 139, 1.0)",
           "rgba(252, 198, 66, 1.0)",
           "rgba(231, 228, 225, 1.0)",
           "rgba(231, 228, 225, 1.0)",
           "rgba(231, 228, 225, 1.0)",
           "rgba(231, 228, 225, 1.0)",
           "rgba(231, 228, 225, 1.0)",
           "rgba(231, 228, 225, 1.0)",
           "rgba(231, 228, 225, 1.0)",
           "rgba(231, 228, 225, 1.0)",
           "rgba(231, 228, 225, 1.0)",
           "rgba(231, 228, 225, 1.0)",
           "rgba(231, 228, 225, 1.0)",
           "rgba(231, 228, 225, 1.0)",
           "rgba(228, 220, 205, 1.0)",
           "rgba(231, 228, 225, 1.0)",
           "rgba(231, 228, 225, 1.0)",
           "rgba(231, 228, 225, 1.0)",
           "rgba(231, 228, 225, 1.0)",
           "rgba(231, 228, 225, 1.0)",
           "rgba(231, 228, 225, 1.0)",
           "rgba(210, 171, 78, 1.0)",
           "rgba(227, 219, 203, 1.0)",
           "rgba(229, 225, 217, 1.0)",
           "rgba(231, 228, 225, 1.0)",
           "rgba(231, 228, 225, 1.0)",
           "rgba(230, 227, 224, 1.0)",
           "rgba(231, 228, 225, 1.0)",
           "rgba(231, 228, 225, 1.0)",
           "rgba(213, 181, 105, 1.0)",
           "rgba(231, 228, 225, 1.0)"
          ],
          "label": [
           "Juicing",
           "EtOH prod.",
           "Oil ext.",
           "Biod. prod.",
           "denaturant",
           "pure glycerine",
           "lime",
           "methanol",
           "catalyst",
           "biodiesel wash water",
           "HCl",
           "NaOH",
           "imbibition water",
           "H3PO4",
           "polymer",
           "N2",
           "oilcane",
           "RVF wash water",
           "stripping water",
           "ethanol",
           "biodiesel",
           "crude glycerol",
           "N2 purge",
           "polar lipids",
           "bagasse",
           "fiber fines",
           "process water",
           "process water",
           "vinasse",
           "vent",
           "filter cake",
           "wastewater",
           "Yeast"
          ]
         },
         "type": "sankey"
        }
       ],
       "layout": {
        "template": {
         "data": {
          "bar": [
           {
            "error_x": {
             "color": "#2a3f5f"
            },
            "error_y": {
             "color": "#2a3f5f"
            },
            "marker": {
             "line": {
              "color": "#E5ECF6",
              "width": 0.5
             },
             "pattern": {
              "fillmode": "overlay",
              "size": 10,
              "solidity": 0.2
             }
            },
            "type": "bar"
           }
          ],
          "barpolar": [
           {
            "marker": {
             "line": {
              "color": "#E5ECF6",
              "width": 0.5
             },
             "pattern": {
              "fillmode": "overlay",
              "size": 10,
              "solidity": 0.2
             }
            },
            "type": "barpolar"
           }
          ],
          "carpet": [
           {
            "aaxis": {
             "endlinecolor": "#2a3f5f",
             "gridcolor": "white",
             "linecolor": "white",
             "minorgridcolor": "white",
             "startlinecolor": "#2a3f5f"
            },
            "baxis": {
             "endlinecolor": "#2a3f5f",
             "gridcolor": "white",
             "linecolor": "white",
             "minorgridcolor": "white",
             "startlinecolor": "#2a3f5f"
            },
            "type": "carpet"
           }
          ],
          "choropleth": [
           {
            "colorbar": {
             "outlinewidth": 0,
             "ticks": ""
            },
            "type": "choropleth"
           }
          ],
          "contour": [
           {
            "colorbar": {
             "outlinewidth": 0,
             "ticks": ""
            },
            "colorscale": [
             [
              0,
              "#0d0887"
             ],
             [
              0.1111111111111111,
              "#46039f"
             ],
             [
              0.2222222222222222,
              "#7201a8"
             ],
             [
              0.3333333333333333,
              "#9c179e"
             ],
             [
              0.4444444444444444,
              "#bd3786"
             ],
             [
              0.5555555555555556,
              "#d8576b"
             ],
             [
              0.6666666666666666,
              "#ed7953"
             ],
             [
              0.7777777777777778,
              "#fb9f3a"
             ],
             [
              0.8888888888888888,
              "#fdca26"
             ],
             [
              1,
              "#f0f921"
             ]
            ],
            "type": "contour"
           }
          ],
          "contourcarpet": [
           {
            "colorbar": {
             "outlinewidth": 0,
             "ticks": ""
            },
            "type": "contourcarpet"
           }
          ],
          "heatmap": [
           {
            "colorbar": {
             "outlinewidth": 0,
             "ticks": ""
            },
            "colorscale": [
             [
              0,
              "#0d0887"
             ],
             [
              0.1111111111111111,
              "#46039f"
             ],
             [
              0.2222222222222222,
              "#7201a8"
             ],
             [
              0.3333333333333333,
              "#9c179e"
             ],
             [
              0.4444444444444444,
              "#bd3786"
             ],
             [
              0.5555555555555556,
              "#d8576b"
             ],
             [
              0.6666666666666666,
              "#ed7953"
             ],
             [
              0.7777777777777778,
              "#fb9f3a"
             ],
             [
              0.8888888888888888,
              "#fdca26"
             ],
             [
              1,
              "#f0f921"
             ]
            ],
            "type": "heatmap"
           }
          ],
          "heatmapgl": [
           {
            "colorbar": {
             "outlinewidth": 0,
             "ticks": ""
            },
            "colorscale": [
             [
              0,
              "#0d0887"
             ],
             [
              0.1111111111111111,
              "#46039f"
             ],
             [
              0.2222222222222222,
              "#7201a8"
             ],
             [
              0.3333333333333333,
              "#9c179e"
             ],
             [
              0.4444444444444444,
              "#bd3786"
             ],
             [
              0.5555555555555556,
              "#d8576b"
             ],
             [
              0.6666666666666666,
              "#ed7953"
             ],
             [
              0.7777777777777778,
              "#fb9f3a"
             ],
             [
              0.8888888888888888,
              "#fdca26"
             ],
             [
              1,
              "#f0f921"
             ]
            ],
            "type": "heatmapgl"
           }
          ],
          "histogram": [
           {
            "marker": {
             "pattern": {
              "fillmode": "overlay",
              "size": 10,
              "solidity": 0.2
             }
            },
            "type": "histogram"
           }
          ],
          "histogram2d": [
           {
            "colorbar": {
             "outlinewidth": 0,
             "ticks": ""
            },
            "colorscale": [
             [
              0,
              "#0d0887"
             ],
             [
              0.1111111111111111,
              "#46039f"
             ],
             [
              0.2222222222222222,
              "#7201a8"
             ],
             [
              0.3333333333333333,
              "#9c179e"
             ],
             [
              0.4444444444444444,
              "#bd3786"
             ],
             [
              0.5555555555555556,
              "#d8576b"
             ],
             [
              0.6666666666666666,
              "#ed7953"
             ],
             [
              0.7777777777777778,
              "#fb9f3a"
             ],
             [
              0.8888888888888888,
              "#fdca26"
             ],
             [
              1,
              "#f0f921"
             ]
            ],
            "type": "histogram2d"
           }
          ],
          "histogram2dcontour": [
           {
            "colorbar": {
             "outlinewidth": 0,
             "ticks": ""
            },
            "colorscale": [
             [
              0,
              "#0d0887"
             ],
             [
              0.1111111111111111,
              "#46039f"
             ],
             [
              0.2222222222222222,
              "#7201a8"
             ],
             [
              0.3333333333333333,
              "#9c179e"
             ],
             [
              0.4444444444444444,
              "#bd3786"
             ],
             [
              0.5555555555555556,
              "#d8576b"
             ],
             [
              0.6666666666666666,
              "#ed7953"
             ],
             [
              0.7777777777777778,
              "#fb9f3a"
             ],
             [
              0.8888888888888888,
              "#fdca26"
             ],
             [
              1,
              "#f0f921"
             ]
            ],
            "type": "histogram2dcontour"
           }
          ],
          "mesh3d": [
           {
            "colorbar": {
             "outlinewidth": 0,
             "ticks": ""
            },
            "type": "mesh3d"
           }
          ],
          "parcoords": [
           {
            "line": {
             "colorbar": {
              "outlinewidth": 0,
              "ticks": ""
             }
            },
            "type": "parcoords"
           }
          ],
          "pie": [
           {
            "automargin": true,
            "type": "pie"
           }
          ],
          "scatter": [
           {
            "fillpattern": {
             "fillmode": "overlay",
             "size": 10,
             "solidity": 0.2
            },
            "type": "scatter"
           }
          ],
          "scatter3d": [
           {
            "line": {
             "colorbar": {
              "outlinewidth": 0,
              "ticks": ""
             }
            },
            "marker": {
             "colorbar": {
              "outlinewidth": 0,
              "ticks": ""
             }
            },
            "type": "scatter3d"
           }
          ],
          "scattercarpet": [
           {
            "marker": {
             "colorbar": {
              "outlinewidth": 0,
              "ticks": ""
             }
            },
            "type": "scattercarpet"
           }
          ],
          "scattergeo": [
           {
            "marker": {
             "colorbar": {
              "outlinewidth": 0,
              "ticks": ""
             }
            },
            "type": "scattergeo"
           }
          ],
          "scattergl": [
           {
            "marker": {
             "colorbar": {
              "outlinewidth": 0,
              "ticks": ""
             }
            },
            "type": "scattergl"
           }
          ],
          "scattermapbox": [
           {
            "marker": {
             "colorbar": {
              "outlinewidth": 0,
              "ticks": ""
             }
            },
            "type": "scattermapbox"
           }
          ],
          "scatterpolar": [
           {
            "marker": {
             "colorbar": {
              "outlinewidth": 0,
              "ticks": ""
             }
            },
            "type": "scatterpolar"
           }
          ],
          "scatterpolargl": [
           {
            "marker": {
             "colorbar": {
              "outlinewidth": 0,
              "ticks": ""
             }
            },
            "type": "scatterpolargl"
           }
          ],
          "scatterternary": [
           {
            "marker": {
             "colorbar": {
              "outlinewidth": 0,
              "ticks": ""
             }
            },
            "type": "scatterternary"
           }
          ],
          "surface": [
           {
            "colorbar": {
             "outlinewidth": 0,
             "ticks": ""
            },
            "colorscale": [
             [
              0,
              "#0d0887"
             ],
             [
              0.1111111111111111,
              "#46039f"
             ],
             [
              0.2222222222222222,
              "#7201a8"
             ],
             [
              0.3333333333333333,
              "#9c179e"
             ],
             [
              0.4444444444444444,
              "#bd3786"
             ],
             [
              0.5555555555555556,
              "#d8576b"
             ],
             [
              0.6666666666666666,
              "#ed7953"
             ],
             [
              0.7777777777777778,
              "#fb9f3a"
             ],
             [
              0.8888888888888888,
              "#fdca26"
             ],
             [
              1,
              "#f0f921"
             ]
            ],
            "type": "surface"
           }
          ],
          "table": [
           {
            "cells": {
             "fill": {
              "color": "#EBF0F8"
             },
             "line": {
              "color": "white"
             }
            },
            "header": {
             "fill": {
              "color": "#C8D4E3"
             },
             "line": {
              "color": "white"
             }
            },
            "type": "table"
           }
          ]
         },
         "layout": {
          "annotationdefaults": {
           "arrowcolor": "#2a3f5f",
           "arrowhead": 0,
           "arrowwidth": 1
          },
          "autotypenumbers": "strict",
          "coloraxis": {
           "colorbar": {
            "outlinewidth": 0,
            "ticks": ""
           }
          },
          "colorscale": {
           "diverging": [
            [
             0,
             "#8e0152"
            ],
            [
             0.1,
             "#c51b7d"
            ],
            [
             0.2,
             "#de77ae"
            ],
            [
             0.3,
             "#f1b6da"
            ],
            [
             0.4,
             "#fde0ef"
            ],
            [
             0.5,
             "#f7f7f7"
            ],
            [
             0.6,
             "#e6f5d0"
            ],
            [
             0.7,
             "#b8e186"
            ],
            [
             0.8,
             "#7fbc41"
            ],
            [
             0.9,
             "#4d9221"
            ],
            [
             1,
             "#276419"
            ]
           ],
           "sequential": [
            [
             0,
             "#0d0887"
            ],
            [
             0.1111111111111111,
             "#46039f"
            ],
            [
             0.2222222222222222,
             "#7201a8"
            ],
            [
             0.3333333333333333,
             "#9c179e"
            ],
            [
             0.4444444444444444,
             "#bd3786"
            ],
            [
             0.5555555555555556,
             "#d8576b"
            ],
            [
             0.6666666666666666,
             "#ed7953"
            ],
            [
             0.7777777777777778,
             "#fb9f3a"
            ],
            [
             0.8888888888888888,
             "#fdca26"
            ],
            [
             1,
             "#f0f921"
            ]
           ],
           "sequentialminus": [
            [
             0,
             "#0d0887"
            ],
            [
             0.1111111111111111,
             "#46039f"
            ],
            [
             0.2222222222222222,
             "#7201a8"
            ],
            [
             0.3333333333333333,
             "#9c179e"
            ],
            [
             0.4444444444444444,
             "#bd3786"
            ],
            [
             0.5555555555555556,
             "#d8576b"
            ],
            [
             0.6666666666666666,
             "#ed7953"
            ],
            [
             0.7777777777777778,
             "#fb9f3a"
            ],
            [
             0.8888888888888888,
             "#fdca26"
            ],
            [
             1,
             "#f0f921"
            ]
           ]
          },
          "colorway": [
           "#636efa",
           "#EF553B",
           "#00cc96",
           "#ab63fa",
           "#FFA15A",
           "#19d3f3",
           "#FF6692",
           "#B6E880",
           "#FF97FF",
           "#FECB52"
          ],
          "font": {
           "color": "#2a3f5f"
          },
          "geo": {
           "bgcolor": "white",
           "lakecolor": "white",
           "landcolor": "#E5ECF6",
           "showlakes": true,
           "showland": true,
           "subunitcolor": "white"
          },
          "hoverlabel": {
           "align": "left"
          },
          "hovermode": "closest",
          "mapbox": {
           "style": "light"
          },
          "paper_bgcolor": "white",
          "plot_bgcolor": "#E5ECF6",
          "polar": {
           "angularaxis": {
            "gridcolor": "white",
            "linecolor": "white",
            "ticks": ""
           },
           "bgcolor": "#E5ECF6",
           "radialaxis": {
            "gridcolor": "white",
            "linecolor": "white",
            "ticks": ""
           }
          },
          "scene": {
           "xaxis": {
            "backgroundcolor": "#E5ECF6",
            "gridcolor": "white",
            "gridwidth": 2,
            "linecolor": "white",
            "showbackground": true,
            "ticks": "",
            "zerolinecolor": "white"
           },
           "yaxis": {
            "backgroundcolor": "#E5ECF6",
            "gridcolor": "white",
            "gridwidth": 2,
            "linecolor": "white",
            "showbackground": true,
            "ticks": "",
            "zerolinecolor": "white"
           },
           "zaxis": {
            "backgroundcolor": "#E5ECF6",
            "gridcolor": "white",
            "gridwidth": 2,
            "linecolor": "white",
            "showbackground": true,
            "ticks": "",
            "zerolinecolor": "white"
           }
          },
          "shapedefaults": {
           "line": {
            "color": "#2a3f5f"
           }
          },
          "ternary": {
           "aaxis": {
            "gridcolor": "white",
            "linecolor": "white",
            "ticks": ""
           },
           "baxis": {
            "gridcolor": "white",
            "linecolor": "white",
            "ticks": ""
           },
           "bgcolor": "#E5ECF6",
           "caxis": {
            "gridcolor": "white",
            "linecolor": "white",
            "ticks": ""
           }
          },
          "title": {
           "x": 0.05
          },
          "xaxis": {
           "automargin": true,
           "gridcolor": "white",
           "linecolor": "white",
           "ticks": "",
           "title": {
            "standoff": 15
           },
           "zerolinecolor": "white",
           "zerolinewidth": 2
          },
          "yaxis": {
           "automargin": true,
           "gridcolor": "white",
           "linecolor": "white",
           "ticks": "",
           "title": {
            "standoff": 15
           },
           "zerolinecolor": "white",
           "zerolinewidth": 2
          }
         }
        }
       }
      },
      "text/html": [
       "<div>                            <div id=\"118746dc-bbfb-4561-a1d0-c293ea46a211\" class=\"plotly-graph-div\" style=\"height:525px; width:100%;\"></div>            <script type=\"text/javascript\">                require([\"plotly\"], function(Plotly) {                    window.PLOTLYENV=window.PLOTLYENV || {};                                    if (document.getElementById(\"118746dc-bbfb-4561-a1d0-c293ea46a211\")) {                    Plotly.newPlot(                        \"118746dc-bbfb-4561-a1d0-c293ea46a211\",                        [{\"link\":{\"color\":[\"rgba(231, 228, 225, 1.0)\",\"rgba(231, 228, 225, 1.0)\",\"rgba(231, 228, 225, 1.0)\",\"rgba(231, 228, 225, 1.0)\",\"rgba(231, 228, 225, 1.0)\",\"rgba(231, 228, 225, 1.0)\",\"rgba(231, 228, 225, 1.0)\",\"rgba(231, 228, 225, 1.0)\",\"rgba(231, 228, 225, 1.0)\",\"rgba(231, 228, 225, 1.0)\",\"rgba(231, 228, 225, 1.0)\",\"rgba(231, 228, 225, 1.0)\",\"rgba(231, 228, 225, 1.0)\",\"rgba(231, 228, 225, 1.0)\",\"rgba(231, 228, 225, 1.0)\",\"rgba(231, 228, 225, 1.0)\",\"rgba(231, 228, 225, 1.0)\",\"rgba(231, 228, 225, 1.0)\",\"rgba(231, 228, 225, 1.0)\",\"rgba(231, 228, 225, 1.0)\",\"rgba(231, 228, 225, 1.0)\",\"rgba(231, 228, 225, 1.0)\",\"rgba(231, 228, 225, 1.0)\",\"rgba(231, 228, 225, 1.0)\",\"rgba(231, 228, 225, 1.0)\",\"rgba(231, 228, 225, 1.0)\",\"rgba(231, 228, 225, 1.0)\",\"rgba(231, 228, 225, 1.0)\",\"rgba(231, 228, 225, 1.0)\",\"rgba(231, 228, 225, 1.0)\",\"rgba(231, 228, 225, 1.0)\",\"rgba(231, 228, 225, 1.0)\",\"rgba(210, 171, 78, 1.0)\",\"rgba(210, 171, 78, 1.0)\",\"rgba(210, 171, 78, 1.0)\",\"rgba(210, 171, 78, 1.0)\",\"rgba(210, 171, 78, 1.0)\",\"rgba(210, 171, 78, 1.0)\",\"rgba(210, 171, 78, 1.0)\",\"rgba(210, 171, 78, 1.0)\",\"rgba(210, 171, 78, 1.0)\"],\"source\":[0,1,2,4,5,6,7,8,9,10,11,12,13,14,15,16,17,18,1,3,3,3,3,0,0,2,1,2,1,0,3,1,0,1,2,16,3,0,0,2,3],\"target\":[1,2,3,1,3,0,3,3,3,3,3,0,0,0,3,0,0,1,19,20,21,22,23,24,25,27,27,28,29,30,31,32,1,2,3,0,23,24,25,28,31],\"value\":[283069.57080130663,255090.39878224605,4.581279718921451,377.9943505284093,376.0775769476935,333.333334,32.04186,1.0,139.7653584548571,0.3553451999620555,0.03985617707713043,81666.66682999999,166.666667,0.83,3.3060359764477947,328333.33398999996,71.65757606403785,26836.0,17560.07917868343,2689.753629633278,699.1602457487083,58.43472747677821,1e-06,117470.47523959252,567.9366883122244,78542.11710455967,16993.94295999433,176543.7003979675,16280.170765903888,9464.505667852636,21.23871087202581,4381.694698531167,29970.000059939997,29242.21105835086,28949.788947767345,50000.000100000005,2966.733302933467,20000.000040000006,30.000000060001078,292.4221105835068,94.01414603352215]},\"node\":{\"color\":[\"rgba(164, 189, 100, 1.0)\",\"rgba(155, 216, 217, 1.0)\",\"rgba(172, 159, 139, 1.0)\",\"rgba(252, 198, 66, 1.0)\",\"rgba(231, 228, 225, 1.0)\",\"rgba(231, 228, 225, 1.0)\",\"rgba(231, 228, 225, 1.0)\",\"rgba(231, 228, 225, 1.0)\",\"rgba(231, 228, 225, 1.0)\",\"rgba(231, 228, 225, 1.0)\",\"rgba(231, 228, 225, 1.0)\",\"rgba(231, 228, 225, 1.0)\",\"rgba(231, 228, 225, 1.0)\",\"rgba(231, 228, 225, 1.0)\",\"rgba(231, 228, 225, 1.0)\",\"rgba(231, 228, 225, 1.0)\",\"rgba(228, 220, 205, 1.0)\",\"rgba(231, 228, 225, 1.0)\",\"rgba(231, 228, 225, 1.0)\",\"rgba(231, 228, 225, 1.0)\",\"rgba(231, 228, 225, 1.0)\",\"rgba(231, 228, 225, 1.0)\",\"rgba(231, 228, 225, 1.0)\",\"rgba(210, 171, 78, 1.0)\",\"rgba(227, 219, 203, 1.0)\",\"rgba(229, 225, 217, 1.0)\",\"rgba(231, 228, 225, 1.0)\",\"rgba(231, 228, 225, 1.0)\",\"rgba(230, 227, 224, 1.0)\",\"rgba(231, 228, 225, 1.0)\",\"rgba(231, 228, 225, 1.0)\",\"rgba(213, 181, 105, 1.0)\",\"rgba(231, 228, 225, 1.0)\"],\"label\":[\"Juicing\",\"EtOH prod.\",\"Oil ext.\",\"Biod. prod.\",\"denaturant\",\"pure glycerine\",\"lime\",\"methanol\",\"catalyst\",\"biodiesel wash water\",\"HCl\",\"NaOH\",\"imbibition water\",\"H3PO4\",\"polymer\",\"N2\",\"oilcane\",\"RVF wash water\",\"stripping water\",\"ethanol\",\"biodiesel\",\"crude glycerol\",\"N2 purge\",\"polar lipids\",\"bagasse\",\"fiber fines\",\"process water\",\"process water\",\"vinasse\",\"vent\",\"filter cake\",\"wastewater\",\"Yeast\"]},\"type\":\"sankey\"}],                        {\"template\":{\"data\":{\"histogram2dcontour\":[{\"type\":\"histogram2dcontour\",\"colorbar\":{\"outlinewidth\":0,\"ticks\":\"\"},\"colorscale\":[[0.0,\"#0d0887\"],[0.1111111111111111,\"#46039f\"],[0.2222222222222222,\"#7201a8\"],[0.3333333333333333,\"#9c179e\"],[0.4444444444444444,\"#bd3786\"],[0.5555555555555556,\"#d8576b\"],[0.6666666666666666,\"#ed7953\"],[0.7777777777777778,\"#fb9f3a\"],[0.8888888888888888,\"#fdca26\"],[1.0,\"#f0f921\"]]}],\"choropleth\":[{\"type\":\"choropleth\",\"colorbar\":{\"outlinewidth\":0,\"ticks\":\"\"}}],\"histogram2d\":[{\"type\":\"histogram2d\",\"colorbar\":{\"outlinewidth\":0,\"ticks\":\"\"},\"colorscale\":[[0.0,\"#0d0887\"],[0.1111111111111111,\"#46039f\"],[0.2222222222222222,\"#7201a8\"],[0.3333333333333333,\"#9c179e\"],[0.4444444444444444,\"#bd3786\"],[0.5555555555555556,\"#d8576b\"],[0.6666666666666666,\"#ed7953\"],[0.7777777777777778,\"#fb9f3a\"],[0.8888888888888888,\"#fdca26\"],[1.0,\"#f0f921\"]]}],\"heatmap\":[{\"type\":\"heatmap\",\"colorbar\":{\"outlinewidth\":0,\"ticks\":\"\"},\"colorscale\":[[0.0,\"#0d0887\"],[0.1111111111111111,\"#46039f\"],[0.2222222222222222,\"#7201a8\"],[0.3333333333333333,\"#9c179e\"],[0.4444444444444444,\"#bd3786\"],[0.5555555555555556,\"#d8576b\"],[0.6666666666666666,\"#ed7953\"],[0.7777777777777778,\"#fb9f3a\"],[0.8888888888888888,\"#fdca26\"],[1.0,\"#f0f921\"]]}],\"heatmapgl\":[{\"type\":\"heatmapgl\",\"colorbar\":{\"outlinewidth\":0,\"ticks\":\"\"},\"colorscale\":[[0.0,\"#0d0887\"],[0.1111111111111111,\"#46039f\"],[0.2222222222222222,\"#7201a8\"],[0.3333333333333333,\"#9c179e\"],[0.4444444444444444,\"#bd3786\"],[0.5555555555555556,\"#d8576b\"],[0.6666666666666666,\"#ed7953\"],[0.7777777777777778,\"#fb9f3a\"],[0.8888888888888888,\"#fdca26\"],[1.0,\"#f0f921\"]]}],\"contourcarpet\":[{\"type\":\"contourcarpet\",\"colorbar\":{\"outlinewidth\":0,\"ticks\":\"\"}}],\"contour\":[{\"type\":\"contour\",\"colorbar\":{\"outlinewidth\":0,\"ticks\":\"\"},\"colorscale\":[[0.0,\"#0d0887\"],[0.1111111111111111,\"#46039f\"],[0.2222222222222222,\"#7201a8\"],[0.3333333333333333,\"#9c179e\"],[0.4444444444444444,\"#bd3786\"],[0.5555555555555556,\"#d8576b\"],[0.6666666666666666,\"#ed7953\"],[0.7777777777777778,\"#fb9f3a\"],[0.8888888888888888,\"#fdca26\"],[1.0,\"#f0f921\"]]}],\"surface\":[{\"type\":\"surface\",\"colorbar\":{\"outlinewidth\":0,\"ticks\":\"\"},\"colorscale\":[[0.0,\"#0d0887\"],[0.1111111111111111,\"#46039f\"],[0.2222222222222222,\"#7201a8\"],[0.3333333333333333,\"#9c179e\"],[0.4444444444444444,\"#bd3786\"],[0.5555555555555556,\"#d8576b\"],[0.6666666666666666,\"#ed7953\"],[0.7777777777777778,\"#fb9f3a\"],[0.8888888888888888,\"#fdca26\"],[1.0,\"#f0f921\"]]}],\"mesh3d\":[{\"type\":\"mesh3d\",\"colorbar\":{\"outlinewidth\":0,\"ticks\":\"\"}}],\"scatter\":[{\"fillpattern\":{\"fillmode\":\"overlay\",\"size\":10,\"solidity\":0.2},\"type\":\"scatter\"}],\"parcoords\":[{\"type\":\"parcoords\",\"line\":{\"colorbar\":{\"outlinewidth\":0,\"ticks\":\"\"}}}],\"scatterpolargl\":[{\"type\":\"scatterpolargl\",\"marker\":{\"colorbar\":{\"outlinewidth\":0,\"ticks\":\"\"}}}],\"bar\":[{\"error_x\":{\"color\":\"#2a3f5f\"},\"error_y\":{\"color\":\"#2a3f5f\"},\"marker\":{\"line\":{\"color\":\"#E5ECF6\",\"width\":0.5},\"pattern\":{\"fillmode\":\"overlay\",\"size\":10,\"solidity\":0.2}},\"type\":\"bar\"}],\"scattergeo\":[{\"type\":\"scattergeo\",\"marker\":{\"colorbar\":{\"outlinewidth\":0,\"ticks\":\"\"}}}],\"scatterpolar\":[{\"type\":\"scatterpolar\",\"marker\":{\"colorbar\":{\"outlinewidth\":0,\"ticks\":\"\"}}}],\"histogram\":[{\"marker\":{\"pattern\":{\"fillmode\":\"overlay\",\"size\":10,\"solidity\":0.2}},\"type\":\"histogram\"}],\"scattergl\":[{\"type\":\"scattergl\",\"marker\":{\"colorbar\":{\"outlinewidth\":0,\"ticks\":\"\"}}}],\"scatter3d\":[{\"type\":\"scatter3d\",\"line\":{\"colorbar\":{\"outlinewidth\":0,\"ticks\":\"\"}},\"marker\":{\"colorbar\":{\"outlinewidth\":0,\"ticks\":\"\"}}}],\"scattermapbox\":[{\"type\":\"scattermapbox\",\"marker\":{\"colorbar\":{\"outlinewidth\":0,\"ticks\":\"\"}}}],\"scatterternary\":[{\"type\":\"scatterternary\",\"marker\":{\"colorbar\":{\"outlinewidth\":0,\"ticks\":\"\"}}}],\"scattercarpet\":[{\"type\":\"scattercarpet\",\"marker\":{\"colorbar\":{\"outlinewidth\":0,\"ticks\":\"\"}}}],\"carpet\":[{\"aaxis\":{\"endlinecolor\":\"#2a3f5f\",\"gridcolor\":\"white\",\"linecolor\":\"white\",\"minorgridcolor\":\"white\",\"startlinecolor\":\"#2a3f5f\"},\"baxis\":{\"endlinecolor\":\"#2a3f5f\",\"gridcolor\":\"white\",\"linecolor\":\"white\",\"minorgridcolor\":\"white\",\"startlinecolor\":\"#2a3f5f\"},\"type\":\"carpet\"}],\"table\":[{\"cells\":{\"fill\":{\"color\":\"#EBF0F8\"},\"line\":{\"color\":\"white\"}},\"header\":{\"fill\":{\"color\":\"#C8D4E3\"},\"line\":{\"color\":\"white\"}},\"type\":\"table\"}],\"barpolar\":[{\"marker\":{\"line\":{\"color\":\"#E5ECF6\",\"width\":0.5},\"pattern\":{\"fillmode\":\"overlay\",\"size\":10,\"solidity\":0.2}},\"type\":\"barpolar\"}],\"pie\":[{\"automargin\":true,\"type\":\"pie\"}]},\"layout\":{\"autotypenumbers\":\"strict\",\"colorway\":[\"#636efa\",\"#EF553B\",\"#00cc96\",\"#ab63fa\",\"#FFA15A\",\"#19d3f3\",\"#FF6692\",\"#B6E880\",\"#FF97FF\",\"#FECB52\"],\"font\":{\"color\":\"#2a3f5f\"},\"hovermode\":\"closest\",\"hoverlabel\":{\"align\":\"left\"},\"paper_bgcolor\":\"white\",\"plot_bgcolor\":\"#E5ECF6\",\"polar\":{\"bgcolor\":\"#E5ECF6\",\"angularaxis\":{\"gridcolor\":\"white\",\"linecolor\":\"white\",\"ticks\":\"\"},\"radialaxis\":{\"gridcolor\":\"white\",\"linecolor\":\"white\",\"ticks\":\"\"}},\"ternary\":{\"bgcolor\":\"#E5ECF6\",\"aaxis\":{\"gridcolor\":\"white\",\"linecolor\":\"white\",\"ticks\":\"\"},\"baxis\":{\"gridcolor\":\"white\",\"linecolor\":\"white\",\"ticks\":\"\"},\"caxis\":{\"gridcolor\":\"white\",\"linecolor\":\"white\",\"ticks\":\"\"}},\"coloraxis\":{\"colorbar\":{\"outlinewidth\":0,\"ticks\":\"\"}},\"colorscale\":{\"sequential\":[[0.0,\"#0d0887\"],[0.1111111111111111,\"#46039f\"],[0.2222222222222222,\"#7201a8\"],[0.3333333333333333,\"#9c179e\"],[0.4444444444444444,\"#bd3786\"],[0.5555555555555556,\"#d8576b\"],[0.6666666666666666,\"#ed7953\"],[0.7777777777777778,\"#fb9f3a\"],[0.8888888888888888,\"#fdca26\"],[1.0,\"#f0f921\"]],\"sequentialminus\":[[0.0,\"#0d0887\"],[0.1111111111111111,\"#46039f\"],[0.2222222222222222,\"#7201a8\"],[0.3333333333333333,\"#9c179e\"],[0.4444444444444444,\"#bd3786\"],[0.5555555555555556,\"#d8576b\"],[0.6666666666666666,\"#ed7953\"],[0.7777777777777778,\"#fb9f3a\"],[0.8888888888888888,\"#fdca26\"],[1.0,\"#f0f921\"]],\"diverging\":[[0,\"#8e0152\"],[0.1,\"#c51b7d\"],[0.2,\"#de77ae\"],[0.3,\"#f1b6da\"],[0.4,\"#fde0ef\"],[0.5,\"#f7f7f7\"],[0.6,\"#e6f5d0\"],[0.7,\"#b8e186\"],[0.8,\"#7fbc41\"],[0.9,\"#4d9221\"],[1,\"#276419\"]]},\"xaxis\":{\"gridcolor\":\"white\",\"linecolor\":\"white\",\"ticks\":\"\",\"title\":{\"standoff\":15},\"zerolinecolor\":\"white\",\"automargin\":true,\"zerolinewidth\":2},\"yaxis\":{\"gridcolor\":\"white\",\"linecolor\":\"white\",\"ticks\":\"\",\"title\":{\"standoff\":15},\"zerolinecolor\":\"white\",\"automargin\":true,\"zerolinewidth\":2},\"scene\":{\"xaxis\":{\"backgroundcolor\":\"#E5ECF6\",\"gridcolor\":\"white\",\"linecolor\":\"white\",\"showbackground\":true,\"ticks\":\"\",\"zerolinecolor\":\"white\",\"gridwidth\":2},\"yaxis\":{\"backgroundcolor\":\"#E5ECF6\",\"gridcolor\":\"white\",\"linecolor\":\"white\",\"showbackground\":true,\"ticks\":\"\",\"zerolinecolor\":\"white\",\"gridwidth\":2},\"zaxis\":{\"backgroundcolor\":\"#E5ECF6\",\"gridcolor\":\"white\",\"linecolor\":\"white\",\"showbackground\":true,\"ticks\":\"\",\"zerolinecolor\":\"white\",\"gridwidth\":2}},\"shapedefaults\":{\"line\":{\"color\":\"#2a3f5f\"}},\"annotationdefaults\":{\"arrowcolor\":\"#2a3f5f\",\"arrowhead\":0,\"arrowwidth\":1},\"geo\":{\"bgcolor\":\"white\",\"landcolor\":\"#E5ECF6\",\"subunitcolor\":\"white\",\"showland\":true,\"showlakes\":true,\"lakecolor\":\"white\"},\"title\":{\"x\":0.05},\"mapbox\":{\"style\":\"light\"}}}},                        {\"responsive\": true}                    ).then(function(){\n",
       "                            \n",
       "var gd = document.getElementById('118746dc-bbfb-4561-a1d0-c293ea46a211');\n",
       "var x = new MutationObserver(function (mutations, observer) {{\n",
       "        var display = window.getComputedStyle(gd).display;\n",
       "        if (!display || display === 'none') {{\n",
       "            console.log([gd, 'removed!']);\n",
       "            Plotly.purge(gd);\n",
       "            observer.disconnect();\n",
       "        }}\n",
       "}});\n",
       "\n",
       "// Listen for the removal of the full notebook cells\n",
       "var notebookContainer = gd.closest('#notebook-container');\n",
       "if (notebookContainer) {{\n",
       "    x.observe(notebookContainer, {childList: true});\n",
       "}}\n",
       "\n",
       "// Listen for the clearing of the current output cell\n",
       "var outputEl = gd.closest('.output');\n",
       "if (outputEl) {{\n",
       "    x.observe(outputEl, {childList: true});\n",
       "}}\n",
       "\n",
       "                        })                };                });            </script>        </div>"
      ]
     },
     "metadata": {},
     "output_type": "display_data"
    }
   ],
   "source": [
    "create_sankey_plot('O1')"
   ]
  },
  {
   "cell_type": "code",
   "execution_count": 10,
   "metadata": {},
   "outputs": [
    {
     "name": "stdout",
     "output_type": "stream",
     "text": [
      "['Juicing', 'Pretreatment', 'EtOH prod.', 'Oil ext.', 'Biod. prod.', 'cellulase', 'denaturant', 'pure glycerine', 'lime', 'methanol', 'catalyst', 'biodiesel wash water', 'HCl', 'NaOH', 'imbibition water', 'RVF wash water', 'H3PO4', 'N2', 'polymer', 'pretreatment steam', 'oilcane', 'stripping water', 'saccharification water', 'ethanol', 'biodiesel', 'crude glycerol', 's259', 'filter cake', 'wastewater', 'wastewater', 'fiber fines', 'lignin', 'process water', 'cellmass', 's206', 's255', 's197', 'polar lipids', 's229', 'vent']\n"
     ]
    },
    {
     "data": {
      "application/vnd.plotly.v1+json": {
       "config": {
        "plotlyServerURL": "https://plot.ly"
       },
       "data": [
        {
         "link": {
          "color": [
           "rgba(231, 228, 225, 1.0)",
           "rgba(231, 228, 225, 1.0)",
           "rgba(231, 228, 225, 1.0)",
           "rgba(231, 228, 225, 1.0)",
           "rgba(231, 228, 225, 1.0)",
           "rgba(231, 228, 225, 1.0)",
           "rgba(231, 228, 225, 1.0)",
           "rgba(231, 228, 225, 1.0)",
           "rgba(231, 228, 225, 1.0)",
           "rgba(231, 228, 225, 1.0)",
           "rgba(231, 228, 225, 1.0)",
           "rgba(231, 228, 225, 1.0)",
           "rgba(231, 228, 225, 1.0)",
           "rgba(231, 228, 225, 1.0)",
           "rgba(231, 228, 225, 1.0)",
           "rgba(231, 228, 225, 1.0)",
           "rgba(231, 228, 225, 1.0)",
           "rgba(231, 228, 225, 1.0)",
           "rgba(231, 228, 225, 1.0)",
           "rgba(231, 228, 225, 1.0)",
           "rgba(231, 228, 225, 1.0)",
           "rgba(231, 228, 225, 1.0)",
           "rgba(231, 228, 225, 1.0)",
           "rgba(231, 228, 225, 1.0)",
           "rgba(231, 228, 225, 1.0)",
           "rgba(231, 228, 225, 1.0)",
           "rgba(231, 228, 225, 1.0)",
           "rgba(231, 228, 225, 1.0)",
           "rgba(231, 228, 225, 1.0)",
           "rgba(231, 228, 225, 1.0)",
           "rgba(231, 228, 225, 1.0)",
           "rgba(231, 228, 225, 1.0)",
           "rgba(231, 228, 225, 1.0)",
           "rgba(231, 228, 225, 1.0)",
           "rgba(231, 228, 225, 1.0)",
           "rgba(231, 228, 225, 1.0)",
           "rgba(231, 228, 225, 1.0)",
           "rgba(231, 228, 225, 1.0)",
           "rgba(231, 228, 225, 1.0)",
           "rgba(231, 228, 225, 1.0)",
           "rgba(210, 171, 78, 1.0)",
           "rgba(210, 171, 78, 1.0)",
           "rgba(210, 171, 78, 1.0)",
           "rgba(210, 171, 78, 1.0)",
           "rgba(210, 171, 78, 1.0)",
           "rgba(210, 171, 78, 1.0)",
           "rgba(210, 171, 78, 1.0)",
           "rgba(210, 171, 78, 1.0)",
           "rgba(210, 171, 78, 1.0)",
           "rgba(210, 171, 78, 1.0)",
           "rgba(210, 171, 78, 1.0)",
           "rgba(210, 171, 78, 1.0)"
          ],
          "source": [
           0,
           0,
           1,
           2,
           3,
           5,
           6,
           7,
           8,
           9,
           10,
           11,
           12,
           13,
           14,
           15,
           16,
           17,
           18,
           19,
           20,
           21,
           22,
           2,
           4,
           4,
           4,
           0,
           1,
           3,
           0,
           2,
           3,
           3,
           2,
           4,
           2,
           4,
           4,
           2,
           0,
           0,
           1,
           2,
           3,
           20,
           4,
           0,
           3,
           2,
           4,
           4
          ],
          "target": [
           1,
           2,
           2,
           3,
           4,
           2,
           2,
           4,
           0,
           4,
           4,
           4,
           4,
           4,
           0,
           0,
           0,
           4,
           0,
           1,
           0,
           2,
           2,
           23,
           24,
           25,
           26,
           27,
           29,
           29,
           30,
           31,
           32,
           33,
           34,
           35,
           36,
           37,
           38,
           39,
           1,
           2,
           2,
           3,
           4,
           0,
           26,
           30,
           29,
           31,
           37,
           38
          ],
          "value": [
           117470.47523959252,
           283069.57080130663,
           132606.9551651989,
           395458.87807702814,
           5.498452867998822,
           9923.183781319965,
           653.7862477359705,
           451.36838314342793,
           333.333334,
           32.04186,
           1,
           167.79266631243394,
           0.3553451999620555,
           0.03985617707713043,
           81666.66682999999,
           71.65757606403785,
           166.666667,
           3.9679050408017087,
           0.83,
           21654.124030239906,
           328333.33398999996,
           36683.50184519653,
           109459.11487512701,
           30372.24831569309,
           3228.242846145954,
           839.1242859947979,
           19.967367137093913,
           9464.505667852636,
           6517.655431358352,
           254943.85486982667,
           567.9366883122244,
           37030.02529962763,
           139807.96272931632,
           701.562025017214,
           29393.04829959032,
           70.13337161627334,
           49402.79463545827,
           1e-06,
           5.498452867998927,
           28160.046968493945,
           20000.000040000006,
           29970.000059939997,
           20000.000040000006,
           35096.50756652921,
           34745.54249086392,
           50000.000100000005,
           109.36124264199776,
           30.000000060001078,
           350.96507566529067,
           14000.000027999999,
           3560.6739041213473,
           3.474554249086392
          ]
         },
         "node": {
          "color": [
           "rgba(164, 189, 100, 1.0)",
           "rgba(51, 152, 99, 1.0)",
           "rgba(155, 216, 217, 1.0)",
           "rgba(172, 159, 139, 1.0)",
           "rgba(252, 198, 66, 1.0)",
           "rgba(231, 228, 225, 1.0)",
           "rgba(231, 228, 225, 1.0)",
           "rgba(231, 228, 225, 1.0)",
           "rgba(231, 228, 225, 1.0)",
           "rgba(231, 228, 225, 1.0)",
           "rgba(231, 228, 225, 1.0)",
           "rgba(231, 228, 225, 1.0)",
           "rgba(231, 228, 225, 1.0)",
           "rgba(231, 228, 225, 1.0)",
           "rgba(231, 228, 225, 1.0)",
           "rgba(231, 228, 225, 1.0)",
           "rgba(231, 228, 225, 1.0)",
           "rgba(231, 228, 225, 1.0)",
           "rgba(231, 228, 225, 1.0)",
           "rgba(231, 228, 225, 1.0)",
           "rgba(228, 220, 205, 1.0)",
           "rgba(231, 228, 225, 1.0)",
           "rgba(231, 228, 225, 1.0)",
           "rgba(231, 228, 225, 1.0)",
           "rgba(231, 228, 225, 1.0)",
           "rgba(231, 228, 225, 1.0)",
           "rgba(213, 179, 100, 1.0)",
           "rgba(231, 228, 225, 1.0)",
           "rgba(231, 228, 225, 1.0)",
           "rgba(230, 227, 224, 1.0)",
           "rgba(229, 225, 217, 1.0)",
           "rgba(225, 212, 184, 1.0)",
           "rgba(231, 228, 225, 1.0)",
           "rgba(231, 228, 225, 1.0)",
           "rgba(231, 228, 225, 1.0)",
           "rgba(231, 228, 225, 1.0)",
           "rgba(231, 228, 225, 1.0)",
           "rgba(210, 171, 78, 1.0)",
           "rgba(222, 205, 168, 1.0)",
           "rgba(231, 228, 225, 1.0)"
          ],
          "label": [
           "Juicing",
           "Pretreatment",
           "EtOH prod.",
           "Oil ext.",
           "Biod. prod.",
           "cellulase",
           "denaturant",
           "pure glycerine",
           "lime",
           "methanol",
           "catalyst",
           "biodiesel wash water",
           "HCl",
           "NaOH",
           "imbibition water",
           "RVF wash water",
           "H3PO4",
           "N2",
           "polymer",
           "pretreatment steam",
           "oilcane",
           "stripping water",
           "saccharification water",
           "ethanol",
           "biodiesel",
           "crude glycerol",
           "s259",
           "filter cake",
           "wastewater",
           "wastewater",
           "fiber fines",
           "lignin",
           "process water",
           "cellmass",
           "s206",
           "s255",
           "s197",
           "polar lipids",
           "s229",
           "vent"
          ]
         },
         "type": "sankey"
        }
       ],
       "layout": {
        "template": {
         "data": {
          "bar": [
           {
            "error_x": {
             "color": "#2a3f5f"
            },
            "error_y": {
             "color": "#2a3f5f"
            },
            "marker": {
             "line": {
              "color": "#E5ECF6",
              "width": 0.5
             },
             "pattern": {
              "fillmode": "overlay",
              "size": 10,
              "solidity": 0.2
             }
            },
            "type": "bar"
           }
          ],
          "barpolar": [
           {
            "marker": {
             "line": {
              "color": "#E5ECF6",
              "width": 0.5
             },
             "pattern": {
              "fillmode": "overlay",
              "size": 10,
              "solidity": 0.2
             }
            },
            "type": "barpolar"
           }
          ],
          "carpet": [
           {
            "aaxis": {
             "endlinecolor": "#2a3f5f",
             "gridcolor": "white",
             "linecolor": "white",
             "minorgridcolor": "white",
             "startlinecolor": "#2a3f5f"
            },
            "baxis": {
             "endlinecolor": "#2a3f5f",
             "gridcolor": "white",
             "linecolor": "white",
             "minorgridcolor": "white",
             "startlinecolor": "#2a3f5f"
            },
            "type": "carpet"
           }
          ],
          "choropleth": [
           {
            "colorbar": {
             "outlinewidth": 0,
             "ticks": ""
            },
            "type": "choropleth"
           }
          ],
          "contour": [
           {
            "colorbar": {
             "outlinewidth": 0,
             "ticks": ""
            },
            "colorscale": [
             [
              0,
              "#0d0887"
             ],
             [
              0.1111111111111111,
              "#46039f"
             ],
             [
              0.2222222222222222,
              "#7201a8"
             ],
             [
              0.3333333333333333,
              "#9c179e"
             ],
             [
              0.4444444444444444,
              "#bd3786"
             ],
             [
              0.5555555555555556,
              "#d8576b"
             ],
             [
              0.6666666666666666,
              "#ed7953"
             ],
             [
              0.7777777777777778,
              "#fb9f3a"
             ],
             [
              0.8888888888888888,
              "#fdca26"
             ],
             [
              1,
              "#f0f921"
             ]
            ],
            "type": "contour"
           }
          ],
          "contourcarpet": [
           {
            "colorbar": {
             "outlinewidth": 0,
             "ticks": ""
            },
            "type": "contourcarpet"
           }
          ],
          "heatmap": [
           {
            "colorbar": {
             "outlinewidth": 0,
             "ticks": ""
            },
            "colorscale": [
             [
              0,
              "#0d0887"
             ],
             [
              0.1111111111111111,
              "#46039f"
             ],
             [
              0.2222222222222222,
              "#7201a8"
             ],
             [
              0.3333333333333333,
              "#9c179e"
             ],
             [
              0.4444444444444444,
              "#bd3786"
             ],
             [
              0.5555555555555556,
              "#d8576b"
             ],
             [
              0.6666666666666666,
              "#ed7953"
             ],
             [
              0.7777777777777778,
              "#fb9f3a"
             ],
             [
              0.8888888888888888,
              "#fdca26"
             ],
             [
              1,
              "#f0f921"
             ]
            ],
            "type": "heatmap"
           }
          ],
          "heatmapgl": [
           {
            "colorbar": {
             "outlinewidth": 0,
             "ticks": ""
            },
            "colorscale": [
             [
              0,
              "#0d0887"
             ],
             [
              0.1111111111111111,
              "#46039f"
             ],
             [
              0.2222222222222222,
              "#7201a8"
             ],
             [
              0.3333333333333333,
              "#9c179e"
             ],
             [
              0.4444444444444444,
              "#bd3786"
             ],
             [
              0.5555555555555556,
              "#d8576b"
             ],
             [
              0.6666666666666666,
              "#ed7953"
             ],
             [
              0.7777777777777778,
              "#fb9f3a"
             ],
             [
              0.8888888888888888,
              "#fdca26"
             ],
             [
              1,
              "#f0f921"
             ]
            ],
            "type": "heatmapgl"
           }
          ],
          "histogram": [
           {
            "marker": {
             "pattern": {
              "fillmode": "overlay",
              "size": 10,
              "solidity": 0.2
             }
            },
            "type": "histogram"
           }
          ],
          "histogram2d": [
           {
            "colorbar": {
             "outlinewidth": 0,
             "ticks": ""
            },
            "colorscale": [
             [
              0,
              "#0d0887"
             ],
             [
              0.1111111111111111,
              "#46039f"
             ],
             [
              0.2222222222222222,
              "#7201a8"
             ],
             [
              0.3333333333333333,
              "#9c179e"
             ],
             [
              0.4444444444444444,
              "#bd3786"
             ],
             [
              0.5555555555555556,
              "#d8576b"
             ],
             [
              0.6666666666666666,
              "#ed7953"
             ],
             [
              0.7777777777777778,
              "#fb9f3a"
             ],
             [
              0.8888888888888888,
              "#fdca26"
             ],
             [
              1,
              "#f0f921"
             ]
            ],
            "type": "histogram2d"
           }
          ],
          "histogram2dcontour": [
           {
            "colorbar": {
             "outlinewidth": 0,
             "ticks": ""
            },
            "colorscale": [
             [
              0,
              "#0d0887"
             ],
             [
              0.1111111111111111,
              "#46039f"
             ],
             [
              0.2222222222222222,
              "#7201a8"
             ],
             [
              0.3333333333333333,
              "#9c179e"
             ],
             [
              0.4444444444444444,
              "#bd3786"
             ],
             [
              0.5555555555555556,
              "#d8576b"
             ],
             [
              0.6666666666666666,
              "#ed7953"
             ],
             [
              0.7777777777777778,
              "#fb9f3a"
             ],
             [
              0.8888888888888888,
              "#fdca26"
             ],
             [
              1,
              "#f0f921"
             ]
            ],
            "type": "histogram2dcontour"
           }
          ],
          "mesh3d": [
           {
            "colorbar": {
             "outlinewidth": 0,
             "ticks": ""
            },
            "type": "mesh3d"
           }
          ],
          "parcoords": [
           {
            "line": {
             "colorbar": {
              "outlinewidth": 0,
              "ticks": ""
             }
            },
            "type": "parcoords"
           }
          ],
          "pie": [
           {
            "automargin": true,
            "type": "pie"
           }
          ],
          "scatter": [
           {
            "fillpattern": {
             "fillmode": "overlay",
             "size": 10,
             "solidity": 0.2
            },
            "type": "scatter"
           }
          ],
          "scatter3d": [
           {
            "line": {
             "colorbar": {
              "outlinewidth": 0,
              "ticks": ""
             }
            },
            "marker": {
             "colorbar": {
              "outlinewidth": 0,
              "ticks": ""
             }
            },
            "type": "scatter3d"
           }
          ],
          "scattercarpet": [
           {
            "marker": {
             "colorbar": {
              "outlinewidth": 0,
              "ticks": ""
             }
            },
            "type": "scattercarpet"
           }
          ],
          "scattergeo": [
           {
            "marker": {
             "colorbar": {
              "outlinewidth": 0,
              "ticks": ""
             }
            },
            "type": "scattergeo"
           }
          ],
          "scattergl": [
           {
            "marker": {
             "colorbar": {
              "outlinewidth": 0,
              "ticks": ""
             }
            },
            "type": "scattergl"
           }
          ],
          "scattermapbox": [
           {
            "marker": {
             "colorbar": {
              "outlinewidth": 0,
              "ticks": ""
             }
            },
            "type": "scattermapbox"
           }
          ],
          "scatterpolar": [
           {
            "marker": {
             "colorbar": {
              "outlinewidth": 0,
              "ticks": ""
             }
            },
            "type": "scatterpolar"
           }
          ],
          "scatterpolargl": [
           {
            "marker": {
             "colorbar": {
              "outlinewidth": 0,
              "ticks": ""
             }
            },
            "type": "scatterpolargl"
           }
          ],
          "scatterternary": [
           {
            "marker": {
             "colorbar": {
              "outlinewidth": 0,
              "ticks": ""
             }
            },
            "type": "scatterternary"
           }
          ],
          "surface": [
           {
            "colorbar": {
             "outlinewidth": 0,
             "ticks": ""
            },
            "colorscale": [
             [
              0,
              "#0d0887"
             ],
             [
              0.1111111111111111,
              "#46039f"
             ],
             [
              0.2222222222222222,
              "#7201a8"
             ],
             [
              0.3333333333333333,
              "#9c179e"
             ],
             [
              0.4444444444444444,
              "#bd3786"
             ],
             [
              0.5555555555555556,
              "#d8576b"
             ],
             [
              0.6666666666666666,
              "#ed7953"
             ],
             [
              0.7777777777777778,
              "#fb9f3a"
             ],
             [
              0.8888888888888888,
              "#fdca26"
             ],
             [
              1,
              "#f0f921"
             ]
            ],
            "type": "surface"
           }
          ],
          "table": [
           {
            "cells": {
             "fill": {
              "color": "#EBF0F8"
             },
             "line": {
              "color": "white"
             }
            },
            "header": {
             "fill": {
              "color": "#C8D4E3"
             },
             "line": {
              "color": "white"
             }
            },
            "type": "table"
           }
          ]
         },
         "layout": {
          "annotationdefaults": {
           "arrowcolor": "#2a3f5f",
           "arrowhead": 0,
           "arrowwidth": 1
          },
          "autotypenumbers": "strict",
          "coloraxis": {
           "colorbar": {
            "outlinewidth": 0,
            "ticks": ""
           }
          },
          "colorscale": {
           "diverging": [
            [
             0,
             "#8e0152"
            ],
            [
             0.1,
             "#c51b7d"
            ],
            [
             0.2,
             "#de77ae"
            ],
            [
             0.3,
             "#f1b6da"
            ],
            [
             0.4,
             "#fde0ef"
            ],
            [
             0.5,
             "#f7f7f7"
            ],
            [
             0.6,
             "#e6f5d0"
            ],
            [
             0.7,
             "#b8e186"
            ],
            [
             0.8,
             "#7fbc41"
            ],
            [
             0.9,
             "#4d9221"
            ],
            [
             1,
             "#276419"
            ]
           ],
           "sequential": [
            [
             0,
             "#0d0887"
            ],
            [
             0.1111111111111111,
             "#46039f"
            ],
            [
             0.2222222222222222,
             "#7201a8"
            ],
            [
             0.3333333333333333,
             "#9c179e"
            ],
            [
             0.4444444444444444,
             "#bd3786"
            ],
            [
             0.5555555555555556,
             "#d8576b"
            ],
            [
             0.6666666666666666,
             "#ed7953"
            ],
            [
             0.7777777777777778,
             "#fb9f3a"
            ],
            [
             0.8888888888888888,
             "#fdca26"
            ],
            [
             1,
             "#f0f921"
            ]
           ],
           "sequentialminus": [
            [
             0,
             "#0d0887"
            ],
            [
             0.1111111111111111,
             "#46039f"
            ],
            [
             0.2222222222222222,
             "#7201a8"
            ],
            [
             0.3333333333333333,
             "#9c179e"
            ],
            [
             0.4444444444444444,
             "#bd3786"
            ],
            [
             0.5555555555555556,
             "#d8576b"
            ],
            [
             0.6666666666666666,
             "#ed7953"
            ],
            [
             0.7777777777777778,
             "#fb9f3a"
            ],
            [
             0.8888888888888888,
             "#fdca26"
            ],
            [
             1,
             "#f0f921"
            ]
           ]
          },
          "colorway": [
           "#636efa",
           "#EF553B",
           "#00cc96",
           "#ab63fa",
           "#FFA15A",
           "#19d3f3",
           "#FF6692",
           "#B6E880",
           "#FF97FF",
           "#FECB52"
          ],
          "font": {
           "color": "#2a3f5f"
          },
          "geo": {
           "bgcolor": "white",
           "lakecolor": "white",
           "landcolor": "#E5ECF6",
           "showlakes": true,
           "showland": true,
           "subunitcolor": "white"
          },
          "hoverlabel": {
           "align": "left"
          },
          "hovermode": "closest",
          "mapbox": {
           "style": "light"
          },
          "paper_bgcolor": "white",
          "plot_bgcolor": "#E5ECF6",
          "polar": {
           "angularaxis": {
            "gridcolor": "white",
            "linecolor": "white",
            "ticks": ""
           },
           "bgcolor": "#E5ECF6",
           "radialaxis": {
            "gridcolor": "white",
            "linecolor": "white",
            "ticks": ""
           }
          },
          "scene": {
           "xaxis": {
            "backgroundcolor": "#E5ECF6",
            "gridcolor": "white",
            "gridwidth": 2,
            "linecolor": "white",
            "showbackground": true,
            "ticks": "",
            "zerolinecolor": "white"
           },
           "yaxis": {
            "backgroundcolor": "#E5ECF6",
            "gridcolor": "white",
            "gridwidth": 2,
            "linecolor": "white",
            "showbackground": true,
            "ticks": "",
            "zerolinecolor": "white"
           },
           "zaxis": {
            "backgroundcolor": "#E5ECF6",
            "gridcolor": "white",
            "gridwidth": 2,
            "linecolor": "white",
            "showbackground": true,
            "ticks": "",
            "zerolinecolor": "white"
           }
          },
          "shapedefaults": {
           "line": {
            "color": "#2a3f5f"
           }
          },
          "ternary": {
           "aaxis": {
            "gridcolor": "white",
            "linecolor": "white",
            "ticks": ""
           },
           "baxis": {
            "gridcolor": "white",
            "linecolor": "white",
            "ticks": ""
           },
           "bgcolor": "#E5ECF6",
           "caxis": {
            "gridcolor": "white",
            "linecolor": "white",
            "ticks": ""
           }
          },
          "title": {
           "x": 0.05
          },
          "xaxis": {
           "automargin": true,
           "gridcolor": "white",
           "linecolor": "white",
           "ticks": "",
           "title": {
            "standoff": 15
           },
           "zerolinecolor": "white",
           "zerolinewidth": 2
          },
          "yaxis": {
           "automargin": true,
           "gridcolor": "white",
           "linecolor": "white",
           "ticks": "",
           "title": {
            "standoff": 15
           },
           "zerolinecolor": "white",
           "zerolinewidth": 2
          }
         }
        }
       }
      },
      "text/html": [
       "<div>                            <div id=\"05aaa319-a544-46f4-abf5-c67763d4e96d\" class=\"plotly-graph-div\" style=\"height:525px; width:100%;\"></div>            <script type=\"text/javascript\">                require([\"plotly\"], function(Plotly) {                    window.PLOTLYENV=window.PLOTLYENV || {};                                    if (document.getElementById(\"05aaa319-a544-46f4-abf5-c67763d4e96d\")) {                    Plotly.newPlot(                        \"05aaa319-a544-46f4-abf5-c67763d4e96d\",                        [{\"link\":{\"color\":[\"rgba(231, 228, 225, 1.0)\",\"rgba(231, 228, 225, 1.0)\",\"rgba(231, 228, 225, 1.0)\",\"rgba(231, 228, 225, 1.0)\",\"rgba(231, 228, 225, 1.0)\",\"rgba(231, 228, 225, 1.0)\",\"rgba(231, 228, 225, 1.0)\",\"rgba(231, 228, 225, 1.0)\",\"rgba(231, 228, 225, 1.0)\",\"rgba(231, 228, 225, 1.0)\",\"rgba(231, 228, 225, 1.0)\",\"rgba(231, 228, 225, 1.0)\",\"rgba(231, 228, 225, 1.0)\",\"rgba(231, 228, 225, 1.0)\",\"rgba(231, 228, 225, 1.0)\",\"rgba(231, 228, 225, 1.0)\",\"rgba(231, 228, 225, 1.0)\",\"rgba(231, 228, 225, 1.0)\",\"rgba(231, 228, 225, 1.0)\",\"rgba(231, 228, 225, 1.0)\",\"rgba(231, 228, 225, 1.0)\",\"rgba(231, 228, 225, 1.0)\",\"rgba(231, 228, 225, 1.0)\",\"rgba(231, 228, 225, 1.0)\",\"rgba(231, 228, 225, 1.0)\",\"rgba(231, 228, 225, 1.0)\",\"rgba(231, 228, 225, 1.0)\",\"rgba(231, 228, 225, 1.0)\",\"rgba(231, 228, 225, 1.0)\",\"rgba(231, 228, 225, 1.0)\",\"rgba(231, 228, 225, 1.0)\",\"rgba(231, 228, 225, 1.0)\",\"rgba(231, 228, 225, 1.0)\",\"rgba(231, 228, 225, 1.0)\",\"rgba(231, 228, 225, 1.0)\",\"rgba(231, 228, 225, 1.0)\",\"rgba(231, 228, 225, 1.0)\",\"rgba(231, 228, 225, 1.0)\",\"rgba(231, 228, 225, 1.0)\",\"rgba(231, 228, 225, 1.0)\",\"rgba(210, 171, 78, 1.0)\",\"rgba(210, 171, 78, 1.0)\",\"rgba(210, 171, 78, 1.0)\",\"rgba(210, 171, 78, 1.0)\",\"rgba(210, 171, 78, 1.0)\",\"rgba(210, 171, 78, 1.0)\",\"rgba(210, 171, 78, 1.0)\",\"rgba(210, 171, 78, 1.0)\",\"rgba(210, 171, 78, 1.0)\",\"rgba(210, 171, 78, 1.0)\",\"rgba(210, 171, 78, 1.0)\",\"rgba(210, 171, 78, 1.0)\"],\"source\":[0,0,1,2,3,5,6,7,8,9,10,11,12,13,14,15,16,17,18,19,20,21,22,2,4,4,4,0,1,3,0,2,3,3,2,4,2,4,4,2,0,0,1,2,3,20,4,0,3,2,4,4],\"target\":[1,2,2,3,4,2,2,4,0,4,4,4,4,4,0,0,0,4,0,1,0,2,2,23,24,25,26,27,29,29,30,31,32,33,34,35,36,37,38,39,1,2,2,3,4,0,26,30,29,31,37,38],\"value\":[117470.47523959252,283069.57080130663,132606.9551651989,395458.87807702814,5.498452867998822,9923.183781319965,653.7862477359705,451.36838314342793,333.333334,32.04186,1.0,167.79266631243394,0.3553451999620555,0.03985617707713043,81666.66682999999,71.65757606403785,166.666667,3.9679050408017087,0.83,21654.124030239906,328333.33398999996,36683.50184519653,109459.11487512701,30372.24831569309,3228.242846145954,839.1242859947979,19.967367137093913,9464.505667852636,6517.655431358352,254943.85486982667,567.9366883122244,37030.02529962763,139807.96272931632,701.562025017214,29393.04829959032,70.13337161627334,49402.79463545827,1e-06,5.498452867998927,28160.046968493945,20000.000040000006,29970.000059939997,20000.000040000006,35096.50756652921,34745.54249086392,50000.000100000005,109.36124264199776,30.000000060001078,350.96507566529067,14000.000027999999,3560.6739041213473,3.474554249086392]},\"node\":{\"color\":[\"rgba(164, 189, 100, 1.0)\",\"rgba(51, 152, 99, 1.0)\",\"rgba(155, 216, 217, 1.0)\",\"rgba(172, 159, 139, 1.0)\",\"rgba(252, 198, 66, 1.0)\",\"rgba(231, 228, 225, 1.0)\",\"rgba(231, 228, 225, 1.0)\",\"rgba(231, 228, 225, 1.0)\",\"rgba(231, 228, 225, 1.0)\",\"rgba(231, 228, 225, 1.0)\",\"rgba(231, 228, 225, 1.0)\",\"rgba(231, 228, 225, 1.0)\",\"rgba(231, 228, 225, 1.0)\",\"rgba(231, 228, 225, 1.0)\",\"rgba(231, 228, 225, 1.0)\",\"rgba(231, 228, 225, 1.0)\",\"rgba(231, 228, 225, 1.0)\",\"rgba(231, 228, 225, 1.0)\",\"rgba(231, 228, 225, 1.0)\",\"rgba(231, 228, 225, 1.0)\",\"rgba(228, 220, 205, 1.0)\",\"rgba(231, 228, 225, 1.0)\",\"rgba(231, 228, 225, 1.0)\",\"rgba(231, 228, 225, 1.0)\",\"rgba(231, 228, 225, 1.0)\",\"rgba(231, 228, 225, 1.0)\",\"rgba(213, 179, 100, 1.0)\",\"rgba(231, 228, 225, 1.0)\",\"rgba(231, 228, 225, 1.0)\",\"rgba(230, 227, 224, 1.0)\",\"rgba(229, 225, 217, 1.0)\",\"rgba(225, 212, 184, 1.0)\",\"rgba(231, 228, 225, 1.0)\",\"rgba(231, 228, 225, 1.0)\",\"rgba(231, 228, 225, 1.0)\",\"rgba(231, 228, 225, 1.0)\",\"rgba(231, 228, 225, 1.0)\",\"rgba(210, 171, 78, 1.0)\",\"rgba(222, 205, 168, 1.0)\",\"rgba(231, 228, 225, 1.0)\"],\"label\":[\"Juicing\",\"Pretreatment\",\"EtOH prod.\",\"Oil ext.\",\"Biod. prod.\",\"cellulase\",\"denaturant\",\"pure glycerine\",\"lime\",\"methanol\",\"catalyst\",\"biodiesel wash water\",\"HCl\",\"NaOH\",\"imbibition water\",\"RVF wash water\",\"H3PO4\",\"N2\",\"polymer\",\"pretreatment steam\",\"oilcane\",\"stripping water\",\"saccharification water\",\"ethanol\",\"biodiesel\",\"crude glycerol\",\"s259\",\"filter cake\",\"wastewater\",\"wastewater\",\"fiber fines\",\"lignin\",\"process water\",\"cellmass\",\"s206\",\"s255\",\"s197\",\"polar lipids\",\"s229\",\"vent\"]},\"type\":\"sankey\"}],                        {\"template\":{\"data\":{\"histogram2dcontour\":[{\"type\":\"histogram2dcontour\",\"colorbar\":{\"outlinewidth\":0,\"ticks\":\"\"},\"colorscale\":[[0.0,\"#0d0887\"],[0.1111111111111111,\"#46039f\"],[0.2222222222222222,\"#7201a8\"],[0.3333333333333333,\"#9c179e\"],[0.4444444444444444,\"#bd3786\"],[0.5555555555555556,\"#d8576b\"],[0.6666666666666666,\"#ed7953\"],[0.7777777777777778,\"#fb9f3a\"],[0.8888888888888888,\"#fdca26\"],[1.0,\"#f0f921\"]]}],\"choropleth\":[{\"type\":\"choropleth\",\"colorbar\":{\"outlinewidth\":0,\"ticks\":\"\"}}],\"histogram2d\":[{\"type\":\"histogram2d\",\"colorbar\":{\"outlinewidth\":0,\"ticks\":\"\"},\"colorscale\":[[0.0,\"#0d0887\"],[0.1111111111111111,\"#46039f\"],[0.2222222222222222,\"#7201a8\"],[0.3333333333333333,\"#9c179e\"],[0.4444444444444444,\"#bd3786\"],[0.5555555555555556,\"#d8576b\"],[0.6666666666666666,\"#ed7953\"],[0.7777777777777778,\"#fb9f3a\"],[0.8888888888888888,\"#fdca26\"],[1.0,\"#f0f921\"]]}],\"heatmap\":[{\"type\":\"heatmap\",\"colorbar\":{\"outlinewidth\":0,\"ticks\":\"\"},\"colorscale\":[[0.0,\"#0d0887\"],[0.1111111111111111,\"#46039f\"],[0.2222222222222222,\"#7201a8\"],[0.3333333333333333,\"#9c179e\"],[0.4444444444444444,\"#bd3786\"],[0.5555555555555556,\"#d8576b\"],[0.6666666666666666,\"#ed7953\"],[0.7777777777777778,\"#fb9f3a\"],[0.8888888888888888,\"#fdca26\"],[1.0,\"#f0f921\"]]}],\"heatmapgl\":[{\"type\":\"heatmapgl\",\"colorbar\":{\"outlinewidth\":0,\"ticks\":\"\"},\"colorscale\":[[0.0,\"#0d0887\"],[0.1111111111111111,\"#46039f\"],[0.2222222222222222,\"#7201a8\"],[0.3333333333333333,\"#9c179e\"],[0.4444444444444444,\"#bd3786\"],[0.5555555555555556,\"#d8576b\"],[0.6666666666666666,\"#ed7953\"],[0.7777777777777778,\"#fb9f3a\"],[0.8888888888888888,\"#fdca26\"],[1.0,\"#f0f921\"]]}],\"contourcarpet\":[{\"type\":\"contourcarpet\",\"colorbar\":{\"outlinewidth\":0,\"ticks\":\"\"}}],\"contour\":[{\"type\":\"contour\",\"colorbar\":{\"outlinewidth\":0,\"ticks\":\"\"},\"colorscale\":[[0.0,\"#0d0887\"],[0.1111111111111111,\"#46039f\"],[0.2222222222222222,\"#7201a8\"],[0.3333333333333333,\"#9c179e\"],[0.4444444444444444,\"#bd3786\"],[0.5555555555555556,\"#d8576b\"],[0.6666666666666666,\"#ed7953\"],[0.7777777777777778,\"#fb9f3a\"],[0.8888888888888888,\"#fdca26\"],[1.0,\"#f0f921\"]]}],\"surface\":[{\"type\":\"surface\",\"colorbar\":{\"outlinewidth\":0,\"ticks\":\"\"},\"colorscale\":[[0.0,\"#0d0887\"],[0.1111111111111111,\"#46039f\"],[0.2222222222222222,\"#7201a8\"],[0.3333333333333333,\"#9c179e\"],[0.4444444444444444,\"#bd3786\"],[0.5555555555555556,\"#d8576b\"],[0.6666666666666666,\"#ed7953\"],[0.7777777777777778,\"#fb9f3a\"],[0.8888888888888888,\"#fdca26\"],[1.0,\"#f0f921\"]]}],\"mesh3d\":[{\"type\":\"mesh3d\",\"colorbar\":{\"outlinewidth\":0,\"ticks\":\"\"}}],\"scatter\":[{\"fillpattern\":{\"fillmode\":\"overlay\",\"size\":10,\"solidity\":0.2},\"type\":\"scatter\"}],\"parcoords\":[{\"type\":\"parcoords\",\"line\":{\"colorbar\":{\"outlinewidth\":0,\"ticks\":\"\"}}}],\"scatterpolargl\":[{\"type\":\"scatterpolargl\",\"marker\":{\"colorbar\":{\"outlinewidth\":0,\"ticks\":\"\"}}}],\"bar\":[{\"error_x\":{\"color\":\"#2a3f5f\"},\"error_y\":{\"color\":\"#2a3f5f\"},\"marker\":{\"line\":{\"color\":\"#E5ECF6\",\"width\":0.5},\"pattern\":{\"fillmode\":\"overlay\",\"size\":10,\"solidity\":0.2}},\"type\":\"bar\"}],\"scattergeo\":[{\"type\":\"scattergeo\",\"marker\":{\"colorbar\":{\"outlinewidth\":0,\"ticks\":\"\"}}}],\"scatterpolar\":[{\"type\":\"scatterpolar\",\"marker\":{\"colorbar\":{\"outlinewidth\":0,\"ticks\":\"\"}}}],\"histogram\":[{\"marker\":{\"pattern\":{\"fillmode\":\"overlay\",\"size\":10,\"solidity\":0.2}},\"type\":\"histogram\"}],\"scattergl\":[{\"type\":\"scattergl\",\"marker\":{\"colorbar\":{\"outlinewidth\":0,\"ticks\":\"\"}}}],\"scatter3d\":[{\"type\":\"scatter3d\",\"line\":{\"colorbar\":{\"outlinewidth\":0,\"ticks\":\"\"}},\"marker\":{\"colorbar\":{\"outlinewidth\":0,\"ticks\":\"\"}}}],\"scattermapbox\":[{\"type\":\"scattermapbox\",\"marker\":{\"colorbar\":{\"outlinewidth\":0,\"ticks\":\"\"}}}],\"scatterternary\":[{\"type\":\"scatterternary\",\"marker\":{\"colorbar\":{\"outlinewidth\":0,\"ticks\":\"\"}}}],\"scattercarpet\":[{\"type\":\"scattercarpet\",\"marker\":{\"colorbar\":{\"outlinewidth\":0,\"ticks\":\"\"}}}],\"carpet\":[{\"aaxis\":{\"endlinecolor\":\"#2a3f5f\",\"gridcolor\":\"white\",\"linecolor\":\"white\",\"minorgridcolor\":\"white\",\"startlinecolor\":\"#2a3f5f\"},\"baxis\":{\"endlinecolor\":\"#2a3f5f\",\"gridcolor\":\"white\",\"linecolor\":\"white\",\"minorgridcolor\":\"white\",\"startlinecolor\":\"#2a3f5f\"},\"type\":\"carpet\"}],\"table\":[{\"cells\":{\"fill\":{\"color\":\"#EBF0F8\"},\"line\":{\"color\":\"white\"}},\"header\":{\"fill\":{\"color\":\"#C8D4E3\"},\"line\":{\"color\":\"white\"}},\"type\":\"table\"}],\"barpolar\":[{\"marker\":{\"line\":{\"color\":\"#E5ECF6\",\"width\":0.5},\"pattern\":{\"fillmode\":\"overlay\",\"size\":10,\"solidity\":0.2}},\"type\":\"barpolar\"}],\"pie\":[{\"automargin\":true,\"type\":\"pie\"}]},\"layout\":{\"autotypenumbers\":\"strict\",\"colorway\":[\"#636efa\",\"#EF553B\",\"#00cc96\",\"#ab63fa\",\"#FFA15A\",\"#19d3f3\",\"#FF6692\",\"#B6E880\",\"#FF97FF\",\"#FECB52\"],\"font\":{\"color\":\"#2a3f5f\"},\"hovermode\":\"closest\",\"hoverlabel\":{\"align\":\"left\"},\"paper_bgcolor\":\"white\",\"plot_bgcolor\":\"#E5ECF6\",\"polar\":{\"bgcolor\":\"#E5ECF6\",\"angularaxis\":{\"gridcolor\":\"white\",\"linecolor\":\"white\",\"ticks\":\"\"},\"radialaxis\":{\"gridcolor\":\"white\",\"linecolor\":\"white\",\"ticks\":\"\"}},\"ternary\":{\"bgcolor\":\"#E5ECF6\",\"aaxis\":{\"gridcolor\":\"white\",\"linecolor\":\"white\",\"ticks\":\"\"},\"baxis\":{\"gridcolor\":\"white\",\"linecolor\":\"white\",\"ticks\":\"\"},\"caxis\":{\"gridcolor\":\"white\",\"linecolor\":\"white\",\"ticks\":\"\"}},\"coloraxis\":{\"colorbar\":{\"outlinewidth\":0,\"ticks\":\"\"}},\"colorscale\":{\"sequential\":[[0.0,\"#0d0887\"],[0.1111111111111111,\"#46039f\"],[0.2222222222222222,\"#7201a8\"],[0.3333333333333333,\"#9c179e\"],[0.4444444444444444,\"#bd3786\"],[0.5555555555555556,\"#d8576b\"],[0.6666666666666666,\"#ed7953\"],[0.7777777777777778,\"#fb9f3a\"],[0.8888888888888888,\"#fdca26\"],[1.0,\"#f0f921\"]],\"sequentialminus\":[[0.0,\"#0d0887\"],[0.1111111111111111,\"#46039f\"],[0.2222222222222222,\"#7201a8\"],[0.3333333333333333,\"#9c179e\"],[0.4444444444444444,\"#bd3786\"],[0.5555555555555556,\"#d8576b\"],[0.6666666666666666,\"#ed7953\"],[0.7777777777777778,\"#fb9f3a\"],[0.8888888888888888,\"#fdca26\"],[1.0,\"#f0f921\"]],\"diverging\":[[0,\"#8e0152\"],[0.1,\"#c51b7d\"],[0.2,\"#de77ae\"],[0.3,\"#f1b6da\"],[0.4,\"#fde0ef\"],[0.5,\"#f7f7f7\"],[0.6,\"#e6f5d0\"],[0.7,\"#b8e186\"],[0.8,\"#7fbc41\"],[0.9,\"#4d9221\"],[1,\"#276419\"]]},\"xaxis\":{\"gridcolor\":\"white\",\"linecolor\":\"white\",\"ticks\":\"\",\"title\":{\"standoff\":15},\"zerolinecolor\":\"white\",\"automargin\":true,\"zerolinewidth\":2},\"yaxis\":{\"gridcolor\":\"white\",\"linecolor\":\"white\",\"ticks\":\"\",\"title\":{\"standoff\":15},\"zerolinecolor\":\"white\",\"automargin\":true,\"zerolinewidth\":2},\"scene\":{\"xaxis\":{\"backgroundcolor\":\"#E5ECF6\",\"gridcolor\":\"white\",\"linecolor\":\"white\",\"showbackground\":true,\"ticks\":\"\",\"zerolinecolor\":\"white\",\"gridwidth\":2},\"yaxis\":{\"backgroundcolor\":\"#E5ECF6\",\"gridcolor\":\"white\",\"linecolor\":\"white\",\"showbackground\":true,\"ticks\":\"\",\"zerolinecolor\":\"white\",\"gridwidth\":2},\"zaxis\":{\"backgroundcolor\":\"#E5ECF6\",\"gridcolor\":\"white\",\"linecolor\":\"white\",\"showbackground\":true,\"ticks\":\"\",\"zerolinecolor\":\"white\",\"gridwidth\":2}},\"shapedefaults\":{\"line\":{\"color\":\"#2a3f5f\"}},\"annotationdefaults\":{\"arrowcolor\":\"#2a3f5f\",\"arrowhead\":0,\"arrowwidth\":1},\"geo\":{\"bgcolor\":\"white\",\"landcolor\":\"#E5ECF6\",\"subunitcolor\":\"white\",\"showland\":true,\"showlakes\":true,\"lakecolor\":\"white\"},\"title\":{\"x\":0.05},\"mapbox\":{\"style\":\"light\"}}}},                        {\"responsive\": true}                    ).then(function(){\n",
       "                            \n",
       "var gd = document.getElementById('05aaa319-a544-46f4-abf5-c67763d4e96d');\n",
       "var x = new MutationObserver(function (mutations, observer) {{\n",
       "        var display = window.getComputedStyle(gd).display;\n",
       "        if (!display || display === 'none') {{\n",
       "            console.log([gd, 'removed!']);\n",
       "            Plotly.purge(gd);\n",
       "            observer.disconnect();\n",
       "        }}\n",
       "}});\n",
       "\n",
       "// Listen for the removal of the full notebook cells\n",
       "var notebookContainer = gd.closest('#notebook-container');\n",
       "if (notebookContainer) {{\n",
       "    x.observe(notebookContainer, {childList: true});\n",
       "}}\n",
       "\n",
       "// Listen for the clearing of the current output cell\n",
       "var outputEl = gd.closest('.output');\n",
       "if (outputEl) {{\n",
       "    x.observe(outputEl, {childList: true});\n",
       "}}\n",
       "\n",
       "                        })                };                });            </script>        </div>"
      ]
     },
     "metadata": {},
     "output_type": "display_data"
    }
   ],
   "source": [
    "create_sankey_plot('O2')"
   ]
  },
  {
   "cell_type": "code",
   "execution_count": 3,
   "metadata": {},
   "outputs": [
    {
     "ename": "AttributeError",
     "evalue": "module 'biorefineries.oilcane' has no attribute 'process_water'",
     "output_type": "error",
     "traceback": [
      "\u001b[1;31m---------------------------------------------------------------------------\u001b[0m",
      "\u001b[1;31mAttributeError\u001b[0m                            Traceback (most recent call last)",
      "\u001b[1;32m~\\AppData\\Local\\Temp/ipykernel_1848/1919542043.py\u001b[0m in \u001b[0;36m<module>\u001b[1;34m\u001b[0m\n\u001b[1;32m----> 1\u001b[1;33m \u001b[0moc\u001b[0m\u001b[1;33m.\u001b[0m\u001b[0mprocess_water\u001b[0m\u001b[1;33m\u001b[0m\u001b[1;33m\u001b[0m\u001b[0m\n\u001b[0m",
      "\u001b[1;31mAttributeError\u001b[0m: module 'biorefineries.oilcane' has no attribute 'process_water'"
     ]
    }
   ],
   "source": [
    "oc.process_water"
   ]
  },
  {
   "cell_type": "code",
   "execution_count": null,
   "metadata": {},
   "outputs": [],
   "source": [
    "data = sankey.sankey_data(nodes, links=links)\n",
    "fig = sankey.sankey_figure(nodes, links=links)\n",
    "print(4)\n",
    "fig.show()"
   ]
  },
  {
   "cell_type": "code",
   "execution_count": null,
   "metadata": {},
   "outputs": [],
   "source": [
    "oilnodes[0].links()[0].sink"
   ]
  },
  {
   "cell_type": "code",
   "execution_count": null,
   "metadata": {},
   "outputs": [],
   "source": [
    "nodes[0]."
   ]
  },
  {
   "cell_type": "code",
   "execution_count": null,
   "metadata": {},
   "outputs": [],
   "source": []
  },
  {
   "cell_type": "code",
   "execution_count": null,
   "metadata": {},
   "outputs": [],
   "source": [
    "create_sankey_plot('O2')"
   ]
  },
  {
   "cell_type": "code",
   "execution_count": null,
   "metadata": {
    "scrolled": true
   },
   "outputs": [],
   "source": [
    "handle.stream_colorbar(orientation='horizontal')"
   ]
  },
  {
   "cell_type": "code",
   "execution_count": null,
   "metadata": {
    "scrolled": true
   },
   "outputs": [],
   "source": []
  }
 ],
 "metadata": {
  "kernelspec": {
   "display_name": "Python 3 (ipykernel)",
   "language": "python",
   "name": "python3"
  },
  "language_info": {
   "codemirror_mode": {
    "name": "ipython",
    "version": 3
   },
   "file_extension": ".py",
   "mimetype": "text/x-python",
   "name": "python",
   "nbconvert_exporter": "python",
   "pygments_lexer": "ipython3",
   "version": "3.8.8"
  }
 },
 "nbformat": 4,
 "nbformat_minor": 4
}
